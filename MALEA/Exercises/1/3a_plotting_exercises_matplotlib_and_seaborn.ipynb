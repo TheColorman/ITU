{
 "cells": [
  {
   "cell_type": "markdown",
   "metadata": {
    "id": "laMCcL_z4rTn"
   },
   "source": [
    "# Plotting exercises using matplotlib and seaborn - a"
   ]
  },
  {
   "cell_type": "markdown",
   "metadata": {
    "id": "Dsqqlb3N5DjT"
   },
   "source": [
    "## The basics\n",
    "\n",
    "`matplotlib` and `seaborn` are plotting library that play really well with the other packages such as `numpy` and `pandas`. In these exercises we will go through the basics of how to install them, import them and use them."
   ]
  },
  {
   "cell_type": "markdown",
   "metadata": {
    "id": "9hvVZtP05Yh4"
   },
   "source": [
    "### Installing and importing"
   ]
  },
  {
   "cell_type": "code",
   "execution_count": null,
   "metadata": {
    "colab": {
     "base_uri": "https://localhost:8080/"
    },
    "executionInfo": {
     "elapsed": 3595,
     "status": "ok",
     "timestamp": 1626010396402,
     "user": {
      "displayName": "Miguel González Duque",
      "photoUrl": "https://lh3.googleusercontent.com/a-/AOh14GimSzbAlN9R2AMUkPo6-Y5Y2iNWJXP37U_IyAKQ=s64",
      "userId": "07264348204271089916"
     },
     "user_tz": -120
    },
    "id": "EbrUszPw5as4",
    "outputId": "8bca9868-8eb7-4c08-e2d0-369e626d098e"
   },
   "outputs": [],
   "source": [
    "! pip install matplotlib seaborn"
   ]
  },
  {
   "cell_type": "markdown",
   "metadata": {
    "id": "iGh-G2rr5gTU"
   },
   "source": [
    "In Colab, you will see that these tools are already installed."
   ]
  },
  {
   "cell_type": "code",
   "execution_count": null,
   "metadata": {
    "executionInfo": {
     "elapsed": 765,
     "status": "ok",
     "timestamp": 1626010397165,
     "user": {
      "displayName": "Miguel González Duque",
      "photoUrl": "https://lh3.googleusercontent.com/a-/AOh14GimSzbAlN9R2AMUkPo6-Y5Y2iNWJXP37U_IyAKQ=s64",
      "userId": "07264348204271089916"
     },
     "user_tz": -120
    },
    "id": "YFVn64eN5mPw"
   },
   "outputs": [],
   "source": [
    "# The usual way to import them:\n",
    "import matplotlib.pyplot as plt\n",
    "import seaborn as sns\n",
    "\n",
    "# Let's also import\n",
    "import numpy as np\n",
    "import pandas as pd"
   ]
  },
  {
   "cell_type": "markdown",
   "metadata": {
    "id": "Ic3lnUE85tpI"
   },
   "source": [
    "### My first `matplotlib` plot\n",
    "\n",
    "The most basic `matplotlib` plot uses two `numpy` arrays.\n",
    "\n",
    "**Exercise 1:** Plot the figure for the function `f(x) = sin(x)` for `x` between `0` and `2*np.pi`."
   ]
  },
  {
   "cell_type": "code",
   "execution_count": null,
   "metadata": {
    "colab": {
     "base_uri": "https://localhost:8080/",
     "height": 283
    },
    "executionInfo": {
     "elapsed": 554,
     "status": "ok",
     "timestamp": 1626010637715,
     "user": {
      "displayName": "Miguel González Duque",
      "photoUrl": "https://lh3.googleusercontent.com/a-/AOh14GimSzbAlN9R2AMUkPo6-Y5Y2iNWJXP37U_IyAKQ=s64",
      "userId": "07264348204271089916"
     },
     "user_tz": -120
    },
    "id": "NFE58iYU7GdT",
    "outputId": "1341a937-6c2f-4e4c-bdc2-82f6ef0b3a84"
   },
   "outputs": [],
   "source": [
    "# cosine plot"
   ]
  },
  {
   "cell_type": "markdown",
   "metadata": {
    "id": "VbamKBsL7X1-"
   },
   "source": [
    "**Exercise 2:** change the line style to be dotted, and the color to be black."
   ]
  },
  {
   "cell_type": "code",
   "execution_count": null,
   "metadata": {
    "colab": {
     "base_uri": "https://localhost:8080/",
     "height": 283
    },
    "executionInfo": {
     "elapsed": 455,
     "status": "ok",
     "timestamp": 1626010638520,
     "user": {
      "displayName": "Miguel González Duque",
      "photoUrl": "https://lh3.googleusercontent.com/a-/AOh14GimSzbAlN9R2AMUkPo6-Y5Y2iNWJXP37U_IyAKQ=s64",
      "userId": "07264348204271089916"
     },
     "user_tz": -120
    },
    "id": "qTaLgP-i73xX",
    "outputId": "9c308d90-6a62-4db1-c236-e81a279ac966"
   },
   "outputs": [],
   "source": [
    "# cosine plot with styling"
   ]
  },
  {
   "cell_type": "markdown",
   "metadata": {
    "id": "UVFlNARU76PF"
   },
   "source": [
    "**Exercise 3:** Use a `for` loop to plot `sin(x + k)` for `k` between `0` and `5`"
   ]
  },
  {
   "cell_type": "code",
   "execution_count": null,
   "metadata": {
    "colab": {
     "base_uri": "https://localhost:8080/",
     "height": 265
    },
    "executionInfo": {
     "elapsed": 680,
     "status": "ok",
     "timestamp": 1626010640290,
     "user": {
      "displayName": "Miguel González Duque",
      "photoUrl": "https://lh3.googleusercontent.com/a-/AOh14GimSzbAlN9R2AMUkPo6-Y5Y2iNWJXP37U_IyAKQ=s64",
      "userId": "07264348204271089916"
     },
     "user_tz": -120
    },
    "id": "_nltHYa59ZS1",
    "outputId": "370b28c4-ea70-4769-b3f0-4498cee20f95"
   },
   "outputs": [],
   "source": [
    "# multiple sin functions"
   ]
  },
  {
   "cell_type": "markdown",
   "metadata": {
    "id": "I1kFWdTW9eRx"
   },
   "source": [
    "**Exercise 4:** In the previous plot, change the `y` axis such that only `-1` and `1` appear in the ticks. Set appropiate titles, y-labels and x-labels."
   ]
  },
  {
   "cell_type": "code",
   "execution_count": null,
   "metadata": {
    "colab": {
     "base_uri": "https://localhost:8080/",
     "height": 313
    },
    "executionInfo": {
     "elapsed": 549,
     "status": "ok",
     "timestamp": 1626010699252,
     "user": {
      "displayName": "Miguel González Duque",
      "photoUrl": "https://lh3.googleusercontent.com/a-/AOh14GimSzbAlN9R2AMUkPo6-Y5Y2iNWJXP37U_IyAKQ=s64",
      "userId": "07264348204271089916"
     },
     "user_tz": -120
    },
    "id": "gxPlDAPi9uyG",
    "outputId": "e5dc08f3-4a4c-4a1f-d551-e0715c2245e7"
   },
   "outputs": [],
   "source": [
    "# multiple sin with styling"
   ]
  },
  {
   "cell_type": "markdown",
   "metadata": {
    "id": "bF2MQg9N9zD5"
   },
   "source": [
    "## More advanced plots\n",
    "\n",
    "In these next plots, we will use more methods of `matplotlib` and more keyword arguments therein."
   ]
  },
  {
   "cell_type": "markdown",
   "metadata": {
    "id": "Kco8lXc0-Uyx"
   },
   "source": [
    "**Exercise 5:** Create a vector of 1000 samples of a uniform distribution using `np.random.random`, and plot a histogram of them."
   ]
  },
  {
   "cell_type": "code",
   "execution_count": null,
   "metadata": {
    "colab": {
     "base_uri": "https://localhost:8080/",
     "height": 352
    },
    "executionInfo": {
     "elapsed": 6,
     "status": "ok",
     "timestamp": 1626010700001,
     "user": {
      "displayName": "Miguel González Duque",
      "photoUrl": "https://lh3.googleusercontent.com/a-/AOh14GimSzbAlN9R2AMUkPo6-Y5Y2iNWJXP37U_IyAKQ=s64",
      "userId": "07264348204271089916"
     },
     "user_tz": -120
    },
    "id": "L8hVo3v0_LnE",
    "outputId": "c66d4500-efd6-4f7f-e451-490ecafc4f26"
   },
   "outputs": [],
   "source": [
    "# histogram of 1000 samples from U(0, 1)"
   ]
  },
  {
   "cell_type": "markdown",
   "metadata": {
    "id": "qgBEg42p_Okn"
   },
   "source": [
    "**Exercise 6:** Change the color of the previous plot, and change the width of the rectangles."
   ]
  },
  {
   "cell_type": "code",
   "execution_count": null,
   "metadata": {
    "colab": {
     "base_uri": "https://localhost:8080/",
     "height": 352
    },
    "executionInfo": {
     "elapsed": 663,
     "status": "ok",
     "timestamp": 1626010701710,
     "user": {
      "displayName": "Miguel González Duque",
      "photoUrl": "https://lh3.googleusercontent.com/a-/AOh14GimSzbAlN9R2AMUkPo6-Y5Y2iNWJXP37U_IyAKQ=s64",
      "userId": "07264348204271089916"
     },
     "user_tz": -120
    },
    "id": "_weFBhkU_3VX",
    "outputId": "348d04a5-26e3-4253-fb64-d153661b11e0"
   },
   "outputs": [],
   "source": [
    "# histogram of 1000 samples from U(0, 1) with styling"
   ]
  },
  {
   "cell_type": "markdown",
   "metadata": {
    "id": "FsAUdY62AAl1"
   },
   "source": [
    "Let's talk about creating **subplots**. For these exercises we will load a dataset from `https://data.cityofnewyork.us/api/views/7yig-nj52/rows.csv`"
   ]
  },
  {
   "cell_type": "code",
   "execution_count": null,
   "metadata": {
    "colab": {
     "base_uri": "https://localhost:8080/"
    },
    "executionInfo": {
     "elapsed": 632,
     "status": "ok",
     "timestamp": 1626011282148,
     "user": {
      "displayName": "Miguel González Duque",
      "photoUrl": "https://lh3.googleusercontent.com/a-/AOh14GimSzbAlN9R2AMUkPo6-Y5Y2iNWJXP37U_IyAKQ=s64",
      "userId": "07264348204271089916"
     },
     "user_tz": -120
    },
    "id": "hBchykFZAyvY",
    "outputId": "94578ef7-657e-4bd9-dcb7-9f73f0ee8695"
   },
   "outputs": [],
   "source": [
    "math_scores = pd.read_csv(\"https://data.cityofnewyork.us/api/views/7yig-nj52/rows.csv\")\n",
    "math_scores.shape"
   ]
  },
  {
   "cell_type": "markdown",
   "metadata": {
    "id": "fNoi9DRuA32r"
   },
   "source": [
    "**Exercise 7:**\n",
    "1. What are the columns and data types in the DataFrame `math_scores`?"
   ]
  },
  {
   "cell_type": "code",
   "execution_count": null,
   "metadata": {
    "colab": {
     "base_uri": "https://localhost:8080/"
    },
    "executionInfo": {
     "elapsed": 362,
     "status": "ok",
     "timestamp": 1626010707693,
     "user": {
      "displayName": "Miguel González Duque",
      "photoUrl": "https://lh3.googleusercontent.com/a-/AOh14GimSzbAlN9R2AMUkPo6-Y5Y2iNWJXP37U_IyAKQ=s64",
      "userId": "07264348204271089916"
     },
     "user_tz": -120
    },
    "id": "JpSZvFpdxrmz",
    "outputId": "84161826-d6f1-4c4f-e72f-4533d3912836"
   },
   "outputs": [],
   "source": [
    "# columsn and data types\n",
    "math_scores.info()\n",
    "math_scores.head()"
   ]
  },
  {
   "cell_type": "markdown",
   "metadata": {
    "id": "DC6yMmLK0Wfs"
   },
   "source": [
    "Let's modify this dataframe to focus on only one district:"
   ]
  },
  {
   "cell_type": "code",
   "execution_count": null,
   "metadata": {
    "executionInfo": {
     "elapsed": 259,
     "status": "ok",
     "timestamp": 1626011767723,
     "user": {
      "displayName": "Miguel González Duque",
      "photoUrl": "https://lh3.googleusercontent.com/a-/AOh14GimSzbAlN9R2AMUkPo6-Y5Y2iNWJXP37U_IyAKQ=s64",
      "userId": "07264348204271089916"
     },
     "user_tz": -120
    },
    "id": "3jTWDWyT0dNm"
   },
   "outputs": [],
   "source": [
    "math_scores = math_scores[math_scores[\"District\"] == 1]"
   ]
  },
  {
   "cell_type": "markdown",
   "metadata": {
    "id": "LFxnIG1nxzFn"
   },
   "source": [
    "2. Use `plt.subplots` to create a 2x2 plot grid.\n",
    "3. Plot in these 4 subplots the variable `number tested` against `year` for the grades 5, 6, 7, 8."
   ]
  },
  {
   "cell_type": "code",
   "execution_count": null,
   "metadata": {
    "colab": {
     "base_uri": "https://localhost:8080/",
     "height": 297
    },
    "executionInfo": {
     "elapsed": 1215,
     "status": "ok",
     "timestamp": 1626011990443,
     "user": {
      "displayName": "Miguel González Duque",
      "photoUrl": "https://lh3.googleusercontent.com/a-/AOh14GimSzbAlN9R2AMUkPo6-Y5Y2iNWJXP37U_IyAKQ=s64",
      "userId": "07264348204271089916"
     },
     "user_tz": -120
    },
    "id": "Xd_i6FZ8yqEL",
    "outputId": "2b6c3e7c-3e6b-441e-eec8-82462040e324"
   },
   "outputs": [],
   "source": [
    "fig, axes = plt.subplots(2, 2, sharey=True, sharex=True)\n",
    "\n",
    "# A silly way of doing it.\n",
    "# df = math_scores[math_scores[\"Grade\"] == \"5\"]\n",
    "# axes[0, 0].plot(df[\"Year\"], df[\"Number Tested\"])\n",
    "# axes[0, 0].set_title(\"Grade 5\")\n",
    "\n",
    "# df = math_scores[math_scores[\"Grade\"] == \"6\"]\n",
    "# axes[0, 1].plot(df[\"Year\"], df[\"Number Tested\"])\n",
    "# axes[0, 1].set_title(\"Grade 6\")\n",
    "\n",
    "# df = math_scores[math_scores[\"Grade\"] == \"7\"]\n",
    "# axes[1, 0].plot(df[\"Year\"], df[\"Number Tested\"])\n",
    "# axes[1, 0].set_title(\"Grade 7\")\n",
    "\n",
    "# df = math_scores[math_scores[\"Grade\"] == \"8\"]\n",
    "# axes[1, 1].plot(df[\"Year\"], df[\"Number Tested\"])\n",
    "# axes[1, 1].set_title(\"Grade 8\")\n",
    "\n",
    "\n",
    "# A better way of doing it\n",
    "axes = [axes[0, 0], axes[0, 1], axes[1, 0], axes[1, 1]]\n",
    "for ax, grade in zip(axes, [\"5\", \"6\", \"7\", \"8\"]):\n",
    "    df = math_scores[math_scores[\"Grade\"] == grade]\n",
    "    ax.plot(df[\"Year\"], df[\"Number Tested\"])\n",
    "    ax.set_title(f\"Grade {grade}\")\n",
    "\n",
    "plt.tight_layout()"
   ]
  },
  {
   "cell_type": "markdown",
   "metadata": {
    "id": "3VoIY_7by3H7"
   },
   "source": [
    "## Using seaborn"
   ]
  },
  {
   "cell_type": "markdown",
   "metadata": {
    "id": "0D1CT7EB4iWb"
   },
   "source": [
    "`Seaborn` is a plotting library that focuses on making some common statistics plots (e.g. violin plots, box plots, scatters, kernel density estimations...) easier to get.\n",
    "\n",
    "In the following examples we will use a DataFrame provided by `seaborn` itself:"
   ]
  },
  {
   "cell_type": "code",
   "execution_count": null,
   "metadata": {
    "executionInfo": {
     "elapsed": 252,
     "status": "ok",
     "timestamp": 1626012975879,
     "user": {
      "displayName": "Miguel González Duque",
      "photoUrl": "https://lh3.googleusercontent.com/a-/AOh14GimSzbAlN9R2AMUkPo6-Y5Y2iNWJXP37U_IyAKQ=s64",
      "userId": "07264348204271089916"
     },
     "user_tz": -120
    },
    "id": "ciycIB347LNB"
   },
   "outputs": [],
   "source": [
    "df_penguins = sns.load_dataset(\"penguins\")"
   ]
  },
  {
   "cell_type": "markdown",
   "metadata": {
    "id": "0v7d5LEY7Ncx"
   },
   "source": [
    "**Exercise 8:**\n",
    "1. What are the columns and data types in `df_penguins`?\n",
    "2. Clean this DataFrame from `NaN` values (hint: use dropna()). How many rows were lost?"
   ]
  },
  {
   "cell_type": "code",
   "execution_count": null,
   "metadata": {
    "colab": {
     "base_uri": "https://localhost:8080/"
    },
    "executionInfo": {
     "elapsed": 239,
     "status": "ok",
     "timestamp": 1626013023611,
     "user": {
      "displayName": "Miguel González Duque",
      "photoUrl": "https://lh3.googleusercontent.com/a-/AOh14GimSzbAlN9R2AMUkPo6-Y5Y2iNWJXP37U_IyAKQ=s64",
      "userId": "07264348204271089916"
     },
     "user_tz": -120
    },
    "id": "1X-VbDpT7aii",
    "outputId": "e77bd34d-c295-43fb-eeaf-419e7b51282c"
   },
   "outputs": [],
   "source": []
  },
  {
   "cell_type": "code",
   "execution_count": null,
   "metadata": {
    "colab": {
     "base_uri": "https://localhost:8080/",
     "height": 458
    },
    "executionInfo": {
     "elapsed": 228,
     "status": "ok",
     "timestamp": 1626013117570,
     "user": {
      "displayName": "Miguel González Duque",
      "photoUrl": "https://lh3.googleusercontent.com/a-/AOh14GimSzbAlN9R2AMUkPo6-Y5Y2iNWJXP37U_IyAKQ=s64",
      "userId": "07264348204271089916"
     },
     "user_tz": -120
    },
    "id": "Q9XGdoQH7bsf",
    "outputId": "153de3e1-2f6d-4f9f-af41-2625c544cd2d"
   },
   "outputs": [],
   "source": []
  },
  {
   "cell_type": "markdown",
   "metadata": {
    "id": "6VaPMcur8e7F"
   },
   "source": [
    "**Exercise 9:** Use `sns.pairplot` to understand the relationship between the columns `\"bill_length_mm\", \"bill_depth_mm\", \"flipper_length_mm\"`. Illuminate by species."
   ]
  },
  {
   "cell_type": "code",
   "execution_count": null,
   "metadata": {
    "colab": {
     "base_uri": "https://localhost:8080/",
     "height": 567
    },
    "executionInfo": {
     "elapsed": 5201,
     "status": "ok",
     "timestamp": 1626013217666,
     "user": {
      "displayName": "Miguel González Duque",
      "photoUrl": "https://lh3.googleusercontent.com/a-/AOh14GimSzbAlN9R2AMUkPo6-Y5Y2iNWJXP37U_IyAKQ=s64",
      "userId": "07264348204271089916"
     },
     "user_tz": -120
    },
    "id": "p0nc8VgH7q9g",
    "outputId": "7a8372b7-b4a7-4111-b27f-b853d6bc598b"
   },
   "outputs": [],
   "source": [
    "sns.pairplot(\n",
    "    data=df_penguins,\n",
    "    hue=\"species\",\n",
    "    vars=[\"bill_length_mm\", \"bill_depth_mm\", \"flipper_length_mm\"]\n",
    ")"
   ]
  }
 ],
 "metadata": {
  "colab": {
   "authorship_tag": "ABX9TyPROaAVsCSQD05iVpvIupXT",
   "collapsed_sections": [],
   "name": "8a - Plotting exercises with matplotlib and seaborn.ipynb",
   "provenance": []
  },
  "kernelspec": {
   "display_name": "Python 3",
   "language": "python",
   "name": "python3"
  },
  "language_info": {
   "codemirror_mode": {
    "name": "ipython",
    "version": 3
   },
   "file_extension": ".py",
   "mimetype": "text/x-python",
   "name": "python",
   "nbconvert_exporter": "python",
   "pygments_lexer": "ipython3",
   "version": "3.8.2"
  }
 },
 "nbformat": 4,
 "nbformat_minor": 1
}
