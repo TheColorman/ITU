{
 "cells": [
  {
   "cell_type": "markdown",
   "metadata": {
    "id": "dzyH2Z8niMBq"
   },
   "source": [
    "# Ex2b - Getting and Knowing your Data"
   ]
  },
  {
   "cell_type": "markdown",
   "metadata": {
    "id": "8UczCRXoiMBs"
   },
   "source": [
    "(special thanks to: https://github.com/justmarkham for sharing the dataset and materials.)"
   ]
  },
  {
   "cell_type": "markdown",
   "metadata": {},
   "source": [
    "### Step 1. Import the necessary libraries"
   ]
  },
  {
   "cell_type": "code",
   "execution_count": null,
   "metadata": {
    "id": "rEGCptfhiMBt"
   },
   "outputs": [],
   "source": [
    "# import"
   ]
  },
  {
   "cell_type": "markdown",
   "metadata": {
    "id": "L7_mulqdiMBu"
   },
   "source": [
    "### Step 2. Get the dataset from this [address](https://raw.githubusercontent.com/justmarkham/DAT8/master/data/chipotle.tsv)"
   ]
  },
  {
   "cell_type": "code",
   "execution_count": null,
   "metadata": {
    "id": "10yjQWI7pV19"
   },
   "outputs": [],
   "source": []
  },
  {
   "cell_type": "markdown",
   "metadata": {},
   "source": [
    "### Step 3. Read the data into a dataframe variable"
   ]
  },
  {
   "cell_type": "code",
   "execution_count": null,
   "metadata": {},
   "outputs": [],
   "source": []
  },
  {
   "cell_type": "markdown",
   "metadata": {},
   "source": [
    "### Setp 4. Look into your dataset:\n",
    "for example, look at the first entries, number of samples, number of columns and their names, indexing of the samples."
   ]
  },
  {
   "cell_type": "markdown",
   "metadata": {
    "id": "PZ7paB2KiMBy"
   },
   "source": [
    "### Step 5. What is the item which was ordered the most? "
   ]
  },
  {
   "cell_type": "code",
   "execution_count": null,
   "metadata": {
    "colab": {
     "base_uri": "https://localhost:8080/",
     "height": 1000
    },
    "executionInfo": {
     "elapsed": 250,
     "status": "ok",
     "timestamp": 1626092377680,
     "user": {
      "displayName": "Miguel González Duque",
      "photoUrl": "https://lh3.googleusercontent.com/a-/AOh14GimSzbAlN9R2AMUkPo6-Y5Y2iNWJXP37U_IyAKQ=s64",
      "userId": "07264348204271089916"
     },
     "user_tz": -120
    },
    "id": "2r5Cv6iNiMBy",
    "outputId": "dda2bfbd-ffb0-4d5a-cd9d-f593080cea22"
   },
   "outputs": [],
   "source": []
  },
  {
   "cell_type": "markdown",
   "metadata": {
    "id": "1WC834xEiMBy"
   },
   "source": [
    "### Step 6. For the most ordered item, how many items were ordered?"
   ]
  },
  {
   "cell_type": "code",
   "execution_count": null,
   "metadata": {
    "id": "0Dynx3c7iMBy"
   },
   "outputs": [],
   "source": []
  },
  {
   "cell_type": "markdown",
   "metadata": {},
   "source": [
    "### Step 7. What is in the choice_description column of the most ordered item?"
   ]
  },
  {
   "cell_type": "code",
   "execution_count": null,
   "metadata": {},
   "outputs": [],
   "source": []
  },
  {
   "cell_type": "markdown",
   "metadata": {
    "id": "AZoo9MV4iMBz"
   },
   "source": [
    "### Step 8. How many items were orderd in total?"
   ]
  },
  {
   "cell_type": "code",
   "execution_count": null,
   "metadata": {
    "colab": {
     "base_uri": "https://localhost:8080/"
    },
    "executionInfo": {
     "elapsed": 220,
     "status": "ok",
     "timestamp": 1626092895854,
     "user": {
      "displayName": "Miguel González Duque",
      "photoUrl": "https://lh3.googleusercontent.com/a-/AOh14GimSzbAlN9R2AMUkPo6-Y5Y2iNWJXP37U_IyAKQ=s64",
      "userId": "07264348204271089916"
     },
     "user_tz": -120
    },
    "id": "szYwhFSriMBz",
    "outputId": "70ff85f8-8e4d-47ec-9243-9e119bc54243"
   },
   "outputs": [],
   "source": []
  },
  {
   "cell_type": "markdown",
   "metadata": {},
   "source": [
    "### Step 9. What is the type of the item_price?"
   ]
  },
  {
   "cell_type": "code",
   "execution_count": null,
   "metadata": {},
   "outputs": [],
   "source": []
  },
  {
   "cell_type": "markdown",
   "metadata": {
    "id": "fGynYZZjiMBz"
   },
   "source": [
    "### Step 10. Get the price_item of the samples as float numbers\n",
    "You can make a lambda function that turns the input to string (str), remove the dollar sign, and turn it to float. Then apply the lamnda function to the price_item"
   ]
  },
  {
   "cell_type": "code",
   "execution_count": null,
   "metadata": {},
   "outputs": [],
   "source": []
  },
  {
   "cell_type": "markdown",
   "metadata": {
    "id": "zafCgYe7iMB0"
   },
   "source": [
    "### Step 11. How much was the revenue in whole period of the dataset?\n",
    "Note: revenue is $quantity * item\\_price$\n",
    "\n",
    "Hint: You may use a lambda function"
   ]
  },
  {
   "cell_type": "code",
   "execution_count": null,
   "metadata": {
    "id": "nT5_Q-xbiMB0"
   },
   "outputs": [],
   "source": []
  },
  {
   "cell_type": "markdown",
   "metadata": {
    "id": "9CwwrFmiiMB0"
   },
   "source": [
    "### Step 12. How many orders were made in the whole period?"
   ]
  },
  {
   "cell_type": "code",
   "execution_count": null,
   "metadata": {
    "id": "lSc4yozIiMB0"
   },
   "outputs": [],
   "source": []
  },
  {
   "cell_type": "markdown",
   "metadata": {
    "id": "f63kMMC_iMB0"
   },
   "source": [
    "### Step 13. What is the average revenue per order?"
   ]
  },
  {
   "cell_type": "code",
   "execution_count": null,
   "metadata": {
    "id": "FTqH_LZWiMB0"
   },
   "outputs": [],
   "source": []
  },
  {
   "cell_type": "markdown",
   "metadata": {
    "id": "KnbdtxbqiMB0"
   },
   "source": [
    "### Step 14. How many different items are sold?"
   ]
  },
  {
   "cell_type": "code",
   "execution_count": null,
   "metadata": {
    "id": "E88swodZiMB0"
   },
   "outputs": [],
   "source": []
  }
 ],
 "metadata": {
  "anaconda-cloud": {},
  "colab": {
   "collapsed_sections": [],
   "name": "1b_Chipotle_no_solutions.ipynb",
   "provenance": []
  },
  "kernelspec": {
   "display_name": "Python 3",
   "language": "python",
   "name": "python3"
  },
  "language_info": {
   "codemirror_mode": {
    "name": "ipython",
    "version": 3
   },
   "file_extension": ".py",
   "mimetype": "text/x-python",
   "name": "python",
   "nbconvert_exporter": "python",
   "pygments_lexer": "ipython3",
   "version": "3.8.2"
  }
 },
 "nbformat": 4,
 "nbformat_minor": 1
}
