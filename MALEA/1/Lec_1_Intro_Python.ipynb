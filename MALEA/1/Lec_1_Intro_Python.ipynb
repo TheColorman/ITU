{
 "cells": [
  {
   "cell_type": "markdown",
   "id": "d757e34b",
   "metadata": {},
   "source": [
    "<div class=\" alert alert-info\"> \n",
    "    \n",
    "# <center>Introduction to Python </center>\n",
    "    \n",
    "\n",
    "</div>"
   ]
  },
  {
   "cell_type": "markdown",
   "id": "e6fd8e90",
   "metadata": {},
   "source": [
    "<font size=\"1\">\n",
    "(Note:\n",
    "    Most of the contents of this document have been taken and adapted from the notebook material of the following book: A. Jung,“Machine Learning: The Basics,” Springer, Singapore, 2022 (https://github.com/alexjungaalto).\n",
    "</font>   \n",
    "    \n",
    "\n",
    "<font size=\"1\">\n",
    "Some subsections have been taken and adapted from the notebook material of the following book: \n",
    "    H. Jiang, \"Machine Learning Fundamentals: A Concise Introduction\", Cambridge University Press, 2021,\n",
    "    (http://wiki.eecs.yorku.ca/user/hj/research:mlfbook).\n",
    "Materials are also taken from manuals of scikit, etc.\n",
    "</font>\n",
    "    </div>\n",
    ")\n",
    "  \n",
    "    "
   ]
  },
  {
   "cell_type": "markdown",
   "id": "dfbd4620",
   "metadata": {},
   "source": [
    "This document gives an inntroduction to some of the libraries of Python and functionaitites that we will use in this course. \n",
    "    \n",
    "In addition to this document, you are encuraged to also have a look at the link below which is a revised version of chapter 2.3 (Lab: Introduction to Python) of the book _Introduction to Statistical Learning with applications in Python_\n",
    "\n",
    "https://github.com/intro-stat-learning/ISLP_labs/blob/v2/Ch02-statlearn-lab.ipynb\n",
    "\n",
    "   \n"
   ]
  },
  {
   "cell_type": "markdown",
   "id": "3411df3b",
   "metadata": {},
   "source": [
    "<a id='dest_TOC'></a>"
   ]
  },
  {
   "cell_type": "markdown",
   "id": "e5d95ac5",
   "metadata": {},
   "source": [
    "**Table of Contents**\n",
    "- [Python Libraries](#dest_libraries)\n",
    "- [Built-in functions](#dest_builtin)\n",
    "- [Sequences and Iterations](#dest_iterations)\n",
    "- [Numpy Arrays](#dest_numpy_arrays)\n",
    "- [Representing Matrices using NumPy Arrays](#dest_matrices)\n",
    "- [User-Defined Functions](#dest_userdefined_functions)\n",
    "- [Measuring Execution Time](#dest_execution_time)\n",
    "- [Vectorization](#dest_vectorization)\n",
    "- [Plotting with Matplotlib](#dest_plotting)\n",
    "- [Data Frames](#dest_dataframes)\n",
    "- [Dictionaries](#dest_dictionaries)\n",
    "- [Loading Data From files](#dest_loading_data)\n"
   ]
  },
  {
   "cell_type": "markdown",
   "id": "1ac5e10f",
   "metadata": {},
   "source": [
    "<a id='dest_libraries'></a>"
   ]
  },
  {
   "cell_type": "markdown",
   "id": "142ed1e9",
   "metadata": {},
   "source": [
    "[TOC](#dest_TOC)\n",
    "<a id='Q2'></a>\n",
    "<div class=\" alert alert-info\">  \n",
    "    \n",
    "# <center>Python Libraries</center>\n",
    "</div>"
   ]
  },
  {
   "cell_type": "markdown",
   "id": "8a705470",
   "metadata": {},
   "source": [
    "Python programs can import functions from libraries or so called packages. Some of the most commonly used Pyhton libraries are:\n",
    "\n",
    "\n",
    "**NumPy** - (Numerical Python) for operations involving arrays of numbers. One-dimensional numpy arrays are used to represent Euclidean vectors. Two-dimensional numpy arrays can represent matrices and higher-dimensional arrays represent tensors.\n",
    "\n",
    "https://numpy.org/\n",
    "\n",
    "**Pandas** - This library provides functions for reading in data from files and also functions for data visualization. \n",
    "\n",
    "https://pandas.pydata.org/docs/\n",
    "\n",
    "**Matplotlib and Seaborn** - This library provides more powerful tools for data visualization such as plotting time series or images. \n",
    "\n",
    "https://matplotlib.org/stable/users/index.html\n",
    "\n",
    "https://seaborn.pydata.org/\n",
    "\n",
    "**Scikit-learn** - This library provides implementations of several basic machine learning methods, such as linear regression, decision trees and clustering methods. \n",
    "\n",
    "https://scikit-learn.org/stable/\n",
    "\n",
    "**There is more: Tensorflow, Keras, pyTorch, etc.**\n",
    "\n"
   ]
  },
  {
   "cell_type": "markdown",
   "id": "687b4716",
   "metadata": {},
   "source": [
    " <b><center><font size=4>How To Use A Python Library</font></center></b>"
   ]
  },
  {
   "cell_type": "markdown",
   "id": "a14cd8d4",
   "metadata": {},
   "source": [
    "In order to make use of the functions provided by a library, it must first be imported via the command\n",
    "\n",
    "`import <library name> as <short name>`\n",
    "\n",
    "for example\n",
    "\n",
    "`import numpy as np`"
   ]
  },
  {
   "cell_type": "markdown",
   "id": "1441b031",
   "metadata": {},
   "source": [
    "<a id='dest_builtin'></a>"
   ]
  },
  {
   "cell_type": "markdown",
   "id": "eea4fc0a",
   "metadata": {},
   "source": [
    "[TOC](#dest_TOC)\n",
    "<a id='Q2'></a>\n",
    "<div class=\" alert alert-info\">  \n",
    "    \n",
    "# <center>Built-In Functions in Python</center>\n",
    "</div>"
   ]
  },
  {
   "cell_type": "markdown",
   "id": "2e328f4d",
   "metadata": {},
   "source": [
    "Beside functions provided by libraries, Python also provides several built-in functions. \n",
    "You can find an overview of built-in functions at: \n",
    "https://docs.python.org/3/library/functions.html\n",
    "\n",
    "One example of a built-in function is `print(a)` which displays the value of the variable `a`. \n",
    "\n",
    "\n",
    "Another example is `range(n)` which creates a sequence of n numbers starting at 0."
   ]
  },
  {
   "cell_type": "markdown",
   "id": "48685ef6",
   "metadata": {},
   "source": [
    "**<font size=\"4\">range(...)</font>**\n",
    "\n",
    "`range(n)` is a built-in function which creates a sequence of n numbers starting at 0.\n",
    "\n",
    "`range(start, stop[, step])` creates the sequence [start,start+step,start+2*step,...]. If the _step_ argument is omitted, it defaults to 1. If the _start_ argument is omitted, it defaults to 0."
   ]
  },
  {
   "cell_type": "markdown",
   "id": "94e8d991",
   "metadata": {},
   "source": [
    "<div class=\" alert alert-danger\"> \n",
    "    \n",
    "<center><font size=\"4\"><b>Caution!</b></font></center>\n",
    "    \n",
    "<p><center><font size=\"4\">In <code>range(stop)</code> the sequence starts from 0 and does not include stop value </font></center></p>\n",
    "    \n",
    "</div>"
   ]
  },
  {
   "cell_type": "markdown",
   "id": "fbade566",
   "metadata": {},
   "source": [
    "Python distinguishes between **mutable** and **immutable** objects. An immutable object cannot be modified after it has been created.  \n",
    "\n",
    "A _range_ object is **immutable**."
   ]
  },
  {
   "cell_type": "markdown",
   "id": "d6654975",
   "metadata": {},
   "source": [
    "See https://docs.python.org/3/library/stdtypes.html#range for more information abour `range(n)`."
   ]
  },
  {
   "cell_type": "code",
   "execution_count": 5,
   "id": "ba4e16a7",
   "metadata": {},
   "outputs": [
    {
     "name": "stdout",
     "output_type": "stream",
     "text": [
      "myrange = range(0, 10) data type = <class 'range'>\n",
      "mylist = [0, 1, 2, 3, 4, 5, 6, 7, 8, 9] data type = <class 'list'>\n"
     ]
    }
   ],
   "source": [
    "# create 'range' object which represents a sequence 0,1,...,9\n",
    "myrange = range(10)\n",
    "# create a list from iterable 'range' object\n",
    "mylist  = list(myrange)\n",
    "# print objects and their data type\n",
    "print(\"myrange =\", myrange, \"data type =\", type(myrange))\n",
    "print(\"mylist =\", mylist, \"data type =\", type(mylist))\n"
   ]
  },
  {
   "cell_type": "code",
   "execution_count": 8,
   "id": "df537dff",
   "metadata": {},
   "outputs": [
    {
     "data": {
      "text/plain": [
       "[1, 2, 3, 4, 5, 6, 7, 8, 9, 10]"
      ]
     },
     "execution_count": 8,
     "metadata": {},
     "output_type": "execute_result"
    }
   ],
   "source": [
    "# Start and stop arguments are passed\n",
    "mylist = list(range(1,11))\n",
    "mylist\n"
   ]
  },
  {
   "cell_type": "code",
   "execution_count": 9,
   "id": "38323afe",
   "metadata": {},
   "outputs": [
    {
     "data": {
      "text/plain": [
       "[0, 2, 4, 6, 8]"
      ]
     },
     "execution_count": 9,
     "metadata": {},
     "output_type": "execute_result"
    }
   ],
   "source": [
    "# Start, stop and step arguments are passed\n",
    "mylist = list(range(0,10,2))\n",
    "mylist\n"
   ]
  },
  {
   "cell_type": "markdown",
   "id": "5a835171",
   "metadata": {},
   "source": [
    "<a id='dest_iterations'></a>"
   ]
  },
  {
   "cell_type": "markdown",
   "id": "16f73cc4",
   "metadata": {},
   "source": [
    "[TOC](#dest_TOC)\n",
    "<a id='Q4'></a>\n",
    "<div class=\" alert alert-info\"> \n",
    "    \n",
    "# <center>Sequences and Iterations</center>\n",
    "    \n",
    "</div>"
   ]
  },
  {
   "cell_type": "code",
   "execution_count": 10,
   "id": "94ef3592",
   "metadata": {},
   "outputs": [
    {
     "name": "stdout",
     "output_type": "stream",
     "text": [
      "hi\n",
      "how\n",
      "are\n",
      "you\n"
     ]
    }
   ],
   "source": [
    "# create a sequence consisting of four words \n",
    "some_sequence = [\"hi\",\"how\",\"are\",\"you\"]\n",
    "\n",
    "# loop over the sequence of elements \n",
    "for word in some_sequence:\n",
    "    print(word)\n",
    "    "
   ]
  },
  {
   "cell_type": "markdown",
   "id": "3e46552f",
   "metadata": {},
   "source": [
    "One of the main usages of `range` data type is to create loops that iterate over a seqeunce of values. \n"
   ]
  },
  {
   "cell_type": "markdown",
   "id": "53a3a842",
   "metadata": {},
   "source": [
    "<div class=\" alert alert-danger\"> \n",
    "    \n",
    "<center><font size=\"4\"><b>Caution!</b></font></center>\n",
    "\n",
    "<p><center><font size=\"4\">In Python, indexing starts by default at 0 (and not at 1)</font></center></p>\n",
    "    \n",
    "</div>"
   ]
  },
  {
   "cell_type": "code",
   "execution_count": 2,
   "id": "6119ef1a",
   "metadata": {},
   "outputs": [
    {
     "name": "stdout",
     "output_type": "stream",
     "text": [
      "index: 0 value: hi\n",
      "index: 1 value: how\n",
      "index: 2 value: are\n",
      "index: 3 value: you\n"
     ]
    }
   ],
   "source": [
    "# create a sequence consisting of four words\n",
    "some_sequence =  [\"hi\",\"how\",\"are\",\"you\"]\n",
    "# find the length of the list\n",
    "length = len(some_sequence)\n",
    "\n",
    "# loop over the sequence of indices (0,1,2,3)\n",
    "for i in range(length):\n",
    "    print(\"index: {} value: {}\".format(i, some_sequence[i]))  \n",
    "    "
   ]
  },
  {
   "cell_type": "code",
   "execution_count": 14,
   "id": "eb53823a",
   "metadata": {},
   "outputs": [
    {
     "name": "stdout",
     "output_type": "stream",
     "text": [
      "\n",
      "outer loop index: 0  values: [1, 2, 3]\n",
      " \n",
      "inner loop index: 0  value: 1 \n",
      "inner loop index: 1  value: 2 \n",
      "inner loop index: 2  value: 3 \n",
      "\n",
      "outer loop index: 1  values: [4, 5, 6]\n",
      " \n",
      "inner loop index: 0  value: 4 \n",
      "inner loop index: 1  value: 5 \n",
      "inner loop index: 2  value: 6 \n",
      "\n",
      "outer loop index: 2  values: [7, 8, 9]\n",
      " \n",
      "inner loop index: 0  value: 7 \n",
      "inner loop index: 1  value: 8 \n",
      "inner loop index: 2  value: 9 \n"
     ]
    }
   ],
   "source": [
    "# Nested for loops\n",
    "\n",
    "# create a list \n",
    "mylist = [[1,2,3],[4,5,6],[7,8,9]]\n",
    "\n",
    "# outer loop\n",
    "for i in range(len(mylist)):\n",
    "    print(\"\\nouter loop index: {}  values: {}\\n \".format(i, mylist[i]))\n",
    "    \n",
    "    # inner loop\n",
    "    for j in range(len(mylist[0])):\n",
    "        print(\"inner loop index: {}  value: {} \".format(j, mylist[i][j]))\n",
    "\n"
   ]
  },
  {
   "cell_type": "markdown",
   "id": "2a971651",
   "metadata": {},
   "source": [
    "**`enumerate()`** is a built-in function which creates an indexed list for a given sequence."
   ]
  },
  {
   "cell_type": "code",
   "execution_count": 2,
   "id": "801d7fe0",
   "metadata": {},
   "outputs": [
    {
     "name": "stdout",
     "output_type": "stream",
     "text": [
      "(0, 'hi')\n",
      "(1, 'how')\n",
      "(2, 'are')\n",
      "(3, 'you')\n"
     ]
    }
   ],
   "source": [
    "# Iterating with enumerate() \n",
    "# It takes as an input iterable object and returns a sequence of tuples in the form of (index, element) \n",
    "\n",
    "# create a list \n",
    "some_sequence =  [\"hi\",\"how\",\"are\",\"you\"]\n",
    "\n",
    "for tp in enumerate(some_sequence):\n",
    "    print(tp)\n",
    "    "
   ]
  },
  {
   "cell_type": "code",
   "execution_count": 3,
   "id": "a3869df5",
   "metadata": {},
   "outputs": [
    {
     "name": "stdout",
     "output_type": "stream",
     "text": [
      "index: 0 value: hi\n",
      "index: 1 value: how\n",
      "index: 2 value: are\n",
      "index: 3 value: you\n"
     ]
    }
   ],
   "source": [
    "# loop over elements of a list \n",
    "for ind, val in enumerate(some_sequence):\n",
    "    print(\"index: {} value: {}\".format(ind, val))  \n",
    "    "
   ]
  },
  {
   "cell_type": "markdown",
   "id": "e4e2cc81",
   "metadata": {},
   "source": [
    "**`zip()`** is another useful built-in function. If you need **to iterate over two sequences of the same size**, you can use `zip()` "
   ]
  },
  {
   "cell_type": "code",
   "execution_count": 15,
   "id": "ed0b20d7",
   "metadata": {},
   "outputs": [
    {
     "name": "stdout",
     "output_type": "stream",
     "text": [
      "one eins\n",
      "two zwei\n",
      "three drei\n",
      "four vier\n"
     ]
    }
   ],
   "source": [
    "# Iterating multiple lists with zip()\n",
    "\n",
    "# create lists\n",
    "some_sequence =  [\"one\",\"two\",\"three\",\"four\"]\n",
    "another_sequence =  [\"eins\",\"zwei\",\"drei\",\"vier\"]\n",
    "\n",
    "# loop over two lists at the same time\n",
    "for val1, val2 in zip(some_sequence, another_sequence):\n",
    "    print(val1, val2)\n",
    "    "
   ]
  },
  {
   "cell_type": "code",
   "execution_count": 16,
   "id": "5fff7a45",
   "metadata": {},
   "outputs": [
    {
     "name": "stdout",
     "output_type": "stream",
     "text": [
      "index: 0 \n",
      "value mylist1: one, value mylist2: eins\n",
      "index: 1 \n",
      "value mylist1: two, value mylist2: zwei\n",
      "index: 2 \n",
      "value mylist1: three, value mylist2: drei\n",
      "index: 3 \n",
      "value mylist1: four, value mylist2: vier\n"
     ]
    }
   ],
   "source": [
    "# Iterating multiple lists with zip() and enumerate()\n",
    "\n",
    "# create lists\n",
    "some_sequence =  [\"one\",\"two\",\"three\",\"four\"]\n",
    "another_sequence =  [\"eins\",\"zwei\",\"drei\",\"vier\"]\n",
    "\n",
    "# loop over two lists at the same time\n",
    "for ind, (val1, val2) in enumerate(zip(some_sequence, another_sequence)):\n",
    "    print(\"index: {} \\nvalue mylist1: {}, value mylist2: {}\".format(ind, val1, val2))\n",
    "    "
   ]
  },
  {
   "cell_type": "markdown",
   "id": "c31446f3",
   "metadata": {},
   "source": [
    "<a id='dest_numpy_arrays'></a>"
   ]
  },
  {
   "cell_type": "markdown",
   "id": "b292854a",
   "metadata": {},
   "source": [
    "[TOC](#dest_TOC)\n",
    "<a id='Q5'></a>\n",
    "<div class=\" alert alert-info\"> \n",
    "    \n",
    "# <center>Numpy Arrays</center>\n",
    "    \n",
    "</div>"
   ]
  },
  {
   "cell_type": "markdown",
   "id": "3207ba82",
   "metadata": {},
   "source": [
    "The Python library `numpy` provides implementations of many matrix operations as well as other useful features, such as random number generators. \n",
    "\n",
    "Many functions of this libary are based on the data type ndarray that represents $N$-dimensional arrays of numbers ($N$ is the number of dimensions). \n",
    "\n",
    "The shape of a numpy array is given by a sequence of $N$ integers that indicate the number of \"elements\" in each dimension. \n",
    "\n",
    "Maybe the most important special case of numpy arrays is when $N=1$, corresponding to vectors, or when $N=2$ for matrices. A matrix with $5$ rows and $2$ columns is represented by a numpy array of shape $(5,2)$. \n",
    "\n",
    "Some additional resources to learn more about `numpy` arrays and related operations can be found here:\n",
    "\n",
    "https://numpy.org/\n",
    "\n",
    "https://www.youtube.com/watch?v=xECXZ3tyONo\n",
    "\n",
    "Using NumPy arrays allows for **vectorized computation** which allows, in turn, faster code execution: \n",
    "\n",
    "https://www.pythonlikeyoumeanit.com/Module3_IntroducingNumpy/VectorizedOperations.html\n",
    "\n",
    "https://www.oreilly.com/library/view/python-for-data/9781449323592/ch04.html"
   ]
  },
  {
   "cell_type": "markdown",
   "id": "1528c7d5",
   "metadata": {},
   "source": [
    "**<center><font size=\"4\">Creating NumPy Arrays</font></center>**"
   ]
  },
  {
   "cell_type": "code",
   "execution_count": 5,
   "id": "9f74d462",
   "metadata": {},
   "outputs": [
    {
     "data": {
      "text/plain": [
       "(array([0, 1, 2, 3, 4, 5, 6, 7, 8, 9]),\n",
       " array([0, 1, 2, 3, 4, 5, 6, 7, 8, 9]),\n",
       " array([0, 1, 2, 3, 4, 5, 6, 7, 8, 9]))"
      ]
     },
     "execution_count": 5,
     "metadata": {},
     "output_type": "execute_result"
    }
   ],
   "source": [
    "# import the library \"numpy\" which provides functions for matrices and vectors \n",
    "import numpy as np\n",
    "\n",
    "# convert a sequence 0,1,..,9 to a numpy array `myarray1`\n",
    "mylist  = [0,1,2,3,4,5,6,7,8,9]\n",
    "myarray1 = np.array(mylist)\n",
    "\n",
    "# use range() to create a numpy array\n",
    "myarray2 = np.array(range(10))\n",
    "\n",
    "# use np.arange() function to create a numpy array\n",
    "myarray3 = np.arange(10)\n",
    "\n",
    "# print values of the arrays\n",
    "myarray1, myarray2, myarray3\n"
   ]
  },
  {
   "cell_type": "code",
   "execution_count": 6,
   "id": "270c9a3a",
   "metadata": {},
   "outputs": [
    {
     "name": "stdout",
     "output_type": "stream",
     "text": [
      "[[0. 0. 0.]\n",
      " [0. 0. 0.]\n",
      " [0. 0. 0.]\n",
      " [0. 0. 0.]\n",
      " [0. 0. 0.]\n",
      " [0. 0. 0.]] \n",
      "\n",
      "[[1. 1. 1.]\n",
      " [1. 1. 1.]\n",
      " [1. 1. 1.]\n",
      " [1. 1. 1.]\n",
      " [1. 1. 1.]\n",
      " [1. 1. 1.]]\n"
     ]
    }
   ],
   "source": [
    "# create an array (6 rows, 3 columns) with zeros\n",
    "zeroarray = np.zeros((6,3)) \n",
    "print(zeroarray,'\\n')\n",
    "\n",
    "# create an array (6 rows, 3 columns) with ones\n",
    "onesarray = np.ones((6,3))\n",
    "print(onesarray)\n"
   ]
  },
  {
   "cell_type": "code",
   "execution_count": 20,
   "id": "230894be",
   "metadata": {},
   "outputs": [
    {
     "name": "stdout",
     "output_type": "stream",
     "text": [
      "Number of rows: 2 \n",
      "Number of columns: 3\n",
      "[[1 2 3]\n",
      " [4 5 6]]\n"
     ]
    }
   ],
   "source": [
    "# Pass lists directly to create 2D array\n",
    "myarray = np.array([[1,2,3], [4,5,6]])\n",
    "\n",
    "# Check the array dimensions with .shape attribute (rows, columns)\n",
    "print(\"Number of rows: {} \\nNumber of columns: {}\".format(myarray.shape[0], myarray.shape[1]))\n",
    "print(myarray)\n"
   ]
  },
  {
   "cell_type": "markdown",
   "id": "5d609533",
   "metadata": {},
   "source": [
    "<div class=\" alert alert-danger\"> \n",
    "    \n",
    "<center><font size=\"4\"><b>Caution!</b></font></center>\n",
    "    \n",
    "<p><center><font size=\"4\">A numpy array of shape (n,1) is of different data type than a numpy array of shape (n,)</font></center></p>\n",
    "       \n",
    "</div>"
   ]
  },
  {
   "cell_type": "code",
   "execution_count": 10,
   "id": "ba989c3b",
   "metadata": {},
   "outputs": [
    {
     "data": {
      "text/plain": [
       "(5,)"
      ]
     },
     "execution_count": 10,
     "metadata": {},
     "output_type": "execute_result"
    }
   ],
   "source": [
    "# Note! Array of shape (n,1) is not equal to the array of shape (n,)\n",
    "# Use .shape attribute to check the array's dimensions\n",
    "# Use .reshape() function to get the array with desired dimensions (-1 means unknown value to be calculated from the rest)\n",
    "\n",
    "myarray = np.array([1,2,3,4,5])\n",
    "myarray.shape"
   ]
  },
  {
   "cell_type": "code",
   "execution_count": 15,
   "id": "dd03c9fa",
   "metadata": {},
   "outputs": [
    {
     "data": {
      "text/plain": [
       "(5, 1)"
      ]
     },
     "execution_count": 15,
     "metadata": {},
     "output_type": "execute_result"
    }
   ],
   "source": [
    "myarray = np.zeros((5,1))\n",
    "myarray.shape"
   ]
  },
  {
   "cell_type": "code",
   "execution_count": 16,
   "id": "8d8d7129",
   "metadata": {},
   "outputs": [
    {
     "data": {
      "text/plain": [
       "(1, 5)"
      ]
     },
     "execution_count": 16,
     "metadata": {},
     "output_type": "execute_result"
    }
   ],
   "source": [
    "myarray = np.zeros((1,5))\n",
    "myarray.shape"
   ]
  },
  {
   "cell_type": "code",
   "execution_count": 18,
   "id": "8d2e8858",
   "metadata": {},
   "outputs": [
    {
     "name": "stdout",
     "output_type": "stream",
     "text": [
      "(10,)\n"
     ]
    },
    {
     "data": {
      "text/plain": [
       "(10, 1)"
      ]
     },
     "execution_count": 18,
     "metadata": {},
     "output_type": "execute_result"
    }
   ],
   "source": [
    "myarray1 = np.array(range(10))\n",
    "print(myarray1.shape)\n",
    "\n",
    "myarray2 = np.array(range(10)).reshape(-1,1)\n",
    "\n",
    "myarray2.shape\n"
   ]
  },
  {
   "cell_type": "code",
   "execution_count": 41,
   "id": "057bbd2f",
   "metadata": {},
   "outputs": [
    {
     "name": "stdout",
     "output_type": "stream",
     "text": [
      "[10  9  8  7  6  5  4  3  2  1]\n",
      "First element of the array: 10\n",
      "\n",
      "[[1 2 3]\n",
      " [4 5 6]]\n",
      "2nd row, 3rd column element of the array: 6\n",
      "\n",
      "[[1 2 3]\n",
      " [4 5 6]]\n",
      "Values >2: [3 4 5 6]\n",
      "\n"
     ]
    }
   ],
   "source": [
    "# Access element of the array by index\n",
    "# Note! Indexing starts with 0\n",
    "\n",
    "# 1D array\n",
    "myarray = np.arange(10,0,-1)\n",
    "print(myarray)\n",
    "print(\"First element of the array: {}\\n\".format(myarray[0]))\n",
    "\n",
    "# 2D array\n",
    "myarray = np.array([[1,2,3],[4,5,6]])\n",
    "print(myarray)\n",
    "print(\"2nd row, 3rd column element of the array: {}\\n\".format(myarray[1,2]))\n",
    "\n",
    "# Conditional indexing - print values of the array larger than 2\n",
    "myarray = np.array([[1,2,3],[4,5,6]])\n",
    "print(myarray)\n",
    "print(\"Values >2: {}\\n\".format(myarray[myarray>2]))\n"
   ]
  },
  {
   "cell_type": "markdown",
   "id": "d3ddcf62",
   "metadata": {},
   "source": [
    "**<center><font size=\"4\">Slicing NumPy Arrays</font></center>**"
   ]
  },
  {
   "cell_type": "markdown",
   "id": "aaf09282",
   "metadata": {},
   "source": [
    "<div class=\" alert alert-danger\"> \n",
    "    \n",
    "<center><font size=\"4\"><b>Caution!</b></font></center>\n",
    "    \n",
    "\n",
    "<p><center><font size=\"4\">Modifying values in an array slice will modify the original array. In fact slicing creates a view to the original array.</font></center></p>\n",
    "    \n",
    "</div>"
   ]
  },
  {
   "cell_type": "code",
   "execution_count": 30,
   "id": "107a0857",
   "metadata": {},
   "outputs": [
    {
     "name": "stdout",
     "output_type": "stream",
     "text": [
      "\n",
      " [[ 1  2  3  4  5]\n",
      " [ 6  7  8  9 10]\n",
      " [11 12 13 14 15]\n",
      " [16 17 18 19 20]]    array shape is  (4, 5)\n",
      "\n",
      "Sliced array:\n",
      " [[2 3]\n",
      " [7 8]]\n"
     ]
    }
   ],
   "source": [
    "# Slicing numpy array\n",
    "# create numpy array with shape=(4,5)\n",
    "myarray = np.array([[1,2,3,4,5], [6,7,8,9,10], [11,12,13,14,15], [16,17,18,19,20]])\n",
    "\n",
    "# print the values of the array\n",
    "print('\\n',myarray, \"   array shape is \", myarray.shape)\n",
    "# print the values of the array located at the rows 0,1 and columns 1,2\n",
    "print(\"\\nSliced array:\\n\", myarray[:2,1:3])\n"
   ]
  },
  {
   "cell_type": "code",
   "execution_count": 31,
   "id": "988918de",
   "metadata": {},
   "outputs": [
    {
     "name": "stdout",
     "output_type": "stream",
     "text": [
      "\n",
      "Sliced array:\n",
      " [1 2 3 4 5]\n",
      "\n",
      "Sliced array:\n",
      " [[ 4  5]\n",
      " [ 9 10]\n",
      " [14 15]\n",
      " [19 20]]\n"
     ]
    }
   ],
   "source": [
    "print(\"\\nSliced array:\\n\", myarray[0])\n",
    "print(\"\\nSliced array:\\n\", myarray[:,3:])\n"
   ]
  },
  {
   "cell_type": "markdown",
   "id": "0ec70740",
   "metadata": {},
   "source": [
    "**<center><font size=\"4\">Combining NumPy Arrays (row-wise or column-wise)</font></center>**"
   ]
  },
  {
   "cell_type": "code",
   "execution_count": 32,
   "id": "6addac66",
   "metadata": {},
   "outputs": [
    {
     "name": "stdout",
     "output_type": "stream",
     "text": [
      "[[0. 0. 0. 0. 0.]\n",
      " [0. 0. 0. 0. 0.]\n",
      " [2. 2. 2. 2. 2.]\n",
      " [2. 2. 2. 2. 2.]] \n",
      "\n",
      "[[0. 0. 0. 0. 0. 2. 2. 2. 2. 2.]\n",
      " [0. 0. 0. 0. 0. 2. 2. 2. 2. 2.]]\n"
     ]
    }
   ],
   "source": [
    "# Stack arrays vertically (row wise)\n",
    "myarray = np.zeros((2,5))\n",
    "print(np.vstack([myarray, myarray+2]),'\\n')\n",
    "\n",
    "# Stack arrays horizontally (column wise)\n",
    "myarray = np.zeros((2,5))\n",
    "print(np.hstack([myarray, myarray+2]))\n"
   ]
  },
  {
   "cell_type": "markdown",
   "id": "74f58bad",
   "metadata": {},
   "source": [
    "**<center><font size=\"4\">Viewing and Copying NumPy Arrays</font></center>**\n",
    "\n",
    "Consider a numpy array `a` of shape (5,1). Assume you create a slice `b` which consists of the first two elements of `a` via `b=a[0:1]`. It is then important to be aware that the variable `b` is merely a pointer (or reference) to the first two entries of `a`. Thus, when you modify the slice by `b[0] = 10`, you will simultaneously modify the first entry of `a`. If you want the slice to become a new object you need to copy the slice using the function `copy()`."
   ]
  },
  {
   "cell_type": "code",
   "execution_count": 35,
   "id": "62df6d10",
   "metadata": {},
   "outputs": [
    {
     "name": "stdout",
     "output_type": "stream",
     "text": [
      "Original array:  [0 1 2 3 4 5 6 7 8 9]\n",
      "\n",
      "Slice of the array:  [5 6 7 8 9]\n",
      "\n",
      "Modified slice of the array:  [0 0 0 0 0]\n",
      "\n",
      "Original array:  [0 1 2 3 4 0 0 0 0 0]\n"
     ]
    }
   ],
   "source": [
    "# Slice view, creates view of the array and any modification of it will update that array.\n",
    "\n",
    "# create the array \n",
    "myarray = np.arange(10)\n",
    "# print values of the original array\n",
    "print(\"Original array: \", myarray)\n",
    "\n",
    "# assign the slice (view of the array)to a new variable 'myslice'\n",
    "myslice = myarray[5:10]\n",
    "# print values of variable 'myslice'\n",
    "print(\"\\nSlice of the array: \", myslice)\n",
    "\n",
    "# modify variable 'myslice'\n",
    "myslice[:] = 0\n",
    "\n",
    "# print values of the original array and modified variable 'myslice'\n",
    "print(\"\\nModified slice of the array: \", myslice)\n",
    "print(\"\\nOriginal array: \", myarray)\n"
   ]
  },
  {
   "cell_type": "code",
   "execution_count": 36,
   "id": "6ccb1b0c",
   "metadata": {},
   "outputs": [
    {
     "name": "stdout",
     "output_type": "stream",
     "text": [
      "Original array:  [0 1 2 3 4 5 6 7 8 9]\n",
      "\n",
      "Copy of the array:  [5 6 7 8 9]\n",
      "\n",
      "Modified copy of the array:  [0 0 0 0 0]\n",
      "\n",
      "Original array:  [0 1 2 3 4 5 6 7 8 9]\n"
     ]
    }
   ],
   "source": [
    "# Copying array, creates a different object, original array is not modified.\n",
    "\n",
    "# create the array \n",
    "myarray = np.arange(10)\n",
    "# print values of the original array\n",
    "print(\"Original array: \", myarray)\n",
    "\n",
    "# assign the slice (copy of the array) to a new variable 'myslice'\n",
    "myslice = np.copy(myarray[5:10])\n",
    "# print values of variable 'myslice'\n",
    "print(\"\\nCopy of the array: \", myslice)\n",
    "\n",
    "# modify variable 'myslice'\n",
    "myslice[:] = 0\n",
    "\n",
    "# print values of the original array and modified variable 'myslice'\n",
    "print(\"\\nModified copy of the array: \", myslice)\n",
    "print(\"\\nOriginal array: \", myarray)\n"
   ]
  },
  {
   "cell_type": "markdown",
   "id": "34f3cbd6",
   "metadata": {},
   "source": [
    "**You can find further reading about view and copy of NumPy Arrays here:**\n",
    "\n",
    "https://scipy-cookbook.readthedocs.io/items/ViewsVsCopies.html"
   ]
  },
  {
   "cell_type": "markdown",
   "id": "e6a88520",
   "metadata": {},
   "source": [
    "**<center><font size=\"4\">Operations on NumPy Arrays</font></center>**"
   ]
  },
  {
   "cell_type": "code",
   "execution_count": 20,
   "id": "28e775da",
   "metadata": {},
   "outputs": [
    {
     "data": {
      "text/plain": [
       "(array([0, 1, 2, 3, 4, 5, 6, 7, 8, 9]),\n",
       " array([20, 21, 22, 23, 24, 25, 26, 27, 28, 29]))"
      ]
     },
     "execution_count": 20,
     "metadata": {},
     "output_type": "execute_result"
    }
   ],
   "source": [
    "# create two numpy arrays\n",
    "x = np.arange(10)\n",
    "y = np.arange(20,30)\n",
    "x, y\n"
   ]
  },
  {
   "cell_type": "code",
   "execution_count": 46,
   "id": "0644c32d",
   "metadata": {},
   "outputs": [
    {
     "name": "stdout",
     "output_type": "stream",
     "text": [
      "[20 22 24 26 28 30 32 34 36 38]\n",
      "[-20 -20 -20 -20 -20 -20 -20 -20 -20 -20]\n"
     ]
    }
   ],
   "source": [
    "# elementwise addition and substraction\n",
    "\n",
    "print(x + y)\n",
    "print(x - y)\n"
   ]
  },
  {
   "cell_type": "code",
   "execution_count": 47,
   "id": "6b9aae27",
   "metadata": {},
   "outputs": [
    {
     "name": "stdout",
     "output_type": "stream",
     "text": [
      "[  0  21  44  69  96 125 156 189 224 261]\n",
      "[0.         0.04761905 0.09090909 0.13043478 0.16666667 0.2\n",
      " 0.23076923 0.25925926 0.28571429 0.31034483]\n"
     ]
    }
   ],
   "source": [
    "# elementwise multiplication and division\n",
    "\n",
    "print(x * y)\n",
    "print(x / y)\n"
   ]
  },
  {
   "cell_type": "code",
   "execution_count": 48,
   "id": "32429ed3",
   "metadata": {},
   "outputs": [
    {
     "name": "stdout",
     "output_type": "stream",
     "text": [
      "[ 0  1  4  9 16 25 36 49 64 81]\n"
     ]
    }
   ],
   "source": [
    "# elementwise power\n",
    "\n",
    "print(x**2)\n"
   ]
  },
  {
   "cell_type": "code",
   "execution_count": 49,
   "id": "521d3ad4",
   "metadata": {},
   "outputs": [
    {
     "name": "stdout",
     "output_type": "stream",
     "text": [
      "[10  9  8  7  6  5  4  3  2  1]\n",
      "\n",
      "Sum of the array:  55\n",
      "\n",
      "Maximum and minimun values: 10, 1 \n",
      "Indices of maximum and minimum values: 0, 9\n"
     ]
    }
   ],
   "source": [
    "# create numpy array\n",
    "x = np.arange(10,0,-1)\n",
    "\n",
    "# useful numpy array functions:\n",
    "# sum of elements\n",
    "x_sum = x.sum()\n",
    "\n",
    "# maximum and minimum values\n",
    "x_max = x.max()\n",
    "x_min = x.min()\n",
    "\n",
    "# indices of maximum and minimum values\n",
    "x_indmax = x.argmax()\n",
    "x_indmin = x.argmin()\n",
    "\n",
    "print(x)\n",
    "print(\"\\nSum of the array: \", x_sum) \n",
    "print(\"\\nMaximum and minimun values: {}, {} \\nIndices of maximum and minimum values: {}, {}\".format(\n",
    "      x_max, x_min, x_indmax, x_indmin))\n"
   ]
  },
  {
   "cell_type": "markdown",
   "id": "9e80a076",
   "metadata": {},
   "source": [
    "**<center><font size=\"4\">Dot Products of Numpy Arrays</font></center>**\n",
    "\n",
    "The [dot product](https://en.wikipedia.org/wiki/Dot_product) between two vectors, i.e. one-dimensional numpy arrays, of the same length is defined as\n",
    "\\begin{equation}\n",
    "\\big(\\mathbf{a}_{1},\\mathbf{a}_{2},\\ldots,\\mathbf{a}_{m}\\big)  \\cdot \\begin{pmatrix} \\mathbf{b}_{1} \\\\ \\mathbf{b}_{2} \\\\ \\vdots \\\\ \\mathbf{b}_{m} \\end{pmatrix} = \\mathbf{a}_{1}\\mathbf{b}_{1}+\\mathbf{a}_{2}\\mathbf{b}_{2}+\\ldots+\\mathbf{a}_{m}\\mathbf{b}_{m}\n",
    "\\end{equation} \n",
    "Geometrically, it is the product of the Euclidean distances of the two vectors and the cosine of the angle between them. \n",
    "\n",
    "The dot product is also defined for numpy arrays with more than one dimension (see [numpy documentation](https://numpy.org/doc/stable/reference/generated/numpy.dot.html?highlight=dot#numpy.dot) for more info). \n",
    "\n"
   ]
  },
  {
   "cell_type": "markdown",
   "id": "462885e1",
   "metadata": {},
   "source": [
    "**<center><font size=\"4\">Dot Products of Numpy Arrays</font></center>**\n",
    "\n",
    "The [dot product](https://en.wikipedia.org/wiki/Dot_product) between two vectors is a scalar value that is the sum of the products of the corresponding elements in the two vectors:\n",
    "\n",
    "$a = \\begin{pmatrix} \\mathbf{a}_{1} \\\\ \\mathbf{a}_{2} \\\\ \\vdots \\\\ \\mathbf{a}_{n} \\end{pmatrix}, \\quad b = \\begin{pmatrix} \\mathbf{b}_{1} \\\\ \\mathbf{b}_{2} \\\\ \\vdots \\\\ \\mathbf{b}_{n} \\end{pmatrix}$\n",
    "\n",
    "is calculated as:\n",
    "\n",
    "$a \\cdot b = a^T b$\n",
    "\n",
    "$= a_1 b_1 + a_2 b_2 + \\ldots + a_n b_n = \\sum_{i=1}^n a_i b_i$\n",
    "\n",
    "$= \\lVert a \\lVert \\lVert b \\lVert \\cos(\\theta)$\n",
    "\n",
    "Geometrically, dot product is the product of the lengths of the two vectors and the cosine of the angle between them ($\\theta$). \n",
    "\n",
    "\n",
    "Dot product can be viewed as a measure of how much two vectors point to the same directions.\n",
    "\n",
    "\n",
    "The dot product is also defined for numpy arrays with more than one dimension (see [numpy documentation](https://numpy.org/doc/stable/reference/generated/numpy.dot.html?highlight=dot#numpy.dot) for more info). \n",
    "\n"
   ]
  },
  {
   "cell_type": "code",
   "execution_count": 50,
   "id": "a54e31c1",
   "metadata": {},
   "outputs": [
    {
     "name": "stdout",
     "output_type": "stream",
     "text": [
      "[0 1 2] [3 4 5]\n"
     ]
    },
    {
     "data": {
      "text/plain": [
       "14"
      ]
     },
     "execution_count": 50,
     "metadata": {},
     "output_type": "execute_result"
    }
   ],
   "source": [
    "# create two numpy arrays\n",
    "a = np.arange(3)\n",
    "b = np.arange(3,6)\n",
    "\n",
    "# display the values of two arrays\n",
    "print(a,b)\n",
    "# dot product 0*3+1*4+2*5\n",
    "a.dot(b) \n"
   ]
  },
  {
   "cell_type": "markdown",
   "id": "68f85c5e",
   "metadata": {},
   "source": [
    "**<center><font size=\"4\">Broadcasting</font></center>**"
   ]
  },
  {
   "cell_type": "markdown",
   "id": "51b6a8b1",
   "metadata": {},
   "source": [
    "Sometimes we need to add the same constant value to all entries of a numpy array. Consider a numpy array `a` of arbitrary size and a numpy array `b` containing a single number. We would like to be able to write `a+b` to get a numpy array whose entries are given by adding the value in `b` to all entries in `a`. The concept of \"broadcasting\" for numpy arrays makes this possible! \n",
    "\n",
    "Find more information here:\n",
    "\n",
    "https://docs.scipy.org/doc/numpy/user/basics.broadcasting.html"
   ]
  },
  {
   "cell_type": "code",
   "execution_count": 51,
   "id": "78dbaaad",
   "metadata": {},
   "outputs": [
    {
     "name": "stdout",
     "output_type": "stream",
     "text": [
      "x =  [[ 1  2  3]\n",
      " [ 4  5  6]\n",
      " [ 7  8  9]\n",
      " [10 11 12]]\n",
      "\n",
      " y =  [[1. 1. 1.]]\n",
      "\n",
      "\n",
      " x+y =  [[ 2.  3.  4.]\n",
      " [ 5.  6.  7.]\n",
      " [ 8.  9. 10.]\n",
      " [11. 12. 13.]]\n"
     ]
    }
   ],
   "source": [
    "# It is possible to do operations with different size arrays - broadcasting\n",
    "# create two numpy arrays\n",
    "x = np.array([[1,2,3], [4,5,6], [7,8,9], [10,11,12]])\n",
    "y = np.ones((1,3))\n",
    "\n",
    "# display the values of two arrays\n",
    "print(\"x = \", x)\n",
    "print(\"\\n\", \"y = \", y)\n",
    "\n",
    "# print the result of arrays addition\n",
    "print(\"\\n\\n x+y = \", x+y)\n"
   ]
  },
  {
   "cell_type": "markdown",
   "id": "f2b66db6",
   "metadata": {},
   "source": [
    "<a id='dest_matrices'></a>"
   ]
  },
  {
   "cell_type": "markdown",
   "id": "8b9cb5c4",
   "metadata": {},
   "source": [
    "[TOC](#dest_TOC)\n",
    "<a id='Q6'></a>\n",
    "<div class=\" alert alert-info\"> \n",
    "    \n",
    "# <center>Representing Matrices using numpy Arrays</center>\n",
    "    \n",
    "</div>"
   ]
  },
  {
   "cell_type": "markdown",
   "id": "db44de22",
   "metadata": {},
   "source": [
    "In many applications it is natural to represent data as a matrix, which is the special case of a two dimensional numpy array. Consider a grayscale image which we can represent by a matrix whose entries represent grayscale values of individual pixels. \n",
    "\n",
    "https://en.wikipedia.org/wiki/Matrix_(mathematics)\n",
    "\n",
    "We will disccuss how to represent our data as a matrix for further analyses in the next round. \n",
    "\n",
    "\n",
    "\n"
   ]
  },
  {
   "cell_type": "markdown",
   "id": "62bc2746",
   "metadata": {},
   "source": [
    "For now we will use numpy arrays to create matrix $\\mathbf{X}$ with $m$ rows and $n$ columns \n",
    "\\\n",
    "\\\n",
    "\\begin{equation}\n",
    "\\mathbf{X}  = \\begin{pmatrix} X_{1,1} & X_{1,2} & \\ldots & X_{1,n} \\\\ \n",
    "X_{2,1} & X_{2,2}& \\ldots & X_{2,n} \\\\ \n",
    "\\vdots & \\vdots & \\vdots & \\vdots \\\\ \n",
    "X_{m,1} & X_{m,2} & \\ldots & X_{m,n} \\end{pmatrix}\\in \\mathbb{R}^{m \\times n}\n",
    "\\end{equation} \n",
    "and matrix $\\mathbf{Y}$ with $n$ rows and $m$ columns  \n",
    "\\\n",
    "\\\n",
    "\\begin{equation}\n",
    "\\mathbf{Y}  = \\begin{pmatrix} Y_{1,1} & Y_{1,2} & \\ldots & Y_{1,m} \\\\ \n",
    "Y_{2,1} & Y_{2,2}& \\ldots & Y_{2,m} \\\\ \n",
    "\\vdots & \\vdots & \\vdots & \\vdots \\\\ \n",
    "Y_{n,1} & Y_{n,2} & \\ldots & Y_{n,m} \\end{pmatrix}\\in \\mathbb{R}^{n \\times m}\n",
    "\\end{equation}  \n",
    "\n",
    "\n",
    "and perform matrix multiplication to compute the product $\\mathbf{X}\\mathbf{Y}$. "
   ]
  },
  {
   "cell_type": "markdown",
   "id": "a58328fe",
   "metadata": {},
   "source": [
    "[Matrix multiplication](https://en.wikipedia.org/wiki/Matrix_multiplication) is a binary operation that produces a matrix from two matrices. For matrix multiplication, the number of columns in the first matrix must be equal to the number of rows in the second matrix. The result matrix, known as the matrix product, has the number of rows of the first and the number of columns of the second matrix.\n",
    "\n",
    "In Python, matrix multiplication can be performed using NumPy with the `@` operator, which is equivalent to the function `numpy.matmul()`, or with the `numpy.dot()` function."
   ]
  },
  {
   "cell_type": "code",
   "execution_count": 55,
   "id": "d171bc3c",
   "metadata": {},
   "outputs": [
    {
     "name": "stdout",
     "output_type": "stream",
     "text": [
      "the matrix X has 4 rows and 3 columns \n",
      "\n",
      "the matrix Y has 3 rows and 4 columns \n",
      "\n",
      "the product XY=X@Y is XY = \n",
      " [[ 20  23  26  29]\n",
      " [ 56  68  80  92]\n",
      " [ 92 113 134 155]\n",
      " [128 158 188 218]]\n",
      "\n",
      " the matrix XY has 4 rows and 4 columns \n",
      "\n"
     ]
    }
   ],
   "source": [
    "# create an array of length m*n\n",
    "m = 4\n",
    "n = 3\n",
    "array = np.arange(m*n)\n",
    "\n",
    "# create matrix X represented as a numpy array of shape (m,n)\n",
    "X = array.reshape(m,n)\n",
    "dimension=np.shape(X)      # determine dimensions of matrix X\n",
    "rows = dimension[0]        # first element of \"dimension\" is the number of rows \n",
    "cols = dimension[1]        # second element of \"dimension\" is the number of cols\n",
    "print(\"the matrix X has\", rows, \"rows and\", cols, \"columns \\n\") \n",
    "\n",
    "# create matrix Y represented as a numpy array of shape (n,m)\n",
    "Y = array.reshape(n,m)\n",
    "dimension=np.shape(Y)      # determine dimensions of matrix Y\n",
    "rows = dimension[0]        # first element of \"dimension\" is the number of rows \n",
    "cols = dimension[1]        # second element of \"dimension\" is the number of cols\n",
    "print(\"the matrix Y has\", rows, \"rows and\", cols, \"columns \\n\") \n",
    "\n",
    "# matrix multiplication of X and Y\n",
    "XY = X @ Y\n",
    "# print the result of matrix multiplication \n",
    "print(\"the product XY=X@Y is XY = \\n\", XY) \n",
    "# print the shape of the XY matrix\n",
    "print(\"\\n the matrix XY has\", XY.shape[0], \"rows and\", XY.shape[1], \"columns \\n\")\n"
   ]
  },
  {
   "cell_type": "markdown",
   "id": "711a7fdd",
   "metadata": {},
   "source": [
    "Note, that order of matrix multiplication is important and that A*B is elemet-wise multiplication, and not the matrix multiplication."
   ]
  },
  {
   "cell_type": "code",
   "execution_count": 57,
   "id": "58a02303",
   "metadata": {},
   "outputs": [
    {
     "name": "stdout",
     "output_type": "stream",
     "text": [
      "\n",
      "Matrix multiplication X@Y:\n",
      "\n",
      " [[ 20  23  26  29]\n",
      " [ 56  68  80  92]\n",
      " [ 92 113 134 155]\n",
      " [128 158 188 218]]\n",
      "\n",
      "Matrix multiplication Y@X:\n",
      "\n",
      " [[ 42  48  54]\n",
      " [114 136 158]\n",
      " [186 224 262]]\n",
      "\n",
      "Matrix Z:\n",
      "\n",
      " [[0 1 2]\n",
      " [3 4 5]\n",
      " [6 7 8]]\n",
      "\n",
      "Square - element-wise Z*Z:\n",
      "\n",
      " [[ 0  1  4]\n",
      " [ 9 16 25]\n",
      " [36 49 64]]\n",
      "\n",
      "Square - matrix multiplication Z@Z:\n",
      "\n",
      " [[ 15  18  21]\n",
      " [ 42  54  66]\n",
      " [ 69  90 111]]\n"
     ]
    }
   ],
   "source": [
    "# For matrix multiplication A.dot(B) or A@B can be used\n",
    "print(\"\\nMatrix multiplication X@Y:\\n\\n\", X @ Y)\n",
    "\n",
    "# Order is important in matrix multiplication - A@B != B@A\n",
    "print(\"\\nMatrix multiplication Y@X:\\n\\n\", Y @ X)\n",
    "\n",
    "# Square of the matrix element-wise\n",
    "Z = np.arange(9).reshape(3,3)\n",
    "print(\"\\nMatrix Z:\\n\\n\", Z)\n",
    "print(\"\\nSquare - element-wise Z*Z:\\n\\n\", Z**2)\n",
    "\n",
    "# Square of the matrix by matrix multiplication\n",
    "print(\"\\nSquare - matrix multiplication Z@Z:\\n\\n\", Z @ Z)\n"
   ]
  },
  {
   "cell_type": "markdown",
   "id": "6864b9ca",
   "metadata": {},
   "source": [
    "<a id='dest_userdefined_functions'></a>"
   ]
  },
  {
   "cell_type": "markdown",
   "id": "ac978773",
   "metadata": {},
   "source": [
    "[TOC](#dest_TOC)\n",
    "<a id='Q8'></a>\n",
    "<div class=\" alert alert-info\"> \n",
    "    \n",
    "# <center>User-Defined Functions</center>\n",
    "    \n",
    "</div>"
   ]
  },
  {
   "cell_type": "markdown",
   "id": "542b9947",
   "metadata": {},
   "source": [
    "Like in other programming languages, users can define their own functions in Python. Below are three examples that present the basic syntax of function definitions.\n",
    "\n",
    "The code snippet below shows how to define a function `multiply` which reads in two arguments `x`and `y`. This function computes the product of the arguments and returns it. "
   ]
  },
  {
   "cell_type": "code",
   "execution_count": 21,
   "id": "0f266cf2",
   "metadata": {},
   "outputs": [
    {
     "name": "stdout",
     "output_type": "stream",
     "text": [
      "6\n",
      "<class 'int'>\n"
     ]
    }
   ],
   "source": [
    "# define a function\n",
    "def multiply(x,y):\n",
    "    '''   \n",
    "    this function takes input x and y\n",
    "    and returns multiplication of x and y\n",
    "   \n",
    "    '''\n",
    "    return x*y\n",
    "\n",
    "# apply the function \n",
    "y = multiply(2,3)\n",
    "\n",
    "# print the result \n",
    "print(y)\n",
    "# print the data type of the result\n",
    "print(type(y))\n"
   ]
  },
  {
   "cell_type": "markdown",
   "id": "dc702609",
   "metadata": {},
   "source": [
    "The function `index_value()` is an example of a function containing for loop and **NOT** returning any output"
   ]
  },
  {
   "cell_type": "code",
   "execution_count": 93,
   "id": "16b395ce",
   "metadata": {},
   "outputs": [
    {
     "name": "stdout",
     "output_type": "stream",
     "text": [
      "index=0 and value=0\n",
      "index=1 and value=1\n",
      "index=2 and value=2\n",
      "index=3 and value=3\n",
      "index=4 and value=4\n",
      "index=5 and value=5\n",
      "index=6 and value=6\n",
      "index=7 and value=7\n",
      "index=8 and value=8\n",
      "index=9 and value=9\n",
      "<class 'NoneType'>\n"
     ]
    }
   ],
   "source": [
    "import numpy as np\n",
    "\n",
    "# define a function\n",
    "def index_value(x):\n",
    "    '''\n",
    "    this function takes as input number, makes an np.array and \n",
    "    prints out value and index of each array element\n",
    "    \n",
    "    Note! In this example function does not return any output, \n",
    "    but only prints out the index and value\n",
    "    '''\n",
    "    x_array = np.arange(x)\n",
    "    for i in range(x):\n",
    "        print(\"index={} and value={}\".format(i, x_array[i]))\n",
    "\n",
    "# apply the function \n",
    "y = index_value(10)\n",
    "\n",
    "# print the data type of the result\n",
    "# you can see that variable 'y' is a NoneType, because the function does not return any output\n",
    "print(type(y))\n"
   ]
  },
  {
   "cell_type": "markdown",
   "id": "2c407fef",
   "metadata": {},
   "source": [
    "Python's `map()` function is a built-in function that allows you to process and transform all the items in an iterable object without using an explicit for loop, a technique commonly known as mapping."
   ]
  },
  {
   "cell_type": "code",
   "execution_count": 94,
   "id": "c7c89af6",
   "metadata": {},
   "outputs": [
    {
     "data": {
      "text/plain": [
       "([0, 1, 2, 3, 4, 5, 6, 7, 8, 9], [0, 1, 4, 9, 16, 25, 36, 49, 64, 81])"
      ]
     },
     "execution_count": 94,
     "metadata": {},
     "output_type": "execute_result"
    }
   ],
   "source": [
    "# Apply function to iterable with map(function, iterable)\n",
    "\n",
    "# define a function\n",
    "def square(x):\n",
    "    return x**2\n",
    "\n",
    "# create a numpy array\n",
    "x = range(10)\n",
    "# map the function to all elements of the array 'x'\n",
    "y = map(square,x)\n",
    "\n",
    "# display array 'x' and array 'y'\n",
    "list(x) , list(y)\n"
   ]
  },
  {
   "cell_type": "markdown",
   "id": "ee1574d8",
   "metadata": {},
   "source": [
    "<a id='dest_execution_time'></a>"
   ]
  },
  {
   "cell_type": "markdown",
   "id": "9aeca02b",
   "metadata": {},
   "source": [
    "[TOC](#dest_TOC)\n",
    "<a id='Q9'></a>\n",
    "<div class=\" alert alert-info\"> \n",
    "    \n",
    "# <center>Measuring Execution Time</center>\n",
    "    \n",
    "</div>"
   ]
  },
  {
   "cell_type": "markdown",
   "id": "d645a1c1",
   "metadata": {},
   "source": [
    "Sometimes it is useful to know how much time your code takes to execute. This is especially useful in applications involving massive datasets (\"Big Data\"). The execution time of your ML methods often translate directly into monetary costs. Indeed, nowadays you can rent computational infrastructure at an hourly rate). Thus, the faster your ML method runs the less you have to pay! \n",
    "\n",
    "Below we will go through a simple example on how to measure the execution time of a code block. \n",
    "Note the difference in execution time for creating a list with for loop and numpy array operation. \n",
    "\n",
    "(Side note: There exist other methods dedicated to measuring execution time that you can usually use them too.)"
   ]
  },
  {
   "cell_type": "code",
   "execution_count": 96,
   "id": "03eadb0b",
   "metadata": {},
   "outputs": [
    {
     "name": "stdout",
     "output_type": "stream",
     "text": [
      "--- 162.97292709350586 milliseconds ---\n"
     ]
    }
   ],
   "source": [
    "import time # import standard library time\n",
    "\n",
    "# lets measure the time it takes us to create a list with 1000000 values and for loop\n",
    "start_time = time.time() # save starting time to variable \"start_time\". Time is saved in seconds.\n",
    "\n",
    "x = [] # initialize x list\n",
    "for i in range(1000000): # loop 1000000 times\n",
    "    x.append(i+1)     # Add one element to the list  \n",
    "                      # and increase the value of the element by one with each iteration\n",
    "period = (time.time() - start_time)*1000 # Print the difference in time, multiply by 1000 to get time in milliseconds.\n",
    "\n",
    "print(\"--- %s milliseconds ---\" % (period)) # print the variable \"period\""
   ]
  },
  {
   "cell_type": "code",
   "execution_count": 97,
   "id": "95dcee4b",
   "metadata": {},
   "outputs": [
    {
     "name": "stdout",
     "output_type": "stream",
     "text": [
      "--- 37.43624687194824 milliseconds ---\n"
     ]
    }
   ],
   "source": [
    "import numpy as np\n",
    "import time # import standard library time\n",
    "\n",
    "# lets measure the time it takes us to create the same values with numpy array\n",
    "start_time = time.time() # save starting time to variable \"start_time\". Time is saved in seconds.\n",
    "\n",
    "x = np.arange(1000000) # Initialize np.array\n",
    "x +=1                  # Increase the value of all elements by one\n",
    "\n",
    "period = (time.time() - start_time)*1000 # Print the difference in time, multiply by 1000 to get time in milliseconds.\n",
    "\n",
    "print(\"--- %s milliseconds ---\" % (period)) # print the variable \"period\"\n"
   ]
  },
  {
   "cell_type": "markdown",
   "id": "2f6ba3dc",
   "metadata": {},
   "source": [
    "<a id='dest_vectorization'></a>"
   ]
  },
  {
   "cell_type": "markdown",
   "id": "159b2697",
   "metadata": {},
   "source": [
    "[TOC](#dest_TOC)\n",
    "<a id='Q2'></a>\n",
    "<div class=\" alert alert-info\">  \n",
    "    \n",
    "# <center>Vectorization</center>\n",
    "</div>"
   ]
  },
  {
   "cell_type": "markdown",
   "id": "18be394d",
   "metadata": {},
   "source": [
    "**Vectorization** is a programing style for numerical computation, in which we pack all arguments into vectors/matrices/tensors and cast all numerical operations as matrix operations. By doing so, we try to get rid of loops and array indexing so as to deliver clean and effecient programs.\n",
    "\n",
    "**Advantages**: \n",
    "1.   vectorized codes are more concise and easier to read. \n",
    "2.   vectorized codes run much faster in high-level languages, such as Python/Numpy, Matlab and so on. \n",
    "3.   vectorized codes can easily utilize parallel units  in powerful computing hardwares (such as multi-core CPUs or GPUs) to yield further speed-up.\n",
    "\n",
    "\n",
    "The key idea in vectorization-based programming is to use linear algebra techniques to pack the data into vectors / matrices /tensors. "
   ]
  },
  {
   "cell_type": "markdown",
   "id": "3eeb9014",
   "metadata": {},
   "source": [
    "**<center><font size=\"4\">An Example of vectorization vs using loops</font></center>**"
   ]
  },
  {
   "cell_type": "markdown",
   "id": "60248fe9",
   "metadata": {},
   "source": [
    "\n",
    "\n",
    "Write a function to compute the sample covariance matrix from a set of $N$ data samples with $d$ features:\n",
    "$$\\mathcal{D} = \\big\\{ \\mathbf{x}_1, \\mathbf{x}_2, \\cdots, \\mathbf{x}_N \\big\\}, \\quad \\text{where }\n",
    "\\mathbf{x}_i \\in \\mathbb{R}^{1\\times d}\n",
    "$$\n",
    "as\n",
    "$$\n",
    "\\mathbf{S} =    \\frac{1}{N} \\,  \\sum_{i=1}^N \\, (\\mathbf{x}_i - \\bar{\\mathbf{x}} )^\\intercal \\, (\\mathbf{x}_i - \\bar{\\mathbf{x}} )\n",
    "$$\n",
    "$$\n",
    "\\mathbf{S} \\in \\mathbb{R}^{d\\times d}\n",
    "$$"
   ]
  },
  {
   "cell_type": "markdown",
   "id": "526e3ad3",
   "metadata": {},
   "source": [
    "**Solution 1 (poor).** regular (but poor) programing using loops "
   ]
  },
  {
   "cell_type": "code",
   "execution_count": 30,
   "id": "67d46ff1",
   "metadata": {},
   "outputs": [],
   "source": [
    "import numpy as np\n",
    "\n",
    "## input: matrix X as N by d, each row is a feature vector of d dimensions\n",
    "def cov_loops(X):\n",
    "    N = X.shape[0]\n",
    "    d = X.shape[1]\n",
    "\n",
    "    # compute the mean\n",
    "    mean = np.zeros((d))\n",
    "    for j in range(d):\n",
    "        for i in range(N):\n",
    "            mean[j] += X[i,j]\n",
    "        mean[j] /= N\n",
    "\n",
    "    # compute the sample covariance matrix\n",
    "    S = np.zeros((d,d))\n",
    "    z = np.zeros((d))\n",
    "    for i in range(N):\n",
    "        for j in range(d):\n",
    "            z[j] = X[i,j] - mean[j]\n",
    "        for m in range(d):\n",
    "            for n in range(d):\n",
    "                S[m,n] += z[m] * z[n]\n",
    "    for m in range(d):\n",
    "        for n in range(d):\n",
    "            S[m,n] /=  N\n",
    "    \n",
    "    return S\n"
   ]
  },
  {
   "cell_type": "markdown",
   "id": "8f2c4026",
   "metadata": {},
   "source": [
    "**Solution 2.** Vectorized codes using *numpy* for CPUs\n",
    "\n",
    "For the above sample convariance example, we calculate the mean of each column by using    \n",
    "$mean = numpy.mean(\\mathbf{X}, axis=0)$\n",
    "\n",
    "where $\\mathbf{X} \\in \\mathbb{R}^{N\\times d} $ is the matrix containing all the data. \n",
    "\n",
    "\n",
    "Then using broadcasting in python, we subtract the means of each column from all the elements i that column in the data maxtrix: \n",
    "$\\mathbf{X}-mean$\n",
    "\n",
    "\n",
    "Then we use the fact that the following identity holds:\n",
    "$$\n",
    "\\sum_{i} \\, \\mathbf{x}_i ^\\intercal \\, \\mathbf{x}_i \n",
    "= \\mathbf{X} ^\\intercal \\mathbf{X} \n",
    "$$\n",
    "\n",
    "Therefore we can use a matrix multiplication to calculate the covriance matrix: \n",
    "$\\mathbf{S} =    \\frac{1}{N} \\,  \\sum_{i=1}^N \\, (\\mathbf{x}_i - \\bar{\\mathbf{x}} )^\\intercal \\, (\\mathbf{x}_i - \\bar{\\mathbf{x}} )\n",
    "= \\frac{1}{N} (\\mathbf{X}-mean) ^\\intercal (\\mathbf{X}-mean)$\n"
   ]
  },
  {
   "cell_type": "code",
   "execution_count": 31,
   "id": "6c222ea0",
   "metadata": {},
   "outputs": [],
   "source": [
    "import numpy as np\n",
    "\n",
    "## input: matrix X as N by d, each row is a feature vector of d dimensions\n",
    "def cov_vec(X):\n",
    "    mean = np.mean(X, axis=0)\n",
    "\n",
    "    return (X-mean).T @ (X-mean) / X.shape[0]\n"
   ]
  },
  {
   "cell_type": "markdown",
   "id": "cabbf94c",
   "metadata": {},
   "source": [
    "The above vectorized codes can be modified for further acceleration for GPUs using some python library such as JAX."
   ]
  },
  {
   "cell_type": "markdown",
   "id": "ad9520f3",
   "metadata": {},
   "source": [
    "ow we run on some random samples, and compare the results and the running speed of the above  implementations."
   ]
  },
  {
   "cell_type": "code",
   "execution_count": 35,
   "id": "406c85d2",
   "metadata": {},
   "outputs": [
    {
     "name": "stdout",
     "output_type": "stream",
     "text": [
      "cov_loops --- 74.290 seconds ---\n",
      "cov_vec --- 0.004 seconds ---\n",
      "781.5569200060572 781.5569200060572\n"
     ]
    }
   ],
   "source": [
    "import numpy as np\n",
    "import time \n",
    "\n",
    "# N=300 samples, whose dimensions are d=784 \n",
    "X = np.random.normal(size=(300,784))\n",
    "\n",
    "start_time_S1 = time.time() # save starting time in a variable. Time is saved in seconds.\n",
    "S1 = cov_loops(X)\n",
    "duration_S1 = (time.time() - start_time_S1)\n",
    "\n",
    "start_time_S2 = time.time() \n",
    "S2 = cov_vec(X)\n",
    "duration_S2 = (time.time() - start_time_S2)\n",
    "\n",
    "\n",
    "print(\"cov_loops --- %.3f seconds ---\" % (duration_S1)) \n",
    "print(\"cov_vec --- %.3f seconds ---\" % (duration_S2)) \n",
    "print(np.trace(S1), np.trace(S2))\n"
   ]
  },
  {
   "cell_type": "markdown",
   "id": "4f53e6f2",
   "metadata": {},
   "source": [
    "<a id='dest_plotting'></a>"
   ]
  },
  {
   "cell_type": "markdown",
   "id": "b5ae5d5d",
   "metadata": {},
   "source": [
    "[TOC](#dest_TOC)\n",
    "<a id='Q7'></a>\n",
    "<div class=\" alert alert-info\"> \n",
    "    \n",
    "# <center>Plotting with Matplotlib</center>\n",
    "    \n",
    "</div>"
   ]
  },
  {
   "cell_type": "markdown",
   "id": "b70539e5",
   "metadata": {},
   "source": [
    "Matplotlib is a library that provides plotting functionality for Python. Good introductory tutorials for Matplotlib can be found at https://matplotlib.org/stable/tutorials/index.html.\n",
    "\n",
    "A useful command for creating a plot in Python is \n",
    "\n",
    "`fig, axes = plt.subplots()`\n",
    "\n",
    "`plt.subplots()` return figure and axes (Axes object or array of Axes objects)"
   ]
  },
  {
   "cell_type": "code",
   "execution_count": 60,
   "id": "88cd19a4",
   "metadata": {},
   "outputs": [
    {
     "data": {
      "image/png": "[encoded data removed]",
      "text/plain": [
       "<Figure size 432x288 with 2 Axes>"
      ]
     },
     "metadata": {
      "needs_background": "light"
     },
     "output_type": "display_data"
    }
   ],
   "source": [
    "# Plotting line and scatter plot\n",
    "\n",
    "# the library \"pyplot\" provides functions for plotting data \n",
    "import matplotlib.pyplot as plt\n",
    "\n",
    "np.random.seed(42)\n",
    "\n",
    "# create numpy arrays (50 values from 10 to 100 spaced uniformely)\n",
    "x1 = np.linspace(10,100,50)\n",
    "y1 = x1**2\n",
    "\n",
    "# generate 100 realizations of a uniform random variable \n",
    "x2 = np.random.rand(100,)\n",
    "y2 = np.random.rand(100,)\n",
    "\n",
    "# create figure and axes objects\n",
    "fig, axes = plt.subplots(1,2)\n",
    "# plot a line in 1st subplot\n",
    "axes[0].plot(x1,y1,c='r')\n",
    "# plot scatter in 2nd subplot\n",
    "axes[1].scatter(x2,y2)\n",
    "\n",
    "# set axes labels for 1st subplot \n",
    "axes[0].set_xlabel(\"x1\")\n",
    "axes[0].set_ylabel(\"y1\")\n",
    "# set axes labels for 2nd subplot \n",
    "axes[1].set_xlabel(\"x2\")\n",
    "axes[1].set_ylabel(\"y2\")\n",
    "# set titles\n",
    "axes[0].set_title('plot 1')\n",
    "axes[1].set_title('plot 2')\n",
    "\n",
    "# adjust subplots so the labels of different axes are not overlapping \n",
    "fig.tight_layout()\n",
    "# display plot\n",
    "plt.show()\n"
   ]
  },
  {
   "cell_type": "code",
   "execution_count": 63,
   "id": "0b8e22a3",
   "metadata": {},
   "outputs": [
    {
     "data": {
      "image/png": "[encoded data removed]",
      "text/plain": [
       "<Figure size 432x288 with 1 Axes>"
      ]
     },
     "metadata": {
      "needs_background": "light"
     },
     "output_type": "display_data"
    }
   ],
   "source": [
    "# Plotting 3D scatter plot\n",
    "\n",
    "# the library \"pyplot\" provides functions for plotting data \n",
    "import matplotlib.pyplot as plt\n",
    "\n",
    "np.random.seed(42)\n",
    "\n",
    "# generate 100 realizations of a uniform random variable \n",
    "x = np.random.rand(100,)\n",
    "y = np.random.rand(100,)\n",
    "z = np.random.rand(100,)\n",
    "\n",
    "# create figure and axes objects\n",
    "fig = plt.figure()\n",
    "# create 3D Axes by passing the projection=\"3d\" keyword to add_subplot\n",
    "axes = fig.add_subplot(111, projection='3d')\n",
    "# plot 3D scatter\n",
    "axes.scatter(x,y,z)\n",
    "\n",
    "# set axes labels \n",
    "axes.set_xlabel(\"x\")\n",
    "axes.set_ylabel(\"y\")\n",
    "axes.set_zlabel(\"z\")\n",
    "\n",
    "# set title\n",
    "axes.set_title('3D scatter plot',fontweight='bold')\n",
    "\n",
    "# display the plot\n",
    "plt.show()\n"
   ]
  },
  {
   "cell_type": "code",
   "execution_count": 64,
   "id": "9464eae7",
   "metadata": {},
   "outputs": [
    {
     "data": {
      "image/png": "[encoded data removed]",
      "text/plain": [
       "<Figure size 432x288 with 1 Axes>"
      ]
     },
     "metadata": {
      "needs_background": "light"
     },
     "output_type": "display_data"
    }
   ],
   "source": [
    "# Plotting 2D plot with meshgrid \n",
    "\n",
    "# create numpy arrays\n",
    "x = np.arange(-5, 5, 1)\n",
    "y = np.arange(-5, 5, 1)\n",
    "\n",
    "# create the grid\n",
    "xx, yy = np.meshgrid(x, y)\n",
    "\n",
    "# plot the grid \n",
    "plt.plot(xx,yy,marker='.', color='k', linestyle='none')\n",
    "\n",
    "# set axes labels \n",
    "plt.xlabel(\"x\")\n",
    "plt.ylabel(\"y\")\n",
    "# set title\n",
    "plt.title('xy grid', fontweight='bold')\n",
    "\n",
    "# display the plot\n",
    "plt.show()\n"
   ]
  },
  {
   "cell_type": "code",
   "execution_count": 67,
   "id": "1f4f9cff",
   "metadata": {},
   "outputs": [
    {
     "name": "stdout",
     "output_type": "stream",
     "text": [
      "X.shape=(1000, 1000), Y.shape=(1000, 1000), Z.shape=(1000, 1000)\n"
     ]
    },
    {
     "data": {
      "image/png": "[encoded data removed]",
      "text/plain": [
       "<Figure size 432x288 with 1 Axes>"
      ]
     },
     "metadata": {
      "needs_background": "light"
     },
     "output_type": "display_data"
    }
   ],
   "source": [
    "# Plotting 3D plot with meshgrid \n",
    "\n",
    "# create numpy arrays\n",
    "x = np.linspace(0,1,1000)\n",
    "y = np.linspace(0,1,1000)\n",
    "\n",
    "# create grid of numbers\n",
    "X, Y = np.meshgrid(x, y)\n",
    "Z = 2*X**2 + 4*Y**2\n",
    "\n",
    "# print shapes of X,Y,Z numpy arrays\n",
    "print(\"X.shape={}, Y.shape={}, Z.shape={}\".format(X.shape, Y.shape, Z.shape))\n",
    "\n",
    "# create figure and axes objects\n",
    "fig = plt.figure()\n",
    "# add a new Axes3D axes to figure:\n",
    "axes = fig.add_subplot(111, projection='3d')\n",
    "# plot 3D surface \n",
    "axes.plot_surface(X, Y, Z, cmap='jet')\n",
    "\n",
    "# set axes labels \n",
    "axes.set_xlabel(\"x\")\n",
    "axes.set_ylabel(\"y\")\n",
    "axes.set_zlabel(\"z\")\n",
    "\n",
    "# set title\n",
    "axes.set_title('Surface plot', fontweight='bold')\n",
    "\n",
    "# display the plot\n",
    "plt.show()\n"
   ]
  },
  {
   "cell_type": "code",
   "execution_count": 91,
   "id": "70c53e65",
   "metadata": {},
   "outputs": [
    {
     "data": {
      "image/png": "[encoded data removed]",
      "text/plain": [
       "<Figure size 720x288 with 2 Axes>"
      ]
     },
     "metadata": {
      "needs_background": "light"
     },
     "output_type": "display_data"
    }
   ],
   "source": [
    "# Plotting with Seaborn\n",
    "\n",
    "# import \"seaborn\" library for plotting\n",
    "import seaborn as sns\n",
    "\n",
    "np.random.seed(42)\n",
    "\n",
    "# generate 100 realizations of a Gaussian random variable \n",
    "x = np.random.randn(100)\n",
    "\n",
    "# create figure and axes objects\n",
    "fig, axes = plt.subplots(1,2,figsize=(10,4))\n",
    "\n",
    "# set the labels for the plots\n",
    "label1 = \"histogram, plot 1\"\n",
    "label2 = \"density estimation, plot 2\"\n",
    "\n",
    "# plot histogram obatined from the realizations stored in x \n",
    "sns.histplot(x, ax=axes[0], kde=False, label=label1)\n",
    "# plot histogram and density estimation \n",
    "sns.histplot(x, ax=axes[1], kde=True, label=label2)\n",
    "# adjust legends \n",
    "axes[0].legend( prop=dict(size=12),loc='upper center', bbox_to_anchor=(2.6, 1.))\n",
    "axes[1].legend( prop=dict(size=12),loc='upper center', bbox_to_anchor=(1.5, 0.85))\n",
    "# display the plot\n",
    "plt.show()\n"
   ]
  },
  {
   "cell_type": "markdown",
   "id": "16a02857",
   "metadata": {},
   "source": [
    "<a id='dest_dataframes'></a>"
   ]
  },
  {
   "cell_type": "markdown",
   "id": "31d33af1",
   "metadata": {},
   "source": [
    "[TOC](#dest_TOC)\n",
    "<a id='Q10'></a>\n",
    "<div class=\" alert alert-info\"> \n",
    "    \n",
    "# <center>Data Frames</center>\n",
    "    \n",
    "</div>"
   ]
  },
  {
   "cell_type": "markdown",
   "id": "f578fbd8",
   "metadata": {},
   "source": [
    "The library `Pandas` provides the class (object type) `DataFrame`. A `DataFrame`is a two-dimensional (with rows and columns) tabular structure. Dataframes are convenient for storing and manipulating heterogeneous data such as mixtures of numeric and text data. \n",
    "\n",
    "https://pandas.pydata.org/docs/user_guide/index.html"
   ]
  },
  {
   "cell_type": "code",
   "execution_count": 23,
   "id": "a05a7983",
   "metadata": {},
   "outputs": [
    {
     "data": {
      "text/html": [
       "<div>\n",
       "<style scoped>\n",
       "    .dataframe tbody tr th:only-of-type {\n",
       "        vertical-align: middle;\n",
       "    }\n",
       "\n",
       "    .dataframe tbody tr th {\n",
       "        vertical-align: top;\n",
       "    }\n",
       "\n",
       "    .dataframe thead th {\n",
       "        text-align: right;\n",
       "    }\n",
       "</style>\n",
       "<table border=\"1\" class=\"dataframe\">\n",
       "  <thead>\n",
       "    <tr style=\"text-align: right;\">\n",
       "      <th></th>\n",
       "      <th>0</th>\n",
       "    </tr>\n",
       "  </thead>\n",
       "  <tbody>\n",
       "    <tr>\n",
       "      <th>0</th>\n",
       "      <td>dogs</td>\n",
       "    </tr>\n",
       "    <tr>\n",
       "      <th>1</th>\n",
       "      <td>cats</td>\n",
       "    </tr>\n",
       "    <tr>\n",
       "      <th>2</th>\n",
       "      <td>mice</td>\n",
       "    </tr>\n",
       "    <tr>\n",
       "      <th>3</th>\n",
       "      <td>rats</td>\n",
       "    </tr>\n",
       "  </tbody>\n",
       "</table>\n",
       "</div>"
      ],
      "text/plain": [
       "      0\n",
       "0  dogs\n",
       "1  cats\n",
       "2  mice\n",
       "3  rats"
      ]
     },
     "execution_count": 23,
     "metadata": {},
     "output_type": "execute_result"
    }
   ],
   "source": [
    "# import 'pandas' - library providing high-performance, easy-to-use data structures and data analysis tools \n",
    "import pandas as pd\n",
    "\n",
    "# create list\n",
    "mylist = ['dogs','cats','mice','rats']\n",
    "\n",
    "# create dataframe from list\n",
    "df = pd.DataFrame(mylist)\n",
    "df\n"
   ]
  },
  {
   "cell_type": "code",
   "execution_count": 24,
   "id": "e69c10a1",
   "metadata": {},
   "outputs": [
    {
     "data": {
      "text/html": [
       "<div>\n",
       "<style scoped>\n",
       "    .dataframe tbody tr th:only-of-type {\n",
       "        vertical-align: middle;\n",
       "    }\n",
       "\n",
       "    .dataframe tbody tr th {\n",
       "        vertical-align: top;\n",
       "    }\n",
       "\n",
       "    .dataframe thead th {\n",
       "        text-align: right;\n",
       "    }\n",
       "</style>\n",
       "<table border=\"1\" class=\"dataframe\">\n",
       "  <thead>\n",
       "    <tr style=\"text-align: right;\">\n",
       "      <th></th>\n",
       "      <th>animal</th>\n",
       "      <th>name</th>\n",
       "      <th>age, years</th>\n",
       "    </tr>\n",
       "  </thead>\n",
       "  <tbody>\n",
       "    <tr>\n",
       "      <th>id1</th>\n",
       "      <td>cat</td>\n",
       "      <td>Fluffy</td>\n",
       "      <td>3.0</td>\n",
       "    </tr>\n",
       "    <tr>\n",
       "      <th>id2</th>\n",
       "      <td>dog</td>\n",
       "      <td>Chewy</td>\n",
       "      <td>5.0</td>\n",
       "    </tr>\n",
       "    <tr>\n",
       "      <th>id3</th>\n",
       "      <td>mouse</td>\n",
       "      <td>Squeaky</td>\n",
       "      <td>0.5</td>\n",
       "    </tr>\n",
       "    <tr>\n",
       "      <th>id4</th>\n",
       "      <td>rat</td>\n",
       "      <td>Spotty</td>\n",
       "      <td>1.0</td>\n",
       "    </tr>\n",
       "  </tbody>\n",
       "</table>\n",
       "</div>"
      ],
      "text/plain": [
       "    animal     name  age, years\n",
       "id1    cat   Fluffy         3.0\n",
       "id2    dog    Chewy         5.0\n",
       "id3  mouse  Squeaky         0.5\n",
       "id4    rat   Spotty         1.0"
      ]
     },
     "execution_count": 24,
     "metadata": {},
     "output_type": "execute_result"
    }
   ],
   "source": [
    "# create dictionary\n",
    "mydict = {'animal':['cat', 'dog','mouse','rat'],\n",
    "         'name':['Fluffy','Chewy','Squeaky','Spotty'],\n",
    "         'age, years': [3,5,0.5,1]}\n",
    "\n",
    "# create dataframe from dictionary\n",
    "df = pd.DataFrame(mydict, index=['id1','id2','id3','id4'])\n",
    "df\n"
   ]
  },
  {
   "cell_type": "code",
   "execution_count": 25,
   "id": "b8312c65",
   "metadata": {},
   "outputs": [
    {
     "name": "stdout",
     "output_type": "stream",
     "text": [
      "animal           cat\n",
      "name          Fluffy\n",
      "age, years       3.0\n",
      "Name: id1, dtype: object\n",
      "\n",
      " animal           cat\n",
      "name          Fluffy\n",
      "age, years       3.0\n",
      "Name: id1, dtype: object\n"
     ]
    }
   ],
   "source": [
    "# Accessing DataFrame elements\n",
    "\n",
    "# access row by name with .loc \n",
    "print(df.loc['id1'])\n",
    "\n",
    "# access row by index with .iloc \n",
    "print('\\n', df.iloc[0])\n"
   ]
  },
  {
   "cell_type": "code",
   "execution_count": 26,
   "id": "5439cfb6",
   "metadata": {},
   "outputs": [
    {
     "name": "stdout",
     "output_type": "stream",
     "text": [
      "id1      cat\n",
      "id2      dog\n",
      "id3    mouse\n",
      "id4      rat\n",
      "Name: animal, dtype: object\n",
      "\n",
      " id1      cat\n",
      "id2      dog\n",
      "id3    mouse\n",
      "id4      rat\n",
      "Name: animal, dtype: object\n",
      "\n",
      " id1      cat\n",
      "id2      dog\n",
      "id3    mouse\n",
      "id4      rat\n",
      "Name: animal, dtype: object\n"
     ]
    }
   ],
   "source": [
    "# access column by name with .loc \n",
    "print(df.loc[:,'animal'])\n",
    "\n",
    "# accsss column by name without .loc \n",
    "print('\\n', df['animal'])\n",
    "\n",
    "# access column by index with .iloc \n",
    "print('\\n', df.iloc[:,0])\n"
   ]
  },
  {
   "cell_type": "code",
   "execution_count": 28,
   "id": "a3e51c48",
   "metadata": {},
   "outputs": [
    {
     "name": "stdout",
     "output_type": "stream",
     "text": [
      "animal       cat\n",
      "name      Fluffy\n",
      "Name: id1, dtype: object\n",
      "\n",
      " animal       cat\n",
      "name      Fluffy\n",
      "Name: id1, dtype: object\n"
     ]
    }
   ],
   "source": [
    "# access specific row and columns by name with .loc\n",
    "print(df.loc['id1',['animal','name']])\n",
    "\n",
    "# access specific row and columns by index with .iloc\n",
    "print('\\n',df.iloc[0,[0,1]])\n"
   ]
  },
  {
   "cell_type": "markdown",
   "id": "418d12ec",
   "metadata": {},
   "source": [
    "<a id='dest_dictionaries'></a>"
   ]
  },
  {
   "cell_type": "markdown",
   "id": "d76c371d",
   "metadata": {},
   "source": [
    "[TOC](#dest_TOC)\n",
    "<a id='Q10'></a>\n",
    "<div class=\" alert alert-info\"> \n",
    "    \n",
    "# <center>Dictionaries</center>\n",
    "    \n",
    "</div>"
   ]
  },
  {
   "cell_type": "markdown",
   "id": "c97c00f4",
   "metadata": {},
   "source": [
    "The raw data used in ML methods are typically not directly available as numpy arrays. While data is nothing but a (huge) pile of bits, some applications involve data that can be conveniently represented using a **Python dictionary**. \n",
    "[Dictionaries](https://docs.python.org/3/tutorial/datastructures.html#dictionaries), also known as **associative arrays** are data structures that consist of a collection of key-value pairs. As we will see, Python dictionaries provide a convenient interface to data stored in files or online databases. "
   ]
  },
  {
   "cell_type": "code",
   "execution_count": 99,
   "id": "ded74d5f",
   "metadata": {},
   "outputs": [
    {
     "name": "stdout",
     "output_type": "stream",
     "text": [
      "The type of the variable C is: <class 'dict'>\n",
      "{'Denmark': 'Copenhagen', 'Sweden': 'Stockholm', 'Norway': 'Oslo'}\n"
     ]
    }
   ],
   "source": [
    "# Lets define a simple dictionary consisting of three key-value pairs.\n",
    "# Keys   - names of countries from Norhern Europe \n",
    "# Values - indicate the capital city for each country\n",
    "\n",
    "# initialize dictionary C\n",
    "C = {'Denmark':'Copenhagen',\n",
    "    'Sweden':'Stockholm',\n",
    "    'Norway':'Oslo'} \n",
    "\n",
    "print('The type of the variable C is:', type(C))  # print the type of the variable \"C\"\n",
    "print(C) # print out the dictionary contents\n"
   ]
  },
  {
   "cell_type": "code",
   "execution_count": 101,
   "id": "41c91331",
   "metadata": {},
   "outputs": [
    {
     "name": "stdout",
     "output_type": "stream",
     "text": [
      "C['Denmark']: Copenhagen\n"
     ]
    }
   ],
   "source": [
    "# Accessing Dictionary values by key\n",
    "print(\"C['Denmark']:\", C['Denmark']) # prints out \"Helsinki\"\n"
   ]
  },
  {
   "cell_type": "code",
   "execution_count": 102,
   "id": "816ce497",
   "metadata": {},
   "outputs": [
    {
     "ename": "KeyError",
     "evalue": "'Finland'",
     "output_type": "error",
     "traceback": [
      "\u001b[0;31m---------------------------------------------------------------------------\u001b[0m",
      "\u001b[0;31mKeyError\u001b[0m                                  Traceback (most recent call last)",
      "\u001b[0;32m<ipython-input-102-a10c29225c67>\u001b[0m in \u001b[0;36m<module>\u001b[0;34m\u001b[0m\n\u001b[1;32m      1\u001b[0m \u001b[0;31m# If you refer to a key that is not in the dictionary, i.e. print(C['Finland']),\u001b[0m\u001b[0;34m\u001b[0m\u001b[0;34m\u001b[0m\u001b[0;34m\u001b[0m\u001b[0m\n\u001b[1;32m      2\u001b[0m \u001b[0;31m# Python raises an exception \"KeyError: 'Finland'\"\u001b[0m\u001b[0;34m\u001b[0m\u001b[0;34m\u001b[0m\u001b[0;34m\u001b[0m\u001b[0m\n\u001b[0;32m----> 3\u001b[0;31m \u001b[0mprint\u001b[0m\u001b[0;34m(\u001b[0m\u001b[0mC\u001b[0m\u001b[0;34m[\u001b[0m\u001b[0;34m'Finland'\u001b[0m\u001b[0;34m]\u001b[0m\u001b[0;34m)\u001b[0m\u001b[0;34m\u001b[0m\u001b[0;34m\u001b[0m\u001b[0m\n\u001b[0m",
      "\u001b[0;31mKeyError\u001b[0m: 'Finland'"
     ]
    }
   ],
   "source": [
    "# If you refer to a key that is not in the dictionary, i.e. print(C['Finland']), \n",
    "# Python raises an exception \"KeyError: 'Finland'\"\n",
    "print(C['Finland'])\n"
   ]
  },
  {
   "cell_type": "code",
   "execution_count": 103,
   "id": "4bbd0a88",
   "metadata": {},
   "outputs": [
    {
     "name": "stdout",
     "output_type": "stream",
     "text": [
      "C['Finland']: Helsinki\n",
      "{'Denmark': 'Copenhagen', 'Sweden': 'Stockholm', 'Norway': 'Oslo', 'Finland': 'Helsinki'}\n"
     ]
    }
   ],
   "source": [
    "# Adding an entry to an existing dictionary is simply a matter of assigning a new key and value:\n",
    "C['Finland'] = 'Helsinki'   # adds a dictionary entry with key \"Finland\" and value \"Helsinki\"\n",
    "\n",
    "print(\"C['Finland']:\", C['Finland']) # Print out dictionary value with key \"Finland\"\n",
    "print(C) # print dictionary \"C\"\n"
   ]
  },
  {
   "cell_type": "code",
   "execution_count": 105,
   "id": "07ef6ae6",
   "metadata": {},
   "outputs": [
    {
     "name": "stdout",
     "output_type": "stream",
     "text": [
      "The population of Denmark is 5820000 persons\n",
      "The number 3 is prime\n"
     ]
    }
   ],
   "source": [
    "# Remember, you can’t treat a dictionary like a list or numpy array, e.g. indices don't work.\n",
    "\n",
    "# Dictionaries can contain numerical and string values as keys and values:\n",
    "\n",
    "# Create a dictionary where values are numbers\n",
    "population = {'Denmark':5820000,\n",
    "                'Sweden':10000000,\n",
    "                'Norway':5370000} \n",
    "print(\"The population of Denmark is\", population['Denmark'], \"persons\") # print the value of dictionary with key \"Denmark\"\n",
    "\n",
    "# Create a dictionary where keys are numbers\n",
    "numbers = {3:'prime',\n",
    "            6:'not prime',\n",
    "            7:'prime'} # Create a dictionary \"Numbers\"\n",
    "print(\"The number 3 is\", numbers[3]) # print a value of dictionary Numbers with key \"3\"\n"
   ]
  },
  {
   "cell_type": "markdown",
   "id": "f4968203",
   "metadata": {},
   "source": [
    "<a id='dest_loading_data'></a>"
   ]
  },
  {
   "cell_type": "markdown",
   "id": "a33e5cc7",
   "metadata": {},
   "source": [
    "[TOC](#dest_TOC)\n",
    "<a id='Q11'></a>\n",
    "<div class=\" alert alert-info\"> \n",
    "    \n",
    "# <center>Loading data from files</center>\n",
    "    \n",
    "</div>"
   ]
  },
  {
   "cell_type": "markdown",
   "id": "1ff37971",
   "metadata": {},
   "source": [
    "When solving real-life ML problems, you will have to import your own data into the Python environment by using, for example, the methods shown below. The methods can be used for loading data from a file, for example, on your computer or from the internet."
   ]
  },
  {
   "cell_type": "code",
   "execution_count": 116,
   "id": "aedb4feb",
   "metadata": {},
   "outputs": [
    {
     "name": "stdout",
     "output_type": "stream",
     "text": [
      "Shape of the dataframe:  (600, 2)\n",
      "Number of dataframe rows:  600\n",
      "Number of dataframe columns:  2\n"
     ]
    },
    {
     "data": {
      "text/html": [
       "<div>\n",
       "<style scoped>\n",
       "    .dataframe tbody tr th:only-of-type {\n",
       "        vertical-align: middle;\n",
       "    }\n",
       "\n",
       "    .dataframe tbody tr th {\n",
       "        vertical-align: top;\n",
       "    }\n",
       "\n",
       "    .dataframe thead th {\n",
       "        text-align: right;\n",
       "    }\n",
       "</style>\n",
       "<table border=\"1\" class=\"dataframe\">\n",
       "  <thead>\n",
       "    <tr style=\"text-align: right;\">\n",
       "      <th></th>\n",
       "      <th>0</th>\n",
       "      <th>1</th>\n",
       "    </tr>\n",
       "  </thead>\n",
       "  <tbody>\n",
       "    <tr>\n",
       "      <th>0</th>\n",
       "      <td>0.471435</td>\n",
       "      <td>-1.190976</td>\n",
       "    </tr>\n",
       "    <tr>\n",
       "      <th>1</th>\n",
       "      <td>1.432707</td>\n",
       "      <td>-0.312652</td>\n",
       "    </tr>\n",
       "    <tr>\n",
       "      <th>2</th>\n",
       "      <td>-0.720589</td>\n",
       "      <td>0.887163</td>\n",
       "    </tr>\n",
       "    <tr>\n",
       "      <th>3</th>\n",
       "      <td>0.859588</td>\n",
       "      <td>-0.636524</td>\n",
       "    </tr>\n",
       "    <tr>\n",
       "      <th>4</th>\n",
       "      <td>0.015696</td>\n",
       "      <td>-2.242685</td>\n",
       "    </tr>\n",
       "  </tbody>\n",
       "</table>\n",
       "</div>"
      ],
      "text/plain": [
       "          0         1\n",
       "0  0.471435 -1.190976\n",
       "1  1.432707 -0.312652\n",
       "2 -0.720589  0.887163\n",
       "3  0.859588 -0.636524\n",
       "4  0.015696 -2.242685"
      ]
     },
     "execution_count": 116,
     "metadata": {},
     "output_type": "execute_result"
    }
   ],
   "source": [
    "# Loading from .csv file by using pandas DataFrame structure\n",
    "\n",
    "import pandas as pd\n",
    "\n",
    "# load the .csv file with pandas locally\n",
    "df = pd.read_csv('Data.csv')\n",
    "# or you could load a file directly from internet:  df = pd.read_csv(url)\n",
    "\n",
    "# check the shape of the dataframe\n",
    "print(\"Shape of the dataframe: \",df.shape)\n",
    "print(\"Number of dataframe rows: \",df.shape[0])\n",
    "print(\"Number of dataframe columns: \",df.shape[1])\n",
    "\n",
    "# print first 5 rows \n",
    "df.head()\n"
   ]
  },
  {
   "cell_type": "code",
   "execution_count": 117,
   "id": "4632a285",
   "metadata": {},
   "outputs": [
    {
     "data": {
      "text/plain": [
       "array([[ 0.47143516, -1.19097569],\n",
       "       [ 1.43270697, -0.3126519 ],\n",
       "       [-0.72058873,  0.88716294],\n",
       "       ...,\n",
       "       [ 3.16009399,  3.83897138],\n",
       "       [ 3.28939313,  3.68964166],\n",
       "       [ 3.39549918,  4.36393359]])"
      ]
     },
     "execution_count": 117,
     "metadata": {},
     "output_type": "execute_result"
    }
   ],
   "source": [
    "# Convert dataframe to numpy array\n",
    "\n",
    "# DataFrame.values return a Numpy representation of the DataFrame.\n",
    "X = df.values\n",
    "X\n"
   ]
  },
  {
   "cell_type": "markdown",
   "id": "6651ab3d",
   "metadata": {},
   "source": [
    "With slightly different functions, it is possible to read also excel, json, html, sql and many others types of files:\n",
    "\n",
    "https://pandas.pydata.org/pandas-docs/stable/reference/io.html"
   ]
  },
  {
   "cell_type": "markdown",
   "id": "65e80e5e",
   "metadata": {},
   "source": [
    "**<center><font size=\"4\">loading data from library datasets</font></center>**\n",
    "\n",
    "Some python libraries also come with functions for loading a few standard datasets, which can be useful for testing different ML methods.\n",
    "One of these python libraries is the Python library `scikit-learn`.\n",
    "\n",
    "The datasets in Scikit-learn include some small built-in [toy datasets](https://scikit-learn.org/stable/datasets/toy_dataset.html), such as the [iris](https://scikit-learn.org/stable/datasets/toy_dataset.html#iris-plants-dataset) and [digits](https://scikit-learn.org/stable/datasets/toy_dataset.html#optical-recognition-of-handwritten-digits-dataset) datasets for classification and the [boston house prices](https://scikit-learn.org/stable/datasets/toy_dataset.html#boston-house-prices-dataset) and [linnerrud](https://scikit-learn.org/stable/datasets/toy_dataset.html#linnerrud-dataset) datasets for regression, but also larger [real world datasets](https://scikit-learn.org/stable/datasets/real_world.html) that are downloaded only when calling a fetching function, as well as various random sample generators that can be used to build artificial datasets of controlled size and complexity. \n",
    "\n",
    "The scikit-learn datasets are stored in a [bunch data type](https://pypi.org/project/bunch/) containing multiple key-value pairs, similar to the ones in a Python `dictionary`. The main difference between the two data types is that the `bunch` type enables accessing values through attributes named in accordance with the keys (i.e. `bunch['key'] == bunch.key`).\n",
    "\n",
    "All scikit-learn datasets include a feature matrix with key `'data'` and a target vector with the key `'target'`, as well as a description of the dataset with the key `DESCR`. Also, the `Bunch` objects might contain other items as well, such as `feature names` and `target_names` containing the names of the features and targets of the data points respectively. \n",
    "\n",
    "You can find more information about the datasets in `scikit-learn` here: https://scikit-learn.org/stable/datasets.html\n",
    "\n",
    "You can access more datasets, for example: \n",
    "* UC Machine Learning Repository: https://archive.ics.uci.edu/datasets\n",
    "* Kaggle: https://www.kaggle.com/datasets"
   ]
  },
  {
   "cell_type": "markdown",
   "id": "a86e2fd3",
   "metadata": {},
   "source": [
    "\n",
    "**<center><font size=\"4\">Demo on loading and exploring a toy dataset in scikit-learn.</font></center>**\n",
    "\n",
    "Let us now take a closer look at some of `scikit-learn` datasets and try to identify features and labels for these datasets.    \n",
    "    \n",
    "The [\"Digits\" dataset](https://scikit-learn.org/stable/modules/generated/sklearn.datasets.load_digits.html#sklearn.datasets.load_digits) contains images of hand-written digits. This dataset can be used for testing a classification method to [recognize digits from hand-written images](https://scikit-learn.org/stable/auto_examples/classification/plot_digits_classification.html#recognizing-hand-written-digits).\n",
    "We begin by importing the `sklearn.datasets` module and loading the digits dataset using the function `datasets.load_digits()`. After this we print the keys of the key-value pairs in the `Bunch` object, in order to see what items the object contains.\n",
    "</div>"
   ]
  },
  {
   "cell_type": "code",
   "execution_count": 14,
   "id": "66d29d42",
   "metadata": {},
   "outputs": [
    {
     "name": "stdout",
     "output_type": "stream",
     "text": [
      "Key-value pairs of 'digits':\n",
      " dict_keys(['data', 'target', 'frame', 'feature_names', 'target_names', 'images', 'DESCR'])\n",
      "\n"
     ]
    }
   ],
   "source": [
    "from sklearn import datasets  # Import toy datasets\n",
    "\n",
    "# Load the digits dataset into the bunch object \"digits\"\n",
    "digits = datasets.load_digits() \n",
    "\n",
    "# Print the keys of all (key,value) pairs contained in digits\n",
    "print(f\"Key-value pairs of 'digits':\\n {digits.keys()}\\n\")\n"
   ]
  },
  {
   "cell_type": "markdown",
   "id": "ae55ecf5",
   "metadata": {},
   "source": [
    "    \n",
    "To obtain more information on the dataset, we can print the dataset's description contained in the `DESCR` attribute.\n"
   ]
  },
  {
   "cell_type": "code",
   "execution_count": 15,
   "id": "ec10bfc8",
   "metadata": {},
   "outputs": [
    {
     "name": "stdout",
     "output_type": "stream",
     "text": [
      ".. _digits_dataset:\n",
      "\n",
      "Optical recognition of handwritten digits dataset\n",
      "--------------------------------------------------\n",
      "\n",
      "**Data Set Characteristics:**\n",
      "\n",
      "    :Number of Instances: 1797\n",
      "    :Number of Attributes: 64\n",
      "    :Attribute Information: 8x8 image of integer pixels in the range 0..16.\n",
      "    :Missing Attribute Values: None\n",
      "    :Creator: E. Alpaydin (alpaydin '@' boun.edu.tr)\n",
      "    :Date: July; 1998\n",
      "\n",
      "This is a copy of the test set of the UCI ML hand-written digits datasets\n",
      "https://archive.ics.uci.edu/ml/datasets/Optical+Recognition+of+Handwritten+Digits\n",
      "\n",
      "The data set contains images of hand-written digits: 10 classes where\n",
      "each class refers to a digit.\n",
      "\n"
     ]
    }
   ],
   "source": [
    "# Print out a short description of the dataset (only first 660 characters are used)\n",
    "print(digits.DESCR[:660])\n"
   ]
  },
  {
   "cell_type": "markdown",
   "id": "8f1bc716",
   "metadata": {},
   "source": [
    "\n",
    "We can see from the description that the data points are characterized by 8x8 pixel images of hand-written digits. Each pixel of an image is represented by an integer $0,\\ldots,16$ with $0$ corresponding to a black pixel, and $16$ to a white pixel. \n",
    "\n",
    "Thus, each data point is characterized by 64 features denoting the integer values of the image pixels. Moreover, each data point has a label: an integer in the range $0,\\ldots,9$, corresponding to the written digit in the image.\n",
    "    \n"
   ]
  },
  {
   "cell_type": "code",
   "execution_count": 16,
   "id": "cf79126b",
   "metadata": {},
   "outputs": [
    {
     "name": "stdout",
     "output_type": "stream",
     "text": [
      "Number of datapoints: 1797\n",
      "\n",
      "Number of features used to characterize a data point: 64\n",
      "\n",
      "Number of different classes (different values the label can take on): [0 1 2 3 4 5 6 7 8 9]\n"
     ]
    }
   ],
   "source": [
    "# Print number of datapoints\n",
    "print(f\"Number of datapoints: {digits.data.shape[0]}\")\n",
    "\n",
    "# Print the number of features used to characterize a single data point\n",
    "print(f\"\\nNumber of features used to characterize a data point: {digits.data.shape[1]}\")\n",
    "\n",
    "# Print number of different classes (number of different values the label can take on) \n",
    "print(f\"\\nNumber of different classes (different values the label can take on): {digits.target_names}\")\n"
   ]
  },
  {
   "cell_type": "markdown",
   "id": "274ffbee",
   "metadata": {},
   "source": [
    "The `Bunch` object of the digits dataset contains both a `.images` and a `.data` attribute containing `ndarrays` with pixel data. Let us print the shape of the attributes and the first image/data point from the respective arrays to find out how the attributes differ.\n"
   ]
  },
  {
   "cell_type": "code",
   "execution_count": 17,
   "id": "86aaa725",
   "metadata": {},
   "outputs": [
    {
     "name": "stdout",
     "output_type": "stream",
     "text": [
      "Shape of digits.images : (1797, 8, 8)\n",
      "First image :\n",
      " [[ 0.  0.  5. 13.  9.  1.  0.  0.]\n",
      " [ 0.  0. 13. 15. 10. 15.  5.  0.]\n",
      " [ 0.  3. 15.  2.  0. 11.  8.  0.]\n",
      " [ 0.  4. 12.  0.  0.  8.  8.  0.]\n",
      " [ 0.  5.  8.  0.  0.  9.  8.  0.]\n",
      " [ 0.  4. 11.  0.  1. 12.  7.  0.]\n",
      " [ 0.  2. 14.  5. 10. 12.  0.  0.]\n",
      " [ 0.  0.  6. 13. 10.  0.  0.  0.]]\n",
      "\n",
      "Shape of digits.data : (1797, 64)\n",
      "First data point in 'data' :\n",
      " [ 0.  0.  5. 13.  9.  1.  0.  0.  0.  0. 13. 15. 10. 15.  5.  0.  0.  3.\n",
      " 15.  2.  0. 11.  8.  0.  0.  4. 12.  0.  0.  8.  8.  0.  0.  5.  8.  0.\n",
      "  0.  9.  8.  0.  0.  4. 11.  0.  1. 12.  7.  0.  0.  2. 14.  5. 10. 12.\n",
      "  0.  0.  0.  0.  6. 13. 10.  0.  0.  0.]\n"
     ]
    }
   ],
   "source": [
    "# Digits.images returns an np.array of shape(m,8,8), which represent\n",
    "# m different images each having 8x8 pixels with grayscale value in the range 0..16.\n",
    "print(f\"Shape of digits.images : {digits.images.shape}\")\n",
    "print(f\"First image :\\n {digits.images[0,:,:]}\\n\")\n",
    "\n",
    "# Digits.data returns an np.array of shape (m,64), which represent\n",
    "# m different images each represented by 64 numbers that are the \n",
    "# grayscale values of the image pixels \n",
    "print(f\"Shape of digits.data : {digits.data.shape}\")\n",
    "print(f\"First data point in 'data' :\\n {digits.data[0,:]}\")\n"
   ]
  },
  {
   "cell_type": "markdown",
   "id": "b242cafa",
   "metadata": {},
   "source": [
    "\n",
    "We can see that the arrays in the two attributes contain the same data, with the only difference being that the data points are shaped as 8x8 images in `.images` whereas they are 1-dimensional arrays in `.data`. This is easily verified by observing that the pixel values in the first image/data point are identical in both attributes.\n",
    "    \n",
    "Finally, let us visualize a part of the dataset by plotting the first 100 images of size 8x8 pixels using the function `plt.imshow()` from `matplotlib.pyplot`:\n"
   ]
  },
  {
   "cell_type": "code",
   "execution_count": 18,
   "id": "09ec811c",
   "metadata": {},
   "outputs": [
    {
     "data": {
      "image/png": "[encoded data removed]",
      "text/plain": [
       "<Figure size 432x288 with 100 Axes>"
      ]
     },
     "metadata": {},
     "output_type": "display_data"
    }
   ],
   "source": [
    "import matplotlib.pyplot as plt  # Import matplotlib library for plotting\n",
    "\n",
    "fig, axes = plt.subplots(10, 10)  # Create an array of subplots, 10 rows and 10 columns\n",
    "axes_flat = axes.flatten()  # Collapse 10 x 10 array into a 1-dimensional array of 100 elements\n",
    "\n",
    "for i, ax in enumerate(axes_flat):  # Iterate over array of subplots \n",
    "    ax.imshow(digits.images[i], cmap='gray_r')  # For i-th subplot, show the image of the i-th handwritten digit  \n",
    "    \n",
    "plt.setp(axes_flat, xticks=[], yticks=[], frame_on=False) # Remove ticks and frame in all subplots\n",
    "plt.tight_layout(h_pad=0.5, w_pad=0.01)  # Reduce whitspaces between plots\n",
    "plt.show()"
   ]
  },
  {
   "cell_type": "code",
   "execution_count": null,
   "id": "be6923c3",
   "metadata": {},
   "outputs": [],
   "source": []
  }
 ],
 "metadata": {
  "kernelspec": {
   "display_name": "Python 3",
   "language": "python",
   "name": "python3"
  },
  "language_info": {
   "codemirror_mode": {
    "name": "ipython",
    "version": 3
   },
   "file_extension": ".py",
   "mimetype": "text/x-python",
   "name": "python",
   "nbconvert_exporter": "python",
   "pygments_lexer": "ipython3",
   "version": "3.8.2"
  }
 },
 "nbformat": 4,
 "nbformat_minor": 5
}
