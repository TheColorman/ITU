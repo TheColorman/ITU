{
 "cells": [
  {
   "cell_type": "markdown",
   "metadata": {
    "id": "YQNQ4keK-xjv"
   },
   "source": [
    "# **2. Numpy exercises**"
   ]
  },
  {
   "cell_type": "markdown",
   "metadata": {
    "id": "M2o48Okh-_GD"
   },
   "source": [
    "1. Import the numpy package under the name `np`\n",
    "\n",
    "`hint: import … as`"
   ]
  },
  {
   "cell_type": "code",
   "execution_count": 1,
   "metadata": {
    "id": "XN7DFiM7_Pvp"
   },
   "outputs": [],
   "source": [
    "import numpy as np"
   ]
  },
  {
   "cell_type": "markdown",
   "metadata": {
    "id": "POLBAG5M_QPQ"
   },
   "source": [
    "2. Create a null vector of size 10\n",
    "\n",
    "`hint: np.zeros`"
   ]
  },
  {
   "cell_type": "code",
   "execution_count": 2,
   "metadata": {
    "id": "aZT2R1tkBicc"
   },
   "outputs": [
    {
     "data": {
      "text/plain": [
       "array([0., 0., 0., 0., 0., 0., 0., 0., 0., 0.])"
      ]
     },
     "execution_count": 2,
     "metadata": {},
     "output_type": "execute_result"
    }
   ],
   "source": [
    "np.zeros(10)"
   ]
  },
  {
   "cell_type": "markdown",
   "metadata": {
    "id": "6jmMwHwpAA2H"
   },
   "source": [
    "3. Create a vector with values ranging from 0 to 100\n",
    "\n",
    "`hint: arange`"
   ]
  },
  {
   "cell_type": "code",
   "execution_count": 4,
   "metadata": {
    "id": "g-3xXzvrAWPJ"
   },
   "outputs": [
    {
     "data": {
      "text/plain": [
       "array([  0,   1,   2,   3,   4,   5,   6,   7,   8,   9,  10,  11,  12,\n",
       "        13,  14,  15,  16,  17,  18,  19,  20,  21,  22,  23,  24,  25,\n",
       "        26,  27,  28,  29,  30,  31,  32,  33,  34,  35,  36,  37,  38,\n",
       "        39,  40,  41,  42,  43,  44,  45,  46,  47,  48,  49,  50,  51,\n",
       "        52,  53,  54,  55,  56,  57,  58,  59,  60,  61,  62,  63,  64,\n",
       "        65,  66,  67,  68,  69,  70,  71,  72,  73,  74,  75,  76,  77,\n",
       "        78,  79,  80,  81,  82,  83,  84,  85,  86,  87,  88,  89,  90,\n",
       "        91,  92,  93,  94,  95,  96,  97,  98,  99, 100])"
      ]
     },
     "execution_count": 4,
     "metadata": {},
     "output_type": "execute_result"
    }
   ],
   "source": [
    "np.arange(0, 101)"
   ]
  },
  {
   "cell_type": "markdown",
   "metadata": {
    "id": "RbwjVj99AWXZ"
   },
   "source": [
    "4. Create a 10x10 matrix with random values and find the minimum, maximum, and mean values. Normalize the said matrix \n",
    "\n",
    "`hint: min, max, ...`"
   ]
  },
  {
   "cell_type": "code",
   "execution_count": 8,
   "metadata": {
    "id": "_0VEPKs4AxLS"
   },
   "outputs": [
    {
     "name": "stdout",
     "output_type": "stream",
     "text": [
      "0.001156809685751048\n",
      "0.9975638365983707\n",
      "0.4904635311582181\n",
      "[[ -21.33022849  -41.26286113  -65.81318466   -2.35083006 -174.72346304\n",
      "   -97.19035529  -36.72753559 -102.57468432 -171.89657628 -158.36592427]\n",
      " [-161.59560115  -32.03056702  -85.41781384  -69.65383867 -183.21107331\n",
      "  -116.15349064  -33.42134458 -101.08931939 -181.89265725 -130.66837123]\n",
      " [ -50.78013213 -113.67144726  -21.38013192  -35.45825988 -144.51257447\n",
      "  -170.39196632  -76.51080761  -35.98056768  -14.77559288 -109.39645982]\n",
      " [-144.29672091   -7.30278855 -138.77627795 -176.78492987  -18.08936292\n",
      "   -22.30214204 -166.47637218  -40.65465513 -163.54549877   -9.79836405]\n",
      " [ -53.83770541  -99.14176643 -123.60085656 -122.8181543  -105.46304578\n",
      "   -75.34397036 -148.80888968  -31.85666633 -155.29805004 -123.89185108]\n",
      " [-146.25076642 -126.92158277  -99.25670864 -176.26049829  -73.85142256\n",
      "  -129.81516354 -103.86570241  -63.66751447  -56.20878573  -62.39866317]\n",
      " [-143.12026475  -89.10271186  -41.35703196 -176.50419895  -71.25615307\n",
      "  -124.62824595  -40.07450668  -42.19133542  -77.26992401  -81.22213208]\n",
      " [-110.91031214   -1.780957   -132.02553839  -46.07774109  -87.29949816\n",
      "  -104.77574679  -46.20568999 -118.66021109   -9.77580592  -83.73435564]\n",
      " [-173.86423877  -67.05399478  -63.28906666 -121.41269732  -31.8877845\n",
      "  -166.9343502    -0.21245793  -73.97469901 -113.73022047  -10.71132172]\n",
      " [ -99.32846208 -152.10308579   -9.743948   -139.09577907  -60.42147434\n",
      "   -55.03965567 -173.40612016  -79.08050489  -71.2867729   -10.41788699]]\n"
     ]
    }
   ],
   "source": [
    "r = np.random.rand(10, 10)\n",
    "print(r.min())\n",
    "print(r.max())\n",
    "print(r.mean())\n",
    "d = np.linalg.det(r)\n",
    "print(r / d)"
   ]
  },
  {
   "cell_type": "markdown",
   "metadata": {
    "id": "RNcNkqTHAxhA"
   },
   "source": [
    "5. Consider a random 10x2 matrix representing cartesian coordinates, convert them to polar coordinates\n",
    "\n",
    "`hint: np.sqrt, np.arctan2`"
   ]
  },
  {
   "cell_type": "code",
   "execution_count": 15,
   "metadata": {
    "id": "TimwEyjqBxtP"
   },
   "outputs": [
    {
     "name": "stdout",
     "output_type": "stream",
     "text": [
      "[[ 88.86506625   0.6817707 ]\n",
      " [ 93.90420651   1.43191131]\n",
      " [ 18.43908891   0.21866895]\n",
      " [ 89.55445271   1.15710711]\n",
      " [113.35784049   0.72297935]\n",
      " [ 26.62705391   0.97237743]\n",
      " [123.76186812   0.76825699]\n",
      " [ 17.08800749   0.35877067]\n",
      " [ 28.01785145   1.53509721]\n",
      " [ 86.68333173   0.68735289]]\n"
     ]
    }
   ],
   "source": [
    "coords = (np.random.rand(10, 2) * 100).astype(int)\n",
    "dist = np.sqrt(coords[:, 0]**2 + coords[:, 1]**2)\n",
    "angle = np.arctan2(coords[:, 0], coords[:, 1])\n",
    "polar = np.vstack((dist, angle)).T\n",
    "print(polar)"
   ]
  },
  {
   "cell_type": "markdown",
   "metadata": {
    "id": "StYSV1XMBx3D"
   },
   "source": [
    "6. Create random vector of size 10 and replace the maximum value by 0\n",
    "\n",
    "`hint: argmax`"
   ]
  },
  {
   "cell_type": "code",
   "execution_count": 21,
   "metadata": {
    "id": "OJLNkf9nEYBj"
   },
   "outputs": [
    {
     "name": "stdout",
     "output_type": "stream",
     "text": [
      "[0.16887113 0.00696898 0.39893057 0.69198289 0.81983921 0.12084679\n",
      " 0.37248768 0.1470519  0.42262917 0.77044296]\n",
      "[0.16887113 0.00696898 0.39893057 0.69198289 0.         0.12084679\n",
      " 0.37248768 0.1470519  0.42262917 0.77044296]\n"
     ]
    }
   ],
   "source": [
    "r = np.random.rand(10)\n",
    "print(r)\n",
    "r[r.argmax()] = 0\n",
    "print(r)"
   ]
  },
  {
   "cell_type": "markdown",
   "metadata": {
    "id": "pkMmd0g9EMTX"
   },
   "source": [
    "7. Create a structured array with x and y coordinates covering the [0,1]x[0,1] area.\n",
    "\n",
    "`hint: np.linspace and np.meshgrid`"
   ]
  },
  {
   "cell_type": "code",
   "execution_count": 44,
   "metadata": {
    "colab": {
     "base_uri": "https://localhost:8080/"
    },
    "executionInfo": {
     "elapsed": 291,
     "status": "ok",
     "timestamp": 1626098348908,
     "user": {
      "displayName": "Đorđe Grbić",
      "photoUrl": "https://lh3.googleusercontent.com/a-/AOh14GjMtdPDPC6XJoAlVJ9SyzF_WldAaS1YlXbiUOAReA=s64",
      "userId": "17224412897437983949"
     },
     "user_tz": -120
    },
    "id": "bl8BChgEEYvE",
    "outputId": "bab731d6-be47-4735-a658-28b8eeebfc4d"
   },
   "outputs": [
    {
     "name": "stdout",
     "output_type": "stream",
     "text": [
      "[[(0, 0) (0, 1) (0, 2) (0, 3) (0, 4) (0, 5)]\n",
      " [(1, 0) (1, 1) (1, 2) (1, 3) (1, 4) (1, 5)]\n",
      " [(2, 0) (2, 1) (2, 2) (2, 3) (2, 4) (2, 5)]\n",
      " [(3, 0) (3, 1) (3, 2) (3, 3) (3, 4) (3, 5)]\n",
      " [(4, 0) (4, 1) (4, 2) (4, 3) (4, 4) (4, 5)]\n",
      " [(5, 0) (5, 1) (5, 2) (5, 3) (5, 4) (5, 5)]]\n"
     ]
    }
   ],
   "source": [
    "sp = np.linspace(0, 5, 6)\n",
    "b = np.zeros((6, 6), dtype=[('x', int), ('y', int)])\n",
    "for x in range(6):\n",
    "    for y in range(6):\n",
    "        b[x, y] = (sp[x], sp[y])\n",
    "print(b)"
   ]
  },
  {
   "cell_type": "markdown",
   "metadata": {
    "id": "Ly6Yg3ABEY2-"
   },
   "source": [
    "8. Having a scalar `x` and a random vector `v`, find a value in `v` that is closest to `x`\n",
    "\n",
    "`hint: argmin`"
   ]
  },
  {
   "cell_type": "code",
   "execution_count": 70,
   "metadata": {
    "id": "WC3FkkfkFCGU"
   },
   "outputs": [
    {
     "name": "stdout",
     "output_type": "stream",
     "text": [
      "7 [2 4 5 0 3 0 7 5 2 4]\n",
      "6\n"
     ]
    }
   ],
   "source": [
    "x = np.random.randint(0, 10)\n",
    "v = np.random.randint(0, 10, 10)\n",
    "print(x, v)\n",
    "print(abs((v - x)).argmin())"
   ]
  },
  {
   "cell_type": "markdown",
   "metadata": {
    "id": "bz-Y3S-PFKgB"
   },
   "source": [
    "9. Consider a random vector with shape (100,2) representing coordinates, find point by point distances and put them in a (100,100) array."
   ]
  },
  {
   "cell_type": "code",
   "execution_count": 73,
   "metadata": {
    "id": "GZuYEwWBGOST"
   },
   "outputs": [
    {
     "name": "stdout",
     "output_type": "stream",
     "text": [
      "[[ 0.         56.14267539 33.61547263 ... 45.48626166 29.15475947\n",
      "  22.8035085 ]\n",
      " [56.14267539  0.         34.20526275 ... 46.01086828 83.29465769\n",
      "  76.15773106]\n",
      " [33.61547263 34.20526275  0.         ... 55.14526272 62.60990337\n",
      "  47.09564736]\n",
      " ...\n",
      " [45.48626166 46.01086828 55.14526272 ...  0.         58.5918083\n",
      "  67.47592163]\n",
      " [29.15475947 83.29465769 62.60990337 ... 58.5918083   0.\n",
      "  26.57066051]\n",
      " [22.8035085  76.15773106 47.09564736 ... 67.47592163 26.57066051\n",
      "   0.        ]]\n"
     ]
    }
   ],
   "source": [
    "r = np.random.randint(0, 100, (100, 2))\n",
    "nyu = np.zeros((100, 100))\n",
    "for i in range(100):\n",
    "    fro = r[i]\n",
    "    for j in range(100):\n",
    "        to = r[j]\n",
    "        dist = np.sqrt((fro[0] - to[0])**2 + (fro[1] - to[1])**2)\n",
    "        nyu[i, j] = dist\n",
    "\n",
    "print(nyu)"
   ]
  },
  {
   "cell_type": "markdown",
   "metadata": {
    "id": "mASMahBpGOZW"
   },
   "source": [
    "10. Create a random (100, 100) matrix with values from 0 to 1. Turn all values lower than 0.5 into 0.0"
   ]
  },
  {
   "cell_type": "code",
   "execution_count": 78,
   "metadata": {
    "id": "nfJsjzgeGlOs"
   },
   "outputs": [
    {
     "data": {
      "text/plain": [
       "array([[0.79081823, 0.7123334 , 0.58335054, ..., 0.70304731, 0.        ,\n",
       "        0.80240758],\n",
       "       [0.        , 0.92902934, 0.        , ..., 0.7403303 , 0.5314211 ,\n",
       "        0.69254807],\n",
       "       [0.        , 0.        , 0.        , ..., 0.7158282 , 0.        ,\n",
       "        0.64805717],\n",
       "       ...,\n",
       "       [0.        , 0.7360613 , 0.96188442, ..., 0.        , 0.        ,\n",
       "        0.        ],\n",
       "       [0.72062082, 0.63227523, 0.61988561, ..., 0.        , 0.6592388 ,\n",
       "        0.5612404 ],\n",
       "       [0.        , 0.        , 0.51170647, ..., 0.        , 0.        ,\n",
       "        0.        ]])"
      ]
     },
     "execution_count": 78,
     "metadata": {},
     "output_type": "execute_result"
    }
   ],
   "source": [
    "r = np.random.rand(100, 100)\n",
    "r[r < 0.5] = 0\n",
    "r"
   ]
  },
  {
   "cell_type": "markdown",
   "metadata": {
    "id": "HjJD3LnuGlUm"
   },
   "source": [
    "11. Sort an array by the nth column."
   ]
  },
  {
   "cell_type": "code",
   "execution_count": 79,
   "metadata": {
    "id": "STlF-kurHJjM"
   },
   "outputs": [
    {
     "data": {
      "text/plain": [
       "array([[0.        , 0.        , 0.        , ..., 0.        , 0.62835654,\n",
       "        0.        ],\n",
       "       [0.        , 0.        , 0.        , ..., 0.54570232, 0.63300627,\n",
       "        0.84706279],\n",
       "       [0.68953673, 0.        , 0.        , ..., 0.77384186, 0.        ,\n",
       "        0.        ],\n",
       "       ...,\n",
       "       [0.81995873, 0.86888028, 0.96873451, ..., 0.98854045, 0.79915597,\n",
       "        0.85892971],\n",
       "       [0.50333531, 0.        , 0.9697432 , ..., 0.66529415, 0.        ,\n",
       "        0.        ],\n",
       "       [0.        , 0.55292167, 0.99675177, ..., 0.66479604, 0.86740966,\n",
       "        0.76939621]])"
      ]
     },
     "execution_count": 79,
     "metadata": {},
     "output_type": "execute_result"
    }
   ],
   "source": [
    "n=2\n",
    "r[r[:, n].argsort()]"
   ]
  },
  {
   "cell_type": "markdown",
   "metadata": {},
   "source": [
    "12. Load the csv file into numpy array.\n",
    "\n",
    "File:\n",
    "\n",
    "```\n",
    "1, 2, 3, 4, 5\n",
    "6,  ,  , 7, 8\n",
    " ,  , 9,10,11\n",
    "```"
   ]
  },
  {
   "cell_type": "code",
   "execution_count": 81,
   "metadata": {},
   "outputs": [],
   "source": [
    "a = np.array(\n",
    "    [\n",
    "        [1, 2, 3, 4, 5],\n",
    "        [6, None, None, 7, 8],\n",
    "        [None, None, 9, 10, 11]\n",
    "    ]\n",
    ")"
   ]
  },
  {
   "cell_type": "markdown",
   "metadata": {
    "id": "PgfmRH4fJcwZ"
   },
   "source": [
    "13. Subtract the mean of each row of a matrix."
   ]
  },
  {
   "cell_type": "code",
   "execution_count": 83,
   "metadata": {
    "id": "IsIHyXgmJ-6x"
   },
   "outputs": [
    {
     "data": {
      "text/plain": [
       "array([[ 3.39493532e-01, -4.50471432e-02,  2.38149513e-02,\n",
       "        -4.49083547e-01,  6.31480130e-02,  9.34675045e-02,\n",
       "         4.44901700e-02, -5.40195725e-02, -1.22239620e-01,\n",
       "        -3.92928373e-01],\n",
       "       [-3.21403821e-01,  2.01843698e-01,  3.14197291e-01,\n",
       "         1.31049451e-01, -1.21553680e-01,  3.73892363e-01,\n",
       "         6.45648356e-01,  1.72179344e-01,  2.45513751e-01,\n",
       "        -3.10000288e-01],\n",
       "       [ 5.27537540e-01, -3.09556141e-01, -1.86814723e-01,\n",
       "         4.66034881e-01, -6.76422965e-03,  4.16362857e-02,\n",
       "         4.25379223e-01,  4.00316433e-01, -2.94879389e-01,\n",
       "        -1.72671742e-01],\n",
       "       [-2.29594145e-01, -5.17324472e-01,  3.83966613e-01,\n",
       "        -4.34896430e-01,  3.28964390e-01, -2.86397585e-01,\n",
       "         4.51027240e-01,  3.11272102e-01, -9.43411667e-02,\n",
       "         1.87115950e-02],\n",
       "       [-3.31582006e-01,  3.02756082e-01, -7.47625716e-02,\n",
       "        -3.69366987e-01,  1.62816155e-02,  3.03739698e-01,\n",
       "        -2.57749321e-01, -7.29735966e-02, -4.35406837e-01,\n",
       "        -6.40030252e-02],\n",
       "       [ 2.14001131e-01, -2.90332133e-01, -3.47771278e-01,\n",
       "        -2.50233336e-01, -3.23838585e-01,  3.21044699e-01,\n",
       "         1.32318651e-01, -2.27664457e-01,  3.76911762e-01,\n",
       "         1.30785585e-01],\n",
       "       [-2.52272493e-01, -4.33597628e-01, -3.38134829e-01,\n",
       "        -2.10861495e-01, -2.44600914e-01,  4.51252854e-02,\n",
       "         3.30404937e-01, -4.11919436e-01, -1.59942174e-01,\n",
       "        -3.11757309e-01],\n",
       "       [ 8.38362806e-02,  2.95786940e-01,  9.63508558e-02,\n",
       "        -1.29048257e-01,  5.37649162e-01, -2.10320623e-02,\n",
       "        -1.77476947e-01,  2.16903137e-01, -5.40059948e-02,\n",
       "         1.25750080e-01],\n",
       "       [-4.14159594e-04, -5.01082958e-01,  3.15320045e-01,\n",
       "         7.88277998e-02, -2.50362530e-01,  4.62225157e-01,\n",
       "         3.35013980e-01, -4.81196022e-01,  1.93366826e-01,\n",
       "         3.83998357e-01],\n",
       "       [ 4.49915881e-01,  2.21568742e-01,  4.33722460e-02,\n",
       "        -4.42382014e-01,  5.90293737e-01,  5.47860907e-01,\n",
       "        -1.52297818e-01, -3.98407693e-01, -3.46526915e-01,\n",
       "        -4.42474459e-01]])"
      ]
     },
     "execution_count": 83,
     "metadata": {},
     "output_type": "execute_result"
    }
   ],
   "source": [
    "r = np.random.rand(10, 10)\n",
    "means = np.mean(r, axis=1)\n",
    "r - means"
   ]
  },
  {
   "cell_type": "markdown",
   "metadata": {
    "id": "7FwporQmKMfV"
   },
   "source": [
    "14. Do a dot product of two matrices and print only the diagonal values."
   ]
  },
  {
   "cell_type": "code",
   "execution_count": 86,
   "metadata": {
    "id": "DqLnFglFKijP"
   },
   "outputs": [
    {
     "name": "stdout",
     "output_type": "stream",
     "text": [
      "[1.47653066 2.24767198 1.30855363 2.72899967 1.37617103 2.50146881\n",
      " 1.52873127 3.014201   1.40922402 2.19439176]\n"
     ]
    }
   ],
   "source": [
    "r1 = np.random.rand(10, 10)\n",
    "r2 = np.random.rand(10, 10)\n",
    "\n",
    "dotted = np.dot(r1, r2)\n",
    "diagonals = np.diag(dotted)\n",
    "print(diagonals)"
   ]
  },
  {
   "cell_type": "markdown",
   "metadata": {
    "id": "FwBos0hcKj5j"
   },
   "source": [
    "15. Swap two rows of a matrix."
   ]
  },
  {
   "cell_type": "code",
   "execution_count": 89,
   "metadata": {
    "id": "sXSrNvAhKr_1"
   },
   "outputs": [
    {
     "name": "stdout",
     "output_type": "stream",
     "text": [
      "[0.62841313 0.35431359 0.44402802 0.29327369 0.47342563 0.47750597\n",
      " 0.44073947 0.89982877 0.34867607 0.35806907] [0.75171877 0.82496528 0.61473771 0.55093584 0.73772171 0.88774666\n",
      " 0.42877372 0.13396249 0.81974128 0.79952507]\n",
      "[0.75171877 0.82496528 0.61473771 0.55093584 0.73772171 0.88774666\n",
      " 0.42877372 0.13396249 0.81974128 0.79952507] [0.75171877 0.82496528 0.61473771 0.55093584 0.73772171 0.88774666\n",
      " 0.42877372 0.13396249 0.81974128 0.79952507]\n"
     ]
    }
   ],
   "source": [
    "r1 = np.random.rand(10, 10)\n",
    "r2 = np.random.rand(10, 10)\n",
    "print(r1[2,:], r2[2,:])\n",
    "r1[2, :], r2[2, :] = r2[2, :], r1[2, :]\n",
    "print(r1[2,:], r2[2,:])\n"
   ]
  },
  {
   "cell_type": "markdown",
   "metadata": {},
   "source": [
    "16. Find a matrix rank."
   ]
  },
  {
   "cell_type": "code",
   "execution_count": 90,
   "metadata": {},
   "outputs": [],
   "source": [
    "r = np.random.rand(10, 10)\n",
    "rank = np.linalg.matrix_rank(r)"
   ]
  },
  {
   "cell_type": "markdown",
   "metadata": {
    "id": "FGSpfIrJK8JO"
   },
   "source": [
    "17. Find the most frequent value in an array"
   ]
  },
  {
   "cell_type": "code",
   "execution_count": 97,
   "metadata": {
    "id": "C4M6dF9zLAx2"
   },
   "outputs": [
    {
     "name": "stdout",
     "output_type": "stream",
     "text": [
      "[[8 8 0 7 0 4 3 8 8 6]\n",
      " [2 5 0 9 0 5 0 2 4 5]\n",
      " [4 3 1 1 1 9 4 6 3 4]\n",
      " [6 9 2 8 9 1 5 7 6 9]\n",
      " [8 0 5 9 7 9 6 3 5 0]\n",
      " [6 0 7 8 1 4 3 4 6 0]\n",
      " [5 9 9 4 1 7 1 4 0 4]\n",
      " [0 9 9 9 6 1 9 4 9 4]\n",
      " [8 5 3 5 2 2 1 9 0 3]\n",
      " [9 9 5 4 9 3 3 4 5 0]]\n",
      "9\n"
     ]
    }
   ],
   "source": [
    "r = np.random.randint(0, 10, (10, 10))\n",
    "most_common = np.bincount(r.flatten()).argmax()\n",
    "print(r)\n",
    "print(most_common)"
   ]
  },
  {
   "cell_type": "markdown",
   "metadata": {},
   "source": [
    "18. Considering a four dimensions array, how to get sum over the last two axis at once?"
   ]
  },
  {
   "cell_type": "code",
   "execution_count": 100,
   "metadata": {},
   "outputs": [
    {
     "data": {
      "text/plain": [
       "array([[50.39236602, 46.24939342, 54.30341888, 48.64003689, 40.56122336,\n",
       "        51.78741062, 48.31302872, 50.24868269, 44.13101418, 51.1694642 ],\n",
       "       [50.43909949, 49.54737388, 51.78304773, 44.955803  , 50.64533024,\n",
       "        51.94291792, 49.97022292, 48.80020236, 44.16666294, 45.68200076],\n",
       "       [50.40783485, 50.08465879, 50.40026033, 51.01311253, 50.59843498,\n",
       "        49.13372804, 48.69500462, 55.75829637, 45.2301391 , 48.01343883],\n",
       "       [49.74110745, 55.54690458, 49.38073216, 52.4442085 , 51.66837969,\n",
       "        49.33216181, 54.11588527, 52.1787646 , 49.20588552, 51.90773232],\n",
       "       [49.27519683, 48.39612504, 51.0200606 , 53.07018488, 54.67183048,\n",
       "        48.31092756, 49.02281132, 53.15745778, 51.18662442, 46.39369038],\n",
       "       [48.15809338, 46.07249426, 54.58433626, 50.21287856, 50.02080772,\n",
       "        50.02669955, 49.26839934, 51.05561325, 53.15590516, 51.88498132],\n",
       "       [48.76667654, 52.34097914, 49.33376579, 52.59579208, 45.54100295,\n",
       "        50.21286037, 50.00274486, 54.47967024, 49.20268191, 50.40513021],\n",
       "       [51.78284707, 50.37152817, 54.17922922, 49.12240642, 48.75799281,\n",
       "        48.27730039, 53.14333034, 49.46208636, 52.01119932, 45.38541497],\n",
       "       [48.29555082, 45.71733159, 51.49087069, 54.82635628, 49.76913809,\n",
       "        46.83332405, 48.09794753, 52.24826977, 49.78131054, 45.10796291],\n",
       "       [51.41769397, 50.64307059, 54.70867322, 45.27016563, 52.69872239,\n",
       "        55.88223514, 48.03454792, 47.85452342, 49.63604777, 48.33005747]])"
      ]
     },
     "execution_count": 100,
     "metadata": {},
     "output_type": "execute_result"
    }
   ],
   "source": [
    "r = np.random.rand(10, 10, 10, 10)\n",
    "sums = r.sum(axis=(2, 3))\n",
    "sums"
   ]
  }
 ],
 "metadata": {
  "colab": {
   "name": "7b_numpy_exercises.ipynb",
   "provenance": []
  },
  "kernelspec": {
   "display_name": "Python 3",
   "language": "python",
   "name": "python3"
  },
  "language_info": {
   "codemirror_mode": {
    "name": "ipython",
    "version": 3
   },
   "file_extension": ".py",
   "mimetype": "text/x-python",
   "name": "python",
   "nbconvert_exporter": "python",
   "pygments_lexer": "ipython3",
   "version": "3.10.12"
  }
 },
 "nbformat": 4,
 "nbformat_minor": 1
}
