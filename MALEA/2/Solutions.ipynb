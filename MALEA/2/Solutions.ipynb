{
 "cells": [
  {
   "cell_type": "markdown",
   "metadata": {},
   "source": [
    "# Machine Learning Exercises 2"
   ]
  },
  {
   "cell_type": "markdown",
   "metadata": {},
   "source": [
    "### Supervised vs Unsupervised problems\n",
    "**Exercise 1.** For each of the following problems, determine whether the problem is supervised or unsupervised.  \n",
    "- (a) Given detailed phone usage from many people, find interesting groups of people with similar behaviour.  \n",
    "      *Answer*: Segmentation problem, unsupervised.  \n",
    "\n",
    "- (b) Given detailed phone usage of many users along with their historic churn, predict if people are going to\n",
    "change contracts again.  \n",
    "      *Answer*: Prediction, supervised.  \n",
    "\n",
    "- (c) Given expression measurements of 1000s of genes for 100s of patients along with a binary variable indicating\n",
    "presence or absence of a specific cancer, predict if the cancer is present for a new patient.  \n",
    "     *Answer*: Prediction, supervised.  \n",
    "\n",
    "- (d) Given expression measurements of 1000s of genes for 100s of patients, find groups of functionally similar\n",
    "genes.  \n",
    "      *Answer*: Segmentation, unsupervised."
   ]
  },
  {
   "cell_type": "markdown",
   "metadata": {},
   "source": [
    "### Classification vs Regression\n",
    "**Ecercise 2.** For data with each of the following outcome variables, determine whether the problem is suitable\n",
    "for classification or regression:  \n",
    "- (a) Presence or absence of cancer.  \n",
    "      *Answer*: Yes/no, classification.  \n",
    "- (b) Favourite fruits  \n",
    "      *Answer*: List of fruits, classification.  \n",
    "- (c) Annual income in kroner  \n",
    "      *Answer*: Continuous number, regression.  \n",
    "- (d) Income bracket  \n",
    "      *Answer*: Kind of both. You need regression to predict the income, and then you can use that to determine a bracket."
   ]
  },
  {
   "cell_type": "markdown",
   "metadata": {},
   "source": [
    "### Linear regression models  \n",
    "Imagine we have a dataset with two features: $x_1$ and $x_2$ that are numerical (real-valued) variables  \n",
    "    Consider the following models,\n",
    "- (a) $Y=\\beta_0+\\beta_1x_1+\\epsilon$  \n",
    "- (b) $Y=\\beta_0+\\beta_1x_1+\\beta_2x_2+\\epsilon$  \n",
    "- (c) $Y=\\beta_0+\\beta_1x_1+\\beta_2x_2+\\beta_3(x_1x_2)+\\epsilon$  \n",
    "- (d) $Y=\\beta_0+\\beta_1x_1+\\beta_2x_2+\\beta_3(x_1x_2)+\\beta_4x_1^2+\\beta_5x_2^2+\\epsilon$  "
   ]
  },
  {
   "cell_type": "markdown",
   "metadata": {},
   "source": [
    "**Exercise 3.** Explain how a unit change in $x_1$ would affect $y$ (leaving $x_2$ unchanged) in each model (a–d)  \n",
    "*Answer*:  \n",
    "- (a) $y$ would increase by $\\beta_1$.  \n",
    "- (b) $y$ would increase by $\\beta_1$.  \n",
    "- (c) $y$ would increase by $\\beta_1+\\beta_3x_2$.  \n",
    "- (d) $y$ would increase by $\\beta_1+\\beta_3x_2+$ an exponential $\\beta_4$.  "
   ]
  },
  {
   "cell_type": "markdown",
   "metadata": {},
   "source": [
    "**Exercise 4.** Make a hand-drawn sketch of the functional relationship between Y and the two features in each\n",
    "of the models (a–d)  \n",
    "*Answer*:  \n",
    "- (a)  \n",
    "![](./a1.png)  \n",
    "- (b)  \n",
    "![](./b.png)  \n",
    "- (c)  \n",
    "![](./c.png)  \n",
    "- (d)  \n",
    "![](./d.png)  "
   ]
  },
  {
   "cell_type": "markdown",
   "metadata": {},
   "source": [
    "**Exercise 5.** A linear regression model can be formulated also in matrix notation as  \n",
    "$$\n",
    "Y=X\\beta+\\epsilon\n",
    "$$\n",
    "Explain what $X$ would be for each of models (a–d).  \n",
    "*Answer*:  \n",
    "In all models, it would be a vector of the predictor variables. E.g. in (d) it would be  \n",
    "$$\n",
    "\\begin{bmatrix}\n",
    "1 & x_1 & x_2 & x_1x_2 & x_1^2 & x_2^2\n",
    "\\end{bmatrix}^T\n",
    "$$\n",
    "The dot product is then taken with the vector of parameters:\n",
    "$$\n",
    "\\begin{bmatrix}\n",
    "\\beta_0 & \\beta_1 & \\beta_2 & \\beta_3 & \\beta_4 & \\beta_5\n",
    "\\end{bmatrix}^T\n",
    "$$"
   ]
  },
  {
   "cell_type": "markdown",
   "metadata": {},
   "source": [
    "**Exercise 6.** Introduce now a third, categorical, feature $C$ with two levels yes/no.  \n",
    "$$\n",
    "Y=\\beta_0+\\beta_1x_1+\\beta_2C_\\text{yes}+\\epsilon\n",
    "$$  \n",
    "*Answer*:  \n",
    "In this case, $C$ is part of the matric with a value of either 0 or 1.  \n",
    "$$\n",
    "\\begin{bmatrix}\n",
    "1 & x_1 & C_\\text{yes}\n",
    "\\end{bmatrix}^T\n",
    "$$"
   ]
  },
  {
   "cell_type": "markdown",
   "metadata": {},
   "source": [
    "**Exercise 7.** Sketch and explain the change to the relationship between $Y$ and $x_1$ and $x_2$ if you introduce\n",
    "interactions between $C$ and $x_1$ and between $C$ and $x_2$ in each of the four models (a–d).  \n",
    "*Answer*:  \n",
    "The only difference would be a steeper slope whenever $C$ is $1$."
   ]
  }
 ],
 "metadata": {
  "kernelspec": {
   "display_name": "malea",
   "language": "python",
   "name": "python3"
  },
  "language_info": {
   "name": "python",
   "version": "3.10.12"
  },
  "orig_nbformat": 4
 },
 "nbformat": 4,
 "nbformat_minor": 2
}
