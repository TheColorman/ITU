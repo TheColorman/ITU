{
 "cells": [
  {
   "cell_type": "markdown",
   "metadata": {},
   "source": [
    "# Exercise 6: Logistic regression and classification\n",
    "\n",
    "You will be pleased to find that the framework for logistic regression is very similar to that of the linear regression. For this exercise we use the `GLM` method in the statsmodels library (https://www.statsmodels.org/stable/glm.html), in which we specify the model via the model matrix `X`. There is also an equivalent method, `glm`, that allows specification via the formula API just as for linear regression. The sklearn library has also a `LogisticRegression` method, but note that it by default regularizes the estimated coefficients using an L2-penalty. To run a classical logistic regression with parameters estimated by maximum likelihood, you will need to set `penalty = 'none'`."
   ]
  },
  {
   "cell_type": "code",
   "execution_count": 2,
   "metadata": {},
   "outputs": [],
   "source": [
    "# Import relevant packages\n",
    "import numpy as np\n",
    "from pandas import read_csv, DataFrame\n",
    "from math import log, sqrt\n",
    "import matplotlib.pyplot as plt\n",
    "\n",
    "import statsmodels.api as sm\n",
    "import statsmodels.formula.api as smf \n",
    "\n",
    "from typing import Tuple"
   ]
  },
  {
   "cell_type": "markdown",
   "metadata": {},
   "source": [
    "## Getting familiar with the model\n",
    "\n",
    "### Translation between log-odds and probabilities\n",
    "\n",
    "\n",
    "Implement the standard logistic function `sigma` as well as its inverse, the logit function. Make a plot of `sigma`\n",
    "\n",
    "Explain how these two functions are used to transform a probability into log-odds and vice versa."
   ]
  },
  {
   "cell_type": "code",
   "execution_count": 3,
   "metadata": {},
   "outputs": [
    {
     "data": {
      "image/png": "[encoded data removed]",
      "text/plain": [
       "<Figure size 1000x300 with 2 Axes>"
      ]
     },
     "metadata": {},
     "output_type": "display_data"
    }
   ],
   "source": [
    "def sigma(eta: float) -> float:\n",
    "    \"\"\"\n",
    "    Takes the value of a linear regression, eta, and turns it into a probability\n",
    "    \"\"\"\n",
    "    eeta = np.e**(-eta)\n",
    "    return 1 / ( 1 + eeta )\n",
    "def logit(prob: float) -> float:\n",
    "    \"\"\"\n",
    "    Takes the probability of a logistic regressian, prob, and turnt it into a linea regression value, eta\n",
    "    \"\"\"\n",
    "    return np.log(prob / ( 1 - prob ))\n",
    "def linear_regression(X: np.ndarray, beta: np.ndarray) -> np.ndarray:\n",
    "    \"\"\"\n",
    "    Predicts \\hat{y} from a vector of observations and a vector of coefficients.\n",
    "    \"\"\"\n",
    "    if X.shape[1] != beta.shape[0]:\n",
    "        X = np.c_[np.ones(X.shape[0]), X]\n",
    "    return X.dot(beta)\n",
    "\n",
    "fig, ax = plt.subplots(1, 2, figsize=(10, 3))\n",
    "X = np.random.randint(-5, 5, (100, 10))\n",
    "beta = (np.random.rand(11) - 0.5) * 2\n",
    "\n",
    "lin_X = np.sort(linear_regression(X, beta))\n",
    "y_1 = sigma(lin_X)\n",
    "y_2 = logit(y_1)\n",
    "ax[0].plot(lin_X, y_1)\n",
    "ax[1].plot(lin_X, y_2)\n",
    "plt.show()\n",
    "# Just as expected, the sigma is an S curve and the logit is linear.\n",
    "# The sigma function fraps a linear regression to turn it into a logistic regression, clamping it between 0 and 1.\n",
    "# The logit does the opposite, it takes the logistic regression curve and turns it into a linear regression."
   ]
  },
  {
   "cell_type": "markdown",
   "metadata": {},
   "source": [
    "Consider a logistic regression model with a single feature $X$ where $\\beta_0=0.3$ and $\\beta_1=0.7$. \n",
    "\n",
    "A) What is the probability of Y=1 when X=5?\n",
    "\n",
    "B) What are the odds of Y=1 for X=5?\n",
    "\n",
    "C) What is the *odds ratio* comparing odds of Y=1 when X=8 to the odds when X=5?"
   ]
  },
  {
   "cell_type": "code",
   "execution_count": 4,
   "metadata": {},
   "outputs": [
    {
     "name": "stdout",
     "output_type": "stream",
     "text": [
      "Probability of Y=1 when X=5 is 97.8%\n",
      "The odds of Y=1 are 44.7 to one\n",
      "The odds ratio says that Y being 1 when X is 8 is 8.2 times more likely than Y being 1 when X is 5\n"
     ]
    }
   ],
   "source": [
    "# A\n",
    "beta = np.array([0.3, 0.7])\n",
    "X5 = np.array([[5]])\n",
    "lin_y = linear_regression(X5, beta)\n",
    "prob = sigma(lin_y)\n",
    "print(f\"Probability of Y=1 when X=5 is {prob[0]*100:.1f}%\")\n",
    "\n",
    "# B\n",
    "def get_odds(prob: float) -> float:\n",
    "    return prob / ( 1 - prob )\n",
    "\n",
    "odds = get_odds(prob)\n",
    "print(f\"The odds of Y=1 are {odds[0]:.1f} to one\")\n",
    "\n",
    "# C\n",
    "X8 = np.array([[8]])\n",
    "def logistic_regression(X, beta):\n",
    "    \"\"\"\n",
    "    Computes the logistic regression probability with a data matrix X and a vector of coefficients beta\n",
    "    \"\"\"\n",
    "    return sigma(linear_regression(X, beta))\n",
    "prob = logistic_regression(X8, beta)\n",
    "odds8 = get_odds(prob)\n",
    "odds_ratio = odds8 / odds\n",
    "print(f\"The odds ratio says that Y being 1 when X is 8 is {odds_ratio[0]:.1f} times more likely than Y being 1 when X is 5\")"
   ]
  },
  {
   "cell_type": "markdown",
   "metadata": {},
   "source": [
    "## Load data\n",
    "\n",
    "Load the `Default` data set from the ISLwR book, which is a simulated data set containing information on ten thousand customers. We will recreate the results in section 4.3. The aim with the data is to predict which customers will default on their credit card debt.\n",
    "\n",
    "`default`: A binary variable with levels No and Yes indicating whether the customer defaulted on their debt.\n",
    "\n",
    "`student` A factor with levels No and Yes indicating whether the customer is a student\n",
    "\n",
    "`balance` The average balance that the customer has remaining on their credit card after making their monthly payment\n",
    "\n",
    "`income` Income of customer"
   ]
  },
  {
   "cell_type": "code",
   "execution_count": 4,
   "metadata": {},
   "outputs": [
    {
     "data": {
      "text/html": [
       "<div>\n",
       "<style scoped>\n",
       "    .dataframe tbody tr th:only-of-type {\n",
       "        vertical-align: middle;\n",
       "    }\n",
       "\n",
       "    .dataframe tbody tr th {\n",
       "        vertical-align: top;\n",
       "    }\n",
       "\n",
       "    .dataframe thead th {\n",
       "        text-align: right;\n",
       "    }\n",
       "</style>\n",
       "<table border=\"1\" class=\"dataframe\">\n",
       "  <thead>\n",
       "    <tr style=\"text-align: right;\">\n",
       "      <th></th>\n",
       "      <th>default</th>\n",
       "      <th>student</th>\n",
       "      <th>balance</th>\n",
       "      <th>income</th>\n",
       "    </tr>\n",
       "  </thead>\n",
       "  <tbody>\n",
       "    <tr>\n",
       "      <th>0</th>\n",
       "      <td>No</td>\n",
       "      <td>No</td>\n",
       "      <td>729.526495</td>\n",
       "      <td>44361.625074</td>\n",
       "    </tr>\n",
       "    <tr>\n",
       "      <th>1</th>\n",
       "      <td>No</td>\n",
       "      <td>Yes</td>\n",
       "      <td>817.180407</td>\n",
       "      <td>12106.134700</td>\n",
       "    </tr>\n",
       "    <tr>\n",
       "      <th>2</th>\n",
       "      <td>No</td>\n",
       "      <td>No</td>\n",
       "      <td>1073.549164</td>\n",
       "      <td>31767.138947</td>\n",
       "    </tr>\n",
       "    <tr>\n",
       "      <th>3</th>\n",
       "      <td>No</td>\n",
       "      <td>No</td>\n",
       "      <td>529.250605</td>\n",
       "      <td>35704.493935</td>\n",
       "    </tr>\n",
       "    <tr>\n",
       "      <th>4</th>\n",
       "      <td>No</td>\n",
       "      <td>No</td>\n",
       "      <td>785.655883</td>\n",
       "      <td>38463.495879</td>\n",
       "    </tr>\n",
       "  </tbody>\n",
       "</table>\n",
       "</div>"
      ],
      "text/plain": [
       "  default student      balance        income\n",
       "0      No      No   729.526495  44361.625074\n",
       "1      No     Yes   817.180407  12106.134700\n",
       "2      No      No  1073.549164  31767.138947\n",
       "3      No      No   529.250605  35704.493935\n",
       "4      No      No   785.655883  38463.495879"
      ]
     },
     "execution_count": 4,
     "metadata": {},
     "output_type": "execute_result"
    }
   ],
   "source": [
    "df = read_csv('Default.csv')\n",
    "df.head()"
   ]
  },
  {
   "cell_type": "markdown",
   "metadata": {},
   "source": [
    "Split data into a training set and a test set"
   ]
  },
  {
   "cell_type": "code",
   "execution_count": 5,
   "metadata": {},
   "outputs": [
    {
     "name": "stdout",
     "output_type": "stream",
     "text": [
      "10000 8000 2000\n"
     ]
    }
   ],
   "source": [
    "test_fraction = 5 # 1 / value\n",
    "seed = 1337\n",
    "\n",
    "def set_seed(seed: int):\n",
    "    np.random.seed(int)\n",
    "\n",
    "def split_data(df: DataFrame, test_fraction: int) -> Tuple[DataFrame, DataFrame]:\n",
    "    \"\"\"Splits the dataframe into train and test sets according to test_fraction\"\"\"\n",
    "    n = len(df)\n",
    "    test_size = n // test_fraction\n",
    "    test_sample = np.random.choice(n, test_size, replace=False)\n",
    "    test_data = df.loc[test_sample]\n",
    "    train_data = df.drop(test_sample)\n",
    "    return train_data, test_data\n",
    "\n",
    "train_df, test_df = split_data(df, test_fraction)\n",
    "print(len(df), len(train_df), len(test_df))"
   ]
  },
  {
   "cell_type": "markdown",
   "metadata": {},
   "source": [
    "## Fitting the logistic regression\n",
    "\n",
    "A logistic regression model is specified as\n",
    "\n",
    "`sm.GLM(y, X, family=sm.families.Binomial(link = sm.families.links.logit()))`\n",
    "\n",
    "Here we have specified\n",
    "1. the outcome variable Y\n",
    "2. the model matrix X, which specifies how features enter the model\n",
    "3. the *family* of distributions for Y, which is the *binomial distribution*\n",
    "4. the *link function*, which is the *logit* for performing logistic regression. This link function is the default for the binomial, so we can leave it out.\n",
    "\n",
    "As for linear regression, the model is fitted with the `fit` method. From the resulting object you can obtain parameters and the fitted values on the training data. You predict with `predict` method and you can see the output via `summary` method.\n",
    "\n",
    "Fit a logistic regression model, `M1`, that has `balance` as the only feature, and check your results against Table 4.1 in ISLwR."
   ]
  },
  {
   "cell_type": "code",
   "execution_count": 6,
   "metadata": {},
   "outputs": [
    {
     "data": {
      "text/html": [
       "<table class=\"simpletable\">\n",
       "<caption>Generalized Linear Model Regression Results</caption>\n",
       "<tr>\n",
       "  <th>Dep. Variable:</th>           <td>y</td>        <th>  No. Observations:  </th>  <td>  8000</td> \n",
       "</tr>\n",
       "<tr>\n",
       "  <th>Model:</th>                  <td>GLM</td>       <th>  Df Residuals:      </th>  <td>  7998</td> \n",
       "</tr>\n",
       "<tr>\n",
       "  <th>Model Family:</th>        <td>Binomial</td>     <th>  Df Model:          </th>  <td>     1</td> \n",
       "</tr>\n",
       "<tr>\n",
       "  <th>Link Function:</th>         <td>Logit</td>      <th>  Scale:             </th> <td>  1.0000</td>\n",
       "</tr>\n",
       "<tr>\n",
       "  <th>Method:</th>                <td>IRLS</td>       <th>  Log-Likelihood:    </th> <td> -626.92</td>\n",
       "</tr>\n",
       "<tr>\n",
       "  <th>Date:</th>            <td>Thu, 14 Sep 2023</td> <th>  Deviance:          </th> <td>  1253.8</td>\n",
       "</tr>\n",
       "<tr>\n",
       "  <th>Time:</th>                <td>11:41:03</td>     <th>  Pearson chi2:      </th> <td>4.50e+03</td>\n",
       "</tr>\n",
       "<tr>\n",
       "  <th>No. Iterations:</th>          <td>9</td>        <th>  Pseudo R-squ. (CS):</th>  <td>0.1218</td> \n",
       "</tr>\n",
       "<tr>\n",
       "  <th>Covariance Type:</th>     <td>nonrobust</td>    <th>                     </th>     <td> </td>   \n",
       "</tr>\n",
       "</table>\n",
       "<table class=\"simpletable\">\n",
       "<tr>\n",
       "     <td></td>        <th>coef</th>     <th>std err</th>      <th>z</th>      <th>P>|z|</th>  <th>[0.025</th>    <th>0.975]</th>  \n",
       "</tr>\n",
       "<tr>\n",
       "  <th>const</th>   <td>  -10.8120</td> <td>    0.416</td> <td>  -26.006</td> <td> 0.000</td> <td>  -11.627</td> <td>   -9.997</td>\n",
       "</tr>\n",
       "<tr>\n",
       "  <th>balance</th> <td>    0.0056</td> <td>    0.000</td> <td>   22.056</td> <td> 0.000</td> <td>    0.005</td> <td>    0.006</td>\n",
       "</tr>\n",
       "</table>"
      ],
      "text/latex": [
       "\\begin{center}\n",
       "\\begin{tabular}{lclc}\n",
       "\\toprule\n",
       "\\textbf{Dep. Variable:}   &        y         & \\textbf{  No. Observations:  } &     8000    \\\\\n",
       "\\textbf{Model:}           &       GLM        & \\textbf{  Df Residuals:      } &     7998    \\\\\n",
       "\\textbf{Model Family:}    &     Binomial     & \\textbf{  Df Model:          } &        1    \\\\\n",
       "\\textbf{Link Function:}   &      Logit       & \\textbf{  Scale:             } &    1.0000   \\\\\n",
       "\\textbf{Method:}          &       IRLS       & \\textbf{  Log-Likelihood:    } &   -626.92   \\\\\n",
       "\\textbf{Date:}            & Thu, 14 Sep 2023 & \\textbf{  Deviance:          } &    1253.8   \\\\\n",
       "\\textbf{Time:}            &     11:41:03     & \\textbf{  Pearson chi2:      } &  4.50e+03   \\\\\n",
       "\\textbf{No. Iterations:}  &        9         & \\textbf{  Pseudo R-squ. (CS):} &   0.1218    \\\\\n",
       "\\textbf{Covariance Type:} &    nonrobust     & \\textbf{                     } &             \\\\\n",
       "\\bottomrule\n",
       "\\end{tabular}\n",
       "\\begin{tabular}{lcccccc}\n",
       "                 & \\textbf{coef} & \\textbf{std err} & \\textbf{z} & \\textbf{P$> |$z$|$} & \\textbf{[0.025} & \\textbf{0.975]}  \\\\\n",
       "\\midrule\n",
       "\\textbf{const}   &     -10.8120  &        0.416     &   -26.006  &         0.000        &      -11.627    &       -9.997     \\\\\n",
       "\\textbf{balance} &       0.0056  &        0.000     &    22.056  &         0.000        &        0.005    &        0.006     \\\\\n",
       "\\bottomrule\n",
       "\\end{tabular}\n",
       "%\\caption{Generalized Linear Model Regression Results}\n",
       "\\end{center}"
      ],
      "text/plain": [
       "<class 'statsmodels.iolib.summary.Summary'>\n",
       "\"\"\"\n",
       "                 Generalized Linear Model Regression Results                  \n",
       "==============================================================================\n",
       "Dep. Variable:                      y   No. Observations:                 8000\n",
       "Model:                            GLM   Df Residuals:                     7998\n",
       "Model Family:                Binomial   Df Model:                            1\n",
       "Link Function:                  Logit   Scale:                          1.0000\n",
       "Method:                          IRLS   Log-Likelihood:                -626.92\n",
       "Date:                Thu, 14 Sep 2023   Deviance:                       1253.8\n",
       "Time:                        11:41:03   Pearson chi2:                 4.50e+03\n",
       "No. Iterations:                     9   Pseudo R-squ. (CS):             0.1218\n",
       "Covariance Type:            nonrobust                                         \n",
       "==============================================================================\n",
       "                 coef    std err          z      P>|z|      [0.025      0.975]\n",
       "------------------------------------------------------------------------------\n",
       "const        -10.8120      0.416    -26.006      0.000     -11.627      -9.997\n",
       "balance        0.0056      0.000     22.056      0.000       0.005       0.006\n",
       "==============================================================================\n",
       "\"\"\""
      ]
     },
     "execution_count": 6,
     "metadata": {},
     "output_type": "execute_result"
    }
   ],
   "source": [
    "y_train = np.where(train_df['default'] == 'No', 0, 1)\n",
    "X_train = train_df['balance']\n",
    "X_train_constant = sm.add_constant(X_train)\n",
    "M1 = sm.GLM(y_train, X_train_constant, family=sm.families.Binomial()).fit()\n",
    "\"\"\" Book data:\n",
    "|           | Coefficient | Std. error | z-statistic | p-value |\n",
    "| Intercept |    −10.6513 |     0.3612 |       −29.5 | <0.0001 |\n",
    "| balance   |      0.0055 |     0.0002 |        24.9 | <0.0001 |\n",
    "\"\"\"\n",
    "M1.summary()"
   ]
  },
  {
   "cell_type": "markdown",
   "metadata": {},
   "source": [
    "Fit the exact same model, but using `LogisticRegression` from sklearn, taking care that you turn off regularization."
   ]
  },
  {
   "cell_type": "code",
   "execution_count": 7,
   "metadata": {},
   "outputs": [
    {
     "name": "stdout",
     "output_type": "stream",
     "text": [
      "Intercept: [-10.81199243]\n",
      "Coefficients: [[0.00557246]]\n"
     ]
    }
   ],
   "source": [
    "from sklearn.linear_model import LogisticRegression as SKLLogisticRegression\n",
    "X_train_reshaped = np.reshape(X_train, (-1, 1))\n",
    "M1sk = SKLLogisticRegression(penalty=None, random_state=seed).fit(X_train_reshaped, y_train)\n",
    "coff = M1sk.coef_\n",
    "intercept = M1sk.intercept_\n",
    "# stderror = I am not calculating this manually fuck you. See https://stackoverflow.com/a/58357360/9877700 for how to do this\n",
    "# and https://stackoverflow.com/q/27928275/9877700 for p values\n",
    "print(f\"Intercept: {intercept}\")\n",
    "print(f\"Coefficients: {coff}\")\n",
    "# Same valuer, I'm happy."
   ]
  },
  {
   "cell_type": "markdown",
   "metadata": {},
   "source": [
    "Fit another model, `M2`, that takes a single *categorical* feature, `student`, and check the results against Table 4.2"
   ]
  },
  {
   "cell_type": "code",
   "execution_count": 8,
   "metadata": {},
   "outputs": [
    {
     "data": {
      "text/html": [
       "<table class=\"simpletable\">\n",
       "<caption>Generalized Linear Model Regression Results</caption>\n",
       "<tr>\n",
       "  <th>Dep. Variable:</th>           <td>y</td>        <th>  No. Observations:  </th>  <td>  8000</td> \n",
       "</tr>\n",
       "<tr>\n",
       "  <th>Model:</th>                  <td>GLM</td>       <th>  Df Residuals:      </th>  <td>  7998</td> \n",
       "</tr>\n",
       "<tr>\n",
       "  <th>Model Family:</th>        <td>Binomial</td>     <th>  Df Model:          </th>  <td>     1</td> \n",
       "</tr>\n",
       "<tr>\n",
       "  <th>Link Function:</th>         <td>Logit</td>      <th>  Scale:             </th> <td>  1.0000</td>\n",
       "</tr>\n",
       "<tr>\n",
       "  <th>Method:</th>                <td>IRLS</td>       <th>  Log-Likelihood:    </th> <td> -1142.3</td>\n",
       "</tr>\n",
       "<tr>\n",
       "  <th>Date:</th>            <td>Thu, 14 Sep 2023</td> <th>  Deviance:          </th> <td>  2284.6</td>\n",
       "</tr>\n",
       "<tr>\n",
       "  <th>Time:</th>                <td>11:41:03</td>     <th>  Pearson chi2:      </th> <td>8.00e+03</td>\n",
       "</tr>\n",
       "<tr>\n",
       "  <th>No. Iterations:</th>          <td>6</td>        <th>  Pseudo R-squ. (CS):</th> <td>0.001085</td>\n",
       "</tr>\n",
       "<tr>\n",
       "  <th>Covariance Type:</th>     <td>nonrobust</td>    <th>                     </th>     <td> </td>   \n",
       "</tr>\n",
       "</table>\n",
       "<table class=\"simpletable\">\n",
       "<tr>\n",
       "    <td></td>       <th>coef</th>     <th>std err</th>      <th>z</th>      <th>P>|z|</th>  <th>[0.025</th>    <th>0.975]</th>  \n",
       "</tr>\n",
       "<tr>\n",
       "  <th>const</th> <td>   -3.5247</td> <td>    0.080</td> <td>  -44.079</td> <td> 0.000</td> <td>   -3.681</td> <td>   -3.368</td>\n",
       "</tr>\n",
       "<tr>\n",
       "  <th>x1</th>    <td>    0.3901</td> <td>    0.130</td> <td>    2.998</td> <td> 0.003</td> <td>    0.135</td> <td>    0.645</td>\n",
       "</tr>\n",
       "</table>"
      ],
      "text/latex": [
       "\\begin{center}\n",
       "\\begin{tabular}{lclc}\n",
       "\\toprule\n",
       "\\textbf{Dep. Variable:}   &        y         & \\textbf{  No. Observations:  } &     8000    \\\\\n",
       "\\textbf{Model:}           &       GLM        & \\textbf{  Df Residuals:      } &     7998    \\\\\n",
       "\\textbf{Model Family:}    &     Binomial     & \\textbf{  Df Model:          } &        1    \\\\\n",
       "\\textbf{Link Function:}   &      Logit       & \\textbf{  Scale:             } &    1.0000   \\\\\n",
       "\\textbf{Method:}          &       IRLS       & \\textbf{  Log-Likelihood:    } &   -1142.3   \\\\\n",
       "\\textbf{Date:}            & Thu, 14 Sep 2023 & \\textbf{  Deviance:          } &    2284.6   \\\\\n",
       "\\textbf{Time:}            &     11:41:03     & \\textbf{  Pearson chi2:      } &  8.00e+03   \\\\\n",
       "\\textbf{No. Iterations:}  &        6         & \\textbf{  Pseudo R-squ. (CS):} &  0.001085   \\\\\n",
       "\\textbf{Covariance Type:} &    nonrobust     & \\textbf{                     } &             \\\\\n",
       "\\bottomrule\n",
       "\\end{tabular}\n",
       "\\begin{tabular}{lcccccc}\n",
       "               & \\textbf{coef} & \\textbf{std err} & \\textbf{z} & \\textbf{P$> |$z$|$} & \\textbf{[0.025} & \\textbf{0.975]}  \\\\\n",
       "\\midrule\n",
       "\\textbf{const} &      -3.5247  &        0.080     &   -44.079  &         0.000        &       -3.681    &       -3.368     \\\\\n",
       "\\textbf{x1}    &       0.3901  &        0.130     &     2.998  &         0.003        &        0.135    &        0.645     \\\\\n",
       "\\bottomrule\n",
       "\\end{tabular}\n",
       "%\\caption{Generalized Linear Model Regression Results}\n",
       "\\end{center}"
      ],
      "text/plain": [
       "<class 'statsmodels.iolib.summary.Summary'>\n",
       "\"\"\"\n",
       "                 Generalized Linear Model Regression Results                  \n",
       "==============================================================================\n",
       "Dep. Variable:                      y   No. Observations:                 8000\n",
       "Model:                            GLM   Df Residuals:                     7998\n",
       "Model Family:                Binomial   Df Model:                            1\n",
       "Link Function:                  Logit   Scale:                          1.0000\n",
       "Method:                          IRLS   Log-Likelihood:                -1142.3\n",
       "Date:                Thu, 14 Sep 2023   Deviance:                       2284.6\n",
       "Time:                        11:41:03   Pearson chi2:                 8.00e+03\n",
       "No. Iterations:                     6   Pseudo R-squ. (CS):           0.001085\n",
       "Covariance Type:            nonrobust                                         \n",
       "==============================================================================\n",
       "                 coef    std err          z      P>|z|      [0.025      0.975]\n",
       "------------------------------------------------------------------------------\n",
       "const         -3.5247      0.080    -44.079      0.000      -3.681      -3.368\n",
       "x1             0.3901      0.130      2.998      0.003       0.135       0.645\n",
       "==============================================================================\n",
       "\"\"\""
      ]
     },
     "execution_count": 8,
     "metadata": {},
     "output_type": "execute_result"
    }
   ],
   "source": [
    "X_train = train_df['student']\n",
    "# We need to use one-hot encoding to create a dummy variable. 1 = student,\n",
    "X_train = np.where(X_train == \"No\", 0, 1)\n",
    "X_train_constant = sm.add_constant(X_train)\n",
    "M2 = sm.GLM(y_train, X_train_constant, family=sm.families.Binomial()).fit()\n",
    "\"\"\" Book data:\n",
    "|              | Coefficient | Std. error | z-statistic | p-value |\n",
    "| Intercept    |     −3.5041 |     0.0707 |      −49.55 | <0.0001 |\n",
    "| student[Yes] |      0.4049 |     0.1150 |        3.52 |  0.0004 |\n",
    "\"\"\"\n",
    "M2.summary()\n",
    "# Pretty close. M1 was closer though. Randomness innit."
   ]
  },
  {
   "cell_type": "markdown",
   "metadata": {},
   "source": [
    "Fit a model, `M3`, that has an interaction between `student` and `balance`."
   ]
  },
  {
   "cell_type": "code",
   "execution_count": 9,
   "metadata": {},
   "outputs": [
    {
     "data": {
      "text/html": [
       "<table class=\"simpletable\">\n",
       "<caption>Generalized Linear Model Regression Results</caption>\n",
       "<tr>\n",
       "  <th>Dep. Variable:</th>           <td>y</td>        <th>  No. Observations:  </th>  <td>  8000</td> \n",
       "</tr>\n",
       "<tr>\n",
       "  <th>Model:</th>                  <td>GLM</td>       <th>  Df Residuals:      </th>  <td>  7996</td> \n",
       "</tr>\n",
       "<tr>\n",
       "  <th>Model Family:</th>        <td>Binomial</td>     <th>  Df Model:          </th>  <td>     3</td> \n",
       "</tr>\n",
       "<tr>\n",
       "  <th>Link Function:</th>         <td>Logit</td>      <th>  Scale:             </th> <td>  1.0000</td>\n",
       "</tr>\n",
       "<tr>\n",
       "  <th>Method:</th>                <td>IRLS</td>       <th>  Log-Likelihood:    </th> <td> -615.68</td>\n",
       "</tr>\n",
       "<tr>\n",
       "  <th>Date:</th>            <td>Thu, 14 Sep 2023</td> <th>  Deviance:          </th> <td>  1231.4</td>\n",
       "</tr>\n",
       "<tr>\n",
       "  <th>Time:</th>                <td>11:41:03</td>     <th>  Pearson chi2:      </th> <td>4.65e+03</td>\n",
       "</tr>\n",
       "<tr>\n",
       "  <th>No. Iterations:</th>          <td>9</td>        <th>  Pseudo R-squ. (CS):</th>  <td>0.1243</td> \n",
       "</tr>\n",
       "<tr>\n",
       "  <th>Covariance Type:</th>     <td>nonrobust</td>    <th>                     </th>     <td> </td>   \n",
       "</tr>\n",
       "</table>\n",
       "<table class=\"simpletable\">\n",
       "<tr>\n",
       "         <td></td>            <th>coef</th>     <th>std err</th>      <th>z</th>      <th>P>|z|</th>  <th>[0.025</th>    <th>0.975]</th>  \n",
       "</tr>\n",
       "<tr>\n",
       "  <th>const</th>           <td>  -11.2468</td> <td>    0.547</td> <td>  -20.564</td> <td> 0.000</td> <td>  -12.319</td> <td>  -10.175</td>\n",
       "</tr>\n",
       "<tr>\n",
       "  <th>balance</th>         <td>    0.0060</td> <td>    0.000</td> <td>   17.547</td> <td> 0.000</td> <td>    0.005</td> <td>    0.007</td>\n",
       "</tr>\n",
       "<tr>\n",
       "  <th>student</th>         <td>    0.1297</td> <td>    0.912</td> <td>    0.142</td> <td> 0.887</td> <td>   -1.659</td> <td>    1.918</td>\n",
       "</tr>\n",
       "<tr>\n",
       "  <th>balanceXstudent</th> <td>   -0.0005</td> <td>    0.001</td> <td>   -0.980</td> <td> 0.327</td> <td>   -0.002</td> <td>    0.001</td>\n",
       "</tr>\n",
       "</table>"
      ],
      "text/latex": [
       "\\begin{center}\n",
       "\\begin{tabular}{lclc}\n",
       "\\toprule\n",
       "\\textbf{Dep. Variable:}   &        y         & \\textbf{  No. Observations:  } &     8000    \\\\\n",
       "\\textbf{Model:}           &       GLM        & \\textbf{  Df Residuals:      } &     7996    \\\\\n",
       "\\textbf{Model Family:}    &     Binomial     & \\textbf{  Df Model:          } &        3    \\\\\n",
       "\\textbf{Link Function:}   &      Logit       & \\textbf{  Scale:             } &    1.0000   \\\\\n",
       "\\textbf{Method:}          &       IRLS       & \\textbf{  Log-Likelihood:    } &   -615.68   \\\\\n",
       "\\textbf{Date:}            & Thu, 14 Sep 2023 & \\textbf{  Deviance:          } &    1231.4   \\\\\n",
       "\\textbf{Time:}            &     11:41:03     & \\textbf{  Pearson chi2:      } &  4.65e+03   \\\\\n",
       "\\textbf{No. Iterations:}  &        9         & \\textbf{  Pseudo R-squ. (CS):} &   0.1243    \\\\\n",
       "\\textbf{Covariance Type:} &    nonrobust     & \\textbf{                     } &             \\\\\n",
       "\\bottomrule\n",
       "\\end{tabular}\n",
       "\\begin{tabular}{lcccccc}\n",
       "                         & \\textbf{coef} & \\textbf{std err} & \\textbf{z} & \\textbf{P$> |$z$|$} & \\textbf{[0.025} & \\textbf{0.975]}  \\\\\n",
       "\\midrule\n",
       "\\textbf{const}           &     -11.2468  &        0.547     &   -20.564  &         0.000        &      -12.319    &      -10.175     \\\\\n",
       "\\textbf{balance}         &       0.0060  &        0.000     &    17.547  &         0.000        &        0.005    &        0.007     \\\\\n",
       "\\textbf{student}         &       0.1297  &        0.912     &     0.142  &         0.887        &       -1.659    &        1.918     \\\\\n",
       "\\textbf{balanceXstudent} &      -0.0005  &        0.001     &    -0.980  &         0.327        &       -0.002    &        0.001     \\\\\n",
       "\\bottomrule\n",
       "\\end{tabular}\n",
       "%\\caption{Generalized Linear Model Regression Results}\n",
       "\\end{center}"
      ],
      "text/plain": [
       "<class 'statsmodels.iolib.summary.Summary'>\n",
       "\"\"\"\n",
       "                 Generalized Linear Model Regression Results                  \n",
       "==============================================================================\n",
       "Dep. Variable:                      y   No. Observations:                 8000\n",
       "Model:                            GLM   Df Residuals:                     7996\n",
       "Model Family:                Binomial   Df Model:                            3\n",
       "Link Function:                  Logit   Scale:                          1.0000\n",
       "Method:                          IRLS   Log-Likelihood:                -615.68\n",
       "Date:                Thu, 14 Sep 2023   Deviance:                       1231.4\n",
       "Time:                        11:41:03   Pearson chi2:                 4.65e+03\n",
       "No. Iterations:                     9   Pseudo R-squ. (CS):             0.1243\n",
       "Covariance Type:            nonrobust                                         \n",
       "===================================================================================\n",
       "                      coef    std err          z      P>|z|      [0.025      0.975]\n",
       "-----------------------------------------------------------------------------------\n",
       "const             -11.2468      0.547    -20.564      0.000     -12.319     -10.175\n",
       "balance             0.0060      0.000     17.547      0.000       0.005       0.007\n",
       "student             0.1297      0.912      0.142      0.887      -1.659       1.918\n",
       "balanceXstudent    -0.0005      0.001     -0.980      0.327      -0.002       0.001\n",
       "===================================================================================\n",
       "\"\"\""
      ]
     },
     "execution_count": 9,
     "metadata": {},
     "output_type": "execute_result"
    }
   ],
   "source": [
    "# If you don't copy it gives you a \"view\", and then the line below will overwrite the original df\n",
    "X_train = train_df[['balance', 'student']].copy()\n",
    "X_train['student'] = np.where(X_train['student'] == \"No\", 0, 1)\n",
    "X_train['balanceXstudent'] = X_train['balance'] * X_train['student'] # Interaction\n",
    "X_train_constant = sm.add_constant(X_train)\n",
    "M3 = sm.GLM(y_train, X_train_constant, family=sm.families.Binomial()).fit()\n",
    "M3.summary()\n",
    "# One at a time:\n",
    "#   Intercept: Affect when balance = 0 and you're no a student.\n",
    "#   Balance: Effect of balance on non-students\n",
    "#   Student: Effect of students\n",
    "#   BalanceXStudent: Additional effect of balance for students."
   ]
  },
  {
   "cell_type": "markdown",
   "metadata": {},
   "source": [
    "For each of the three models, write down the formula for the estimated probabilities using the estimated coefficients. Write down also the formula for the estimated log odds."
   ]
  },
  {
   "cell_type": "markdown",
   "metadata": {},
   "source": [
    "*Solution*  \n",
    "M1:  \n",
    "$$\n",
    "p(X)=\\frac{1}{1 + \\mathrm{e}^{-(-10.6513+X_1\\cdot0.0055)}}\n",
    "$$\n",
    "$$\n",
    "\\begin{bmatrix}\n",
    "-10.6513 \\\\ 0.055\n",
    "\\end{bmatrix} \n",
    "\\cdot\n",
    "\\begin{bmatrix}\n",
    "1      & x_{1}\\\\\n",
    "\\vdots & \\vdots \\\\\n",
    "1      & x_{n}\n",
    "\\end{bmatrix} = \n",
    "\\log \\frac{1}{1 - p(X)}-1 =\n",
    "\\log \\frac{1}{1 - \\frac{1}{1 + \\mathrm{e}^{-(-10.6513+X_1\\cdot0.0055)}}}-1 =\n",
    "$$\n",
    "M2:  \n",
    "$$\n",
    "p(X)=\\frac{1}{1 + \\mathrm{e}^{-(-3.5393+X_1\\cdot0.3393)}}\n",
    "$$\n",
    "$$\n",
    "\\begin{bmatrix}\n",
    "-3.5393 \\\\ 0.3393\n",
    "\\end{bmatrix} \n",
    "\\cdot\n",
    "\\begin{bmatrix}\n",
    "1      & x_{1}\\\\\n",
    "\\vdots & \\vdots \\\\\n",
    "1      & x_{n}\n",
    "\\end{bmatrix} = \n",
    "\\log \\frac{1}{1 - \\frac{1}{1 + \\mathrm{e}^{-(-3.5393+X_1\\cdot0.3393)}}}-1 =\n",
    "$$\n",
    "M3:  \n",
    "$$\n",
    "p(X)=\\frac{1}{1 + \\mathrm{e}^{-(-10.3375 + X_1\\cdot0.055 + X_2\\cdot(-0.7702) + X_3\\cdot(-2.964-10^6))}}\n",
    "$$\n",
    "$$\n",
    "\\begin{bmatrix}\n",
    "-10.3375 \\\\ 0.0055 \\\\ -0.7702 \\\\ -2.964-10^6\n",
    "\\end{bmatrix} \n",
    "\\cdot\n",
    "\\begin{bmatrix}\n",
    "1      & x_{1,1} & x_{1,2} & x_{1,1}\\cdot x_{1,2} \\\\\n",
    "\\vdots & \\vdots  & \\vdots  & \\vdots               \\\\\n",
    "1      & x_{n,1} & x_{n,2} & x_{n,1}\\cdot x_{n,2} \\\\\n",
    "\\end{bmatrix} = \n",
    "\\log \\frac{1}{1 - \\frac{1}{1 + \\mathrm{e}^{-(-10.3375 + X_1\\cdot0.055 + X_2\\cdot(-0.7702) + X_3\\cdot(-2.964-10^6))}}}-1 =\n",
    "$$\n"
   ]
  },
  {
   "cell_type": "markdown",
   "metadata": {},
   "source": [
    "## Prediction \n",
    "\n",
    "Fitted values --the mean response-- are obtained as for the linear regression. However a main difference is that the mean is not used directly as a prediction of Y. Rather, we choose a threshold $\\alpha$ and predict $Y=1$ whenever $P(Y=1|X) > \\alpha$. Usually we take $\\alpha = 0.5$, unless we specifically wish to incur a \"higher cost\" for some kinds of misclassifications.\n",
    "\n",
    "Using $\\alpha = 0.5$, compute the training error rate (proportion of wrong classifications) for models M1, M2, and M3."
   ]
  },
  {
   "cell_type": "code",
   "execution_count": 10,
   "metadata": {},
   "outputs": [
    {
     "name": "stdout",
     "output_type": "stream",
     "text": [
      "Error rate of M1: 0.027375\n",
      "Error rate of M2: 0.0325\n",
      "Train error rate of M3: 0.026625\n"
     ]
    }
   ],
   "source": [
    "# Yeah I could have made a function but I was in too deep okay\n",
    "\n",
    "alpha = 0.5\n",
    "X_train = train_df['balance']\n",
    "X_train_constant = sm.add_constant(X_train)\n",
    "y_train = np.where(train_df['default'] == \"No\", 0, 1)\n",
    "M1_probs = np.array(M1.predict(X_train_constant))\n",
    "M1_preds = np.where(M1_probs > alpha, 1, 0)\n",
    "def error(preds, y_train):\n",
    "    return sum([1 for i in range(len(y_train)) if y_train[i] != preds[i]]) / len(y_train)\n",
    "M1_error = error(M1_preds, y_train)\n",
    "print(f\"Error rate of M1: {M1_error}\")\n",
    "\n",
    "X_train = train_df['student']\n",
    "X_train = np.where(X_train == \"No\", 0, 1)\n",
    "X_train_constant = sm.add_constant(X_train)\n",
    "M2_probs = np.array(M2.predict(X_train_constant))\n",
    "M2_preds = np.where(M2_probs > alpha, 1, 0)\n",
    "M2_error = error(M2_preds, y_train)\n",
    "print(f\"Error rate of M2: {M2_error}\")\n",
    "\n",
    "X_train = train_df[['balance', 'student']].copy()\n",
    "X_train['student'] = np.where(X_train['student'] == \"No\", 0, 1)\n",
    "X_train['balanceXstudent'] = X_train['balance'] * X_train['student']\n",
    "X_train_constant = sm.add_constant(X_train)\n",
    "M3_probs = np.array(M3.predict(X_train_constant))\n",
    "M3_preds = np.where(M3_probs > alpha, 1, 0)\n",
    "M3_error = error(M3_preds, y_train)\n",
    "print(f\"Train error rate of M3: {M3_error}\")\n"
   ]
  },
  {
   "cell_type": "markdown",
   "metadata": {},
   "source": [
    "Compute the test error for the three models and compare to the training error."
   ]
  },
  {
   "cell_type": "code",
   "execution_count": 11,
   "metadata": {},
   "outputs": [
    {
     "name": "stdout",
     "output_type": "stream",
     "text": [
      "Error rate of M1: 0.0275\n",
      "Error rate of M2: 0.0365\n",
      "Test error rate of M3: 0.0275\n"
     ]
    }
   ],
   "source": [
    "alpha = 0.5\n",
    "X_test = test_df['balance']\n",
    "X_test_constant = sm.add_constant(X_test)\n",
    "y_test = np.where(test_df['default'] == \"No\", 0, 1)\n",
    "M1_probs = np.array(M1.predict(X_test_constant))\n",
    "M1_preds = np.where(M1_probs > alpha, 1, 0)\n",
    "def error(preds, y_test):\n",
    "    return sum([1 for i in range(len(y_test)) if y_test[i] != preds[i]]) / len(y_test)\n",
    "M1_error = error(M1_preds, y_test)\n",
    "print(f\"Error rate of M1: {M1_error}\")\n",
    "\n",
    "X_test = test_df['student']\n",
    "X_test = np.where(X_test == \"No\", 0, 1)\n",
    "X_test_constant = sm.add_constant(X_test)\n",
    "M2_probs = np.array(M2.predict(X_test_constant))\n",
    "M2_preds = np.where(M2_probs > alpha, 1, 0)\n",
    "M2_error = error(M2_preds, y_test)\n",
    "print(f\"Error rate of M2: {M2_error}\")\n",
    "\n",
    "X_test = test_df[['balance', 'student']].copy()\n",
    "X_test['student'] = np.where(X_test['student'] == \"No\", 0, 1)\n",
    "X_test['balanceXstudent'] = X_test['balance'] * X_test['student']\n",
    "X_test_constant = sm.add_constant(X_test)\n",
    "M3_probs = np.array(M3.predict(X_test_constant))\n",
    "M3_preds = np.where(M3_probs > alpha, 1, 0)\n",
    "M3_error = error(M3_preds, y_test)\n",
    "print(f\"Test error rate of M3: {M3_error}\")\n",
    "\n",
    "# The error where pretty close, but train errors were of course lower than test errors.\n"
   ]
  },
  {
   "cell_type": "markdown",
   "metadata": {},
   "source": [
    "Compare the three models by their AIC: Based on this criterion, which would you choose?"
   ]
  },
  {
   "cell_type": "code",
   "execution_count": 12,
   "metadata": {},
   "outputs": [
    {
     "name": "stdout",
     "output_type": "stream",
     "text": [
      "AICs \n",
      "M1: 1257.8339027302532\n",
      "M2: 2288.5562613657876\n",
      "M3: 1239.3675345416564\n"
     ]
    }
   ],
   "source": [
    "print(f\"AICs \\nM1: {M1.aic}\\nM2: {M2.aic}\\nM3: {M3.aic}\")\n",
    "# M3 very good yes"
   ]
  },
  {
   "cell_type": "markdown",
   "metadata": {},
   "source": [
    "### Decision regions and the decision boundary between them\n",
    "\n",
    "In model M1, describe the *decision regions*, i.e. for which values of the feature (income) you would predict that an individual defaults, and for which you would predict not default. "
   ]
  },
  {
   "cell_type": "code",
   "execution_count": 13,
   "metadata": {},
   "outputs": [
    {
     "name": "stdout",
     "output_type": "stream",
     "text": [
      "At balances larger than 1940.2, it is predicted that you will default.\n"
     ]
    }
   ],
   "source": [
    "# I could probably calculate this by setting p(X)=0.5, but simulating it is easier\n",
    "def p(i):\n",
    "    return M1.predict([[1, i]])[0]\n",
    "def search():\n",
    "    m = 0\n",
    "    while p(m) < 0.5:\n",
    "        m += 1\n",
    "    while p(m) > 0.5:\n",
    "        m -= 0.1\n",
    "    return m\n",
    "\n",
    "v = search()\n",
    "print(f\"At balances larger than {v:.1f}, it is predicted that you will default.\")"
   ]
  },
  {
   "cell_type": "markdown",
   "metadata": {},
   "source": [
    "Fit a model, `M4`, with two continuous features `income` and `balance`."
   ]
  },
  {
   "cell_type": "code",
   "execution_count": 23,
   "metadata": {},
   "outputs": [
    {
     "data": {
      "text/html": [
       "<table class=\"simpletable\">\n",
       "<caption>Generalized Linear Model Regression Results</caption>\n",
       "<tr>\n",
       "  <th>Dep. Variable:</th>           <td>y</td>        <th>  No. Observations:  </th>  <td>  8000</td> \n",
       "</tr>\n",
       "<tr>\n",
       "  <th>Model:</th>                  <td>GLM</td>       <th>  Df Residuals:      </th>  <td>  7997</td> \n",
       "</tr>\n",
       "<tr>\n",
       "  <th>Model Family:</th>        <td>Binomial</td>     <th>  Df Model:          </th>  <td>     2</td> \n",
       "</tr>\n",
       "<tr>\n",
       "  <th>Link Function:</th>         <td>Logit</td>      <th>  Scale:             </th> <td>  1.0000</td>\n",
       "</tr>\n",
       "<tr>\n",
       "  <th>Method:</th>                <td>IRLS</td>       <th>  Log-Likelihood:    </th> <td> -620.02</td>\n",
       "</tr>\n",
       "<tr>\n",
       "  <th>Date:</th>            <td>Thu, 14 Sep 2023</td> <th>  Deviance:          </th> <td>  1240.0</td>\n",
       "</tr>\n",
       "<tr>\n",
       "  <th>Time:</th>                <td>11:46:38</td>     <th>  Pearson chi2:      </th> <td>4.31e+03</td>\n",
       "</tr>\n",
       "<tr>\n",
       "  <th>No. Iterations:</th>          <td>9</td>        <th>  Pseudo R-squ. (CS):</th>  <td>0.1234</td> \n",
       "</tr>\n",
       "<tr>\n",
       "  <th>Covariance Type:</th>     <td>nonrobust</td>    <th>                     </th>     <td> </td>   \n",
       "</tr>\n",
       "</table>\n",
       "<table class=\"simpletable\">\n",
       "<tr>\n",
       "     <td></td>        <th>coef</th>     <th>std err</th>      <th>z</th>      <th>P>|z|</th>  <th>[0.025</th>    <th>0.975]</th>  \n",
       "</tr>\n",
       "<tr>\n",
       "  <th>const</th>   <td>  -11.7106</td> <td>    0.499</td> <td>  -23.472</td> <td> 0.000</td> <td>  -12.689</td> <td>  -10.733</td>\n",
       "</tr>\n",
       "<tr>\n",
       "  <th>balance</th> <td>    0.0057</td> <td>    0.000</td> <td>   21.973</td> <td> 0.000</td> <td>    0.005</td> <td>    0.006</td>\n",
       "</tr>\n",
       "<tr>\n",
       "  <th>income</th>  <td>  2.11e-05</td> <td>  5.7e-06</td> <td>    3.702</td> <td> 0.000</td> <td> 9.93e-06</td> <td> 3.23e-05</td>\n",
       "</tr>\n",
       "</table>"
      ],
      "text/latex": [
       "\\begin{center}\n",
       "\\begin{tabular}{lclc}\n",
       "\\toprule\n",
       "\\textbf{Dep. Variable:}   &        y         & \\textbf{  No. Observations:  } &     8000    \\\\\n",
       "\\textbf{Model:}           &       GLM        & \\textbf{  Df Residuals:      } &     7997    \\\\\n",
       "\\textbf{Model Family:}    &     Binomial     & \\textbf{  Df Model:          } &        2    \\\\\n",
       "\\textbf{Link Function:}   &      Logit       & \\textbf{  Scale:             } &    1.0000   \\\\\n",
       "\\textbf{Method:}          &       IRLS       & \\textbf{  Log-Likelihood:    } &   -620.02   \\\\\n",
       "\\textbf{Date:}            & Thu, 14 Sep 2023 & \\textbf{  Deviance:          } &    1240.0   \\\\\n",
       "\\textbf{Time:}            &     11:46:38     & \\textbf{  Pearson chi2:      } &  4.31e+03   \\\\\n",
       "\\textbf{No. Iterations:}  &        9         & \\textbf{  Pseudo R-squ. (CS):} &   0.1234    \\\\\n",
       "\\textbf{Covariance Type:} &    nonrobust     & \\textbf{                     } &             \\\\\n",
       "\\bottomrule\n",
       "\\end{tabular}\n",
       "\\begin{tabular}{lcccccc}\n",
       "                 & \\textbf{coef} & \\textbf{std err} & \\textbf{z} & \\textbf{P$> |$z$|$} & \\textbf{[0.025} & \\textbf{0.975]}  \\\\\n",
       "\\midrule\n",
       "\\textbf{const}   &     -11.7106  &        0.499     &   -23.472  &         0.000        &      -12.689    &      -10.733     \\\\\n",
       "\\textbf{balance} &       0.0057  &        0.000     &    21.973  &         0.000        &        0.005    &        0.006     \\\\\n",
       "\\textbf{income}  &     2.11e-05  &      5.7e-06     &     3.702  &         0.000        &     9.93e-06    &     3.23e-05     \\\\\n",
       "\\bottomrule\n",
       "\\end{tabular}\n",
       "%\\caption{Generalized Linear Model Regression Results}\n",
       "\\end{center}"
      ],
      "text/plain": [
       "<class 'statsmodels.iolib.summary.Summary'>\n",
       "\"\"\"\n",
       "                 Generalized Linear Model Regression Results                  \n",
       "==============================================================================\n",
       "Dep. Variable:                      y   No. Observations:                 8000\n",
       "Model:                            GLM   Df Residuals:                     7997\n",
       "Model Family:                Binomial   Df Model:                            2\n",
       "Link Function:                  Logit   Scale:                          1.0000\n",
       "Method:                          IRLS   Log-Likelihood:                -620.02\n",
       "Date:                Thu, 14 Sep 2023   Deviance:                       1240.0\n",
       "Time:                        11:46:38   Pearson chi2:                 4.31e+03\n",
       "No. Iterations:                     9   Pseudo R-squ. (CS):             0.1234\n",
       "Covariance Type:            nonrobust                                         \n",
       "==============================================================================\n",
       "                 coef    std err          z      P>|z|      [0.025      0.975]\n",
       "------------------------------------------------------------------------------\n",
       "const        -11.7106      0.499    -23.472      0.000     -12.689     -10.733\n",
       "balance        0.0057      0.000     21.973      0.000       0.005       0.006\n",
       "income       2.11e-05    5.7e-06      3.702      0.000    9.93e-06    3.23e-05\n",
       "==============================================================================\n",
       "\"\"\""
      ]
     },
     "execution_count": 23,
     "metadata": {},
     "output_type": "execute_result"
    }
   ],
   "source": [
    "X_train = train_df[['income', 'balance']]\n",
    "X_train_constant = sm.add_constant(X_train)\n",
    "# const, income, balance\n",
    "M4 = sm.GLM(y_train, X_train_constant, family=sm.families.Binomial()).fit()\n",
    "M4.summary()"
   ]
  },
  {
   "cell_type": "markdown",
   "metadata": {},
   "source": [
    "Make a plot of your feature space (i.e. with income and balance on the axes) as follows: \n",
    "Use the model to predict the class for each point in a fine grid over the two features. Plot the points of the grid and colour them according to class: Blue for default = Yes, Red for default = No."
   ]
  },
  {
   "cell_type": "code",
   "execution_count": 27,
   "metadata": {},
   "outputs": [
    {
     "name": "stdout",
     "output_type": "stream",
     "text": [
      "500/500\r"
     ]
    },
    {
     "data": {
      "image/png": "[encoded data removed]",
      "text/plain": [
       "<Figure size 640x480 with 1 Axes>"
      ]
     },
     "metadata": {},
     "output_type": "display_data"
    }
   ],
   "source": [
    "income = np.arange(0, 5000, 10)\n",
    "balance = np.arange(0, 5000, 10)\n",
    "X = []\n",
    "blen = len(balance)\n",
    "for i in range(len(income)):\n",
    "    print(f\"{i+1}/{blen}\", end=\"\\r\")\n",
    "    for j in range(len(balance)):\n",
    "        X.append([income[i], balance[j]])\n",
    "X = np.array(X)\n",
    "X_constant = sm.add_constant(X)\n",
    "preds = np.where(np.array(M4.predict(X_constant)) > 0.5, 1, 0)\n",
    "\n",
    "plt.scatter(X[:,0], X[:,1], c=[\"dodgerblue\" if preds[i] == 1 else \"tomato\" for i in range(len(preds))])\n",
    "plt.show()\n",
    "# That is NOT what I expected to see"
   ]
  },
  {
   "cell_type": "markdown",
   "metadata": {},
   "source": [
    "Add a quadratic term to the model and make the same plot as before. You should now obtain a non-linear decision boundary (although if you plotted against the squared feature, you would indeed get a linear boundary!)"
   ]
  },
  {
   "cell_type": "code",
   "execution_count": 29,
   "metadata": {},
   "outputs": [
    {
     "name": "stdout",
     "output_type": "stream",
     "text": [
      "500/500\r"
     ]
    },
    {
     "data": {
      "image/png": "[encoded data removed]",
      "text/plain": [
       "<Figure size 640x480 with 1 Axes>"
      ]
     },
     "metadata": {},
     "output_type": "display_data"
    }
   ],
   "source": [
    "X_train = train_df[['income', 'balance']].copy()\n",
    "X_train['balance^2'] = X_train['balance']**2\n",
    "X_train_constant = sm.add_constant(X_train)\n",
    "# const, income, balance, balance^2\n",
    "M5 = sm.GLM(y_train, X_train_constant, family=sm.families.Binomial()).fit()\n",
    "\n",
    "income = np.arange(0, 5000, 10)\n",
    "balance = np.arange(0, 5000, 10)\n",
    "X = []\n",
    "blen = len(balance)\n",
    "for i in range(len(income)):\n",
    "    print(f\"{i+1}/{blen}\", end=\"\\r\")\n",
    "    for j in range(len(balance)):\n",
    "        X.append([income[i], balance[j], balance[j]**2])\n",
    "X = np.array(X)\n",
    "X_constant = sm.add_constant(X)\n",
    "preds = np.where(np.array(M5.predict(X_constant)) > 0.5, 1, 0)\n",
    "\n",
    "plt.scatter(X[:,0], X[:,1], c=[\"dodgerblue\" if preds[i] == 1 else \"tomato\" for i in range(len(preds))])\n",
    "plt.show()\n",
    "# idk anyomre"
   ]
  },
  {
   "cell_type": "markdown",
   "metadata": {},
   "source": [
    "## Interpreting a model\n",
    "\n",
    "A) For model M1, predict the probability of defaulting for an individual with a balance of 1,000 and for an individual with balance 2,000. Try to compute the prediction from scratch yourself as well as with the `predict` method. You should obtain the same as in section 4.3.3."
   ]
  },
  {
   "cell_type": "code",
   "execution_count": null,
   "metadata": {},
   "outputs": [],
   "source": []
  },
  {
   "cell_type": "markdown",
   "metadata": {},
   "source": [
    "B) Considering the same two individuals, how many times higher are the odds of defaulting for the individual with low balance?"
   ]
  },
  {
   "cell_type": "code",
   "execution_count": null,
   "metadata": {},
   "outputs": [],
   "source": []
  },
  {
   "cell_type": "markdown",
   "metadata": {},
   "source": [
    "C) For model M2, what are the probabilities of defaulting for students and non-students respectively? You should obtain the same as in section 4.3.3."
   ]
  },
  {
   "cell_type": "code",
   "execution_count": null,
   "metadata": {},
   "outputs": [],
   "source": []
  },
  {
   "cell_type": "markdown",
   "metadata": {},
   "source": [
    "D) In M1, what is the interpretation of the coefficient for `balance`?"
   ]
  },
  {
   "cell_type": "code",
   "execution_count": null,
   "metadata": {},
   "outputs": [],
   "source": []
  },
  {
   "cell_type": "markdown",
   "metadata": {},
   "source": [
    "E) (optional) In model M3, compute the odds-ratio comparing the odds of defaulting for a student with high balance (2,000) and a student with a low balance (1,000). Do the same for a non-student. Note that the odds ratio differs -- this is a consequence of the *interaction* term!"
   ]
  },
  {
   "cell_type": "code",
   "execution_count": null,
   "metadata": {},
   "outputs": [],
   "source": []
  }
 ],
 "metadata": {
  "kernelspec": {
   "display_name": "Python 3",
   "language": "python",
   "name": "python3"
  },
  "language_info": {
   "codemirror_mode": {
    "name": "ipython",
    "version": 3
   },
   "file_extension": ".py",
   "mimetype": "text/x-python",
   "name": "python",
   "nbconvert_exporter": "python",
   "pygments_lexer": "ipython3",
   "version": "3.10.12"
  }
 },
 "nbformat": 4,
 "nbformat_minor": 4
}
