{
 "cells": [
  {
   "cell_type": "markdown",
   "metadata": {},
   "source": [
    "**Exercise 23.1:**\n",
    "Perform a network projection of this bipartite network using simple weights. The unipartite projection should only contain nodes of type 1 (|V1| = 248). How dense is the projection?"
   ]
  },
  {
   "cell_type": "code",
   "execution_count": 3,
   "metadata": {},
   "outputs": [
    {
     "ename": "TypeError",
     "evalue": "read_edgelist() got an unexpected keyword argument 'using'",
     "output_type": "error",
     "traceback": [
      "\u001b[1;31m---------------------------------------------------------------------------\u001b[0m",
      "\u001b[1;31mTypeError\u001b[0m                                 Traceback (most recent call last)",
      "\u001b[1;32mw:\\Schoolwork\\ITU\\Repos\\ITU\\NEANA\\5\\Solutions_5.ipynb Cell 2\u001b[0m line \u001b[0;36m3\n\u001b[0;32m      <a href='vscode-notebook-cell:/w%3A/Schoolwork/ITU/Repos/ITU/NEANA/5/Solutions_5.ipynb#W1sZmlsZQ%3D%3D?line=0'>1</a>\u001b[0m \u001b[39mimport\u001b[39;00m \u001b[39mnetworkx\u001b[39;00m \u001b[39mas\u001b[39;00m \u001b[39mnx\u001b[39;00m\n\u001b[1;32m----> <a href='vscode-notebook-cell:/w%3A/Schoolwork/ITU/Repos/ITU/NEANA/5/Solutions_5.ipynb#W1sZmlsZQ%3D%3D?line=2'>3</a>\u001b[0m G \u001b[39m=\u001b[39m nx\u001b[39m.\u001b[39;49mread_edgelist(\u001b[39m'\u001b[39;49m\u001b[39m23_1_data.txt\u001b[39;49m\u001b[39m'\u001b[39;49m, using\u001b[39m=\u001b[39;49mnx)\n",
      "\u001b[1;31mTypeError\u001b[0m: read_edgelist() got an unexpected keyword argument 'using'"
     ]
    }
   ],
   "source": [
    "import networkx as nx\n",
    "\n",
    "G = nx.read_edgelist('23_1_data.txt', using=nx)"
   ]
  }
 ],
 "metadata": {
  "kernelspec": {
   "display_name": "malea",
   "language": "python",
   "name": "python3"
  },
  "language_info": {
   "codemirror_mode": {
    "name": "ipython",
    "version": 3
   },
   "file_extension": ".py",
   "mimetype": "text/x-python",
   "name": "python",
   "nbconvert_exporter": "python",
   "pygments_lexer": "ipython3",
   "version": "3.10.13"
  }
 },
 "nbformat": 4,
 "nbformat_minor": 2
}
