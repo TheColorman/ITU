{
 "cells": [
  {
   "cell_type": "code",
   "execution_count": 3,
   "metadata": {},
   "outputs": [],
   "source": [
    "import numpy as np\n",
    "A = np.array(\n",
    "    [\n",
    "        [ 1, 6, 1, 1, 1, 3, 1, 1],\n",
    "        [ 1, 4, 4, 6, 1, 5, 3, 7],\n",
    "        [ 1, 4, 4, 6, 1, 5, 7, 8],\n",
    "        [ 1, 4, 6, 8, 1, 7, 8, 4],\n",
    "        [ 1, 5, 7, 7, 2, 0, 0, 5],\n",
    "        [ 2, 2, 5, 7, 2, 9, 9, 5],\n",
    "        [ 3, 6, 7, 0, 3, 7, 6, 4],\n",
    "        [ 4, 6, 9, 5, 3, 3, 3, 7],\n",
    "        [ 4, 4, 8, 4, 4, 2, 3, 5],\n",
    "        [ 3, 6, 7, 3, 5, 0, 3, 5],\n",
    "        [ 5, 4, 7, 2, 5, 8, 7, 5],\n",
    "        [ 6, 6, 9, 4, 6, 8, 7, 4],\n",
    "        [ 7, 4, 7, 5, 7, 4, 5, 7],\n",
    "        [ 8, 6, 0, 2, 7, 2, 4, 3],\n",
    "        [ 9, 7, 3, 9, 8, 3, 5, 6]\n",
    "    ]\n",
    ")\n",
    "# Each column is a vector"
   ]
  },
  {
   "cell_type": "code",
   "execution_count": 16,
   "metadata": {},
   "outputs": [
    {
     "data": {
      "text/plain": [
       "array([[ 1.        ,  0.42489286, -0.06330053, -0.04545443,  0.96322399,\n",
       "        -0.0756169 ,  0.11956269,  0.03301008],\n",
       "       [ 0.42489286,  1.        , -0.12592441, -0.29190895,  0.42881621,\n",
       "        -0.45429847, -0.4371192 , -0.29677036],\n",
       "       [-0.06330053, -0.12592441,  1.        ,  0.04574599,  0.0255854 ,\n",
       "         0.15763974,  0.12503524,  0.34296647],\n",
       "       [-0.04545443, -0.29190895,  0.04574599,  1.        , -0.08347369,\n",
       "         0.00373363,  0.18076526,  0.51945654],\n",
       "       [ 0.96322399,  0.42881621,  0.0255854 , -0.08347369,  1.        ,\n",
       "        -0.16409717,  0.066077  ,  0.02050402],\n",
       "       [-0.0756169 , -0.45429847,  0.15763974,  0.00373363, -0.16409717,\n",
       "         1.        ,  0.8479983 , -0.00550265],\n",
       "       [ 0.11956269, -0.4371192 ,  0.12503524,  0.18076526,  0.066077  ,\n",
       "         0.8479983 ,  1.        ,  0.15719393],\n",
       "       [ 0.03301008, -0.29677036,  0.34296647,  0.51945654,  0.02050402,\n",
       "        -0.00550265,  0.15719393,  1.        ]])"
      ]
     },
     "execution_count": 16,
     "metadata": {},
     "output_type": "execute_result"
    }
   ],
   "source": [
    "corr = np.zeros((A.shape[1], A.shape[1]))\n",
    "for i in range(A.shape[1]):\n",
    "    for j in range(A.shape[1]):\n",
    "        correlation = np.corrcoef(A[:,i], A[:,j])\n",
    "        corr[i,j] = correlation[0,1]\n",
    "\n",
    "corr"
   ]
  },
  {
   "cell_type": "code",
   "execution_count": 40,
   "metadata": {},
   "outputs": [
    {
     "name": "stdout",
     "output_type": "stream",
     "text": [
      "[('131', 4), ('2', 59)]\n"
     ]
    }
   ],
   "source": [
    "import networkx as nx\n",
    "from networkx.algorithms import bipartite\n",
    "import matplotlib.pyplot as plt\n",
    "G = nx.read_adjlist('./4_1_data.txt')\n",
    "sets = bipartite.sets(G)\n",
    "sor = sorted(G.degree, key=lambda x: x[1], reverse=True)\n",
    "# Find max degree in each bipartite set\n",
    "max_degree = []\n",
    "for s in sets:\n",
    "    max_degree.append([n for n in sor if n[0] in s][0])\n",
    "print(max_degree)"
   ]
  },
  {
   "cell_type": "markdown",
   "metadata": {},
   "source": [
    "4.4"
   ]
  }
 ],
 "metadata": {
  "kernelspec": {
   "display_name": "base",
   "language": "python",
   "name": "python3"
  },
  "language_info": {
   "codemirror_mode": {
    "name": "ipython",
    "version": 3
   },
   "file_extension": ".py",
   "mimetype": "text/x-python",
   "name": "python",
   "nbconvert_exporter": "python",
   "pygments_lexer": "ipython3",
   "version": "3.10.10"
  },
  "orig_nbformat": 4
 },
 "nbformat": 4,
 "nbformat_minor": 2
}
