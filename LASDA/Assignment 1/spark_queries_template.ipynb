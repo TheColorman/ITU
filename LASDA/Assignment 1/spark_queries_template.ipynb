{
 "cells": [
  {
   "cell_type": "markdown",
   "id": "181bbe29-26f4-4c4a-a9e9-0053263bff52",
   "metadata": {},
   "source": [
    "# Assignment: Scalable Processing\n",
    "## Yelp Reviews and Authenticity\n",
    "\n",
    "Large Scale Data Analysis | by ___ | ____@itu.dk | date"
   ]
  },
  {
   "cell_type": "markdown",
   "id": "92690678-bb97-43d7-ab27-4a6f8db87079",
   "metadata": {},
   "source": [
    "## Connecting to the Spark Cluster job using the two JobParameters.json\n",
    "\n",
    "To connect this jupyter notebook with your Spark cluster, we need to tell jupyter how it can access the spark cluster. Below code accomplishes that. "
   ]
  },
  {
   "cell_type": "code",
   "execution_count": 1,
   "id": "d483a774-a0ca-4873-a2ee-51d2fcd30ead",
   "metadata": {
    "execution": {
     "iopub.execute_input": "2024-03-07T09:36:28.248027Z",
     "iopub.status.busy": "2024-03-07T09:36:28.247336Z",
     "iopub.status.idle": "2024-03-07T09:36:52.140718Z",
     "shell.execute_reply": "2024-03-07T09:36:52.138360Z",
     "shell.execute_reply.started": "2024-03-07T09:36:28.248001Z"
    },
    "tags": []
   },
   "outputs": [
    {
     "name": "stdout",
     "output_type": "stream",
     "text": [
      "Cell has not been executed before, running...\n",
      "Success!\n"
     ]
    }
   ],
   "source": [
    "#####################################################################\n",
    "# DO NOT CHANGE ANYTHING HERE.\n",
    "# IF YOU HAVE PROBLEMS, CHECK THE ASSIGNMENT GUIDE CAREFULLY \n",
    "#####################################################################\n",
    "    \n",
    "# Only execute this cell once.\n",
    "if '_EXECUTED_' in globals():\n",
    "    # check if variable '_EXECUTED_' exists in the global variable namespace\n",
    "    print(\"Already been executed once, not running again!\")\n",
    "else:\n",
    "    print(\"Cell has not been executed before, running...\")\n",
    "    import os, json, pyspark\n",
    "    from pyspark.conf import SparkConf\n",
    "    from pyspark.sql import SparkSession, functions as F\n",
    "\n",
    "    # Two files are automatically read: JobParameters.json for the Spark Cluster job using a temporary spark instance\n",
    "    # and JobParameters.json for the Jupyter Lab job to extract the hostname of the cluster. \n",
    "\n",
    "    MASTER_HOST_NAME = None\n",
    "\n",
    "    # Open the parameters Jupyter Lab app was launched with\n",
    "    with open('/work/JobParameters.json', 'r') as file:\n",
    "        JUPYTER_LAB_JOB_PARAMS = json.load(file)\n",
    "        # from pprint import pprint; pprint(JUPYTER_LAB_JOB_PARAMS) \n",
    "        for resource in JUPYTER_LAB_JOB_PARAMS['request']['resources']:\n",
    "            if 'hostname' in resource.keys():\n",
    "                MASTER_HOST_NAME = resource['hostname']\n",
    "\n",
    "    MASTER_HOST = f\"spark://{MASTER_HOST_NAME}:7077\"\n",
    "\n",
    "    conf = SparkConf().setAll([\n",
    "            (\"spark.app.name\", 'reading_job_params_app'), \n",
    "            (\"spark.master\", MASTER_HOST),\n",
    "        ])\n",
    "    spark = SparkSession.builder.config(conf=conf)\\\n",
    "                                .getOrCreate()\n",
    "\n",
    "    CLUSTER_PARAMETERS_JSON_DF = spark.read.option(\"multiline\",\"true\").json('/work/JobParameters.json')\n",
    "\n",
    "    # Extract cluster info from the specific JobParameters.json\n",
    "    NODES = CLUSTER_PARAMETERS_JSON_DF.select(\"request.replicas\").first()[0]\n",
    "    CPUS_PER_NODE = CLUSTER_PARAMETERS_JSON_DF.select(\"machineType.cpu\").first()[0] - 1\n",
    "    MEM_PER_NODE = CLUSTER_PARAMETERS_JSON_DF.select(\"machineType.memoryInGigs\").first()[0]\n",
    "\n",
    "    CLUSTER_CORES_MAX = CPUS_PER_NODE * NODES\n",
    "    CLUSTER_MEMORY_MAX = MEM_PER_NODE * NODES \n",
    "    \n",
    "    if CPUS_PER_NODE > 1:\n",
    "        EXECUTOR_CORES = CPUS_PER_NODE - 1  # set cores per executor on worker node\n",
    "    else:\n",
    "        EXECUTOR_CORES = CPUS_PER_NODE \n",
    "\n",
    "    EXECUTOR_MEMORY = int(\n",
    "        MEM_PER_NODE / (CPUS_PER_NODE / EXECUTOR_CORES) * 0.5\n",
    "    )  # set executor memory in GB on each worker node\n",
    "\n",
    "    # Make sure there is a dir for spark logs\n",
    "    if not os.path.exists('spark_logs'):\n",
    "        os.mkdir('spark_logs')\n",
    "\n",
    "    conf = SparkConf().setAll(\n",
    "        [\n",
    "            (\"spark.app.name\", 'spark_assignment'), # Change to your liking \n",
    "            (\"spark.sql.caseSensitive\", False), # Optional: Make queries strings sensitive to captialization\n",
    "            (\"spark.master\", MASTER_HOST),\n",
    "            (\"spark.cores.max\", CLUSTER_CORES_MAX),\n",
    "            (\"spark.executor.cores\", EXECUTOR_CORES),\n",
    "            (\"spark.executor.memory\", str(EXECUTOR_MEMORY) + \"g\"),\n",
    "            (\"spark.eventLog.enabled\", True),\n",
    "            (\"spark.eventLog.dir\", \"spark_logs\"),\n",
    "            (\"spark.history.fs.logDirectory\", \"spark_logs\"),\n",
    "            (\"spark.deploy.mode\", \"cluster\"),\n",
    "        ]\n",
    "    )\n",
    "\n",
    "    ## check executor memory, taking into accout 10% of memory overhead (minimum 384 MiB)\n",
    "    CHECK = (CLUSTER_CORES_MAX / EXECUTOR_CORES) * (\n",
    "        EXECUTOR_MEMORY + max(EXECUTOR_MEMORY * 0.10, 0.403)\n",
    "    )\n",
    "\n",
    "    assert (\n",
    "        int(CHECK) <= CLUSTER_MEMORY_MAX\n",
    "    ), \"Executor memory larger than cluster total memory!\"\n",
    "\n",
    "    # Stop previous session that was just for loading cluster params\n",
    "    spark.stop()\n",
    "\n",
    "    # Start new session with above config, that has better resource handling\n",
    "    spark = SparkSession.builder.config(conf=conf)\\\n",
    "                                .getOrCreate()\n",
    "    sc = spark.sparkContext\n",
    "    _EXECUTED_ = True\n",
    "    print(\"Success!\")"
   ]
  },
  {
   "cell_type": "markdown",
   "id": "93bbb4de-8b40-4364-b8d3-2cc488b16cbf",
   "metadata": {},
   "source": [
    "Click on the \"SparkMonitor\" tab at the top in Jupyter Lab to see the status of running code on the cluster."
   ]
  },
  {
   "cell_type": "markdown",
   "id": "b1de3dec-d95c-44b9-a996-12e97cc34c2b",
   "metadata": {},
   "source": [
    "## Loading the data\n",
    "Here we specify where the yelp datasets are located on UCloud and read then using the spark session."
   ]
  },
  {
   "cell_type": "code",
   "execution_count": 2,
   "id": "5fa96702-5902-4482-9cd2-77d6f5da0f75",
   "metadata": {
    "execution": {
     "iopub.execute_input": "2024-03-07T09:36:52.145732Z",
     "iopub.status.busy": "2024-03-07T09:36:52.144755Z",
     "iopub.status.idle": "2024-03-07T09:37:29.207998Z",
     "shell.execute_reply": "2024-03-07T09:37:29.206081Z",
     "shell.execute_reply.started": "2024-03-07T09:36:52.145652Z"
    },
    "tags": []
   },
   "outputs": [],
   "source": [
    "# Read in the business and review files\n",
    "# This is the path to the shared datasets provided by adding an the dataset input folder\n",
    "# when submitting the spark cluster job.\n",
    "business = spark.read.json('file:////work/yelp/yelp_academic_dataset_business.json') # Use the file:/// prefix to indicate we want to read from the cluster's filesystem\n",
    "business = business.persist()\n",
    "# Persist 2 commonly used dataframes since they're used for later computations\n",
    "# https://sparkbyexamples.com/spark/spark-difference-between-cache-and-persist/\n",
    "\n",
    "users = spark.read.json(\"file:////work/yelp/yelp_academic_dataset_user.json\")\n",
    "\n",
    "reviews = spark.read.json('file:////work/yelp/yelp_academic_dataset_review.json')\n",
    "reviews = reviews.persist()"
   ]
  },
  {
   "cell_type": "code",
   "execution_count": 3,
   "id": "e89f6184-410e-4a04-a4a1-7b080353dc1f",
   "metadata": {
    "execution": {
     "iopub.execute_input": "2024-03-07T09:37:29.211052Z",
     "iopub.status.busy": "2024-03-07T09:37:29.210403Z",
     "iopub.status.idle": "2024-03-07T09:38:14.744076Z",
     "shell.execute_reply": "2024-03-07T09:38:14.742974Z",
     "shell.execute_reply.started": "2024-03-07T09:37:29.210997Z"
    },
    "tags": []
   },
   "outputs": [
    {
     "data": {
      "text/plain": [
       "6990280"
      ]
     },
     "execution_count": 3,
     "metadata": {},
     "output_type": "execute_result"
    }
   ],
   "source": [
    "# Get number of rows with no sampling:\n",
    "reviews.count()"
   ]
  },
  {
   "cell_type": "code",
   "execution_count": 4,
   "id": "cc31d1a2-3571-49cd-af5a-98d6d23027de",
   "metadata": {
    "execution": {
     "iopub.execute_input": "2024-03-07T09:38:14.746520Z",
     "iopub.status.busy": "2024-03-07T09:38:14.745947Z",
     "iopub.status.idle": "2024-03-07T09:38:16.031948Z",
     "shell.execute_reply": "2024-03-07T09:38:16.030639Z",
     "shell.execute_reply.started": "2024-03-07T09:38:14.746485Z"
    },
    "tags": []
   },
   "outputs": [
    {
     "data": {
      "text/plain": [
       "6990280"
      ]
     },
     "execution_count": 4,
     "metadata": {},
     "output_type": "execute_result"
    }
   ],
   "source": [
    "# OPTIONAL:\n",
    "# Reduce resource usage and make queries run faster\n",
    "# by only using a small sample of the dataframe\n",
    "# and overwriting previous variable \"df\".\n",
    "# Useful while developing, not so much to\n",
    "# provide final answers. Therefore: Remember to \n",
    "# to re-read the df when done developing code using\n",
    "# df = spark.read etc like above.\n",
    "# reviews = reviews.sample(withReplacement=False, fraction=1/50)\n",
    "\n",
    "# Get number of rows after sampling:\n",
    "reviews.count() "
   ]
  },
  {
   "cell_type": "code",
   "execution_count": 5,
   "id": "20087cdb-d6f2-4aab-9fe2-bf3f072044db",
   "metadata": {
    "execution": {
     "iopub.execute_input": "2024-03-07T09:38:16.034670Z",
     "iopub.status.busy": "2024-03-07T09:38:16.033955Z",
     "iopub.status.idle": "2024-03-07T09:38:19.327536Z",
     "shell.execute_reply": "2024-03-07T09:38:19.325818Z",
     "shell.execute_reply.started": "2024-03-07T09:38:16.034621Z"
    },
    "tags": []
   },
   "outputs": [
    {
     "name": "stdout",
     "output_type": "stream",
     "text": [
      "+--------------------+--------------------+--------------------+--------------------+--------------+--------------------+-------+-------------+--------------+--------------------+-----------+------------+-----+-----+\n",
      "|             address|          attributes|         business_id|          categories|          city|               hours|is_open|     latitude|     longitude|                name|postal_code|review_count|stars|state|\n",
      "+--------------------+--------------------+--------------------+--------------------+--------------+--------------------+-------+-------------+--------------+--------------------+-----------+------------+-----+-----+\n",
      "|1616 Chapala St, ...|{null, null, null...|Pns2l4eNsfO8kk83d...|Doctors, Traditio...| Santa Barbara|                null|      0|   34.4266787|  -119.7111968|Abby Rappoport, L...|      93101|           7|  5.0|   CA|\n",
      "|87 Grasso Plaza S...|{null, null, null...|mpf3x-BjTdTEA3yCZ...|Shipping Centers,...|        Affton|{8:0-18:30, 0:0-0...|      1|    38.551126|    -90.335695|       The UPS Store|      63123|          15|  3.0|   MO|\n",
      "|5255 E Broadway Blvd|{null, null, null...|tUFrWirKiKi_TAnsV...|Department Stores...|        Tucson|{8:0-23:0, 8:0-22...|      0|    32.223236|   -110.880452|              Target|      85711|          22|  3.5|   AZ|\n",
      "|         935 Race St|{null, null, u'no...|MTSW4McQd7CbVtyjq...|Restaurants, Food...|  Philadelphia|{7:0-21:0, 7:0-20...|      1|   39.9555052|   -75.1555641|  St Honore Pastries|      19107|          80|  4.0|   PA|\n",
      "|       101 Walnut St|{null, null, null...|mWMc6_wTdE0EUBKIG...|Brewpubs, Breweri...|    Green Lane|{12:0-22:0, null,...|      1|   40.3381827|   -75.4716585|Perkiomen Valley ...|      18054|          13|  4.5|   PA|\n",
      "|       615 S Main St|{null, null, u'no...|CF33F8-E6oudUQ46H...|Burgers, Fast Foo...|  Ashland City|{9:0-0:0, 0:0-0:0...|      1|    36.269593|    -87.058943|      Sonic Drive-In|      37015|           6|  2.0|   TN|\n",
      "|8522 Eager Road, ...|{null, null, null...|n_0UpQx1hsNbnPUSl...|Sporting Goods, F...|     Brentwood|{10:0-18:0, 0:0-0...|      1|    38.627695|    -90.340465|     Famous Footwear|      63144|          13|  2.5|   MO|\n",
      "|  400 Pasadena Ave S|                null|qkRM_2X51Yqxk3btl...|Synagogues, Relig...|St. Petersburg|{9:0-17:0, 9:0-17...|      1|     27.76659|    -82.732983|      Temple Beth-El|      33707|           5|  3.5|   FL|\n",
      "|   8025 Mackenzie Rd|{null, null, u'fu...|k0hlBqXX-Bt0vf1op...|Pubs, Restaurants...|        Affton|                null|      0|   38.5651648|   -90.3210868|Tsevi's Pub And G...|      63123|          19|  3.0|   MO|\n",
      "| 2312 Dickerson Pike|{null, null, u'no...|bBDDEgkFA1Otx9Lfe...|Ice Cream & Froze...|     Nashville|{6:0-16:0, 0:0-0:...|      1|   36.2081024|   -86.7681696|      Sonic Drive-In|      37207|          10|  1.5|   TN|\n",
      "|21705 Village Lak...|{null, null, null...|UJsufbvfyfONHeWdv...|Department Stores...| Land O' Lakes|{9:30-21:30, 9:30...|      1|28.1904587953|-82.4573802199|           Marshalls|      34639|           6|  3.5|   FL|\n",
      "|                    |{null, null, 'non...|eEOYSgkmpB90uNA7l...|Vietnamese, Food,...|     Tampa Bay|{11:0-14:0, 11:0-...|      1|   27.9552692|   -82.4563199|Vietnamese Food T...|      33602|          10|  4.0|   FL|\n",
      "|        8901 US 31 S|{null, null, 'non...|il_Ro8jwPlHresjw9...|American (Traditi...|  Indianapolis|{6:0-22:0, 6:0-22...|      1|39.6371332838| -86.127217412|             Denny's|      46227|          28|  2.5|   IN|\n",
      "|   15 N Missouri Ave|{null, null, null...|jaxMSoInw8Poo3XeM...|General Dentistry...|    Clearwater|{null, 7:30-15:30...|      1|    27.966235|    -82.787412|        Adams Dental|      33755|          10|  5.0|   FL|\n",
      "|       2575 E Bay Dr|{null, null, u'no...|0bPLkL0QhhPO5kt1_...|Food, Delis, Ital...|         Largo|{10:0-20:0, 10:0-...|      0|   27.9161159|   -82.7604608|Zio's Italian Market|      33771|         100|  4.5|   FL|\n",
      "|         205 Race St|{null, null, 'ful...|MUTTqe8uqyMdBl186...|Sushi Bars, Resta...|  Philadelphia|{13:30-23:0, null...|      1|    39.953949|   -75.1432262|            Tuna Bar|      19106|         245|  4.0|   PA|\n",
      "|     625 N Stone Ave|{null, null, null...|rBmpy_Y1UbBx8ggHl...|Automotive, Auto ...|        Tucson|{8:0-17:0, 0:0-0:...|      1|   32.2298719|  -110.9723419|Arizona Truck Out...|      85705|          10|  4.5|   AZ|\n",
      "|        712 Adams St|{null, null, null...|M0XSSHqrASOnhgbWD...|Vape Shops, Tobac...|   New Orleans|{10:0-19:0, 10:0-...|      1|29.9414679565| -90.129952757|      Herb Import Co|      70118|           5|  4.0|   LA|\n",
      "|     1241 Airline Dr|                null|8wGISYjYkE2tSqn3c...|Automotive, Car R...|        Kenner|{8:0-17:0, 8:0-17...|      1|    29.981183|   -90.2540123|    Nifty Car Rental|      70062|          14|  3.5|   LA|\n",
      "|       1224 South St|{null, null, u'no...|ROeacJQwBeh05Rqg7...| Korean, Restaurants|  Philadelphia|{11:30-20:30, 11:...|      1|    39.943223|    -75.162568|                 BAP|      19147|         205|  4.5|   PA|\n",
      "+--------------------+--------------------+--------------------+--------------------+--------------+--------------------+-------+-------------+--------------+--------------------+-----------+------------+-----+-----+\n",
      "only showing top 20 rows\n",
      "\n"
     ]
    }
   ],
   "source": [
    "business.show()"
   ]
  },
  {
   "cell_type": "code",
   "execution_count": 6,
   "id": "9af9bf2b-ebb6-406e-bfb5-9247adaf440f",
   "metadata": {
    "execution": {
     "iopub.execute_input": "2024-03-07T09:38:19.330840Z",
     "iopub.status.busy": "2024-03-07T09:38:19.330068Z",
     "iopub.status.idle": "2024-03-07T09:38:20.029730Z",
     "shell.execute_reply": "2024-03-07T09:38:20.027967Z",
     "shell.execute_reply.started": "2024-03-07T09:38:19.330785Z"
    },
    "tags": []
   },
   "outputs": [
    {
     "name": "stdout",
     "output_type": "stream",
     "text": [
      "+--------------------+----+-------------------+-----+--------------------+-----+--------------------+------+--------------------+\n",
      "|         business_id|cool|               date|funny|           review_id|stars|                text|useful|             user_id|\n",
      "+--------------------+----+-------------------+-----+--------------------+-----+--------------------+------+--------------------+\n",
      "|XQfwVwDr-v0ZS3_Cb...|   0|2018-07-07 22:09:11|    0|KU_O5udG6zpxOg-Vc...|  3.0|If you decide to ...|     0|mh_-eMZ6K5RLWhZyI...|\n",
      "|7ATYjTIgM3jUlt4UM...|   1|2012-01-03 15:28:18|    0|BiTunyQ73aT9WBnpR...|  5.0|I've taken a lot ...|     1|OyoGAe7OKpv6SyGZT...|\n",
      "|YjUWPpI6HXG530lwP...|   0|2014-02-05 20:30:30|    0|saUsX_uimxRlCVr67...|  3.0|Family diner. Had...|     0|8g_iMtfSiwikVnbP2...|\n",
      "|kxX2SOes4o-D3ZQBk...|   1|2015-01-04 00:01:03|    0|AqPFMleE6RsU23_au...|  5.0|Wow!  Yummy, diff...|     1|_7bHUi9Uuf5__HHc_...|\n",
      "|e4Vwtrqf-wpJfwesg...|   1|2017-01-14 20:54:15|    0|Sx8TMOWLNuJBWer-0...|  4.0|Cute interior and...|     1|bcjbaE6dDog4jkNY9...|\n",
      "|04UD14gamNjLY0IDY...|   1|2015-09-23 23:10:31|    2|JrIxlS1TzJ-iCu79u...|  1.0|I am a long term ...|     1|eUta8W_HdHMXPzLBB...|\n",
      "|gmjsEdUsKpj9Xxu6p...|   0|2015-01-03 23:21:18|    2|6AxgBCNX_PNTOxmbR...|  5.0|Loved this tour! ...|     0|r3zeYsv1XFBRA4dJp...|\n",
      "|LHSTtnW3YHCeUkRDG...|   0|2015-08-07 02:29:16|    0|_ZeMknuYdlQcUqng_...|  5.0|Amazingly amazing...|     2|yfFzsLmaWF2d4Sr0U...|\n",
      "|B5XSoSG3SfvQGtKEG...|   0|2016-03-30 22:46:33|    1|ZKvDG2sBvHVdF5oBN...|  3.0|This easter inste...|     1|wSTuiTk-sKNdcFypr...|\n",
      "|gebiRewfieSdtt17P...|   0|2016-07-25 07:31:06|    0|pUycOfUwM8vqX7KjR...|  3.0|Had a party of 6 ...|     0|59MxRhNVhU9MYndMk...|\n",
      "|uMvVYRgGNXf5boolA...|   0|2015-06-21 14:48:06|    0|rGQRf8UafX7OTlMNN...|  5.0|My experience wit...|     2|1WHRWwQmZOZDAhp2Q...|\n",
      "|EQ-TZ2eeD_E0BHuvo...|   0|2015-08-19 14:31:45|    0|l3Wk_mvAog6XANIuG...|  4.0|Locals recommende...|     0|ZbqSHbgCjzVAqaa7N...|\n",
      "|lj-E32x9_FA7GmUrB...|   0|2014-06-27 22:44:01|    0|XW_LfMv0fV21l9c6x...|  4.0|Love going here f...|     0|9OAtfnWag-ajVxRbU...|\n",
      "|RZtGWDLCAtuipwaZ-...|   0|2009-10-14 19:57:14|    0|8JFGBuHMoiNDyfcxu...|  4.0|Good food--loved ...|     0|smOvOajNG0lS4Pq7d...|\n",
      "|otQS34_MymijPTdNB...|   0|2011-10-27 17:12:05|    2|UBp0zWyH60Hmw6Fsa...|  4.0|The bun makes the...|     0|4Uh27DgGzsp6PqrH9...|\n",
      "|BVndHaLihEYbr76Z0...|   0|2014-10-11 16:22:06|    0|OAhBYw8IQ6wlfw1ow...|  5.0|Great place for b...|     0|1C2lxzUo1Hyye4RFI...|\n",
      "|YtSqYv1Q_pOltsVPS...|   0|2013-06-24 11:21:25|    0|oyaMhzBSwfGgemSGu...|  5.0|Tremendous servic...|     0|Dd1jQj7S-BFGqRbAp...|\n",
      "|rBdG_23USc7DletfZ...|   0|2014-08-10 19:41:43|    0|LnGZB0fjfgeVDVz5I...|  4.0|The hubby and I h...|     1|j2wlzrntrbKwyOcOi...|\n",
      "|CLEWowfkj-wKYJlQD...|   1|2016-03-07 00:02:18|    0|u2vzZaOqJ2feRshaa...|  5.0|I go to blow bar ...|     2|NDZvyYHTUWWu-kqgQ...|\n",
      "|eFvzHawVJofxSnD7T...|   0|2014-11-12 15:30:27|    0|Xs8Z8lmKkosqW5mw_...|  5.0|My absolute favor...|     0|IQsF3Rc6IgCzjVV9D...|\n",
      "+--------------------+----+-------------------+-----+--------------------+-----+--------------------+------+--------------------+\n",
      "only showing top 20 rows\n",
      "\n"
     ]
    }
   ],
   "source": [
    "reviews.show()"
   ]
  },
  {
   "cell_type": "markdown",
   "id": "7d258fa6-1402-4c3a-a252-a9dbfd4a87d9",
   "metadata": {},
   "source": [
    "Example: Say we're only interested in reviews of good mexican restaurants in Arizona. You can delete this when you do your own thing. "
   ]
  },
  {
   "cell_type": "code",
   "execution_count": 7,
   "id": "07983acb-15d8-45ea-9d12-3bc8759280b4",
   "metadata": {
    "execution": {
     "iopub.execute_input": "2024-03-07T09:38:20.038302Z",
     "iopub.status.busy": "2024-03-07T09:38:20.037628Z",
     "iopub.status.idle": "2024-03-07T09:38:29.931633Z",
     "shell.execute_reply": "2024-03-07T09:38:29.930659Z",
     "shell.execute_reply.started": "2024-03-07T09:38:20.038247Z"
    },
    "tags": []
   },
   "outputs": [
    {
     "name": "stdout",
     "output_type": "stream",
     "text": [
      "+--------------------+--------------------+\n",
      "|                name|                text|\n",
      "+--------------------+--------------------+\n",
      "|Casa Molina Del N...|We've been coming...|\n",
      "|St Mary's Mexican...|Some of the fines...|\n",
      "|Street- Taco and ...|Top notch street ...|\n",
      "|Indian Frybread-M...|This place is a h...|\n",
      "|St Mary's Mexican...|One of my favorit...|\n",
      "|Street- Taco and ...|This is my favori...|\n",
      "|Street- Taco and ...|Great food!  Grea...|\n",
      "|            BK Tacos|Quality ingredien...|\n",
      "|Street- Taco and ...|Best tacos in Tuc...|\n",
      "|        El Merendero|This place was fr...|\n",
      "|        El Merendero|To the reviewer w...|\n",
      "|Taqueria Pico De ...|If you are lookin...|\n",
      "|               Penca|Good unique Mexic...|\n",
      "|   La Mesa Tortillas|Incredible red ch...|\n",
      "|               Penca|I love this place...|\n",
      "|            BK Tacos|This place is the...|\n",
      "|Indian Frybread-M...|Wow! My sister ha...|\n",
      "|St Mary's Mexican...|Carne Seca burro ...|\n",
      "|             Club 21|The food was exce...|\n",
      "|      El Charro Cafe|This is the best ...|\n",
      "+--------------------+--------------------+\n",
      "only showing top 20 rows\n",
      "\n"
     ]
    }
   ],
   "source": [
    "# Filter to only Arizona businesses with \"Mexican\" as part of their categories\n",
    "az_mex = business.filter(business.state == \"AZ\")\\\n",
    "                .filter(business.categories.rlike(\"Mexican\"))\\\n",
    "                .select(\"business_id\", \"name\")\n",
    "\n",
    "# Join with the reviews\n",
    "az_mex_rs = reviews.join(az_mex, on=\"business_id\", how=\"inner\")\n",
    "\n",
    "# Filter to only 5 star reviews\n",
    "good_az_mex_rs = az_mex_rs.filter(az_mex_rs.stars == 5)\\\n",
    "                        .select(\"name\",\"text\")\n",
    "\n",
    "# Print the top 20 rows of the DataFrame\n",
    "good_az_mex_rs.show()\n",
    "\n",
    "# Convert to pandas (local object) and save to local file system\n",
    "good_az_mex_rs.toPandas().to_csv(\"good_az_reviews.csv\", header=True, index=False, encoding='utf-8')\n"
   ]
  },
  {
   "cell_type": "code",
   "execution_count": 8,
   "id": "e363bef5-adb1-42b6-aa7d-5db4dc2c9e0e",
   "metadata": {
    "execution": {
     "iopub.execute_input": "2024-03-07T09:38:29.933113Z",
     "iopub.status.busy": "2024-03-07T09:38:29.932835Z",
     "iopub.status.idle": "2024-03-07T09:38:30.035595Z",
     "shell.execute_reply": "2024-03-07T09:38:30.034096Z",
     "shell.execute_reply.started": "2024-03-07T09:38:29.933086Z"
    },
    "tags": []
   },
   "outputs": [
    {
     "data": {
      "text/plain": [
       "40"
      ]
     },
     "execution_count": 8,
     "metadata": {},
     "output_type": "execute_result"
    }
   ],
   "source": [
    "reviews.rdd.getNumPartitions()"
   ]
  },
  {
   "cell_type": "code",
   "execution_count": 9,
   "id": "48b2fcbf-2c0a-4f41-9244-50f56caf7f0c",
   "metadata": {
    "execution": {
     "iopub.execute_input": "2024-03-07T09:38:30.038354Z",
     "iopub.status.busy": "2024-03-07T09:38:30.037703Z",
     "iopub.status.idle": "2024-03-07T09:38:30.052782Z",
     "shell.execute_reply": "2024-03-07T09:38:30.051696Z",
     "shell.execute_reply.started": "2024-03-07T09:38:30.038306Z"
    },
    "tags": []
   },
   "outputs": [
    {
     "data": {
      "text/plain": [
       "DataFrame[business_id: string, cool: bigint, date: string, funny: bigint, review_id: string, stars: double, text: string, useful: bigint, user_id: string]"
      ]
     },
     "execution_count": 9,
     "metadata": {},
     "output_type": "execute_result"
    }
   ],
   "source": [
    "reviews.repartition(25)"
   ]
  },
  {
   "cell_type": "code",
   "execution_count": 10,
   "id": "9729f3d6-165a-4ef0-8de9-e8c8bebd56ce",
   "metadata": {
    "execution": {
     "iopub.execute_input": "2024-03-07T09:38:30.055144Z",
     "iopub.status.busy": "2024-03-07T09:38:30.054655Z",
     "iopub.status.idle": "2024-03-07T09:38:44.623812Z",
     "shell.execute_reply": "2024-03-07T09:38:44.553492Z",
     "shell.execute_reply.started": "2024-03-07T09:38:30.055108Z"
    },
    "tags": []
   },
   "outputs": [
    {
     "name": "stdout",
     "output_type": "stream",
     "text": [
      "+--------------------+-----------+\n",
      "|         business_id|num_reviews|\n",
      "+--------------------+-----------+\n",
      "|_ab50qdWOk0DdB6XO...|       7673|\n",
      "|ac1AeYqs8Z4_e2X5M...|       7516|\n",
      "|GXFMD0Z4jEVZBCsbP...|       6160|\n",
      "|ytynqOUb3hjKeJfRj...|       5778|\n",
      "|oBNrLz4EDhiscSlbO...|       5264|\n",
      "|iSRTaT9WngzB8JJ2Y...|       5254|\n",
      "|VQcCL9PiNL_wkGf-u...|       5146|\n",
      "|_C7QiQQc47AOEv4PE...|       4969|\n",
      "|GBTPC53ZrG1ZBY3DT...|       4661|\n",
      "|6a4gLLFSgr-Q6CZXD...|       4480|\n",
      "|PP3BBaVxZLcJU54uP...|       4293|\n",
      "|1b5mnK8bMnnju_cvU...|       4247|\n",
      "|I_3LMZ_1m2mzR0oLI...|       4093|\n",
      "|VaO-VW3e1kARkU9bP...|       4034|\n",
      "|qb28j-FNX1_6xm7u3...|       3971|\n",
      "|gTC8IQ_i8zXytWSly...|       3917|\n",
      "|yPSejq3_erxo9zdVY...|       3889|\n",
      "|wz8ZPfySQczcPgSyd...|       3634|\n",
      "|VVH6k9-ycttH3TV_l...|       3633|\n",
      "|IkY2ticzHEn4QFn8h...|       3428|\n",
      "+--------------------+-----------+\n",
      "only showing top 20 rows\n",
      "\n"
     ]
    }
   ],
   "source": [
    "# 1. Find the total number of reviews for all businesses. The output should be in the form of a Spark Table/DataFrame with one value representing the count.\n",
    "# I'm gonna assuma that's \"number of reviews for each business\"\n",
    "# https://stackoverflow.com/a/41890813/9877700\n",
    "reviewCount = reviews.groupBy(\"business_id\").agg(\n",
    "    F.count(F.lit(1)).alias(\"num_reviews\")\n",
    ")\n",
    "reviewCount.sort(\"num_reviews\", ascending=False).show()"
   ]
  },
  {
   "cell_type": "code",
   "execution_count": 11,
   "id": "727b6148-15d1-4767-b352-9200cad52500",
   "metadata": {
    "execution": {
     "iopub.execute_input": "2024-03-07T09:38:44.626707Z",
     "iopub.status.busy": "2024-03-07T09:38:44.625977Z",
     "iopub.status.idle": "2024-03-07T09:39:54.826267Z",
     "shell.execute_reply": "2024-03-07T09:39:54.824718Z",
     "shell.execute_reply.started": "2024-03-07T09:38:44.626653Z"
    },
    "tags": []
   },
   "outputs": [
    {
     "name": "stdout",
     "output_type": "stream",
     "text": [
      "An error occurred while calling o208.showString.\n",
      ": org.apache.spark.SparkException: Job aborted due to stage failure: Task 1 in stage 18.0 failed 4 times, most recent failure: Lost task 1.3 in stage 18.0 (TID 285) (node1 executor 0): TaskResultLost (result lost from block manager)\n",
      "Driver stacktrace:\n",
      "\tat org.apache.spark.scheduler.DAGScheduler.failJobAndIndependentStages(DAGScheduler.scala:2672)\n",
      "\tat org.apache.spark.scheduler.DAGScheduler.$anonfun$abortStage$2(DAGScheduler.scala:2608)\n",
      "\tat org.apache.spark.scheduler.DAGScheduler.$anonfun$abortStage$2$adapted(DAGScheduler.scala:2607)\n",
      "\tat scala.collection.mutable.ResizableArray.foreach(ResizableArray.scala:62)\n",
      "\tat scala.collection.mutable.ResizableArray.foreach$(ResizableArray.scala:55)\n",
      "\tat scala.collection.mutable.ArrayBuffer.foreach(ArrayBuffer.scala:49)\n",
      "\tat org.apache.spark.scheduler.DAGScheduler.abortStage(DAGScheduler.scala:2607)\n",
      "\tat org.apache.spark.scheduler.DAGScheduler.$anonfun$handleTaskSetFailed$1(DAGScheduler.scala:1182)\n",
      "\tat org.apache.spark.scheduler.DAGScheduler.$anonfun$handleTaskSetFailed$1$adapted(DAGScheduler.scala:1182)\n",
      "\tat scala.Option.foreach(Option.scala:407)\n",
      "\tat org.apache.spark.scheduler.DAGScheduler.handleTaskSetFailed(DAGScheduler.scala:1182)\n",
      "\tat org.apache.spark.scheduler.DAGSchedulerEventProcessLoop.doOnReceive(DAGScheduler.scala:2860)\n",
      "\tat org.apache.spark.scheduler.DAGSchedulerEventProcessLoop.onReceive(DAGScheduler.scala:2802)\n",
      "\tat org.apache.spark.scheduler.DAGSchedulerEventProcessLoop.onReceive(DAGScheduler.scala:2791)\n",
      "\tat org.apache.spark.util.EventLoop$$anon$1.run(EventLoop.scala:49)\n",
      "\tat org.apache.spark.scheduler.DAGScheduler.runJob(DAGScheduler.scala:952)\n",
      "\tat org.apache.spark.SparkContext.runJob(SparkContext.scala:2228)\n",
      "\tat org.apache.spark.SparkContext.runJob(SparkContext.scala:2249)\n",
      "\tat org.apache.spark.SparkContext.runJob(SparkContext.scala:2268)\n",
      "\tat org.apache.spark.SparkContext.runJob(SparkContext.scala:2293)\n",
      "\tat org.apache.spark.rdd.RDD.$anonfun$collect$1(RDD.scala:1021)\n",
      "\tat org.apache.spark.rdd.RDDOperationScope$.withScope(RDDOperationScope.scala:151)\n",
      "\tat org.apache.spark.rdd.RDDOperationScope$.withScope(RDDOperationScope.scala:112)\n",
      "\tat org.apache.spark.rdd.RDD.withScope(RDD.scala:406)\n",
      "\tat org.apache.spark.rdd.RDD.collect(RDD.scala:1020)\n",
      "\tat org.apache.spark.sql.execution.SparkPlan.executeCollectIterator(SparkPlan.scala:431)\n",
      "\tat org.apache.spark.sql.execution.exchange.BroadcastExchangeExec.$anonfun$relationFuture$1(BroadcastExchangeExec.scala:137)\n",
      "\tat org.apache.spark.sql.execution.SQLExecution$.$anonfun$withThreadLocalCaptured$1(SQLExecution.scala:191)\n",
      "\tat java.util.concurrent.FutureTask.run(FutureTask.java:266)\n",
      "\tat java.util.concurrent.ThreadPoolExecutor.runWorker(ThreadPoolExecutor.java:1149)\n",
      "\tat java.util.concurrent.ThreadPoolExecutor$Worker.run(ThreadPoolExecutor.java:624)\n",
      "\tat java.lang.Thread.run(Thread.java:750)\n",
      "\n",
      "+--------------------+-----------+--------------------+--------------------+--------------------+-------------+--------------------+-------+-------------+---------------+--------------------+-----------+------------+-----+-----+\n",
      "|         business_id|num_reviews|             address|          attributes|          categories|         city|               hours|is_open|     latitude|      longitude|                name|postal_code|review_count|stars|state|\n",
      "+--------------------+-----------+--------------------+--------------------+--------------------+-------------+--------------------+-------+-------------+---------------+--------------------+-----------+------------+-----+-----+\n",
      "|-0TffRSXXIlBYVbb5...|       1132|   205 South 13th St|{null, null, u'fu...|Cocktail Bars, Fo...| Philadelphia|{16:0-23:0, 0:0-0...|      1|39.9485078263| -75.1619688173|IndeBlue Modern I...|      19107|        1097|  4.5|   PA|\n",
      "|-1XSzguS6XLN-V6MV...|        534|       857 Fulton St|{null, null, u'fu...|Cajun/Creole, Sou...|  New Orleans|{17:30-21:30, 0:0...|      1|   29.9435371|    -90.0653721|  Restaurant Rebirth|      70130|         521|  4.5|   LA|\n",
      "|-9NmUeTphyS9Lq1o9...|        705|    2804 Opryland Dr|{null, null, u'fu...|Performing Arts, ...|    Nashville|{17:30-21:30, 10:...|      1|    36.206904|     -86.692294|      Grand Ole Opry|      37214|         687|  4.5|   TN|\n",
      "|-ATiAtTikuGuqvaW2...|        604|       121 S 16th St|{null, null, u'fu...|Sandwiches, Ameri...| Philadelphia|{11:0-21:0, 11:0-...|      1|39.9504833638| -75.1673305865|            Marathon|      19102|         593|  3.5|   PA|\n",
      "|-AaxZJ_I4rSFOBJbB...|        520|4801 Tchoupitoula...|{null, null, null...|Ice Cream & Froze...|  New Orleans|{12:0-18:0, null,...|      1|29.9170838415| -90.1054047793|   Hansen's Sno-Bliz|      70115|         512|  4.5|   LA|\n",
      "|-DGsnMlRrR_tv8avr...|        770|       735 S 10th St|{null, null, 'non...|Breakfast & Brunc...| Philadelphia|{7:0-15:0, 7:0-15...|      1|   39.9408607|    -75.1589045|Sam's Morning Glo...|      19147|         741|  4.0|   PA|\n",
      "|-EHrU_DwtX2Jv4NbA...|        841|2620 E Hillsborou...|{null, null, 'bee...|Seafood, Dim Sum,...|        Tampa|{17:0-21:30, 17:0...|      1|   27.9965254|    -82.4299509|Yummy House China...|      33610|         815|  4.0|   FL|\n",
      "|-FM4CxOg4XXmX_Ebk...|       1434|    31 W Carrillo St|{null, null, u'fu...|Breakfast & Brunc...|Santa Barbara|{17:0-21:0, 17:30...|      1|   34.4203606|   -119.7024752|        Finch & Fork|      93101|        1405|  4.0|   CA|\n",
      "|-OKB11ypR4C8wWlon...|       1295|  3800 S Virginia St|{null, null, u'fu...|Casinos, Hotels &...|         Reno|{0:0-0:0, 0:0-0:0...|      1|   39.4889071|   -119.7936863|Atlantis Casino R...|      89502|        1218|  3.5|   NV|\n",
      "|-QI8Qi8XWH3D8y8et...|       2235|  8500 Essington Ave|{null, null, null...|Professional Serv...| Philadelphia|{0:0-0:0, 0:0-0:0...|      1|39.8730739955| -75.2432488754|Philadelphia Inte...|      19153|        2149|  2.5|   PA|\n",
      "|-TjT3y-Glfnbt6LbK...|        561|       1201 State St|{null, null, u'fu...|American (Traditi...|Santa Barbara|{11:30-16:0, 0:0-...|      1|   34.4233579|   -119.7047765|    Benchmark Eatery|      93101|         544|  4.0|   CA|\n",
      "|-Tskf8WK17rb3ZfeF...|       1841|        605 Canal St|{null, null, u'fu...|Seafood, Restaura...|  New Orleans|{11:0-21:0, null,...|      1|29.9528498981| -90.0682077989|         Palace Café|      70130|        1822|  4.0|   LA|\n",
      "|-cEFKAznWmI0cledN...|       1182|    1716 Chestnut St|{null, null, u'fu...|Restaurants, Gela...| Philadelphia|{7:0-23:0, 7:0-22...|      1|   39.9512789|    -75.1695181| Gran Caffe L'Aquila|      19103|        1138|  4.5|   PA|\n",
      "|-ejuzGbu3ZHUndhLT...|        865|    1120 Mcgavock St|{null, null, u'fu...|Nightlife, Breakf...|    Nashville|{11:0-22:0, 0:0-0...|      1|   36.1560886|    -86.7863707|         Saint Anejo|      37203|         851|  3.5|   TN|\n",
      "|-jsmtvdoUI-GJRSkl...|        549|2323 S Vista Ave,...|                null|Pet Services, Pet...|        Boise|{6:0-19:0, 6:0-19...|      1|43.5813948685|-116.2142769067|           Pets Best|      83705|         461|  1.5|   ID|\n",
      "|-kHHi8y4kaTI6WUVd...|        704|    6605 Delmar Blvd|{null, null, 'ful...|Bars, Local Flavo...|  Saint Louis|{11:0-21:0, 0:0-0...|      1|   38.6562321|    -90.3055584|              Fitz's|      63130|         689|  3.5|   MO|\n",
      "|-mIlmp5l4hKlp1tvH...|       1716|       228 Market St|{null, null, 'non...|Cheesesteaks, Com...| Philadelphia|{11:0-22:0, 0:0-0...|      1|39.9499178538| -75.1447920753|Sonny's Famous St...|      19106|        1697|  4.0|   PA|\n",
      "|-pyobEWdpZ6jUp42f...|        704|  404 Marlton Pike E|{null, null, u'no...|Tea Rooms, Korean...|  Cherry Hill|{11:0-21:0, 0:0-0...|      1|39.9128681736| -75.0021335418|        Dolsot House|      08034|         665|  4.0|   NJ|\n",
      "|-s6EMVPCBrsocFDui...|        555|      700 Bourbon St|{null, null, u'fu...|Event Planning & ...|  New Orleans|{11:0-23:0, 11:0-...|      1|29.9586062681| -90.0657682266|              Cornet|      70116|         548|  3.5|   LA|\n",
      "|-xaY1TlMf20Ol9QLc...|        701|    1008 N Peters St|{null, null, null...|Farmers Market, S...|  New Orleans|{10:0-17:0, 10:0-...|      1|   29.9590209|    -90.0602077|       French Market|      70116|         692|  3.5|   LA|\n",
      "+--------------------+-----------+--------------------+--------------------+--------------------+-------------+--------------------+-------+-------------+---------------+--------------------+-----------+------------+-----+-----+\n",
      "only showing top 20 rows\n",
      "\n"
     ]
    }
   ],
   "source": [
    "# 2. Find all businesses that have received 5 stars and that have been reviewed by 500 or more users. The output should be in the form of DataFrame of (name, stars, review count).\n",
    "bsnsrvwcnt = reviewCount.join(business, \"business_id\", \"inner\")\n",
    "bsnsrvwcnt500 = bsnsrvwcnt.filter(bsnsrvwcnt.num_reviews >= 500)\n",
    "try:\n",
    "    bsnsrvwcnt500.select(\"name\", \"stars\", \"num_reviews\").show()\n",
    "except Exception as e:\n",
    "    print(e) # why?\n",
    "    bsnsrvwcnt500.show()"
   ]
  },
  {
   "cell_type": "code",
   "execution_count": 12,
   "id": "494b0419-a72a-4e57-a28f-9506bfdc53ea",
   "metadata": {
    "execution": {
     "iopub.execute_input": "2024-03-07T09:39:54.829673Z",
     "iopub.status.busy": "2024-03-07T09:39:54.828824Z",
     "iopub.status.idle": "2024-03-07T09:40:05.879712Z",
     "shell.execute_reply": "2024-03-07T09:40:05.878416Z",
     "shell.execute_reply.started": "2024-03-07T09:39:54.829569Z"
    },
    "tags": []
   },
   "outputs": [
    {
     "name": "stdout",
     "output_type": "stream",
     "text": [
      "+--------------------+-----------+\n",
      "|             user_id|num_reviews|\n",
      "+--------------------+-----------+\n",
      "|_BcWyKQL16ndpBdgg...|       3048|\n",
      "|Xw7ZjaGfr0WNVt6s_...|       1840|\n",
      "|0Igx-a1wAstiBDerG...|       1747|\n",
      "|-G7Zkl1wIWBBmD0KR...|       1682|\n",
      "|ET8n-r7glWYqZhuR6...|       1653|\n",
      "|bYENop4BuQepBjM1-...|       1578|\n",
      "|1HM81n6n4iPIFU5d2...|       1554|\n",
      "|fr1Hz2acAb3OaL3l6...|       1447|\n",
      "|wXdbkFZsfDR7utJvb...|       1396|\n",
      "|Um5bfs5DH6eizgjH3...|       1391|\n",
      "|qjfMBIZpQT9DDtw_B...|       1324|\n",
      "|VL12EhEdT4OWqGq0n...|       1308|\n",
      "|bJ5FtCtZX3ZZacz2_...|       1298|\n",
      "|pou3BbKsIozfH50rx...|       1247|\n",
      "|ouODopBKF3AqfCkuQ...|       1129|\n",
      "|B-s-8VUnuBjGTP3d0...|       1087|\n",
      "|-kLVfaJytOJY2-QdQ...|       1076|\n",
      "|vHc-UrI9yfL_pnnc6...|       1071|\n",
      "|CfX4sTIFFNaRchNsw...|       1047|\n",
      "|AHRrG3T1gJpHvtpZ-...|       1041|\n",
      "+--------------------+-----------+\n",
      "only showing top 20 rows\n",
      "\n"
     ]
    }
   ],
   "source": [
    "# 3. Find the influencers who have written more than 1000 reviews. The output should be in the form of a Spark Table/DataFrame of user id. Find the businesses that have been reviewed by more than 5 influencer users. You can use a view created from your answer to Q3.\n",
    "# \"view created from your answer to Q3\" brother this IS Q3.\n",
    "userReviewCount = reviews.groupBy(\"user_id\").agg(\n",
    "    F.count(F.lit(1)).alias(\"num_reviews\")\n",
    ")\n",
    "userReviewCount.sort(\"num_reviews\", ascending=False).show()"
   ]
  },
  {
   "cell_type": "code",
   "execution_count": 13,
   "id": "c2b2a5dd-aaec-4bb0-b65e-67d32a935112",
   "metadata": {
    "execution": {
     "iopub.execute_input": "2024-03-07T09:40:05.882546Z",
     "iopub.status.busy": "2024-03-07T09:40:05.881699Z",
     "iopub.status.idle": "2024-03-07T09:40:17.081490Z",
     "shell.execute_reply": "2024-03-07T09:40:17.079707Z",
     "shell.execute_reply.started": "2024-03-07T09:40:05.882490Z"
    },
    "tags": []
   },
   "outputs": [
    {
     "name": "stdout",
     "output_type": "stream",
     "text": [
      "+--------------------+\n",
      "|             user_id|\n",
      "+--------------------+\n",
      "|1HM81n6n4iPIFU5d2...|\n",
      "|-kLVfaJytOJY2-QdQ...|\n",
      "|B-s-8VUnuBjGTP3d0...|\n",
      "|Xw7ZjaGfr0WNVt6s_...|\n",
      "|bYENop4BuQepBjM1-...|\n",
      "|0Igx-a1wAstiBDerG...|\n",
      "|CfX4sTIFFNaRchNsw...|\n",
      "|pou3BbKsIozfH50rx...|\n",
      "|ouODopBKF3AqfCkuQ...|\n",
      "|qjfMBIZpQT9DDtw_B...|\n",
      "|-G7Zkl1wIWBBmD0KR...|\n",
      "|AHRrG3T1gJpHvtpZ-...|\n",
      "|wXdbkFZsfDR7utJvb...|\n",
      "|vHc-UrI9yfL_pnnc6...|\n",
      "|VL12EhEdT4OWqGq0n...|\n",
      "|_BcWyKQL16ndpBdgg...|\n",
      "|bJ5FtCtZX3ZZacz2_...|\n",
      "|ET8n-r7glWYqZhuR6...|\n",
      "|I2XpWCHAom1JRyHXZ...|\n",
      "|fr1Hz2acAb3OaL3l6...|\n",
      "+--------------------+\n",
      "only showing top 20 rows\n",
      "\n"
     ]
    }
   ],
   "source": [
    "influencers = userReviewCount.filter(userReviewCount.num_reviews > 1000).select(\"user_id\")\n",
    "influencers.show()"
   ]
  },
  {
   "cell_type": "code",
   "execution_count": 14,
   "id": "52ae1502-5d3f-477c-88c3-b2a8e7a5af85",
   "metadata": {
    "execution": {
     "iopub.execute_input": "2024-03-07T09:40:17.084387Z",
     "iopub.status.busy": "2024-03-07T09:40:17.083602Z",
     "iopub.status.idle": "2024-03-07T09:40:36.091516Z",
     "shell.execute_reply": "2024-03-07T09:40:36.089836Z",
     "shell.execute_reply.started": "2024-03-07T09:40:17.084331Z"
    },
    "tags": []
   },
   "outputs": [
    {
     "name": "stdout",
     "output_type": "stream",
     "text": [
      "+--------------------+----------------------+\n",
      "|         business_id|num_influencer_reviews|\n",
      "+--------------------+----------------------+\n",
      "|h-LoRnHxlAx4tS2UJ...|                     2|\n",
      "|qWxW41eUYVOO79YP7...|                     1|\n",
      "|y6aBgF8SQ3PpR6AaW...|                     3|\n",
      "|KdljisvY2nmyHSIUt...|                     1|\n",
      "|PQYuPr2Dfm2S49EUL...|                     5|\n",
      "|xoVTtQd6xRrFbQcdf...|                     3|\n",
      "|CG_NAd2OggmVEQjFO...|                     1|\n",
      "|6nRTFCfS3CsIWyqOj...|                     2|\n",
      "|AlnAoqsqChTn1Eg3d...|                     1|\n",
      "|1u2IlvwOMndfuRk9E...|                     2|\n",
      "|lXCFcmhoRsyW-mnzz...|                     1|\n",
      "|P6fQZruWG886KpegS...|                     2|\n",
      "|2j43r7yLc-KwJ6JNs...|                     1|\n",
      "|xZvfws735zT0LsBZM...|                     1|\n",
      "|GApqfwJMxg4t2tk3K...|                     3|\n",
      "|uAg0M9xi_ijuMw5T2...|                     4|\n",
      "|2N97axWHko3rzyzOG...|                     2|\n",
      "|PQ0QbT5I6V8JvOm0N...|                     4|\n",
      "|WeDn7iD1ckcEg7Ytt...|                     2|\n",
      "|caYHsI0eWE0UyEcSm...|                     1|\n",
      "+--------------------+----------------------+\n",
      "only showing top 20 rows\n",
      "\n"
     ]
    }
   ],
   "source": [
    "influencerReviews = reviews.join(influencers, \"user_id\", \"inner\")\n",
    "influencerReviewCount = influencerReviews.groupBy(\"business_id\").agg(\n",
    "    F.count(F.lit(1)).alias(\"num_influencer_reviews\")\n",
    ")\n",
    "influencerReviewCount.show()"
   ]
  },
  {
   "cell_type": "code",
   "execution_count": 15,
   "id": "e0c2c815-191d-4543-a2d1-9c7b1f5d1d46",
   "metadata": {
    "execution": {
     "iopub.execute_input": "2024-03-07T09:40:36.094450Z",
     "iopub.status.busy": "2024-03-07T09:40:36.093654Z",
     "iopub.status.idle": "2024-03-07T09:40:54.535312Z",
     "shell.execute_reply": "2024-03-07T09:40:54.533507Z",
     "shell.execute_reply.started": "2024-03-07T09:40:36.094394Z"
    },
    "tags": []
   },
   "outputs": [
    {
     "name": "stdout",
     "output_type": "stream",
     "text": [
      "+--------------------+----------------------+\n",
      "|         business_id|num_influencer_reviews|\n",
      "+--------------------+----------------------+\n",
      "|GjQPosKRsjgy6YOCl...|                     6|\n",
      "|QHWYlmVbLC3K6eglW...|                     8|\n",
      "|PP3BBaVxZLcJU54uP...|                     6|\n",
      "|N2dOYDp9aKOBxyO2e...|                     7|\n",
      "|G_bi7l0nU74I4Vr1V...|                     9|\n",
      "|O1Cw2yzf4bCuKjbVT...|                     6|\n",
      "|I_3LMZ_1m2mzR0oLI...|                     7|\n",
      "|a8CrdVtlfa3JDoC_A...|                     6|\n",
      "|Eb1XmmLWyt_way5NN...|                     6|\n",
      "|Uw46n__imJ52D7Zh1...|                     6|\n",
      "|g0cUlBQ2pGRxWtL6q...|                     7|\n",
      "|c_4c5rJECZSfNgFj7...|                     8|\n",
      "|Hi2ADMI1_BEahkXRP...|                     8|\n",
      "|n_7EQxn0ciucIOJfp...|                     7|\n",
      "|ny1N_Py01kVoGOvL9...|                     6|\n",
      "|7jRXF4N5NzxYuNN-H...|                     7|\n",
      "|KhBUg5QhBYuK8RZAe...|                     6|\n",
      "|AFYI0sfZ6WdVELjjE...|                     7|\n",
      "|_0QZGrg91aaiMhh7t...|                     6|\n",
      "|iYUwyARgC_RNPA1rT...|                     9|\n",
      "+--------------------+----------------------+\n",
      "only showing top 20 rows\n",
      "\n"
     ]
    }
   ],
   "source": [
    "popularBusinesses = influencerReviewCount.filter(influencerReviewCount.num_influencer_reviews > 5)\n",
    "popularBusinesses.show()"
   ]
  },
  {
   "cell_type": "code",
   "execution_count": 16,
   "id": "94fda412-7502-4340-ab68-335bd67c5704",
   "metadata": {
    "execution": {
     "iopub.execute_input": "2024-03-07T09:40:54.539113Z",
     "iopub.status.busy": "2024-03-07T09:40:54.538255Z",
     "iopub.status.idle": "2024-03-07T09:41:05.718709Z",
     "shell.execute_reply": "2024-03-07T09:41:05.717219Z",
     "shell.execute_reply.started": "2024-03-07T09:40:54.539037Z"
    },
    "tags": []
   },
   "outputs": [
    {
     "name": "stdout",
     "output_type": "stream",
     "text": [
      "+--------------------+----------+\n",
      "|             user_id|mean_stars|\n",
      "+--------------------+----------+\n",
      "|gu9gCRLNtQYuaQ2j_...|       5.0|\n",
      "|4JpCEIxTvZIIT9zDM...|       5.0|\n",
      "|6Bo23tnTkx6zN7_YG...|       5.0|\n",
      "|kbx5teHlHE1D0WMtp...|       5.0|\n",
      "|7hVPUkpLOgRuRNlTf...|       5.0|\n",
      "|y2pb6ko7InuUkhMBN...|       5.0|\n",
      "|q8_2bjtFhtKZO1yU9...|       5.0|\n",
      "|Hl9WmJ1t2xMF-u1-r...|       5.0|\n",
      "|HrigG63kjiYOrRpSq...|       5.0|\n",
      "|egWm6MlMfJYIbIv8c...|       5.0|\n",
      "|KqbJWGy8o1EQeTKJh...|       5.0|\n",
      "|Qqdjv0GaMuqMbBeYr...|       5.0|\n",
      "|wo2V_OfgU0NBDPUzE...|       5.0|\n",
      "|h3E1Z4x1Jkxamxi21...|       5.0|\n",
      "|A3EiqW7_k00gvaiQi...|       5.0|\n",
      "|sm4ZPuv-HpGBn3CPW...|       5.0|\n",
      "|JHWGK0kIWM73UcpO2...|       5.0|\n",
      "|3rSKIFAWcJ-0jkRJc...|       5.0|\n",
      "|22ml-CTcoabnc-uu4...|       5.0|\n",
      "|kALjfwXfePTGEpai5...|       5.0|\n",
      "+--------------------+----------+\n",
      "only showing top 20 rows\n",
      "\n"
     ]
    }
   ],
   "source": [
    "# 4. Find an ordered list of usrs based on the average star counts they have given in all their reviews.\n",
    "userMeanStars = reviews.groupBy(\"user_id\").agg(\n",
    "    F.mean(\"stars\").alias(\"mean_stars\")\n",
    ").sort(\"mean_stars\", ascending=False)\n",
    "userMeanStars.show()"
   ]
  },
  {
   "cell_type": "code",
   "execution_count": 17,
   "id": "dbf9c9b4-6c90-42da-8ad0-9f6133ef47f2",
   "metadata": {
    "execution": {
     "iopub.execute_input": "2024-03-07T09:41:05.721264Z",
     "iopub.status.busy": "2024-03-07T09:41:05.720587Z",
     "iopub.status.idle": "2024-03-07T09:42:21.437737Z",
     "shell.execute_reply": "2024-03-07T09:42:21.436121Z",
     "shell.execute_reply.started": "2024-03-07T09:41:05.721214Z"
    },
    "tags": []
   },
   "outputs": [
    {
     "name": "stdout",
     "output_type": "stream",
     "text": [
      "129945\n"
     ]
    }
   ],
   "source": [
    "# 3.2: Authenticity study\n",
    "# 3.2.1: Data Exploration\n",
    "from functools import reduce\n",
    "from pyspark.sql.functions import lower, udf\n",
    "authent_words = [\"authentic\", \"veritable\", \"legitimate\"]\n",
    "authentic_reviews = reviews.where(\n",
    "    reduce(lambda a, b: a|b, (lower(reviews.text).like('%' + word + '%') for word in authent_words))\n",
    ")\n",
    "num_authentic = authentic_reviews.rdd.count()\n",
    "num_total = reviews.rdd.count()\n",
    "print(num_authentic)"
   ]
  },
  {
   "cell_type": "code",
   "execution_count": 18,
   "id": "4447b2ba-af6c-42d4-9736-e25db54d5d1f",
   "metadata": {
    "execution": {
     "iopub.execute_input": "2024-03-07T09:42:21.440501Z",
     "iopub.status.busy": "2024-03-07T09:42:21.439741Z",
     "iopub.status.idle": "2024-03-07T09:42:21.446451Z",
     "shell.execute_reply": "2024-03-07T09:42:21.445616Z",
     "shell.execute_reply.started": "2024-03-07T09:42:21.440446Z"
    },
    "tags": []
   },
   "outputs": [
    {
     "name": "stdout",
     "output_type": "stream",
     "text": [
      "1.86% of reviews mention authenticity\n"
     ]
    }
   ],
   "source": [
    "# - What is the percentage of reviews containing a variant of the word \"authentic\"?\n",
    "print(f\"{(num_authentic / num_total) * 100:.2f}% of reviews mention authenticity\")"
   ]
  },
  {
   "cell_type": "code",
   "execution_count": 19,
   "id": "29ab0938-3fb9-4153-acf5-3c54786ceb84",
   "metadata": {
    "execution": {
     "iopub.execute_input": "2024-03-07T09:42:21.448856Z",
     "iopub.status.busy": "2024-03-07T09:42:21.448473Z",
     "iopub.status.idle": "2024-03-07T09:44:10.683921Z",
     "shell.execute_reply": "2024-03-07T09:44:10.681839Z",
     "shell.execute_reply.started": "2024-03-07T09:42:21.448824Z"
    },
    "tags": []
   },
   "outputs": [
    {
     "name": "stdout",
     "output_type": "stream",
     "text": [
      "+--------------------+---------------------+\n",
      "|             cuisine|num_reviews_authentic|\n",
      "+--------------------+---------------------+\n",
      "|                null|                 9915|\n",
      "|             Mexican|                 9741|\n",
      "|             Chinese|                 4234|\n",
      "|             Italian|                 3406|\n",
      "|American (Traditi...|                 3041|\n",
      "|      American (New)|                 2137|\n",
      "|              Indian|                 1842|\n",
      "|          Vietnamese|                 1629|\n",
      "|               Greek|                 1113|\n",
      "|            Japanese|                 1059|\n",
      "|                Thai|                 1026|\n",
      "|               Cuban|                  871|\n",
      "|      Latin American|                  837|\n",
      "|           Soul Food|                  677|\n",
      "|              Korean|                  629|\n",
      "|       Mediterranean|                  627|\n",
      "|              German|                  617|\n",
      "|              French|                  583|\n",
      "|           Taiwanese|                  448|\n",
      "|           Caribbean|                  378|\n",
      "|      Middle Eastern|                  242|\n",
      "|            Hawaiian|                  198|\n",
      "|            Filipino|                  182|\n",
      "|            Lebanese|                  158|\n",
      "|           Brazilian|                  134|\n",
      "|           Ethiopian|                  121|\n",
      "|             Spanish|                   99|\n",
      "|               Irish|                   94|\n",
      "|            Peruvian|                   90|\n",
      "|           Ukrainian|                   74|\n",
      "|         Trinidadian|                   61|\n",
      "|             African|                   31|\n",
      "|           Argentine|                   27|\n",
      "|          Sri Lankan|                    2|\n",
      "|          Senegalese|                    1|\n",
      "+--------------------+---------------------+\n",
      "\n"
     ]
    }
   ],
   "source": [
    "# - How many reviews contain the string \"legitimate\" grouped by type of cuisine?\n",
    "from pyspark.sql.types import StringType\n",
    "authentic_reviews_business = authentic_reviews.join(business, on=\"business_id\")\n",
    "cuisines = [\n",
    "    \"Indian\", \"Taiwanese\", \"Chinese\", \"American (Traditional)\", \"American (New)\", \"French\", \"Mexican\", \"Vietnamese\", \"Lebanese\", \"Greek\", \"Italian\", \"Trinidadian\",\n",
    "    \"Filipino\", \"Cuban\", \"Korean\", \"Thai\", \"Japanese\", \"Hawaiian\", \"Latin American\", \"Peruvian\", \"Spanish\", \"Ukrainian\", \"Irish\", \"Brazilian\", \"Senegalese\",\n",
    "    \"Argentine\", \"German\", \"Sri Lankan\", \"Soul Food\", \"Ethiopian\", \"Caribbean\", \"Mediterranean\", \"African\", \"Middle Eastern\"\n",
    "]\n",
    "# This function was in part created by ChatGPT\n",
    "def find_cuisine(categories):\n",
    "    for cuisine in cuisines:\n",
    "        if cuisine in categories:\n",
    "            return cuisine\n",
    "    return None\n",
    "find_cuisine_udf = udf(find_cuisine, StringType())\n",
    "\n",
    "reviews_business = reviews.join(business, on=\"business_id\")\n",
    "reviews_business_cuisines = reviews_business.withColumn(\"cuisine\", find_cuisine_udf(reviews_business.categories))\n",
    "reviews_business_cuisines_food = reviews_business_cuisines.filter(lower(reviews_business_cuisines.categories).contains('food'))\n",
    "authentic_reviews_business_cuisines_food = reviews_business_cuisines_food.where(\n",
    "    reduce(lambda a, b: a|b, (lower(reviews_business_cuisines_food.text).like('%' + word + '%') for word in authent_words))\n",
    ")\n",
    "authentic_reviews_count_by_cuisine = authentic_reviews_business_cuisines_food.groupBy(\"cuisine\").agg(\n",
    "    F.count(F.lit(1)).alias(\"num_reviews_authentic\")\n",
    ").sort(\"cuisine\")\n",
    "authentic_reviews_count_by_cuisine.sort(\"num_reviews_authentic\", ascending=False).show(authentic_reviews_count_by_cuisine.rdd.count())"
   ]
  },
  {
   "cell_type": "code",
   "execution_count": 20,
   "id": "55accd58-301c-40a9-bdec-9981e8c4d54c",
   "metadata": {
    "execution": {
     "iopub.execute_input": "2024-03-07T09:44:10.723468Z",
     "iopub.status.busy": "2024-03-07T09:44:10.686280Z",
     "iopub.status.idle": "2024-03-07T09:46:18.526506Z",
     "shell.execute_reply": "2024-03-07T09:46:18.524787Z",
     "shell.execute_reply.started": "2024-03-07T09:44:10.723402Z"
    },
    "tags": []
   },
   "outputs": [
    {
     "name": "stdout",
     "output_type": "stream",
     "text": [
      "+--------------------+---------------------+---------------+-------------------------+\n",
      "|             cuisine|num_reviews_authentic|num_reviews_all|reviews_percent_authentic|\n",
      "+--------------------+---------------------+---------------+-------------------------+\n",
      "|             Mexican|                 9741|         129678|      0.07511682783509925|\n",
      "|           Ethiopian|                  121|           1463|      0.08270676691729323|\n",
      "|                Thai|                 1026|          15123|      0.06784368180916485|\n",
      "|              Indian|                 1842|          25854|       0.0712462288233929|\n",
      "|             Chinese|                 4234|          69490|     0.060929630162613324|\n",
      "|           Soul Food|                  677|          32012|     0.021148319380232414|\n",
      "|             African|                   31|            575|      0.05391304347826087|\n",
      "|           Taiwanese|                  448|           6131|      0.07307127711629424|\n",
      "|           Ukrainian|                   74|            418|      0.17703349282296652|\n",
      "|               Irish|                   94|           3387|     0.027753173900206672|\n",
      "|            Hawaiian|                  198|           7836|      0.02526799387442573|\n",
      "|            Japanese|                 1059|          35350|     0.029957567185289958|\n",
      "|      Latin American|                  837|          15149|     0.055251171694501285|\n",
      "|            Filipino|                  182|           2241|      0.08121374386434628|\n",
      "|          Vietnamese|                 1629|          24059|      0.06770854981503803|\n",
      "|             Spanish|                   99|           1747|      0.05666857469948483|\n",
      "|             Italian|                 3406|         105445|      0.03230119967755702|\n",
      "|            Lebanese|                  158|           2176|      0.07261029411764706|\n",
      "|           Caribbean|                  378|           4842|      0.07806691449814127|\n",
      "|              Korean|                  629|          10540|      0.05967741935483871|\n",
      "|          Senegalese|                    1|             19|      0.05263157894736842|\n",
      "|              French|                  583|          22872|     0.025489681706890522|\n",
      "|American (Traditi...|                 3041|         462232|     0.006578947368421052|\n",
      "|      Middle Eastern|                  242|           7274|      0.03326917789386857|\n",
      "|           Brazilian|                  134|           5002|     0.026789284286285485|\n",
      "|               Greek|                 1113|          20027|     0.055574973785389725|\n",
      "|               Cuban|                  871|          12346|      0.07054916572169123|\n",
      "|         Trinidadian|                   61|            499|      0.12224448897795591|\n",
      "|      American (New)|                 2137|         302749|     0.007058652547159528|\n",
      "|       Mediterranean|                  627|          13880|      0.04517291066282421|\n",
      "|           Argentine|                   27|            458|      0.05895196506550218|\n",
      "|            Peruvian|                   90|            853|      0.10550996483001172|\n",
      "|          Sri Lankan|                    2|             29|      0.06896551724137931|\n",
      "|              German|                  617|           5477|      0.11265291217819974|\n",
      "+--------------------+---------------------+---------------+-------------------------+\n",
      "\n"
     ]
    }
   ],
   "source": [
    "# - Is there a difference in the amount of authenticity language used in the different areas?\n",
    "reviews_count_by_cuisine = reviews_business_cuisines_food.groupBy(\"cuisine\").agg(\n",
    "    F.count(F.lit(1)).alias(\"num_reviews_all\")\n",
    ").sort(\"cuisine\")\n",
    "# reviews_count_by_cuisine.sort(\"num_reviews_all\", ascending=False).show(reviews_count_by_cuisine.rdd.count())\n",
    "reviews_counts_percentages = authentic_reviews_count_by_cuisine\\\n",
    "    .join(reviews_count_by_cuisine, \"cuisine\")\\\n",
    "    .withColumn(\"reviews_percent_authentic\", (F.col(\"num_reviews_authentic\") / F.col(\"num_reviews_all\")))\n",
    "reviews_counts_percentages.show(reviews_counts_percentages.rdd.count())"
   ]
  },
  {
   "cell_type": "code",
   "execution_count": 21,
   "id": "1c219b66-41a8-422f-9ab9-def83082ada0",
   "metadata": {
    "execution": {
     "iopub.execute_input": "2024-03-07T09:46:18.543537Z",
     "iopub.status.busy": "2024-03-07T09:46:18.541681Z",
     "iopub.status.idle": "2024-03-07T09:48:23.735557Z",
     "shell.execute_reply": "2024-03-07T09:48:23.733601Z",
     "shell.execute_reply.started": "2024-03-07T09:46:18.543436Z"
    },
    "tags": []
   },
   "outputs": [
    {
     "name": "stdout",
     "output_type": "stream",
     "text": [
      "+--------------------+---------------+-------------------------+\n",
      "|             cuisine|num_reviews_all|reviews_percent_authentic|\n",
      "+--------------------+---------------+-------------------------+\n",
      "|           Ukrainian|            418|       17.703349282296653|\n",
      "|         Trinidadian|            499|       12.224448897795591|\n",
      "|              German|           5477|       11.265291217819975|\n",
      "|            Peruvian|            853|       10.550996483001173|\n",
      "|           Ethiopian|           1463|        8.270676691729323|\n",
      "|            Filipino|           2241|        8.121374386434628|\n",
      "|           Caribbean|           4842|        7.806691449814126|\n",
      "|             Mexican|         129678|        7.511682783509925|\n",
      "|           Taiwanese|           6131|        7.307127711629424|\n",
      "|            Lebanese|           2176|       7.2610294117647065|\n",
      "|              Indian|          25854|         7.12462288233929|\n",
      "|               Cuban|          12346|        7.054916572169123|\n",
      "|          Sri Lankan|             29|        6.896551724137931|\n",
      "|                Thai|          15123|        6.784368180916485|\n",
      "|          Vietnamese|          24059|        6.770854981503803|\n",
      "|             Chinese|          69490|        6.092963016261333|\n",
      "|              Korean|          10540|        5.967741935483871|\n",
      "|           Argentine|            458|        5.895196506550218|\n",
      "|             Spanish|           1747|        5.666857469948483|\n",
      "|               Greek|          20027|        5.557497378538972|\n",
      "|      Latin American|          15149|        5.525117169450128|\n",
      "|             African|            575|        5.391304347826087|\n",
      "|          Senegalese|             19|        5.263157894736842|\n",
      "|       Mediterranean|          13880|        4.517291066282421|\n",
      "|      Middle Eastern|           7274|        3.326917789386857|\n",
      "|             Italian|         105445|        3.230119967755702|\n",
      "|            Japanese|          35350|        2.995756718528996|\n",
      "|               Irish|           3387|        2.775317390020667|\n",
      "|           Brazilian|           5002|       2.6789284286285486|\n",
      "|              French|          22872|        2.548968170689052|\n",
      "|            Hawaiian|           7836|       2.5267993874425727|\n",
      "|           Soul Food|          32012|       2.1148319380232414|\n",
      "|      American (New)|         302749|       0.7058652547159529|\n",
      "|American (Traditi...|         462232|       0.6578947368421052|\n",
      "+--------------------+---------------+-------------------------+\n",
      "\n"
     ]
    }
   ],
   "source": [
    "temp = reviews_counts_percentages\\\n",
    "    .select(\"cuisine\", \"num_reviews_all\", \"reviews_percent_authentic\")\\\n",
    "    .withColumn(\"reviews_percent_authentic\", (F.col(\"reviews_percent_authentic\") * 100))\\\n",
    "    .sort(\"reviews_percent_authentic\", ascending=False)\n",
    "temp.show(temp.rdd.count())"
   ]
  },
  {
   "cell_type": "code",
   "execution_count": 29,
   "id": "62c5b585-08dc-4fa7-b13d-7bb3236e61ba",
   "metadata": {
    "execution": {
     "iopub.execute_input": "2024-03-07T10:04:30.563681Z",
     "iopub.status.busy": "2024-03-07T10:04:30.563019Z",
     "iopub.status.idle": "2024-03-07T10:04:48.926746Z",
     "shell.execute_reply": "2024-03-07T10:04:48.925035Z",
     "shell.execute_reply.started": "2024-03-07T10:04:30.563626Z"
    },
    "tags": []
   },
   "outputs": [
    {
     "name": "stdout",
     "output_type": "stream",
     "text": [
      "+--------------------+----+-------------------+-----+--------------------+-----+--------------------+------+--------------------+----------------+--------------------+--------------------+---------------+--------------------+-------+----------+-----------+-----------------+-----------+------------+-----+-----+--------------+--------------+--------------+\n",
      "|         business_id|cool|               date|funny|           review_id|stars|                text|useful|             user_id|         address|          attributes|          categories|           city|               hours|is_open|  latitude|  longitude|             name|postal_code|review_count|stars|state|       cuisine|negative_count|positive_count|\n",
      "+--------------------+----+-------------------+-----+--------------------+-----+--------------------+------+--------------------+----------------+--------------------+--------------------+---------------+--------------------+-------+----------+-----------+-----------------+-----------+------------+-----+-----+--------------+--------------+--------------+\n",
      "|---kPU91CF4Lq2-Wl...|   0|2020-08-09 19:19:16|    0|hoLKem4XpXGt_X4li...|  4.0|Ate here for the ...|     0|415SXXbQrl2-VudHa...|4903 State Rd 54|{null, null, u'no...|Seafood, Restaura...|New Port Richey|{11:0-22:0, 0:0-0...|      1|28.2172884|-82.7333444|Frankie's Raw Bar|      34652|          24|  4.5|   FL|Latin American|             0|             0|\n",
      "|---kPU91CF4Lq2-Wl...|   0|2020-09-05 20:09:03|    0|gzXaxjjTnrJJuG_gq...|  5.0|Absolutely fantas...|     0|ey8tdgUgC2tFqw2df...|4903 State Rd 54|{null, null, u'no...|Seafood, Restaura...|New Port Richey|{11:0-22:0, 0:0-0...|      1|28.2172884|-82.7333444|Frankie's Raw Bar|      34652|          24|  4.5|   FL|Latin American|             0|             0|\n",
      "|---kPU91CF4Lq2-Wl...|   0|2020-06-13 22:03:50|    0|cpyLQlML0idHzCsCi...|  3.0|I was sadly disap...|     0|wNo_joX2evLhIYE4h...|4903 State Rd 54|{null, null, u'no...|Seafood, Restaura...|New Port Richey|{11:0-22:0, 0:0-0...|      1|28.2172884|-82.7333444|Frankie's Raw Bar|      34652|          24|  4.5|   FL|Latin American|             0|             0|\n",
      "|---kPU91CF4Lq2-Wl...|   0|2020-02-11 00:30:51|    0|9j7uG9sA5WU7yraCQ...|  5.0|Great new local s...|     0|nRy6-tnPPeShNhZg9...|4903 State Rd 54|{null, null, u'no...|Seafood, Restaura...|New Port Richey|{11:0-22:0, 0:0-0...|      1|28.2172884|-82.7333444|Frankie's Raw Bar|      34652|          24|  4.5|   FL|Latin American|             0|             0|\n",
      "|---kPU91CF4Lq2-Wl...|   1|2021-03-06 01:39:34|    0|ROpgxHN-NOZ3zSFMZ...|  3.0|This is a food tr...|     1|V8oYXtc0hMuYzG5Hf...|4903 State Rd 54|{null, null, u'no...|Seafood, Restaura...|New Port Richey|{11:0-22:0, 0:0-0...|      1|28.2172884|-82.7333444|Frankie's Raw Bar|      34652|          24|  4.5|   FL|Latin American|             0|             0|\n",
      "|---kPU91CF4Lq2-Wl...|   0|2020-03-18 01:34:18|    0|rljdEt4_jgsqOgG-7...|  5.0|Great place for g...|     2|qrCkKrEwQ-q9m1iWS...|4903 State Rd 54|{null, null, u'no...|Seafood, Restaura...|New Port Richey|{11:0-22:0, 0:0-0...|      1|28.2172884|-82.7333444|Frankie's Raw Bar|      34652|          24|  4.5|   FL|Latin American|             0|             0|\n",
      "|---kPU91CF4Lq2-Wl...|   1|2020-12-12 17:48:38|    0|JnfAi8vz8lcN63lvf...|  5.0|Blown away how fu...|     1|UmQDlaIjLiPBZ7M6U...|4903 State Rd 54|{null, null, u'no...|Seafood, Restaura...|New Port Richey|{11:0-22:0, 0:0-0...|      1|28.2172884|-82.7333444|Frankie's Raw Bar|      34652|          24|  4.5|   FL|Latin American|             0|             0|\n",
      "|---kPU91CF4Lq2-Wl...|   0|2020-02-20 00:50:49|    0|XawsDBeNXlT_rRivc...|  5.0|Never would have ...|     1|5jlO2REcgB6GKFeSs...|4903 State Rd 54|{null, null, u'no...|Seafood, Restaura...|New Port Richey|{11:0-22:0, 0:0-0...|      1|28.2172884|-82.7333444|Frankie's Raw Bar|      34652|          24|  4.5|   FL|Latin American|             0|             0|\n",
      "|---kPU91CF4Lq2-Wl...|   1|2020-09-26 20:42:25|    0|7dFBRid1QdCCr2PNs...|  5.0|Finale a local Fr...|     0|w2SrX4cPZqykJ5P7U...|4903 State Rd 54|{null, null, u'no...|Seafood, Restaura...|New Port Richey|{11:0-22:0, 0:0-0...|      1|28.2172884|-82.7333444|Frankie's Raw Bar|      34652|          24|  4.5|   FL|Latin American|             0|             0|\n",
      "|---kPU91CF4Lq2-Wl...|   0|2021-11-24 16:27:56|    0|38jzE6n8lbnvSM7p6...|  5.0|EVERYTHING we had...|     0|7F5NSUrKYEPdrewd2...|4903 State Rd 54|{null, null, u'no...|Seafood, Restaura...|New Port Richey|{11:0-22:0, 0:0-0...|      1|28.2172884|-82.7333444|Frankie's Raw Bar|      34652|          24|  4.5|   FL|Latin American|             0|             0|\n",
      "|---kPU91CF4Lq2-Wl...|   0|2021-04-12 19:46:10|    0|HwGGdjfpI7_ndf9d9...|  1.0|Be careful before...|     1|YUVbBNr_dSJNP2pwD...|4903 State Rd 54|{null, null, u'no...|Seafood, Restaura...|New Port Richey|{11:0-22:0, 0:0-0...|      1|28.2172884|-82.7333444|Frankie's Raw Bar|      34652|          24|  4.5|   FL|Latin American|             0|             0|\n",
      "|---kPU91CF4Lq2-Wl...|   0|2020-01-29 18:39:02|    0|8NnKwxC71uLNWs00e...|  5.0|Unfortunately the...|     0|YhbCO1DVlNYkmVv8D...|4903 State Rd 54|{null, null, u'no...|Seafood, Restaura...|New Port Richey|{11:0-22:0, 0:0-0...|      1|28.2172884|-82.7333444|Frankie's Raw Bar|      34652|          24|  4.5|   FL|Latin American|             0|             0|\n",
      "|---kPU91CF4Lq2-Wl...|   0|2021-10-17 02:02:58|    0|gANpst_byMcYH6c6n...|  5.0|What a fantastic ...|     0|jtPb5gfrvYixrC0ax...|4903 State Rd 54|{null, null, u'no...|Seafood, Restaura...|New Port Richey|{11:0-22:0, 0:0-0...|      1|28.2172884|-82.7333444|Frankie's Raw Bar|      34652|          24|  4.5|   FL|Latin American|             0|             0|\n",
      "|---kPU91CF4Lq2-Wl...|   4|2020-06-04 12:27:25|    0|F2L5ZUhXGQV3eoXke...|  4.0|This location is ...|     4|i48cHEyRBl5g9_npY...|4903 State Rd 54|{null, null, u'no...|Seafood, Restaura...|New Port Richey|{11:0-22:0, 0:0-0...|      1|28.2172884|-82.7333444|Frankie's Raw Bar|      34652|          24|  4.5|   FL|Latin American|             0|             0|\n",
      "|---kPU91CF4Lq2-Wl...|   3|2020-10-02 23:01:22|    0|FZmpplmG5JEotgwF0...|  5.0|Don't drive by .....|     3|Q-ia5eY9smWBTwYOZ...|4903 State Rd 54|{null, null, u'no...|Seafood, Restaura...|New Port Richey|{11:0-22:0, 0:0-0...|      1|28.2172884|-82.7333444|Frankie's Raw Bar|      34652|          24|  4.5|   FL|Latin American|             0|             0|\n",
      "|---kPU91CF4Lq2-Wl...|   0|2020-12-14 01:17:21|    0|s7f2L3EESkKf-kNDS...|  4.0|I love this place...|     1|goqGoC76zemDagYvR...|4903 State Rd 54|{null, null, u'no...|Seafood, Restaura...|New Port Richey|{11:0-22:0, 0:0-0...|      1|28.2172884|-82.7333444|Frankie's Raw Bar|      34652|          24|  4.5|   FL|Latin American|             0|             0|\n",
      "|---kPU91CF4Lq2-Wl...|   1|2021-04-27 15:36:40|    0|3SSlZgCoSsVT9BJe7...|  5.0|YUM! Such a cool ...|     1|5r_jlIQvSr7VG5YFb...|4903 State Rd 54|{null, null, u'no...|Seafood, Restaura...|New Port Richey|{11:0-22:0, 0:0-0...|      1|28.2172884|-82.7333444|Frankie's Raw Bar|      34652|          24|  4.5|   FL|Latin American|             0|             0|\n",
      "|---kPU91CF4Lq2-Wl...|   0|2021-11-13 23:16:59|    0|gcTR_HEwhz7EnupVu...|  5.0|Great atmosphere ...|     0|WINRnvRO7iGEhrf9i...|4903 State Rd 54|{null, null, u'no...|Seafood, Restaura...|New Port Richey|{11:0-22:0, 0:0-0...|      1|28.2172884|-82.7333444|Frankie's Raw Bar|      34652|          24|  4.5|   FL|Latin American|             0|             0|\n",
      "|---kPU91CF4Lq2-Wl...|   0|2021-11-18 14:23:29|    0|6R5GONxoSt_GdBfaw...|  5.0|the only place to...|     0|zEe31kAcPExQgFR-A...|4903 State Rd 54|{null, null, u'no...|Seafood, Restaura...|New Port Richey|{11:0-22:0, 0:0-0...|      1|28.2172884|-82.7333444|Frankie's Raw Bar|      34652|          24|  4.5|   FL|Latin American|             0|             0|\n",
      "|---kPU91CF4Lq2-Wl...|   0|2021-12-03 22:13:28|    0|RalOYHTQeYyTNjwd1...|  5.0|Awesome raw bar /...|     0|zmgsdGzOp08BWJZ2y...|4903 State Rd 54|{null, null, u'no...|Seafood, Restaura...|New Port Richey|{11:0-22:0, 0:0-0...|      1|28.2172884|-82.7333444|Frankie's Raw Bar|      34652|          24|  4.5|   FL|Latin American|             0|             0|\n",
      "+--------------------+----+-------------------+-----+--------------------+-----+--------------------+------+--------------------+----------------+--------------------+--------------------+---------------+--------------------+-------+----------+-----------+-----------------+-----------+------------+-----+-----+--------------+--------------+--------------+\n",
      "only showing top 20 rows\n",
      "\n"
     ]
    }
   ],
   "source": [
    "# 3.2.2: Hypothesis Testing\n",
    "# - Can you identify a difference in the relationship between authenticity\n",
    "#   language3 and typically negative words 4, in restaurants serving south\n",
    "#   american or asian cuisine comparedto restaurants serving european\n",
    "#   cuisine? And to what degree?\n",
    "from pyspark.sql.functions import col, when\n",
    "neg_words = [ \"dirty\", \"kitsch\", \"cheap\", \"rude\", \"simple\", \"bland\", \"dodgy\", \"poisoning\" ]\n",
    "pos_words = [ \"clean\", \"refined\", \"elegant\", \"stylish\" ]\n",
    "reviews_business_cuisines = reviews_business_cuisines.withColumn(\"negative_count\",\n",
    "    sum(when(condition, 1).otherwise(0) for condition in [lower(col(\"text\")).like(f\"%{word}%\") for word in neg_words])\n",
    ").withColumn(\"positive_count\",\n",
    "    sum(when(condition, 1).otherwise(0) for condition in [lower(col(\"text\")).like(f\"%{word}%\") for word in pos_words])\n",
    ")\n",
    "reviews_business_cuisines.show()"
   ]
  },
  {
   "cell_type": "code",
   "execution_count": 43,
   "id": "1af24e75-0937-482e-aec6-2b6a98f9a19c",
   "metadata": {
    "execution": {
     "iopub.execute_input": "2024-03-07T10:32:33.691198Z",
     "iopub.status.busy": "2024-03-07T10:32:33.690327Z",
     "iopub.status.idle": "2024-03-07T10:32:54.128311Z",
     "shell.execute_reply": "2024-03-07T10:32:54.126723Z",
     "shell.execute_reply.started": "2024-03-07T10:32:33.691142Z"
    },
    "tags": []
   },
   "outputs": [
    {
     "name": "stdout",
     "output_type": "stream",
     "text": [
      "+--------------------+----+-------------------+-----+--------------------+-----+--------------------+------+--------------------+----------------+--------------------+--------------------+---------------+--------------------+-------+----------+-----------+-----------------+-----------+------------+-----+-----+--------------+--------------+--------------+---------+---------+------+\n",
      "|         business_id|cool|               date|funny|           review_id|stars|                text|useful|             user_id|         address|          attributes|          categories|           city|               hours|is_open|  latitude|  longitude|             name|postal_code|review_count|stars|state|       cuisine|negative_count|positive_count|sentiment|authentic|isFood|\n",
      "+--------------------+----+-------------------+-----+--------------------+-----+--------------------+------+--------------------+----------------+--------------------+--------------------+---------------+--------------------+-------+----------+-----------+-----------------+-----------+------------+-----+-----+--------------+--------------+--------------+---------+---------+------+\n",
      "|---kPU91CF4Lq2-Wl...|   0|2020-08-09 19:19:16|    0|hoLKem4XpXGt_X4li...|  4.0|Ate here for the ...|     0|415SXXbQrl2-VudHa...|4903 State Rd 54|{null, null, u'no...|Seafood, Restaura...|New Port Richey|{11:0-22:0, 0:0-0...|      1|28.2172884|-82.7333444|Frankie's Raw Bar|      34652|          24|  4.5|   FL|Latin American|             0|             0|  neutral|    false|  true|\n",
      "|---kPU91CF4Lq2-Wl...|   0|2020-09-05 20:09:03|    0|gzXaxjjTnrJJuG_gq...|  5.0|Absolutely fantas...|     0|ey8tdgUgC2tFqw2df...|4903 State Rd 54|{null, null, u'no...|Seafood, Restaura...|New Port Richey|{11:0-22:0, 0:0-0...|      1|28.2172884|-82.7333444|Frankie's Raw Bar|      34652|          24|  4.5|   FL|Latin American|             0|             0|  neutral|    false|  true|\n",
      "|---kPU91CF4Lq2-Wl...|   0|2020-06-13 22:03:50|    0|cpyLQlML0idHzCsCi...|  3.0|I was sadly disap...|     0|wNo_joX2evLhIYE4h...|4903 State Rd 54|{null, null, u'no...|Seafood, Restaura...|New Port Richey|{11:0-22:0, 0:0-0...|      1|28.2172884|-82.7333444|Frankie's Raw Bar|      34652|          24|  4.5|   FL|Latin American|             0|             0|  neutral|    false|  true|\n",
      "|---kPU91CF4Lq2-Wl...|   0|2020-02-11 00:30:51|    0|9j7uG9sA5WU7yraCQ...|  5.0|Great new local s...|     0|nRy6-tnPPeShNhZg9...|4903 State Rd 54|{null, null, u'no...|Seafood, Restaura...|New Port Richey|{11:0-22:0, 0:0-0...|      1|28.2172884|-82.7333444|Frankie's Raw Bar|      34652|          24|  4.5|   FL|Latin American|             0|             0|  neutral|    false|  true|\n",
      "|---kPU91CF4Lq2-Wl...|   1|2021-03-06 01:39:34|    0|ROpgxHN-NOZ3zSFMZ...|  3.0|This is a food tr...|     1|V8oYXtc0hMuYzG5Hf...|4903 State Rd 54|{null, null, u'no...|Seafood, Restaura...|New Port Richey|{11:0-22:0, 0:0-0...|      1|28.2172884|-82.7333444|Frankie's Raw Bar|      34652|          24|  4.5|   FL|Latin American|             0|             0|  neutral|    false|  true|\n",
      "|---kPU91CF4Lq2-Wl...|   0|2020-03-18 01:34:18|    0|rljdEt4_jgsqOgG-7...|  5.0|Great place for g...|     2|qrCkKrEwQ-q9m1iWS...|4903 State Rd 54|{null, null, u'no...|Seafood, Restaura...|New Port Richey|{11:0-22:0, 0:0-0...|      1|28.2172884|-82.7333444|Frankie's Raw Bar|      34652|          24|  4.5|   FL|Latin American|             0|             0|  neutral|    false|  true|\n",
      "|---kPU91CF4Lq2-Wl...|   1|2020-12-12 17:48:38|    0|JnfAi8vz8lcN63lvf...|  5.0|Blown away how fu...|     1|UmQDlaIjLiPBZ7M6U...|4903 State Rd 54|{null, null, u'no...|Seafood, Restaura...|New Port Richey|{11:0-22:0, 0:0-0...|      1|28.2172884|-82.7333444|Frankie's Raw Bar|      34652|          24|  4.5|   FL|Latin American|             0|             0|  neutral|    false|  true|\n",
      "|---kPU91CF4Lq2-Wl...|   0|2020-02-20 00:50:49|    0|XawsDBeNXlT_rRivc...|  5.0|Never would have ...|     1|5jlO2REcgB6GKFeSs...|4903 State Rd 54|{null, null, u'no...|Seafood, Restaura...|New Port Richey|{11:0-22:0, 0:0-0...|      1|28.2172884|-82.7333444|Frankie's Raw Bar|      34652|          24|  4.5|   FL|Latin American|             0|             0|  neutral|    false|  true|\n",
      "|---kPU91CF4Lq2-Wl...|   1|2020-09-26 20:42:25|    0|7dFBRid1QdCCr2PNs...|  5.0|Finale a local Fr...|     0|w2SrX4cPZqykJ5P7U...|4903 State Rd 54|{null, null, u'no...|Seafood, Restaura...|New Port Richey|{11:0-22:0, 0:0-0...|      1|28.2172884|-82.7333444|Frankie's Raw Bar|      34652|          24|  4.5|   FL|Latin American|             0|             0|  neutral|    false|  true|\n",
      "|---kPU91CF4Lq2-Wl...|   0|2021-11-24 16:27:56|    0|38jzE6n8lbnvSM7p6...|  5.0|EVERYTHING we had...|     0|7F5NSUrKYEPdrewd2...|4903 State Rd 54|{null, null, u'no...|Seafood, Restaura...|New Port Richey|{11:0-22:0, 0:0-0...|      1|28.2172884|-82.7333444|Frankie's Raw Bar|      34652|          24|  4.5|   FL|Latin American|             0|             0|  neutral|    false|  true|\n",
      "|---kPU91CF4Lq2-Wl...|   0|2021-04-12 19:46:10|    0|HwGGdjfpI7_ndf9d9...|  1.0|Be careful before...|     1|YUVbBNr_dSJNP2pwD...|4903 State Rd 54|{null, null, u'no...|Seafood, Restaura...|New Port Richey|{11:0-22:0, 0:0-0...|      1|28.2172884|-82.7333444|Frankie's Raw Bar|      34652|          24|  4.5|   FL|Latin American|             0|             0|  neutral|    false|  true|\n",
      "|---kPU91CF4Lq2-Wl...|   0|2020-01-29 18:39:02|    0|8NnKwxC71uLNWs00e...|  5.0|Unfortunately the...|     0|YhbCO1DVlNYkmVv8D...|4903 State Rd 54|{null, null, u'no...|Seafood, Restaura...|New Port Richey|{11:0-22:0, 0:0-0...|      1|28.2172884|-82.7333444|Frankie's Raw Bar|      34652|          24|  4.5|   FL|Latin American|             0|             0|  neutral|    false|  true|\n",
      "|---kPU91CF4Lq2-Wl...|   0|2021-10-17 02:02:58|    0|gANpst_byMcYH6c6n...|  5.0|What a fantastic ...|     0|jtPb5gfrvYixrC0ax...|4903 State Rd 54|{null, null, u'no...|Seafood, Restaura...|New Port Richey|{11:0-22:0, 0:0-0...|      1|28.2172884|-82.7333444|Frankie's Raw Bar|      34652|          24|  4.5|   FL|Latin American|             0|             0|  neutral|    false|  true|\n",
      "|---kPU91CF4Lq2-Wl...|   4|2020-06-04 12:27:25|    0|F2L5ZUhXGQV3eoXke...|  4.0|This location is ...|     4|i48cHEyRBl5g9_npY...|4903 State Rd 54|{null, null, u'no...|Seafood, Restaura...|New Port Richey|{11:0-22:0, 0:0-0...|      1|28.2172884|-82.7333444|Frankie's Raw Bar|      34652|          24|  4.5|   FL|Latin American|             0|             0|  neutral|    false|  true|\n",
      "|---kPU91CF4Lq2-Wl...|   3|2020-10-02 23:01:22|    0|FZmpplmG5JEotgwF0...|  5.0|Don't drive by .....|     3|Q-ia5eY9smWBTwYOZ...|4903 State Rd 54|{null, null, u'no...|Seafood, Restaura...|New Port Richey|{11:0-22:0, 0:0-0...|      1|28.2172884|-82.7333444|Frankie's Raw Bar|      34652|          24|  4.5|   FL|Latin American|             0|             0|  neutral|    false|  true|\n",
      "|---kPU91CF4Lq2-Wl...|   0|2020-12-14 01:17:21|    0|s7f2L3EESkKf-kNDS...|  4.0|I love this place...|     1|goqGoC76zemDagYvR...|4903 State Rd 54|{null, null, u'no...|Seafood, Restaura...|New Port Richey|{11:0-22:0, 0:0-0...|      1|28.2172884|-82.7333444|Frankie's Raw Bar|      34652|          24|  4.5|   FL|Latin American|             0|             0|  neutral|    false|  true|\n",
      "|---kPU91CF4Lq2-Wl...|   1|2021-04-27 15:36:40|    0|3SSlZgCoSsVT9BJe7...|  5.0|YUM! Such a cool ...|     1|5r_jlIQvSr7VG5YFb...|4903 State Rd 54|{null, null, u'no...|Seafood, Restaura...|New Port Richey|{11:0-22:0, 0:0-0...|      1|28.2172884|-82.7333444|Frankie's Raw Bar|      34652|          24|  4.5|   FL|Latin American|             0|             0|  neutral|    false|  true|\n",
      "|---kPU91CF4Lq2-Wl...|   0|2021-11-13 23:16:59|    0|gcTR_HEwhz7EnupVu...|  5.0|Great atmosphere ...|     0|WINRnvRO7iGEhrf9i...|4903 State Rd 54|{null, null, u'no...|Seafood, Restaura...|New Port Richey|{11:0-22:0, 0:0-0...|      1|28.2172884|-82.7333444|Frankie's Raw Bar|      34652|          24|  4.5|   FL|Latin American|             0|             0|  neutral|    false|  true|\n",
      "|---kPU91CF4Lq2-Wl...|   0|2021-11-18 14:23:29|    0|6R5GONxoSt_GdBfaw...|  5.0|the only place to...|     0|zEe31kAcPExQgFR-A...|4903 State Rd 54|{null, null, u'no...|Seafood, Restaura...|New Port Richey|{11:0-22:0, 0:0-0...|      1|28.2172884|-82.7333444|Frankie's Raw Bar|      34652|          24|  4.5|   FL|Latin American|             0|             0|  neutral|    false|  true|\n",
      "|---kPU91CF4Lq2-Wl...|   0|2021-12-03 22:13:28|    0|RalOYHTQeYyTNjwd1...|  5.0|Awesome raw bar /...|     0|zmgsdGzOp08BWJZ2y...|4903 State Rd 54|{null, null, u'no...|Seafood, Restaura...|New Port Richey|{11:0-22:0, 0:0-0...|      1|28.2172884|-82.7333444|Frankie's Raw Bar|      34652|          24|  4.5|   FL|Latin American|             0|             0|  neutral|    false|  true|\n",
      "+--------------------+----+-------------------+-----+--------------------+-----+--------------------+------+--------------------+----------------+--------------------+--------------------+---------------+--------------------+-------+----------+-----------+-----------------+-----------+------------+-----+-----+--------------+--------------+--------------+---------+---------+------+\n",
      "only showing top 20 rows\n",
      "\n"
     ]
    }
   ],
   "source": [
    "reviews_business_cuisines = reviews_business_cuisines\\\n",
    "    .withColumn(\"sentiment\",\n",
    "         when(col(\"negative_count\") > col(\"positive_count\"), \"negative\")\n",
    "        .when(col(\"negative_count\") < col(\"positive_count\"), \"positive\")\n",
    "        .otherwise(\"neutral\")\n",
    "    )\\\n",
    "    .withColumn(\"authentic\",\n",
    "        reduce(lambda a, b: a|b, (lower(reviews_business_cuisines.text).like('%' + word + '%') for word in authent_words))\n",
    "    )\\\n",
    "    .withColumn(\"isFood\",\n",
    "        lower(reviews_business_cuisines.categories).like(\"%food%\")\n",
    "    )\n",
    "reviews_business_cuisines.show()"
   ]
  },
  {
   "cell_type": "code",
   "execution_count": 60,
   "id": "1ab33166-51de-45c3-beb0-7e4d6ec98c50",
   "metadata": {
    "execution": {
     "iopub.execute_input": "2024-03-07T11:17:57.856300Z",
     "iopub.status.busy": "2024-03-07T11:17:57.855485Z",
     "iopub.status.idle": "2024-03-07T11:18:58.723334Z",
     "shell.execute_reply": "2024-03-07T11:18:58.708656Z",
     "shell.execute_reply.started": "2024-03-07T11:17:57.856243Z"
    },
    "tags": []
   },
   "outputs": [
    {
     "ename": "Py4JJavaError",
     "evalue": "An error occurred while calling o11908.collectToPython.\n: org.apache.spark.SparkException: Job aborted due to stage failure: Task 0 in stage 171.0 failed 4 times, most recent failure: Lost task 0.3 in stage 171.0 (TID 1744) (node1 executor 0): TaskResultLost (result lost from block manager)\nDriver stacktrace:\n\tat org.apache.spark.scheduler.DAGScheduler.failJobAndIndependentStages(DAGScheduler.scala:2672)\n\tat org.apache.spark.scheduler.DAGScheduler.$anonfun$abortStage$2(DAGScheduler.scala:2608)\n\tat org.apache.spark.scheduler.DAGScheduler.$anonfun$abortStage$2$adapted(DAGScheduler.scala:2607)\n\tat scala.collection.mutable.ResizableArray.foreach(ResizableArray.scala:62)\n\tat scala.collection.mutable.ResizableArray.foreach$(ResizableArray.scala:55)\n\tat scala.collection.mutable.ArrayBuffer.foreach(ArrayBuffer.scala:49)\n\tat org.apache.spark.scheduler.DAGScheduler.abortStage(DAGScheduler.scala:2607)\n\tat org.apache.spark.scheduler.DAGScheduler.$anonfun$handleTaskSetFailed$1(DAGScheduler.scala:1182)\n\tat org.apache.spark.scheduler.DAGScheduler.$anonfun$handleTaskSetFailed$1$adapted(DAGScheduler.scala:1182)\n\tat scala.Option.foreach(Option.scala:407)\n\tat org.apache.spark.scheduler.DAGScheduler.handleTaskSetFailed(DAGScheduler.scala:1182)\n\tat org.apache.spark.scheduler.DAGSchedulerEventProcessLoop.doOnReceive(DAGScheduler.scala:2860)\n\tat org.apache.spark.scheduler.DAGSchedulerEventProcessLoop.onReceive(DAGScheduler.scala:2802)\n\tat org.apache.spark.scheduler.DAGSchedulerEventProcessLoop.onReceive(DAGScheduler.scala:2791)\n\tat org.apache.spark.util.EventLoop$$anon$1.run(EventLoop.scala:49)\n\tat org.apache.spark.scheduler.DAGScheduler.runJob(DAGScheduler.scala:952)\n\tat org.apache.spark.SparkContext.runJob(SparkContext.scala:2228)\n\tat org.apache.spark.SparkContext.runJob(SparkContext.scala:2249)\n\tat org.apache.spark.SparkContext.runJob(SparkContext.scala:2268)\n\tat org.apache.spark.SparkContext.runJob(SparkContext.scala:2293)\n\tat org.apache.spark.rdd.RDD.$anonfun$collect$1(RDD.scala:1021)\n\tat org.apache.spark.rdd.RDDOperationScope$.withScope(RDDOperationScope.scala:151)\n\tat org.apache.spark.rdd.RDDOperationScope$.withScope(RDDOperationScope.scala:112)\n\tat org.apache.spark.rdd.RDD.withScope(RDD.scala:406)\n\tat org.apache.spark.rdd.RDD.collect(RDD.scala:1020)\n\tat org.apache.spark.sql.execution.SparkPlan.executeCollectIterator(SparkPlan.scala:431)\n\tat org.apache.spark.sql.execution.exchange.BroadcastExchangeExec.$anonfun$relationFuture$1(BroadcastExchangeExec.scala:137)\n\tat org.apache.spark.sql.execution.SQLExecution$.$anonfun$withThreadLocalCaptured$1(SQLExecution.scala:191)\n\tat java.util.concurrent.FutureTask.run(FutureTask.java:266)\n\tat java.util.concurrent.ThreadPoolExecutor.runWorker(ThreadPoolExecutor.java:1149)\n\tat java.util.concurrent.ThreadPoolExecutor$Worker.run(ThreadPoolExecutor.java:624)\n\tat java.lang.Thread.run(Thread.java:750)\n",
     "output_type": "error",
     "traceback": [
      "\u001b[0;31m---------------------------------------------------------------------------\u001b[0m",
      "\u001b[0;31mPy4JJavaError\u001b[0m                             Traceback (most recent call last)",
      "Cell \u001b[0;32mIn[60], line 12\u001b[0m\n\u001b[1;32m      1\u001b[0m \u001b[38;5;28;01mfrom\u001b[39;00m \u001b[38;5;21;01mpyspark\u001b[39;00m\u001b[38;5;21;01m.\u001b[39;00m\u001b[38;5;21;01msql\u001b[39;00m\u001b[38;5;21;01m.\u001b[39;00m\u001b[38;5;21;01mfunctions\u001b[39;00m \u001b[38;5;28;01mimport\u001b[39;00m count\n\u001b[1;32m      2\u001b[0m sentiment_by_cuisine \u001b[38;5;241m=\u001b[39m \u001b[43mreviews_business_cuisines\u001b[49m\u001b[43m\\\u001b[49m\n\u001b[1;32m      3\u001b[0m \u001b[43m    \u001b[49m\u001b[38;5;241;43m.\u001b[39;49m\u001b[43mgroupBy\u001b[49m\u001b[43m(\u001b[49m\u001b[38;5;124;43m\"\u001b[39;49m\u001b[38;5;124;43mcuisine\u001b[39;49m\u001b[38;5;124;43m\"\u001b[39;49m\u001b[43m)\u001b[49m\u001b[43m\\\u001b[49m\n\u001b[1;32m      4\u001b[0m \u001b[43m    \u001b[49m\u001b[38;5;241;43m.\u001b[39;49m\u001b[43magg\u001b[49m\u001b[43m(\u001b[49m\u001b[43mF\u001b[49m\u001b[38;5;241;43m.\u001b[39;49m\u001b[43mcount\u001b[49m\u001b[43m(\u001b[49m\u001b[43mF\u001b[49m\u001b[38;5;241;43m.\u001b[39;49m\u001b[43mwhen\u001b[49m\u001b[43m(\u001b[49m\u001b[43mF\u001b[49m\u001b[38;5;241;43m.\u001b[39;49m\u001b[43mcol\u001b[49m\u001b[43m(\u001b[49m\u001b[38;5;124;43m\"\u001b[39;49m\u001b[38;5;124;43mauthentic\u001b[39;49m\u001b[38;5;124;43m\"\u001b[39;49m\u001b[43m)\u001b[49m\u001b[43m,\u001b[49m\u001b[43m \u001b[49m\u001b[38;5;28;43;01mTrue\u001b[39;49;00m\u001b[43m)\u001b[49m\u001b[43m)\u001b[49m\u001b[38;5;241;43m.\u001b[39;49m\u001b[43malias\u001b[49m\u001b[43m(\u001b[49m\u001b[38;5;124;43m\"\u001b[39;49m\u001b[38;5;124;43mn_authentic\u001b[39;49m\u001b[38;5;124;43m\"\u001b[39;49m\u001b[43m)\u001b[49m\u001b[43m,\u001b[49m\n\u001b[1;32m      5\u001b[0m \u001b[43m        \u001b[49m\u001b[43mF\u001b[49m\u001b[38;5;241;43m.\u001b[39;49m\u001b[43mcount\u001b[49m\u001b[43m(\u001b[49m\u001b[43mF\u001b[49m\u001b[38;5;241;43m.\u001b[39;49m\u001b[43mlit\u001b[49m\u001b[43m(\u001b[49m\u001b[38;5;241;43m1\u001b[39;49m\u001b[43m)\u001b[49m\u001b[43m)\u001b[49m\u001b[38;5;241;43m.\u001b[39;49m\u001b[43malias\u001b[49m\u001b[43m(\u001b[49m\u001b[38;5;124;43m\"\u001b[39;49m\u001b[38;5;124;43mn_total\u001b[39;49m\u001b[38;5;124;43m\"\u001b[39;49m\u001b[43m)\u001b[49m\u001b[43m,\u001b[49m\n\u001b[1;32m      6\u001b[0m \u001b[43m        \u001b[49m\u001b[43mF\u001b[49m\u001b[38;5;241;43m.\u001b[39;49m\u001b[43mcount\u001b[49m\u001b[43m(\u001b[49m\u001b[43mF\u001b[49m\u001b[38;5;241;43m.\u001b[39;49m\u001b[43mwhen\u001b[49m\u001b[43m(\u001b[49m\u001b[43mF\u001b[49m\u001b[38;5;241;43m.\u001b[39;49m\u001b[43mcol\u001b[49m\u001b[43m(\u001b[49m\u001b[38;5;124;43m\"\u001b[39;49m\u001b[38;5;124;43msentiment\u001b[39;49m\u001b[38;5;124;43m\"\u001b[39;49m\u001b[43m)\u001b[49m\u001b[43m \u001b[49m\u001b[38;5;241;43m==\u001b[39;49m\u001b[43m \u001b[49m\u001b[38;5;124;43m\"\u001b[39;49m\u001b[38;5;124;43mnegative\u001b[39;49m\u001b[38;5;124;43m\"\u001b[39;49m\u001b[43m,\u001b[49m\u001b[43m \u001b[49m\u001b[38;5;28;43;01mTrue\u001b[39;49;00m\u001b[43m)\u001b[49m\u001b[43m)\u001b[49m\u001b[38;5;241;43m.\u001b[39;49m\u001b[43malias\u001b[49m\u001b[43m(\u001b[49m\u001b[38;5;124;43m\"\u001b[39;49m\u001b[38;5;124;43mn_total_negative\u001b[39;49m\u001b[38;5;124;43m\"\u001b[39;49m\u001b[43m)\u001b[49m\u001b[43m,\u001b[49m\n\u001b[1;32m      7\u001b[0m \u001b[43m        \u001b[49m\u001b[43mF\u001b[49m\u001b[38;5;241;43m.\u001b[39;49m\u001b[43mcount\u001b[49m\u001b[43m(\u001b[49m\u001b[43mF\u001b[49m\u001b[38;5;241;43m.\u001b[39;49m\u001b[43mwhen\u001b[49m\u001b[43m(\u001b[49m\u001b[43m(\u001b[49m\u001b[43mF\u001b[49m\u001b[38;5;241;43m.\u001b[39;49m\u001b[43mcol\u001b[49m\u001b[43m(\u001b[49m\u001b[38;5;124;43m\"\u001b[39;49m\u001b[38;5;124;43msentiment\u001b[39;49m\u001b[38;5;124;43m\"\u001b[39;49m\u001b[43m)\u001b[49m\u001b[43m \u001b[49m\u001b[38;5;241;43m==\u001b[39;49m\u001b[43m \u001b[49m\u001b[38;5;124;43m\"\u001b[39;49m\u001b[38;5;124;43mnegative\u001b[39;49m\u001b[38;5;124;43m\"\u001b[39;49m\u001b[43m)\u001b[49m\u001b[43m \u001b[49m\u001b[38;5;241;43m&\u001b[39;49m\u001b[43m \u001b[49m\u001b[43mF\u001b[49m\u001b[38;5;241;43m.\u001b[39;49m\u001b[43mcol\u001b[49m\u001b[43m(\u001b[49m\u001b[38;5;124;43m\"\u001b[39;49m\u001b[38;5;124;43mauthentic\u001b[39;49m\u001b[38;5;124;43m\"\u001b[39;49m\u001b[43m)\u001b[49m\u001b[43m,\u001b[49m\u001b[43m \u001b[49m\u001b[38;5;28;43;01mTrue\u001b[39;49;00m\u001b[43m)\u001b[49m\u001b[43m)\u001b[49m\u001b[38;5;241;43m.\u001b[39;49m\u001b[43malias\u001b[49m\u001b[43m(\u001b[49m\u001b[38;5;124;43m\"\u001b[39;49m\u001b[38;5;124;43mn_authentic_negative\u001b[39;49m\u001b[38;5;124;43m\"\u001b[39;49m\u001b[43m)\u001b[49m\u001b[43m,\u001b[49m\n\u001b[1;32m      8\u001b[0m \u001b[43m        \u001b[49m\u001b[43mF\u001b[49m\u001b[38;5;241;43m.\u001b[39;49m\u001b[43mcount\u001b[49m\u001b[43m(\u001b[49m\u001b[43mF\u001b[49m\u001b[38;5;241;43m.\u001b[39;49m\u001b[43mwhen\u001b[49m\u001b[43m(\u001b[49m\u001b[43mF\u001b[49m\u001b[38;5;241;43m.\u001b[39;49m\u001b[43mcol\u001b[49m\u001b[43m(\u001b[49m\u001b[38;5;124;43m\"\u001b[39;49m\u001b[38;5;124;43msentiment\u001b[39;49m\u001b[38;5;124;43m\"\u001b[39;49m\u001b[43m)\u001b[49m\u001b[43m \u001b[49m\u001b[38;5;241;43m==\u001b[39;49m\u001b[43m \u001b[49m\u001b[38;5;124;43m\"\u001b[39;49m\u001b[38;5;124;43mpositive\u001b[39;49m\u001b[38;5;124;43m\"\u001b[39;49m\u001b[43m,\u001b[49m\u001b[43m \u001b[49m\u001b[38;5;28;43;01mTrue\u001b[39;49;00m\u001b[43m)\u001b[49m\u001b[43m)\u001b[49m\u001b[38;5;241;43m.\u001b[39;49m\u001b[43malias\u001b[49m\u001b[43m(\u001b[49m\u001b[38;5;124;43m\"\u001b[39;49m\u001b[38;5;124;43mn_total_positive\u001b[39;49m\u001b[38;5;124;43m\"\u001b[39;49m\u001b[43m)\u001b[49m\u001b[43m,\u001b[49m\n\u001b[1;32m      9\u001b[0m \u001b[43m        \u001b[49m\u001b[43mF\u001b[49m\u001b[38;5;241;43m.\u001b[39;49m\u001b[43mcount\u001b[49m\u001b[43m(\u001b[49m\u001b[43mF\u001b[49m\u001b[38;5;241;43m.\u001b[39;49m\u001b[43mwhen\u001b[49m\u001b[43m(\u001b[49m\u001b[43m(\u001b[49m\u001b[43mF\u001b[49m\u001b[38;5;241;43m.\u001b[39;49m\u001b[43mcol\u001b[49m\u001b[43m(\u001b[49m\u001b[38;5;124;43m\"\u001b[39;49m\u001b[38;5;124;43msentiment\u001b[39;49m\u001b[38;5;124;43m\"\u001b[39;49m\u001b[43m)\u001b[49m\u001b[43m \u001b[49m\u001b[38;5;241;43m==\u001b[39;49m\u001b[43m \u001b[49m\u001b[38;5;124;43m\"\u001b[39;49m\u001b[38;5;124;43mpositive\u001b[39;49m\u001b[38;5;124;43m\"\u001b[39;49m\u001b[43m)\u001b[49m\u001b[43m \u001b[49m\u001b[38;5;241;43m&\u001b[39;49m\u001b[43m \u001b[49m\u001b[43mF\u001b[49m\u001b[38;5;241;43m.\u001b[39;49m\u001b[43mcol\u001b[49m\u001b[43m(\u001b[49m\u001b[38;5;124;43m\"\u001b[39;49m\u001b[38;5;124;43mauthentic\u001b[39;49m\u001b[38;5;124;43m\"\u001b[39;49m\u001b[43m)\u001b[49m\u001b[43m,\u001b[49m\u001b[43m \u001b[49m\u001b[38;5;28;43;01mTrue\u001b[39;49;00m\u001b[43m)\u001b[49m\u001b[43m)\u001b[49m\u001b[38;5;241;43m.\u001b[39;49m\u001b[43malias\u001b[49m\u001b[43m(\u001b[49m\u001b[38;5;124;43m\"\u001b[39;49m\u001b[38;5;124;43mn_authentic_positive\u001b[39;49m\u001b[38;5;124;43m\"\u001b[39;49m\u001b[43m)\u001b[49m\u001b[43m,\u001b[49m\n\u001b[1;32m     10\u001b[0m \u001b[43m        \u001b[49m\u001b[43mF\u001b[49m\u001b[38;5;241;43m.\u001b[39;49m\u001b[43mcount\u001b[49m\u001b[43m(\u001b[49m\u001b[43mF\u001b[49m\u001b[38;5;241;43m.\u001b[39;49m\u001b[43mwhen\u001b[49m\u001b[43m(\u001b[49m\u001b[43mF\u001b[49m\u001b[38;5;241;43m.\u001b[39;49m\u001b[43mcol\u001b[49m\u001b[43m(\u001b[49m\u001b[38;5;124;43m\"\u001b[39;49m\u001b[38;5;124;43msentiment\u001b[39;49m\u001b[38;5;124;43m\"\u001b[39;49m\u001b[43m)\u001b[49m\u001b[43m \u001b[49m\u001b[38;5;241;43m==\u001b[39;49m\u001b[43m \u001b[49m\u001b[38;5;124;43m\"\u001b[39;49m\u001b[38;5;124;43mneutral\u001b[39;49m\u001b[38;5;124;43m\"\u001b[39;49m\u001b[43m,\u001b[49m\u001b[43m \u001b[49m\u001b[38;5;28;43;01mTrue\u001b[39;49;00m\u001b[43m)\u001b[49m\u001b[43m)\u001b[49m\u001b[38;5;241;43m.\u001b[39;49m\u001b[43malias\u001b[49m\u001b[43m(\u001b[49m\u001b[38;5;124;43m\"\u001b[39;49m\u001b[38;5;124;43mn_total_neutral\u001b[39;49m\u001b[38;5;124;43m\"\u001b[39;49m\u001b[43m)\u001b[49m\u001b[43m,\u001b[49m\n\u001b[1;32m     11\u001b[0m \u001b[43m        \u001b[49m\u001b[43mF\u001b[49m\u001b[38;5;241;43m.\u001b[39;49m\u001b[43mcount\u001b[49m\u001b[43m(\u001b[49m\u001b[43mF\u001b[49m\u001b[38;5;241;43m.\u001b[39;49m\u001b[43mwhen\u001b[49m\u001b[43m(\u001b[49m\u001b[43m(\u001b[49m\u001b[43mF\u001b[49m\u001b[38;5;241;43m.\u001b[39;49m\u001b[43mcol\u001b[49m\u001b[43m(\u001b[49m\u001b[38;5;124;43m\"\u001b[39;49m\u001b[38;5;124;43msentiment\u001b[39;49m\u001b[38;5;124;43m\"\u001b[39;49m\u001b[43m)\u001b[49m\u001b[43m \u001b[49m\u001b[38;5;241;43m==\u001b[39;49m\u001b[43m \u001b[49m\u001b[38;5;124;43m\"\u001b[39;49m\u001b[38;5;124;43mneutral\u001b[39;49m\u001b[38;5;124;43m\"\u001b[39;49m\u001b[43m)\u001b[49m\u001b[43m \u001b[49m\u001b[38;5;241;43m&\u001b[39;49m\u001b[43m \u001b[49m\u001b[43mF\u001b[49m\u001b[38;5;241;43m.\u001b[39;49m\u001b[43mcol\u001b[49m\u001b[43m(\u001b[49m\u001b[38;5;124;43m\"\u001b[39;49m\u001b[38;5;124;43mauthentic\u001b[39;49m\u001b[38;5;124;43m\"\u001b[39;49m\u001b[43m)\u001b[49m\u001b[43m,\u001b[49m\u001b[43m \u001b[49m\u001b[38;5;28;43;01mTrue\u001b[39;49;00m\u001b[43m)\u001b[49m\u001b[43m)\u001b[49m\u001b[38;5;241;43m.\u001b[39;49m\u001b[43malias\u001b[49m\u001b[43m(\u001b[49m\u001b[38;5;124;43m\"\u001b[39;49m\u001b[38;5;124;43mn_authentic_neutral\u001b[39;49m\u001b[38;5;124;43m\"\u001b[39;49m\u001b[43m)\u001b[49m\n\u001b[0;32m---> 12\u001b[0m \u001b[43m    \u001b[49m\u001b[43m)\u001b[49m\u001b[38;5;241;43m.\u001b[39;49m\u001b[43mcollect\u001b[49m\u001b[43m(\u001b[49m\u001b[43m)\u001b[49m\n",
      "File \u001b[0;32m/usr/local/spark/python/pyspark/sql/dataframe.py:817\u001b[0m, in \u001b[0;36mDataFrame.collect\u001b[0;34m(self)\u001b[0m\n\u001b[1;32m    807\u001b[0m \u001b[38;5;124;03m\"\"\"Returns all the records as a list of :class:`Row`.\u001b[39;00m\n\u001b[1;32m    808\u001b[0m \n\u001b[1;32m    809\u001b[0m \u001b[38;5;124;03m.. versionadded:: 1.3.0\u001b[39;00m\n\u001b[0;32m   (...)\u001b[0m\n\u001b[1;32m    814\u001b[0m \u001b[38;5;124;03m[Row(age=2, name='Alice'), Row(age=5, name='Bob')]\u001b[39;00m\n\u001b[1;32m    815\u001b[0m \u001b[38;5;124;03m\"\"\"\u001b[39;00m\n\u001b[1;32m    816\u001b[0m \u001b[38;5;28;01mwith\u001b[39;00m SCCallSiteSync(\u001b[38;5;28mself\u001b[39m\u001b[38;5;241m.\u001b[39m_sc):\n\u001b[0;32m--> 817\u001b[0m     sock_info \u001b[38;5;241m=\u001b[39m \u001b[38;5;28;43mself\u001b[39;49m\u001b[38;5;241;43m.\u001b[39;49m\u001b[43m_jdf\u001b[49m\u001b[38;5;241;43m.\u001b[39;49m\u001b[43mcollectToPython\u001b[49m\u001b[43m(\u001b[49m\u001b[43m)\u001b[49m\n\u001b[1;32m    818\u001b[0m \u001b[38;5;28;01mreturn\u001b[39;00m \u001b[38;5;28mlist\u001b[39m(_load_from_socket(sock_info, BatchedSerializer(CPickleSerializer())))\n",
      "File \u001b[0;32m/usr/local/spark/python/lib/py4j-0.10.9.5-src.zip/py4j/java_gateway.py:1321\u001b[0m, in \u001b[0;36mJavaMember.__call__\u001b[0;34m(self, *args)\u001b[0m\n\u001b[1;32m   1315\u001b[0m command \u001b[38;5;241m=\u001b[39m proto\u001b[38;5;241m.\u001b[39mCALL_COMMAND_NAME \u001b[38;5;241m+\u001b[39m\\\n\u001b[1;32m   1316\u001b[0m     \u001b[38;5;28mself\u001b[39m\u001b[38;5;241m.\u001b[39mcommand_header \u001b[38;5;241m+\u001b[39m\\\n\u001b[1;32m   1317\u001b[0m     args_command \u001b[38;5;241m+\u001b[39m\\\n\u001b[1;32m   1318\u001b[0m     proto\u001b[38;5;241m.\u001b[39mEND_COMMAND_PART\n\u001b[1;32m   1320\u001b[0m answer \u001b[38;5;241m=\u001b[39m \u001b[38;5;28mself\u001b[39m\u001b[38;5;241m.\u001b[39mgateway_client\u001b[38;5;241m.\u001b[39msend_command(command)\n\u001b[0;32m-> 1321\u001b[0m return_value \u001b[38;5;241m=\u001b[39m \u001b[43mget_return_value\u001b[49m\u001b[43m(\u001b[49m\n\u001b[1;32m   1322\u001b[0m \u001b[43m    \u001b[49m\u001b[43manswer\u001b[49m\u001b[43m,\u001b[49m\u001b[43m \u001b[49m\u001b[38;5;28;43mself\u001b[39;49m\u001b[38;5;241;43m.\u001b[39;49m\u001b[43mgateway_client\u001b[49m\u001b[43m,\u001b[49m\u001b[43m \u001b[49m\u001b[38;5;28;43mself\u001b[39;49m\u001b[38;5;241;43m.\u001b[39;49m\u001b[43mtarget_id\u001b[49m\u001b[43m,\u001b[49m\u001b[43m \u001b[49m\u001b[38;5;28;43mself\u001b[39;49m\u001b[38;5;241;43m.\u001b[39;49m\u001b[43mname\u001b[49m\u001b[43m)\u001b[49m\n\u001b[1;32m   1324\u001b[0m \u001b[38;5;28;01mfor\u001b[39;00m temp_arg \u001b[38;5;129;01min\u001b[39;00m temp_args:\n\u001b[1;32m   1325\u001b[0m     temp_arg\u001b[38;5;241m.\u001b[39m_detach()\n",
      "File \u001b[0;32m/usr/local/spark/python/pyspark/sql/utils.py:190\u001b[0m, in \u001b[0;36mcapture_sql_exception.<locals>.deco\u001b[0;34m(*a, **kw)\u001b[0m\n\u001b[1;32m    188\u001b[0m \u001b[38;5;28;01mdef\u001b[39;00m \u001b[38;5;21mdeco\u001b[39m(\u001b[38;5;241m*\u001b[39ma: Any, \u001b[38;5;241m*\u001b[39m\u001b[38;5;241m*\u001b[39mkw: Any) \u001b[38;5;241m-\u001b[39m\u001b[38;5;241m>\u001b[39m Any:\n\u001b[1;32m    189\u001b[0m     \u001b[38;5;28;01mtry\u001b[39;00m:\n\u001b[0;32m--> 190\u001b[0m         \u001b[38;5;28;01mreturn\u001b[39;00m \u001b[43mf\u001b[49m\u001b[43m(\u001b[49m\u001b[38;5;241;43m*\u001b[39;49m\u001b[43ma\u001b[49m\u001b[43m,\u001b[49m\u001b[43m \u001b[49m\u001b[38;5;241;43m*\u001b[39;49m\u001b[38;5;241;43m*\u001b[39;49m\u001b[43mkw\u001b[49m\u001b[43m)\u001b[49m\n\u001b[1;32m    191\u001b[0m     \u001b[38;5;28;01mexcept\u001b[39;00m Py4JJavaError \u001b[38;5;28;01mas\u001b[39;00m e:\n\u001b[1;32m    192\u001b[0m         converted \u001b[38;5;241m=\u001b[39m convert_exception(e\u001b[38;5;241m.\u001b[39mjava_exception)\n",
      "File \u001b[0;32m/usr/local/spark/python/lib/py4j-0.10.9.5-src.zip/py4j/protocol.py:326\u001b[0m, in \u001b[0;36mget_return_value\u001b[0;34m(answer, gateway_client, target_id, name)\u001b[0m\n\u001b[1;32m    324\u001b[0m value \u001b[38;5;241m=\u001b[39m OUTPUT_CONVERTER[\u001b[38;5;28mtype\u001b[39m](answer[\u001b[38;5;241m2\u001b[39m:], gateway_client)\n\u001b[1;32m    325\u001b[0m \u001b[38;5;28;01mif\u001b[39;00m answer[\u001b[38;5;241m1\u001b[39m] \u001b[38;5;241m==\u001b[39m REFERENCE_TYPE:\n\u001b[0;32m--> 326\u001b[0m     \u001b[38;5;28;01mraise\u001b[39;00m Py4JJavaError(\n\u001b[1;32m    327\u001b[0m         \u001b[38;5;124m\"\u001b[39m\u001b[38;5;124mAn error occurred while calling \u001b[39m\u001b[38;5;132;01m{0}\u001b[39;00m\u001b[38;5;132;01m{1}\u001b[39;00m\u001b[38;5;132;01m{2}\u001b[39;00m\u001b[38;5;124m.\u001b[39m\u001b[38;5;130;01m\\n\u001b[39;00m\u001b[38;5;124m\"\u001b[39m\u001b[38;5;241m.\u001b[39m\n\u001b[1;32m    328\u001b[0m         \u001b[38;5;28mformat\u001b[39m(target_id, \u001b[38;5;124m\"\u001b[39m\u001b[38;5;124m.\u001b[39m\u001b[38;5;124m\"\u001b[39m, name), value)\n\u001b[1;32m    329\u001b[0m \u001b[38;5;28;01melse\u001b[39;00m:\n\u001b[1;32m    330\u001b[0m     \u001b[38;5;28;01mraise\u001b[39;00m Py4JError(\n\u001b[1;32m    331\u001b[0m         \u001b[38;5;124m\"\u001b[39m\u001b[38;5;124mAn error occurred while calling \u001b[39m\u001b[38;5;132;01m{0}\u001b[39;00m\u001b[38;5;132;01m{1}\u001b[39;00m\u001b[38;5;132;01m{2}\u001b[39;00m\u001b[38;5;124m. Trace:\u001b[39m\u001b[38;5;130;01m\\n\u001b[39;00m\u001b[38;5;132;01m{3}\u001b[39;00m\u001b[38;5;130;01m\\n\u001b[39;00m\u001b[38;5;124m\"\u001b[39m\u001b[38;5;241m.\u001b[39m\n\u001b[1;32m    332\u001b[0m         \u001b[38;5;28mformat\u001b[39m(target_id, \u001b[38;5;124m\"\u001b[39m\u001b[38;5;124m.\u001b[39m\u001b[38;5;124m\"\u001b[39m, name, value))\n",
      "\u001b[0;31mPy4JJavaError\u001b[0m: An error occurred while calling o11908.collectToPython.\n: org.apache.spark.SparkException: Job aborted due to stage failure: Task 0 in stage 171.0 failed 4 times, most recent failure: Lost task 0.3 in stage 171.0 (TID 1744) (node1 executor 0): TaskResultLost (result lost from block manager)\nDriver stacktrace:\n\tat org.apache.spark.scheduler.DAGScheduler.failJobAndIndependentStages(DAGScheduler.scala:2672)\n\tat org.apache.spark.scheduler.DAGScheduler.$anonfun$abortStage$2(DAGScheduler.scala:2608)\n\tat org.apache.spark.scheduler.DAGScheduler.$anonfun$abortStage$2$adapted(DAGScheduler.scala:2607)\n\tat scala.collection.mutable.ResizableArray.foreach(ResizableArray.scala:62)\n\tat scala.collection.mutable.ResizableArray.foreach$(ResizableArray.scala:55)\n\tat scala.collection.mutable.ArrayBuffer.foreach(ArrayBuffer.scala:49)\n\tat org.apache.spark.scheduler.DAGScheduler.abortStage(DAGScheduler.scala:2607)\n\tat org.apache.spark.scheduler.DAGScheduler.$anonfun$handleTaskSetFailed$1(DAGScheduler.scala:1182)\n\tat org.apache.spark.scheduler.DAGScheduler.$anonfun$handleTaskSetFailed$1$adapted(DAGScheduler.scala:1182)\n\tat scala.Option.foreach(Option.scala:407)\n\tat org.apache.spark.scheduler.DAGScheduler.handleTaskSetFailed(DAGScheduler.scala:1182)\n\tat org.apache.spark.scheduler.DAGSchedulerEventProcessLoop.doOnReceive(DAGScheduler.scala:2860)\n\tat org.apache.spark.scheduler.DAGSchedulerEventProcessLoop.onReceive(DAGScheduler.scala:2802)\n\tat org.apache.spark.scheduler.DAGSchedulerEventProcessLoop.onReceive(DAGScheduler.scala:2791)\n\tat org.apache.spark.util.EventLoop$$anon$1.run(EventLoop.scala:49)\n\tat org.apache.spark.scheduler.DAGScheduler.runJob(DAGScheduler.scala:952)\n\tat org.apache.spark.SparkContext.runJob(SparkContext.scala:2228)\n\tat org.apache.spark.SparkContext.runJob(SparkContext.scala:2249)\n\tat org.apache.spark.SparkContext.runJob(SparkContext.scala:2268)\n\tat org.apache.spark.SparkContext.runJob(SparkContext.scala:2293)\n\tat org.apache.spark.rdd.RDD.$anonfun$collect$1(RDD.scala:1021)\n\tat org.apache.spark.rdd.RDDOperationScope$.withScope(RDDOperationScope.scala:151)\n\tat org.apache.spark.rdd.RDDOperationScope$.withScope(RDDOperationScope.scala:112)\n\tat org.apache.spark.rdd.RDD.withScope(RDD.scala:406)\n\tat org.apache.spark.rdd.RDD.collect(RDD.scala:1020)\n\tat org.apache.spark.sql.execution.SparkPlan.executeCollectIterator(SparkPlan.scala:431)\n\tat org.apache.spark.sql.execution.exchange.BroadcastExchangeExec.$anonfun$relationFuture$1(BroadcastExchangeExec.scala:137)\n\tat org.apache.spark.sql.execution.SQLExecution$.$anonfun$withThreadLocalCaptured$1(SQLExecution.scala:191)\n\tat java.util.concurrent.FutureTask.run(FutureTask.java:266)\n\tat java.util.concurrent.ThreadPoolExecutor.runWorker(ThreadPoolExecutor.java:1149)\n\tat java.util.concurrent.ThreadPoolExecutor$Worker.run(ThreadPoolExecutor.java:624)\n\tat java.lang.Thread.run(Thread.java:750)\n"
     ]
    }
   ],
   "source": [
    "from pyspark.sql.functions import count\n",
    "sentiment_by_cuisine = reviews_business_cuisines\\\n",
    "    .groupBy(\"cuisine\")\\\n",
    "    .agg(F.count(F.when(F.col(\"authentic\"), True)).alias(\"n_authentic\"),\n",
    "         F.count(F.lit(1)).alias(\"n_total\"),\n",
    "         F.count(F.when(F.col(\"sentiment\") == \"negative\", True)).alias(\"n_total_negative\"),\n",
    "         F.count(F.when((F.col(\"sentiment\") == \"negative\") & F.col(\"authentic\"), True)).alias(\"n_authentic_negative\"),\n",
    "         F.count(F.when(F.col(\"sentiment\") == \"positive\", True)).alias(\"n_total_positive\"),\n",
    "         F.count(F.when((F.col(\"sentiment\") == \"positive\") & F.col(\"authentic\"), True)).alias(\"n_authentic_positive\"),\n",
    "         F.count(F.when(F.col(\"sentiment\") == \"neutral\", True)).alias(\"n_total_neutral\"),\n",
    "         F.count(F.when((F.col(\"sentiment\") == \"neutral\") & F.col(\"authentic\"), True)).alias(\"n_authentic_neutral\"))\n",
    "\n"
   ]
  }
 ],
 "metadata": {
  "kernelspec": {
   "display_name": "Python 3 ",
   "language": "python",
   "name": "python3"
  },
  "language_info": {
   "codemirror_mode": {
    "name": "ipython",
    "version": 3
   },
   "file_extension": ".py",
   "mimetype": "text/x-python",
   "name": "python",
   "nbconvert_exporter": "python",
   "pygments_lexer": "ipython3",
   "version": "3.10.6"
  }
 },
 "nbformat": 4,
 "nbformat_minor": 5
}
