{
 "cells": [
  {
   "cell_type": "code",
   "execution_count": 1,
   "id": "c2505e73-4490-4366-bfe2-a8f6c3fc7e2d",
   "metadata": {
    "execution": {
     "iopub.execute_input": "2024-05-27T18:00:48.954190Z",
     "iopub.status.busy": "2024-05-27T18:00:48.952929Z",
     "iopub.status.idle": "2024-05-27T18:01:15.196790Z",
     "shell.execute_reply": "2024-05-27T18:01:15.194756Z",
     "shell.execute_reply.started": "2024-05-27T18:00:48.954094Z"
    }
   },
   "outputs": [
    {
     "name": "stdout",
     "output_type": "stream",
     "text": [
      "Cell has not been executed before, running...\n",
      "Success!\n"
     ]
    }
   ],
   "source": [
    "#####################################################################\n",
    "# DO NOT CHANGE ANYTHING HERE.\n",
    "# IF YOU HAVE PROBLEMS, CHECK THE ASSIGNMENT GUIDE CAREFULLY \n",
    "#####################################################################\n",
    "    \n",
    "# Only execute this cell once.\n",
    "if '_EXECUTED_' in globals():\n",
    "    # check if variable '_EXECUTED_' exists in the global variable namespace\n",
    "    print(\"Already been executed once, not running again!\")\n",
    "else:\n",
    "    print(\"Cell has not been executed before, running...\")\n",
    "    import os, json, pyspark\n",
    "    from pyspark.conf import SparkConf\n",
    "    from pyspark.sql import SparkSession, functions as F\n",
    "\n",
    "    # Two files are automatically read: JobParameters.json for the Spark Cluster job using a temporary spark instance\n",
    "    # and JobParameters.json for the Jupyter Lab job to extract the hostname of the cluster. \n",
    "\n",
    "    MASTER_HOST_NAME = None\n",
    "\n",
    "    # Open the parameters Jupyter Lab app was launched with\n",
    "    with open('/work/JobParameters.json', 'r') as file:\n",
    "        JUPYTER_LAB_JOB_PARAMS = json.load(file)\n",
    "        # from pprint import pprint; pprint(JUPYTER_LAB_JOB_PARAMS) \n",
    "        for resource in JUPYTER_LAB_JOB_PARAMS['request']['resources']:\n",
    "            if 'hostname' in resource.keys():\n",
    "                MASTER_HOST_NAME = resource['hostname']\n",
    "\n",
    "    MASTER_HOST = f\"spark://{MASTER_HOST_NAME}:7077\"\n",
    "\n",
    "    conf = SparkConf().setAll([\n",
    "            (\"spark.app.name\", 'reading_job_params_app'), \n",
    "            (\"spark.master\", MASTER_HOST),\n",
    "        ])\n",
    "    spark = SparkSession.builder.config(conf=conf)\\\n",
    "                                .getOrCreate()\n",
    "\n",
    "    CLUSTER_PARAMETERS_JSON_DF = spark.read.option(\"multiline\",\"true\").json('/work/JobParameters.json')\n",
    "\n",
    "    # Extract cluster info from the specific JobParameters.json\n",
    "    NODES = CLUSTER_PARAMETERS_JSON_DF.select(\"request.replicas\").first()[0]\n",
    "    CPUS_PER_NODE = CLUSTER_PARAMETERS_JSON_DF.select(\"machineType.cpu\").first()[0] - 1\n",
    "    MEM_PER_NODE = CLUSTER_PARAMETERS_JSON_DF.select(\"machineType.memoryInGigs\").first()[0]\n",
    "\n",
    "    CLUSTER_CORES_MAX = CPUS_PER_NODE * NODES\n",
    "    CLUSTER_MEMORY_MAX = MEM_PER_NODE * NODES \n",
    "    \n",
    "    if CPUS_PER_NODE > 1:\n",
    "        EXECUTOR_CORES = CPUS_PER_NODE - 1  # set cores per executor on worker node\n",
    "    else:\n",
    "        EXECUTOR_CORES = CPUS_PER_NODE \n",
    "\n",
    "    EXECUTOR_MEMORY = int(\n",
    "        MEM_PER_NODE / (CPUS_PER_NODE / EXECUTOR_CORES) * 0.5\n",
    "    )  # set executor memory in GB on each worker node\n",
    "\n",
    "    # Make sure there is a dir for spark logs\n",
    "    if not os.path.exists('spark_logs'):\n",
    "        os.mkdir('spark_logs')\n",
    "\n",
    "    conf = SparkConf().setAll(\n",
    "        [\n",
    "            (\"spark.app.name\", 'spark_assignment'), # Change to your liking \n",
    "            (\"spark.sql.caseSensitive\", False), # Optional: Make queries strings sensitive to captialization\n",
    "            (\"spark.master\", MASTER_HOST),\n",
    "            (\"spark.cores.max\", CLUSTER_CORES_MAX),\n",
    "            (\"spark.executor.cores\", EXECUTOR_CORES),\n",
    "            (\"spark.executor.memory\", str(EXECUTOR_MEMORY) + \"g\"),\n",
    "            (\"spark.eventLog.enabled\", True),\n",
    "            (\"spark.eventLog.dir\", \"spark_logs\"),\n",
    "            (\"spark.history.fs.logDirectory\", \"spark_logs\"),\n",
    "            (\"spark.deploy.mode\", \"cluster\"),\n",
    "        ]\n",
    "    )\n",
    "\n",
    "    ## check executor memory, taking into accout 10% of memory overhead (minimum 384 MiB)\n",
    "    CHECK = (CLUSTER_CORES_MAX / EXECUTOR_CORES) * (\n",
    "        EXECUTOR_MEMORY + max(EXECUTOR_MEMORY * 0.10, 0.403)\n",
    "    )\n",
    "\n",
    "    assert (\n",
    "        int(CHECK) <= CLUSTER_MEMORY_MAX\n",
    "    ), \"Executor memory larger than cluster total memory!\"\n",
    "\n",
    "    # Stop previous session that was just for loading cluster params\n",
    "    spark.stop()\n",
    "\n",
    "    # Start new session with above config, that has better resource handling\n",
    "    spark = SparkSession.builder.config(conf=conf)\\\n",
    "                                .getOrCreate()\n",
    "    sc = spark.sparkContext\n",
    "    _EXECUTED_ = True\n",
    "    print(\"Success!\")"
   ]
  },
  {
   "cell_type": "code",
   "execution_count": 2,
   "id": "59c113e5-a254-49a8-b576-1e3fd692d437",
   "metadata": {
    "execution": {
     "iopub.execute_input": "2024-05-27T18:01:15.200997Z",
     "iopub.status.busy": "2024-05-27T18:01:15.200337Z",
     "iopub.status.idle": "2024-05-27T18:01:30.179382Z",
     "shell.execute_reply": "2024-05-27T18:01:30.178152Z",
     "shell.execute_reply.started": "2024-05-27T18:01:15.200943Z"
    }
   },
   "outputs": [],
   "source": [
    "# Read in the business and review files\n",
    "# This is the path to the shared datasets provided by adding an the dataset input folder\n",
    "# when submitting the spark cluster job.\n",
    "business = spark.read.json('file:////work/yelp/yelp_academic_dataset_business.json') # Use the file:/// prefix to indicate we want to read from the cluster's filesystem\n",
    "business = business.persist()\n",
    "# Persist 2 commonly used dataframes since they're used for later computations\n",
    "# https://sparkbyexamples.com/spark/spark-difference-between-cache-and-persist/\n",
    "\n",
    "users = spark.read.json(\"file:////work/yelp/yelp_academic_dataset_user.json\")\n",
    "\n",
    "reviews = spark.read.json('file:////work/yelp/yelp_academic_dataset_review.json')\n",
    "reviews = reviews.persist()"
   ]
  },
  {
   "cell_type": "code",
   "execution_count": 3,
   "id": "f4bdc392-5d57-44e2-9e4e-263a842db5ba",
   "metadata": {
    "execution": {
     "iopub.execute_input": "2024-05-27T18:01:30.181931Z",
     "iopub.status.busy": "2024-05-27T18:01:30.181342Z",
     "iopub.status.idle": "2024-05-27T18:01:30.492929Z",
     "shell.execute_reply": "2024-05-27T18:01:30.492065Z",
     "shell.execute_reply.started": "2024-05-27T18:01:30.181886Z"
    },
    "tags": []
   },
   "outputs": [],
   "source": [
    "r = reviews.withColumnRenamed(\"stars\", \"review_stars\")\n",
    "b = business.withColumnRenamed(\"stars\", \"business_stars\")\n",
    "rb = r.join(b, \"business_id\")"
   ]
  },
  {
   "cell_type": "code",
   "execution_count": 4,
   "id": "a6ce33a8-029b-41e2-8214-a6ddb491eea6",
   "metadata": {
    "execution": {
     "iopub.execute_input": "2024-05-27T18:01:30.494335Z",
     "iopub.status.busy": "2024-05-27T18:01:30.494073Z",
     "iopub.status.idle": "2024-05-27T18:01:51.978851Z",
     "shell.execute_reply": "2024-05-27T18:01:51.977318Z",
     "shell.execute_reply.started": "2024-05-27T18:01:30.494312Z"
    },
    "tags": []
   },
   "outputs": [
    {
     "name": "stdout",
     "output_type": "stream",
     "text": [
      "+--------------------+----+-------------------+-----+--------------------+------------+--------------------+------+--------------------+----------------+--------------------+--------------------+---------------+--------------------+-------+----------+-----------+-----------------+-----------+------------+--------------+-----+\n",
      "|         business_id|cool|               date|funny|           review_id|review_stars|                text|useful|             user_id|         address|          attributes|          categories|           city|               hours|is_open|  latitude|  longitude|             name|postal_code|review_count|business_stars|state|\n",
      "+--------------------+----+-------------------+-----+--------------------+------------+--------------------+------+--------------------+----------------+--------------------+--------------------+---------------+--------------------+-------+----------+-----------+-----------------+-----------+------------+--------------+-----+\n",
      "|---kPU91CF4Lq2-Wl...|   0|2020-08-09 19:19:16|    0|hoLKem4XpXGt_X4li...|         4.0|Ate here for the ...|     0|415SXXbQrl2-VudHa...|4903 State Rd 54|{null, null, u'no...|Seafood, Restaura...|New Port Richey|{11:0-22:0, 0:0-0...|      1|28.2172884|-82.7333444|Frankie's Raw Bar|      34652|          24|           4.5|   FL|\n",
      "|---kPU91CF4Lq2-Wl...|   0|2020-09-05 20:09:03|    0|gzXaxjjTnrJJuG_gq...|         5.0|Absolutely fantas...|     0|ey8tdgUgC2tFqw2df...|4903 State Rd 54|{null, null, u'no...|Seafood, Restaura...|New Port Richey|{11:0-22:0, 0:0-0...|      1|28.2172884|-82.7333444|Frankie's Raw Bar|      34652|          24|           4.5|   FL|\n",
      "|---kPU91CF4Lq2-Wl...|   0|2020-06-13 22:03:50|    0|cpyLQlML0idHzCsCi...|         3.0|I was sadly disap...|     0|wNo_joX2evLhIYE4h...|4903 State Rd 54|{null, null, u'no...|Seafood, Restaura...|New Port Richey|{11:0-22:0, 0:0-0...|      1|28.2172884|-82.7333444|Frankie's Raw Bar|      34652|          24|           4.5|   FL|\n",
      "|---kPU91CF4Lq2-Wl...|   0|2020-02-11 00:30:51|    0|9j7uG9sA5WU7yraCQ...|         5.0|Great new local s...|     0|nRy6-tnPPeShNhZg9...|4903 State Rd 54|{null, null, u'no...|Seafood, Restaura...|New Port Richey|{11:0-22:0, 0:0-0...|      1|28.2172884|-82.7333444|Frankie's Raw Bar|      34652|          24|           4.5|   FL|\n",
      "|---kPU91CF4Lq2-Wl...|   1|2021-03-06 01:39:34|    0|ROpgxHN-NOZ3zSFMZ...|         3.0|This is a food tr...|     1|V8oYXtc0hMuYzG5Hf...|4903 State Rd 54|{null, null, u'no...|Seafood, Restaura...|New Port Richey|{11:0-22:0, 0:0-0...|      1|28.2172884|-82.7333444|Frankie's Raw Bar|      34652|          24|           4.5|   FL|\n",
      "|---kPU91CF4Lq2-Wl...|   0|2020-03-18 01:34:18|    0|rljdEt4_jgsqOgG-7...|         5.0|Great place for g...|     2|qrCkKrEwQ-q9m1iWS...|4903 State Rd 54|{null, null, u'no...|Seafood, Restaura...|New Port Richey|{11:0-22:0, 0:0-0...|      1|28.2172884|-82.7333444|Frankie's Raw Bar|      34652|          24|           4.5|   FL|\n",
      "|---kPU91CF4Lq2-Wl...|   1|2020-12-12 17:48:38|    0|JnfAi8vz8lcN63lvf...|         5.0|Blown away how fu...|     1|UmQDlaIjLiPBZ7M6U...|4903 State Rd 54|{null, null, u'no...|Seafood, Restaura...|New Port Richey|{11:0-22:0, 0:0-0...|      1|28.2172884|-82.7333444|Frankie's Raw Bar|      34652|          24|           4.5|   FL|\n",
      "|---kPU91CF4Lq2-Wl...|   0|2020-02-20 00:50:49|    0|XawsDBeNXlT_rRivc...|         5.0|Never would have ...|     1|5jlO2REcgB6GKFeSs...|4903 State Rd 54|{null, null, u'no...|Seafood, Restaura...|New Port Richey|{11:0-22:0, 0:0-0...|      1|28.2172884|-82.7333444|Frankie's Raw Bar|      34652|          24|           4.5|   FL|\n",
      "|---kPU91CF4Lq2-Wl...|   1|2020-09-26 20:42:25|    0|7dFBRid1QdCCr2PNs...|         5.0|Finale a local Fr...|     0|w2SrX4cPZqykJ5P7U...|4903 State Rd 54|{null, null, u'no...|Seafood, Restaura...|New Port Richey|{11:0-22:0, 0:0-0...|      1|28.2172884|-82.7333444|Frankie's Raw Bar|      34652|          24|           4.5|   FL|\n",
      "|---kPU91CF4Lq2-Wl...|   0|2021-11-24 16:27:56|    0|38jzE6n8lbnvSM7p6...|         5.0|EVERYTHING we had...|     0|7F5NSUrKYEPdrewd2...|4903 State Rd 54|{null, null, u'no...|Seafood, Restaura...|New Port Richey|{11:0-22:0, 0:0-0...|      1|28.2172884|-82.7333444|Frankie's Raw Bar|      34652|          24|           4.5|   FL|\n",
      "|---kPU91CF4Lq2-Wl...|   0|2021-04-12 19:46:10|    0|HwGGdjfpI7_ndf9d9...|         1.0|Be careful before...|     1|YUVbBNr_dSJNP2pwD...|4903 State Rd 54|{null, null, u'no...|Seafood, Restaura...|New Port Richey|{11:0-22:0, 0:0-0...|      1|28.2172884|-82.7333444|Frankie's Raw Bar|      34652|          24|           4.5|   FL|\n",
      "|---kPU91CF4Lq2-Wl...|   0|2020-01-29 18:39:02|    0|8NnKwxC71uLNWs00e...|         5.0|Unfortunately the...|     0|YhbCO1DVlNYkmVv8D...|4903 State Rd 54|{null, null, u'no...|Seafood, Restaura...|New Port Richey|{11:0-22:0, 0:0-0...|      1|28.2172884|-82.7333444|Frankie's Raw Bar|      34652|          24|           4.5|   FL|\n",
      "|---kPU91CF4Lq2-Wl...|   0|2021-10-17 02:02:58|    0|gANpst_byMcYH6c6n...|         5.0|What a fantastic ...|     0|jtPb5gfrvYixrC0ax...|4903 State Rd 54|{null, null, u'no...|Seafood, Restaura...|New Port Richey|{11:0-22:0, 0:0-0...|      1|28.2172884|-82.7333444|Frankie's Raw Bar|      34652|          24|           4.5|   FL|\n",
      "|---kPU91CF4Lq2-Wl...|   4|2020-06-04 12:27:25|    0|F2L5ZUhXGQV3eoXke...|         4.0|This location is ...|     4|i48cHEyRBl5g9_npY...|4903 State Rd 54|{null, null, u'no...|Seafood, Restaura...|New Port Richey|{11:0-22:0, 0:0-0...|      1|28.2172884|-82.7333444|Frankie's Raw Bar|      34652|          24|           4.5|   FL|\n",
      "|---kPU91CF4Lq2-Wl...|   3|2020-10-02 23:01:22|    0|FZmpplmG5JEotgwF0...|         5.0|Don't drive by .....|     3|Q-ia5eY9smWBTwYOZ...|4903 State Rd 54|{null, null, u'no...|Seafood, Restaura...|New Port Richey|{11:0-22:0, 0:0-0...|      1|28.2172884|-82.7333444|Frankie's Raw Bar|      34652|          24|           4.5|   FL|\n",
      "|---kPU91CF4Lq2-Wl...|   0|2020-12-14 01:17:21|    0|s7f2L3EESkKf-kNDS...|         4.0|I love this place...|     1|goqGoC76zemDagYvR...|4903 State Rd 54|{null, null, u'no...|Seafood, Restaura...|New Port Richey|{11:0-22:0, 0:0-0...|      1|28.2172884|-82.7333444|Frankie's Raw Bar|      34652|          24|           4.5|   FL|\n",
      "|---kPU91CF4Lq2-Wl...|   1|2021-04-27 15:36:40|    0|3SSlZgCoSsVT9BJe7...|         5.0|YUM! Such a cool ...|     1|5r_jlIQvSr7VG5YFb...|4903 State Rd 54|{null, null, u'no...|Seafood, Restaura...|New Port Richey|{11:0-22:0, 0:0-0...|      1|28.2172884|-82.7333444|Frankie's Raw Bar|      34652|          24|           4.5|   FL|\n",
      "|---kPU91CF4Lq2-Wl...|   0|2021-11-13 23:16:59|    0|gcTR_HEwhz7EnupVu...|         5.0|Great atmosphere ...|     0|WINRnvRO7iGEhrf9i...|4903 State Rd 54|{null, null, u'no...|Seafood, Restaura...|New Port Richey|{11:0-22:0, 0:0-0...|      1|28.2172884|-82.7333444|Frankie's Raw Bar|      34652|          24|           4.5|   FL|\n",
      "|---kPU91CF4Lq2-Wl...|   0|2021-11-18 14:23:29|    0|6R5GONxoSt_GdBfaw...|         5.0|the only place to...|     0|zEe31kAcPExQgFR-A...|4903 State Rd 54|{null, null, u'no...|Seafood, Restaura...|New Port Richey|{11:0-22:0, 0:0-0...|      1|28.2172884|-82.7333444|Frankie's Raw Bar|      34652|          24|           4.5|   FL|\n",
      "|---kPU91CF4Lq2-Wl...|   0|2021-12-03 22:13:28|    0|RalOYHTQeYyTNjwd1...|         5.0|Awesome raw bar /...|     0|zmgsdGzOp08BWJZ2y...|4903 State Rd 54|{null, null, u'no...|Seafood, Restaura...|New Port Richey|{11:0-22:0, 0:0-0...|      1|28.2172884|-82.7333444|Frankie's Raw Bar|      34652|          24|           4.5|   FL|\n",
      "+--------------------+----+-------------------+-----+--------------------+------------+--------------------+------+--------------------+----------------+--------------------+--------------------+---------------+--------------------+-------+----------+-----------+-----------------+-----------+------------+--------------+-----+\n",
      "only showing top 20 rows\n",
      "\n"
     ]
    }
   ],
   "source": [
    "rb.show()"
   ]
  },
  {
   "cell_type": "code",
   "execution_count": 5,
   "id": "248a55f6-bfb2-47f1-8c57-74959da50f69",
   "metadata": {
    "execution": {
     "iopub.execute_input": "2024-05-27T18:01:51.984288Z",
     "iopub.status.busy": "2024-05-27T18:01:51.983548Z",
     "iopub.status.idle": "2024-05-27T18:01:51.988647Z",
     "shell.execute_reply": "2024-05-27T18:01:51.987589Z",
     "shell.execute_reply.started": "2024-05-27T18:01:51.984219Z"
    },
    "tags": []
   },
   "outputs": [],
   "source": [
    "# from pyspark.ml.feature import VectorAssembler\n",
    "\n",
    "# assembler = VectorAssembler(inputCols=[\"funny\"], outputCol='features')\n",
    "# data = assembler.transform(rb)\n",
    "# data = data.select(['features', 'review_stars'])\n",
    "# data.show()"
   ]
  },
  {
   "cell_type": "code",
   "execution_count": 6,
   "id": "1eef450f-0036-4e4b-844e-0fafa152eb33",
   "metadata": {
    "execution": {
     "iopub.execute_input": "2024-05-27T18:01:51.991022Z",
     "iopub.status.busy": "2024-05-27T18:01:51.990420Z",
     "iopub.status.idle": "2024-05-27T18:01:52.023363Z",
     "shell.execute_reply": "2024-05-27T18:01:52.022436Z",
     "shell.execute_reply.started": "2024-05-27T18:01:51.990965Z"
    },
    "tags": []
   },
   "outputs": [],
   "source": [
    "# from pyspark.ml.feature import VectorAssembler\n",
    "\n",
    "# lr = LinearRegression(featuresCol=\"features\", labelCol=\"review_stars\")\n",
    "# model = lr.fit(data)\n",
    "# test_stats = model.evaluate(data)\n",
    "# print(f\"RMSE: {test_stats.rootMeanSquaredError}\")\n",
    "# print(f\"R2: {test_stats.r2}\")\n",
    "# print(f\"MSE: {test_stats.meanSquaredError}\")"
   ]
  },
  {
   "cell_type": "code",
   "execution_count": 7,
   "id": "618d7ab2-f7a9-4323-88d0-a6390e874c08",
   "metadata": {
    "execution": {
     "iopub.execute_input": "2024-05-27T18:01:52.067474Z",
     "iopub.status.busy": "2024-05-27T18:01:52.066685Z",
     "iopub.status.idle": "2024-05-27T18:01:52.078745Z",
     "shell.execute_reply": "2024-05-27T18:01:52.077805Z",
     "shell.execute_reply.started": "2024-05-27T18:01:52.067402Z"
    },
    "tags": []
   },
   "outputs": [],
   "source": [
    "# test_stats.predictions.show()"
   ]
  },
  {
   "cell_type": "code",
   "execution_count": 8,
   "id": "bb86f142-c294-46ea-b9d3-bd69c8e10f82",
   "metadata": {
    "execution": {
     "iopub.execute_input": "2024-05-27T18:01:52.080518Z",
     "iopub.status.busy": "2024-05-27T18:01:52.080090Z",
     "iopub.status.idle": "2024-05-27T18:01:52.116273Z",
     "shell.execute_reply": "2024-05-27T18:01:52.115055Z",
     "shell.execute_reply.started": "2024-05-27T18:01:52.080484Z"
    },
    "tags": []
   },
   "outputs": [
    {
     "data": {
      "text/plain": [
       "[('business_id', 'string'),\n",
       " ('cool', 'bigint'),\n",
       " ('date', 'string'),\n",
       " ('funny', 'bigint'),\n",
       " ('review_id', 'string'),\n",
       " ('review_stars', 'double'),\n",
       " ('text', 'string'),\n",
       " ('useful', 'bigint'),\n",
       " ('user_id', 'string')]"
      ]
     },
     "execution_count": 8,
     "metadata": {},
     "output_type": "execute_result"
    }
   ],
   "source": [
    "r.dtypes"
   ]
  },
  {
   "cell_type": "code",
   "execution_count": 9,
   "id": "9d81d62d-dfc8-473b-bff8-4f1d5f146528",
   "metadata": {
    "execution": {
     "iopub.execute_input": "2024-05-27T18:01:52.119478Z",
     "iopub.status.busy": "2024-05-27T18:01:52.118446Z",
     "iopub.status.idle": "2024-05-27T18:01:59.792338Z",
     "shell.execute_reply": "2024-05-27T18:01:59.790490Z",
     "shell.execute_reply.started": "2024-05-27T18:01:52.119424Z"
    },
    "tags": []
   },
   "outputs": [],
   "source": [
    "import pyspark.sql.functions as f\n",
    "from functools import reduce\n",
    "from pyspark.ml.feature import OneHotEncoder, StringIndexer\n",
    "from pyspark.sql.types import IntegerType\n",
    "\n",
    "authent_words = [\"authentic\", \"veritable\", \"legitimate\"]\n",
    "neg_words = [ \"dirty\", \"kitsch\", \"cheap\", \"rude\", \"simple\", \"bland\", \"dodgy\", \"poisoning\" ]\n",
    "pos_words = [ \"clean\", \"refined\", \"elegant\", \"stylish\" ]\n",
    "\n",
    "def count_word(word, column):\n",
    "    return f.expr(f\"size(split({column}, '{word}')) -1\")\n",
    "auth_counts = [count_word(word, \"text\") for word in authent_words]\n",
    "neg_counts = [count_word(word, \"text\") for word in neg_words]\n",
    "pos_counts = [count_word(word, \"text\") for word in pos_words]\n",
    "auth_count = reduce(lambda a, b: a + b, auth_counts)\n",
    "neg_count = reduce(lambda a, b: a + b, neg_counts)\n",
    "pos_count = reduce(lambda a, b: a + b, pos_counts)\n",
    "\n",
    "# Set up data\n",
    "rbd = rb\\\n",
    "    .withColumn(\"year\", f.substring(rb.date, 3, 2).cast(IntegerType()))\\\n",
    "    .withColumn(\"month\", f.substring(rb.date, 6, 2).cast(IntegerType()))\\\n",
    "    .withColumn(\"day\", f.substring(rb.date, 9, 2).cast(IntegerType()))\\\n",
    "    .withColumn(\"auth_count\", auth_count)\\\n",
    "    .withColumn(\"neg_count\", neg_count)\\\n",
    "    .withColumn(\"pos_count\", pos_count)\n",
    "\n",
    "# One-hot encode states\n",
    "states = [i.state for i in rbd.select('state').distinct().collect()]\n",
    "for state in states:\n",
    "    rbd = rbd.withColumn(state, rbd.state == state)"
   ]
  },
  {
   "cell_type": "code",
   "execution_count": 10,
   "id": "1e298aa2-d59d-41ee-b666-5ca5092b38ff",
   "metadata": {
    "execution": {
     "iopub.execute_input": "2024-05-27T18:01:59.795821Z",
     "iopub.status.busy": "2024-05-27T18:01:59.794942Z",
     "iopub.status.idle": "2024-05-27T18:02:04.097812Z",
     "shell.execute_reply": "2024-05-27T18:02:04.096893Z",
     "shell.execute_reply.started": "2024-05-27T18:01:59.795759Z"
    },
    "tags": []
   },
   "outputs": [
    {
     "name": "stdout",
     "output_type": "stream",
     "text": [
      "+--------------------+------------+\n",
      "|            features|review_stars|\n",
      "+--------------------+------------+\n",
      "|(37,[3,4,5,6,22],...|         3.0|\n",
      "|(37,[0,2,3,4,5,6,...|         5.0|\n",
      "|(37,[3,4,5,6,10],...|         3.0|\n",
      "|(37,[0,2,3,4,5,6,...|         5.0|\n",
      "|(37,[0,2,3,4,5,6,...|         4.0|\n",
      "|(37,[0,1,2,3,4,5,...|         1.0|\n",
      "|(37,[1,3,4,5,6,11...|         5.0|\n",
      "|(37,[2,3,4,5,6,22...|         5.0|\n",
      "|(37,[1,2,3,4,5,6,...|         3.0|\n",
      "|(37,[3,4,5,6,15],...|         3.0|\n",
      "|(37,[2,3,4,5,6,8,...|         5.0|\n",
      "|(37,[3,4,5,6,20],...|         4.0|\n",
      "|(37,[3,4,5,6,18],...|         4.0|\n",
      "|(37,[3,4,5,6,22],...|         4.0|\n",
      "|(37,[1,3,4,5,6,8,...|         4.0|\n",
      "|(37,[3,4,5,6,24],...|         5.0|\n",
      "|(37,[3,4,5,6,22],...|         5.0|\n",
      "|(37,[2,3,4,5,6,18...|         4.0|\n",
      "|(37,[0,2,3,4,5,6,...|         5.0|\n",
      "|(37,[3,4,5,6,22],...|         5.0|\n",
      "+--------------------+------------+\n",
      "only showing top 20 rows\n",
      "\n"
     ]
    }
   ],
   "source": [
    "# Prepare feature column\n",
    "from pyspark.ml.feature import VectorAssembler\n",
    "\n",
    "inputCols = [\n",
    "    \"cool\", \"funny\", \"useful\", \"review_count\",\n",
    "    \"year\", \"month\", \"day\", \"auth_count\", \"neg_count\", \"pos_count\",\n",
    "] + states\n",
    "\n",
    "assembler = VectorAssembler(inputCols=inputCols, outputCol='features')\n",
    "data = assembler.transform(rbd)\n",
    "data = data.select(['features', 'review_stars'])\n",
    "data.show()"
   ]
  },
  {
   "cell_type": "code",
   "execution_count": 11,
   "id": "88ab320f-2dbb-4b35-8bb1-846b84fc206f",
   "metadata": {
    "execution": {
     "iopub.execute_input": "2024-05-27T18:02:04.099844Z",
     "iopub.status.busy": "2024-05-27T18:02:04.099455Z",
     "iopub.status.idle": "2024-05-27T18:28:52.615117Z",
     "shell.execute_reply": "2024-05-27T18:28:52.613543Z",
     "shell.execute_reply.started": "2024-05-27T18:02:04.099815Z"
    },
    "tags": []
   },
   "outputs": [
    {
     "name": "stdout",
     "output_type": "stream",
     "text": [
      "1 of 5\n",
      "2 of 5\n",
      "3 of 5\n",
      "4 of 5\n",
      "5 of 5\n",
      "R2: 0.09394102445346586\n",
      "MSE: 1.9811502075490552\n"
     ]
    }
   ],
   "source": [
    "# Do linear regression\n",
    "from pyspark.ml.feature import VectorAssembler\n",
    "from pyspark.ml.regression import LinearRegression\n",
    "import numpy as np\n",
    "\n",
    "SEED = 1337\n",
    "CV_SPLITS = 5\n",
    "SPLIT_SIZE = 1/CV_SPLITS\n",
    "\n",
    "splits = data.randomSplit([SPLIT_SIZE]*CV_SPLITS, seed=SEED)\n",
    "\n",
    "lr = LinearRegression(featuresCol=\"features\", labelCol=\"review_stars\", elasticNetParam=0.8)\n",
    "\n",
    "mses = []\n",
    "r2s = []\n",
    "statss = []\n",
    "for i in range(CV_SPLITS):\n",
    "    print(f\"{i+1} of {CV_SPLITS}\")\n",
    "    test = splits.pop(0)\n",
    "    train = reduce(lambda df1, df2: df1.union(df2), splits)\n",
    "    splits.append(test)\n",
    "\n",
    "    model = lr.fit(train)\n",
    "    stats = model.evaluate(test)\n",
    "    r2s.append(stats.r2adj)\n",
    "    mses.append(stats.meanSquaredError)\n",
    "    statss.append(stats)\n",
    "\n",
    "mmse = np.mean(mses)\n",
    "mr2 = np.mean(r2s)\n",
    "    \n",
    "print(f\"Adj R2: {mr2}\")\n",
    "print(f\"MSE: {mmse}\")"
   ]
  },
  {
   "cell_type": "code",
   "execution_count": 12,
   "id": "d522f6b4-9758-432b-9301-c421c952e836",
   "metadata": {
    "execution": {
     "iopub.execute_input": "2024-05-27T18:28:52.618036Z",
     "iopub.status.busy": "2024-05-27T18:28:52.617148Z",
     "iopub.status.idle": "2024-05-27T18:28:52.815235Z",
     "shell.execute_reply": "2024-05-27T18:28:52.813804Z",
     "shell.execute_reply.started": "2024-05-27T18:28:52.617963Z"
    },
    "tags": []
   },
   "outputs": [
    {
     "ename": "NameError",
     "evalue": "name 'test_stats' is not defined",
     "output_type": "error",
     "traceback": [
      "\u001b[0;31m---------------------------------------------------------------------------\u001b[0m",
      "\u001b[0;31mNameError\u001b[0m                                 Traceback (most recent call last)",
      "Cell \u001b[0;32mIn[12], line 1\u001b[0m\n\u001b[0;32m----> 1\u001b[0m \u001b[43mtest_stats\u001b[49m\u001b[38;5;241m.\u001b[39mpredictions\u001b[38;5;241m.\u001b[39mshow()\n",
      "\u001b[0;31mNameError\u001b[0m: name 'test_stats' is not defined"
     ]
    }
   ],
   "source": [
    "test_stats.predictions.show()"
   ]
  },
  {
   "cell_type": "code",
   "execution_count": null,
   "id": "34bf678e-55db-4304-96ec-1bac127aa19d",
   "metadata": {},
   "outputs": [],
   "source": []
  },
  {
   "cell_type": "code",
   "execution_count": null,
   "id": "08348b09-4240-43c0-97ee-108d52de8995",
   "metadata": {},
   "outputs": [],
   "source": []
  }
 ],
 "metadata": {
  "kernelspec": {
   "display_name": "Python 3 ",
   "language": "python",
   "name": "python3"
  },
  "language_info": {
   "codemirror_mode": {
    "name": "ipython",
    "version": 3
   },
   "file_extension": ".py",
   "mimetype": "text/x-python",
   "name": "python",
   "nbconvert_exporter": "python",
   "pygments_lexer": "ipython3",
   "version": "3.10.6"
  }
 },
 "nbformat": 4,
 "nbformat_minor": 5
}
