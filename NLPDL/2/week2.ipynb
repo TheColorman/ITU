{
 "cells": [
  {
   "cell_type": "markdown",
   "metadata": {},
   "source": [
    "# Week 2 - NLP and Deep Learning\n",
    "\n",
    "---"
   ]
  },
  {
   "cell_type": "markdown",
   "metadata": {},
   "source": [
    "# Lecture 3: Annotation and POS tagging"
   ]
  },
  {
   "cell_type": "markdown",
   "metadata": {},
   "source": [
    "This assignment consists of 2 parts: first you annotate the data, then you compare your annotations against the annotations of another annotator. The annotation from the other annotator will be made available at 15:00 on 05-02-2024."
   ]
  },
  {
   "cell_type": "markdown",
   "metadata": {},
   "source": [
    "## 1. Annotation \n",
    "\n",
    "Find the file with your ITU username in `assignments/week2/pos-data/`. In this file, you will find 20\n",
    "sentences which are pre-tokenized and in conll format. Behind each word you are supposed to annotate the pos tag, with one tab in between. The final file should look like this:\n",
    "\n",
    "```\n",
    "Seriously\tADV\n",
    ":\tPUNCT\n",
    "do\tAUX\n",
    "not\tPART\n",
    "waste\tVERB\n",
    "your\tPRON\n",
    "time\tNOUN\n",
    ".\tPUNCT\n",
    "\n",
    "```\n",
    "\n",
    "You should use a tab between the word and its tag. Please check with the script posCheck.py\n",
    "whether the file format is correct. Usage: `python3 check-pos.py origFile annotatedFile`\n",
    "For annotation guidelines we refer to the slides and https://universaldependencies.org/u/pos/all.html. Alternatively, it might be helpful to look at example annotations, which are provided in:\n",
    "`assignments/week2/pos-data/ewt.train.txt`\n",
    "\n",
    "### Annotation tool\n",
    "If you prefer to work with an annotation tool instead of text files directly, you can use an annotation tool. You have to make sure to upload the data to LearnIt in the format described above though. I would recommend [Eevee](https://axelsorensen.github.io/EeveeTest/) because it is easy to set up and it works natively with this data format. An Eevee configuration file is available in the repo (`assignments/week2/eevee_pos.json`), and an explanation on how to use it is available from the [repo](https://github.com/AxelSorensenDev/Eevee). In short, you would have to import the configuration file with the ``Import task button``, and then import the POS data with the ``Import \"conll-like\" file`` button, then you can click ``Annotate`` and get started. The tool works completely in your browser, so make sure to download a backup of your data at a regular interval. Also, it has been made in collaboration with Rob, and any feedback is more than welcome. "
   ]
  },
  {
   "cell_type": "markdown",
   "metadata": {},
   "source": [
    "## 2. Annotation Quality\n",
    "If you finished before the annotations of the other annotator are released (15:00) you can double check your annotations, already start implementing the following questions (with a dummy file) or ask a TA for the file. \n",
    "\n",
    "* a) Calculate the accuracy between you and the other annotator, how often did you agree?\n",
    "* b) Now implement Cohen’s Kappa score, and calculate the Kappa for your annotation sample. In which range\n",
    "does your Kappa score fall?\n",
    "* c) Take a closer look at the cases where you disagreed with the other annotator; are these disagreements due\n",
    "to ambiguity, or are there mistakes in the annotation? Would you classify your agreement in the same category as it falls in the standard kappa interpretation?"
   ]
  },
  {
   "cell_type": "code",
   "execution_count": 109,
   "metadata": {},
   "outputs": [],
   "source": [
    "test = []\n",
    "with open(\"pos-data/alct.11.other.conll\") as f:\n",
    "    for line in f.readlines():\n",
    "        test.append(line)"
   ]
  },
  {
   "cell_type": "code",
   "execution_count": 110,
   "metadata": {},
   "outputs": [],
   "source": [
    "out = []\n",
    "with open(\"pos-data/alct.11.conll\") as f:\n",
    "    for line in f.readlines():\n",
    "        out.append(line)"
   ]
  },
  {
   "cell_type": "code",
   "execution_count": 111,
   "metadata": {},
   "outputs": [
    {
     "data": {
      "text/plain": [
       "['I\\tPRON\\n',\n",
       " 'look\\tVERB\\n',\n",
       " 'forward\\tADV\\n',\n",
       " 'to\\tADP\\n',\n",
       " 'your\\tPRON\\n',\n",
       " 'feedback\\tNOUN\\n',\n",
       " 'on\\tADP\\n',\n",
       " 'the\\tDET\\n',\n",
       " 'GISB\\tNOUN\\n',\n",
       " '.\\tPUNCT\\n',\n",
       " '\\n',\n",
       " 'PS\\tNOUN\\n',\n",
       " '-\\tPUNCT\\n',\n",
       " 'Were\\tAUX\\n',\n",
       " 'you\\tPRON\\n',\n",
       " 'having\\tVERB\\n',\n",
       " 'phone\\tNOUN\\n',\n",
       " 'system\\tNOUN\\n',\n",
       " 'problems\\tNOUN\\n',\n",
       " 'this\\tDET\\n',\n",
       " 'morning\\tNOUN\\n',\n",
       " '?\\tPUNCT\\n',\n",
       " '\\n',\n",
       " 'Further\\tADV\\n',\n",
       " 'to\\tADP\\n',\n",
       " 'our\\tPRON\\n',\n",
       " 'conversation\\tNOUN\\n',\n",
       " ',\\tPUNCT\\n',\n",
       " 'please\\tINTJ\\n',\n",
       " 'see\\tVERB\\n',\n",
       " 'attached\\tVERB\\n',\n",
       " 'sample\\tNOUN\\n',\n",
       " 'agreements\\tNOUN\\n',\n",
       " '.\\tPUNCT\\n',\n",
       " '\\n',\n",
       " '-\\tPUNCT\\n',\n",
       " 'ENRON-CPS\\tNOUN\\n',\n",
       " '(\\tX\\n',\n",
       " 'GISB\\tX\\n',\n",
       " 'rev1\\tX\\n',\n",
       " ')\\tX\\n',\n",
       " '.doc\\tX\\n',\n",
       " '\\n',\n",
       " 'I\\tPRON\\n',\n",
       " 'have\\tAUX\\n',\n",
       " 'sent\\tVERB\\n',\n",
       " 'your\\tPRON\\n',\n",
       " 'question\\tNOUN\\n',\n",
       " 're\\tADP\\n',\n",
       " 'on\\tADP\\n',\n",
       " 'line\\tNOUN\\n',\n",
       " 'trading\\tNOUN\\n',\n",
       " 'to\\tADP\\n',\n",
       " 'that\\tDET\\n',\n",
       " 'area\\tNOUN\\n',\n",
       " '.\\tPUNCT\\n',\n",
       " '\\n',\n",
       " 'They\\tPRON\\n',\n",
       " 'will\\tAUX\\n',\n",
       " 'contact\\tVERB\\n',\n",
       " 'you\\tPRON\\n',\n",
       " '.\\tPUNCT\\n',\n",
       " '\\n',\n",
       " 'I\\tPRON\\n',\n",
       " 'am\\tAUX\\n',\n",
       " 'in\\tADP\\n',\n",
       " 'the\\tDET\\n',\n",
       " 'process\\tNOUN\\n',\n",
       " 'of\\tSCONJ\\n',\n",
       " 'reviewing\\tVERB\\n',\n",
       " 'your\\tPRON\\n',\n",
       " 'special\\tADJ\\n',\n",
       " 'provisions\\tNOUN\\n',\n",
       " '.\\tPUNCT\\n',\n",
       " '\\n',\n",
       " 'Please\\tINTJ\\n',\n",
       " 'clarify\\tVERB\\n',\n",
       " '\"\\tPUNCT\\n',\n",
       " 'all\\tNOUN\\n',\n",
       " '\"\\tPUNCT\\n',\n",
       " 'do\\tAUX\\n',\n",
       " 'you\\tPRON\\n',\n",
       " 'intend\\tVERB\\n',\n",
       " '10MM\\tNOUN\\n',\n",
       " 'for\\tADP\\n',\n",
       " 'ENA\\tPROPN\\n',\n",
       " 'as\\tADV\\n',\n",
       " 'well\\tADV\\n',\n",
       " '?\\tPUNCT\\n',\n",
       " '\\n',\n",
       " 'Please\\tINTJ\\n',\n",
       " 'let\\tVERB\\n',\n",
       " 'me\\tPRON\\n',\n",
       " 'know\\tVERB\\n',\n",
       " 'if\\tSCONJ\\n',\n",
       " 'you\\tPRON\\n',\n",
       " 'need\\tVERB\\n',\n",
       " 'anything\\tPRON\\n',\n",
       " 'else\\tADJ\\n',\n",
       " '.\\tPUNCT\\n',\n",
       " '\\n',\n",
       " 'Attached\\tVERB\\n',\n",
       " 'is\\tAUX\\n',\n",
       " 'an\\tDET\\n',\n",
       " 'image\\tNOUN\\n',\n",
       " 'of\\tADP\\n',\n",
       " 'the\\tDET\\n',\n",
       " 'GISB\\tNOUN\\n',\n",
       " '.\\tPUNCT\\n',\n",
       " '\\n',\n",
       " 'As\\tSCONJ\\n',\n",
       " 'you\\tPRON\\n',\n",
       " 'see\\tVERB\\n',\n",
       " 'it\\tPRON\\n',\n",
       " 'was\\tAUX\\n',\n",
       " 'CES\\tNOUN\\n',\n",
       " 'acquired\\tVERB\\n',\n",
       " 'by\\tADP\\n',\n",
       " 'ENA\\tPROPN\\n',\n",
       " 'in\\tADP\\n',\n",
       " 'asset\\tNOUN\\n',\n",
       " 'purchase\\tNOUN\\n',\n",
       " '.\\tPUNCT\\n',\n",
       " '\\n',\n",
       " 'Please\\tINTJ\\n',\n",
       " 'let\\tVERB\\n',\n",
       " 'me\\tPRON\\n',\n",
       " 'know\\tVERB\\n',\n",
       " 'how\\tADV\\n',\n",
       " 'you\\tPRON\\n',\n",
       " 'would\\tAUX\\n',\n",
       " 'like\\tVERB\\n',\n",
       " 'to\\tPART\\n',\n",
       " 'proceed\\tVERB\\n',\n",
       " '.\\tPUNCT\\n',\n",
       " '\\n',\n",
       " 'The\\tDET\\n',\n",
       " 'term\\tNOUN\\n',\n",
       " '\"\\tPUNCT\\n',\n",
       " 'Aggregate\\tADJ\\n',\n",
       " 'Transporter\\tNOUN\\n',\n",
       " 'Imbalance\\tNOUN\\n',\n",
       " '\"\\tPUNCT\\n',\n",
       " 'is\\tAUX\\n',\n",
       " 'located\\tVERB\\n',\n",
       " 'in\\tADP\\n',\n",
       " 'several\\tADJ\\n',\n",
       " 'sections\\tNOUN\\n',\n",
       " '.\\tPUNCT\\n',\n",
       " '\\n',\n",
       " 'Could\\tAUX\\n',\n",
       " 'this\\tPRON\\n',\n",
       " 'be\\tAUX\\n',\n",
       " 'what\\tPRON\\n',\n",
       " 'you\\tPRON\\n',\n",
       " 'r\\tAUX\\n',\n",
       " 'referencing\\tVERB\\n',\n",
       " '?\\tPUNCT\\n',\n",
       " '\\n',\n",
       " 'See\\tVERB\\n',\n",
       " 'attached\\tVERB\\n',\n",
       " 'revised\\tVERB\\n',\n",
       " 'Article\\tNOUN\\n',\n",
       " '4.6\\tNUM\\n',\n",
       " 'Masters\\tNOUN\\n',\n",
       " 'below\\tADV\\n',\n",
       " '.\\tPUNCT\\n',\n",
       " '\\n',\n",
       " 'These\\tPRON\\n',\n",
       " 'look\\tVERB\\n',\n",
       " 'fine\\tADJ\\n',\n",
       " 'to\\tADP\\n',\n",
       " 'me\\tPRON\\n',\n",
       " '.\\tPUNCT\\n',\n",
       " '\\n',\n",
       " 'Go\\tVERB\\n',\n",
       " 'ahead\\tADV\\n',\n",
       " 'and\\tCCONJ\\n',\n",
       " 'forward\\tVERB\\n',\n",
       " 'to\\tADP\\n',\n",
       " 'Brant\\tPROPN\\n',\n",
       " 'if\\tSCONJ\\n',\n",
       " 'you\\tPRON\\n',\n",
       " 'are\\tAUX\\n',\n",
       " 'ready\\tADJ\\n',\n",
       " '.\\tPUNCT\\n',\n",
       " '\\n',\n",
       " 'As\\tSCONJ\\n',\n",
       " 'discussed\\tVERB\\n',\n",
       " ',\\tPUNCT\\n',\n",
       " 'attached\\tVERB\\n',\n",
       " 'is\\tAUX\\n',\n",
       " 'a\\tDET\\n',\n",
       " 'GISB\\tNOUN\\n',\n",
       " 'draft\\tNOUN\\n',\n",
       " 'for\\tADP\\n',\n",
       " 'Pioneer\\tPROPN\\n',\n",
       " '.\\tPUNCT\\n',\n",
       " '\\n',\n",
       " 'Do\\tAUX\\n',\n",
       " 'you\\tPRON\\n',\n",
       " 'have\\tVERB\\n',\n",
       " 'this\\tDET\\n',\n",
       " 'information\\tNOUN\\n',\n",
       " '?\\tPUNCT\\n',\n",
       " '\\n',\n",
       " 'Rudwell\\tPROPN\\n',\n",
       " 'Johnson\\tPROPN\\n',\n",
       " '/\\tPUNCT\\n',\n",
       " 'ENRON@enronXgate\\tX\\n',\n",
       " '\\n']"
      ]
     },
     "execution_count": 111,
     "metadata": {},
     "output_type": "execute_result"
    }
   ],
   "source": [
    "test"
   ]
  },
  {
   "cell_type": "code",
   "execution_count": 112,
   "metadata": {},
   "outputs": [
    {
     "data": {
      "text/plain": [
       "['I\\tPRON\\n',\n",
       " 'look\\tVERB\\n',\n",
       " 'forward\\tADV\\n',\n",
       " 'to\\tADP\\n',\n",
       " 'your\\tPRON\\n',\n",
       " 'feedback\\tNOUN\\n',\n",
       " 'on\\tADP\\n',\n",
       " 'the\\tDET\\n',\n",
       " 'GISB\\tPROPN\\n',\n",
       " '.\\tPUNCT\\n',\n",
       " '\\n',\n",
       " 'PS\\tNOUN\\n',\n",
       " '-\\tPUNCT\\n',\n",
       " 'Were\\tVERB\\n',\n",
       " 'you\\tPRON\\n',\n",
       " 'having\\tVERB\\n',\n",
       " 'phone\\tNOUN\\n',\n",
       " 'system\\tNOUN\\n',\n",
       " 'problems\\tNOUN\\n',\n",
       " 'this\\tDET\\n',\n",
       " 'morning\\tNOUN\\n',\n",
       " '?\\tPUNCT\\n',\n",
       " '\\n',\n",
       " 'Further\\tADV\\n',\n",
       " 'to\\tADP\\n',\n",
       " 'our\\tPRON\\n',\n",
       " 'conversation\\tNOUN\\n',\n",
       " ',\\tPUNCT\\n',\n",
       " 'please\\tINTJ\\n',\n",
       " 'see\\tVERB\\n',\n",
       " 'attached\\tADJ\\n',\n",
       " 'sample\\tNOUN\\n',\n",
       " 'agreements\\tNOUN\\n',\n",
       " '.\\tPUNCT\\n',\n",
       " '\\n',\n",
       " '-\\tPUNCT\\n',\n",
       " 'ENRON-CPS\\tPROPN\\n',\n",
       " '(\\tPUNCT\\n',\n",
       " 'GISB\\tPROPN\\n',\n",
       " 'rev1\\tNOUN\\n',\n",
       " ')\\tPUNCT\\n',\n",
       " '.doc\\tX\\n',\n",
       " '\\n',\n",
       " 'I\\tPRON\\n',\n",
       " 'have\\tAUX\\n',\n",
       " 'sent\\tVERB\\n',\n",
       " 'your\\tPRON\\n',\n",
       " 'question\\tNOUN\\n',\n",
       " 're\\tADP\\n',\n",
       " 'on\\tADP\\n',\n",
       " 'line\\tNOUN\\n',\n",
       " 'trading\\tVERB\\n',\n",
       " 'to\\tADP\\n',\n",
       " 'that\\tDET\\n',\n",
       " 'area\\tNOUN\\n',\n",
       " '.\\tPUNCT\\n',\n",
       " '\\n',\n",
       " 'They\\tPRON\\n',\n",
       " 'will\\tAUX\\n',\n",
       " 'contact\\tVERB\\n',\n",
       " 'you\\tPRON\\n',\n",
       " '.\\tPUNCT\\n',\n",
       " '\\n',\n",
       " 'I\\tPRON\\n',\n",
       " 'am\\tAUX\\n',\n",
       " 'in\\tADP\\n',\n",
       " 'the\\tDET\\n',\n",
       " 'process\\tNOUN\\n',\n",
       " 'of\\tADP\\n',\n",
       " 'reviewing\\tVERB\\n',\n",
       " 'your\\tPRON\\n',\n",
       " 'special\\tADJ\\n',\n",
       " 'provisions\\tNOUN\\n',\n",
       " '.\\tPUNCT\\n',\n",
       " '\\n',\n",
       " 'Please\\tINTJ\\n',\n",
       " 'clarify\\tVERB\\n',\n",
       " '\"\\tPUNCT\\n',\n",
       " 'all\\tDET\\n',\n",
       " '\"\\tPUNCT\\n',\n",
       " 'do\\tAUX\\n',\n",
       " 'you\\tPRON\\n',\n",
       " 'intend\\tVERB\\n',\n",
       " '10MM\\tNOUN\\n',\n",
       " 'for\\tADP\\n',\n",
       " 'ENA\\tPROPN\\n',\n",
       " 'as\\tADV\\n',\n",
       " 'well\\tADV\\n',\n",
       " '?\\tPUNCT\\n',\n",
       " '\\n',\n",
       " 'Please\\tINTJ\\n',\n",
       " 'let\\tVERB\\n',\n",
       " 'me\\tPRON\\n',\n",
       " 'know\\tVERB\\n',\n",
       " 'if\\tSCONJ\\n',\n",
       " 'you\\tPRON\\n',\n",
       " 'need\\tVERB\\n',\n",
       " 'anything\\tPRON\\n',\n",
       " 'else\\tADJ\\n',\n",
       " '.\\tPUNCT\\n',\n",
       " '\\n',\n",
       " 'Attached\\tVERB\\n',\n",
       " 'is\\tAUX\\n',\n",
       " 'an\\tDET\\n',\n",
       " 'image\\tNOUN\\n',\n",
       " 'of\\tADP\\n',\n",
       " 'the\\tDET\\n',\n",
       " 'GISB\\tPROPN\\n',\n",
       " '.\\tPUNCT\\n',\n",
       " '\\n',\n",
       " 'As\\tSCONJ\\n',\n",
       " 'you\\tPRON\\n',\n",
       " 'see\\tVERB\\n',\n",
       " 'it\\tPRON\\n',\n",
       " 'was\\tPROPN\\n',\n",
       " 'CES\\tNOUN\\n',\n",
       " 'acquired\\tVERB\\n',\n",
       " 'by\\tADP\\n',\n",
       " 'ENA\\tPROPN\\n',\n",
       " 'in\\tADP\\n',\n",
       " 'asset\\tNOUN\\n',\n",
       " 'purchase\\tNOUN\\n',\n",
       " '.\\tPUNCT\\n',\n",
       " '\\n',\n",
       " 'Please\\tINTJ\\n',\n",
       " 'let\\tVERB\\n',\n",
       " 'me\\tPRON\\n',\n",
       " 'know\\tVERB\\n',\n",
       " 'how\\tADV\\n',\n",
       " 'you\\tPRON\\n',\n",
       " 'would\\tAUX\\n',\n",
       " 'like\\tVERB\\n',\n",
       " 'to\\tADP\\n',\n",
       " 'proceed\\tVERB\\n',\n",
       " '.\\tPUNCT\\n',\n",
       " '\\n',\n",
       " 'The\\tDET\\n',\n",
       " 'term\\tNOUN\\n',\n",
       " '\"\\tPUNCT\\n',\n",
       " 'Aggregate\\tNOUN\\n',\n",
       " 'Transporter\\tNOUN\\n',\n",
       " 'Imbalance\\tNOUN\\n',\n",
       " '\"\\tPUNCT\\n',\n",
       " 'is\\tAUX\\n',\n",
       " 'located\\tVERB\\n',\n",
       " 'in\\tADP\\n',\n",
       " 'several\\tADJ\\n',\n",
       " 'sections\\tNOUN\\n',\n",
       " '.\\tPUNCT\\n',\n",
       " '\\n',\n",
       " 'Could\\tAUX\\n',\n",
       " 'this\\tPRON\\n',\n",
       " 'be\\tAUX\\n',\n",
       " 'what\\tDET\\n',\n",
       " 'you\\tPRON\\n',\n",
       " 'r\\tVERB\\n',\n",
       " 'referencing\\tVERB\\n',\n",
       " '?\\tPUNCT\\n',\n",
       " '\\n',\n",
       " 'See\\tVERB\\n',\n",
       " 'attached\\tVERB\\n',\n",
       " 'revised\\tADJ\\n',\n",
       " 'Article\\tNOUN\\n',\n",
       " '4.6\\tNUM\\n',\n",
       " 'Masters\\tNOUN\\n',\n",
       " 'below\\tADP\\n',\n",
       " '.\\tPUNCT\\n',\n",
       " '\\n',\n",
       " 'These\\tPRON\\n',\n",
       " 'look\\tVERB\\n',\n",
       " 'fine\\tADJ\\n',\n",
       " 'to\\tADP\\n',\n",
       " 'me\\tPRON\\n',\n",
       " '.\\tPUNCT\\n',\n",
       " '\\n',\n",
       " 'Go\\tVERB\\n',\n",
       " 'ahead\\tADP\\n',\n",
       " 'and\\tCCONJ\\n',\n",
       " 'forward\\tADP\\n',\n",
       " 'to\\tADP\\n',\n",
       " 'Brant\\tPROPN\\n',\n",
       " 'if\\tSCONJ\\n',\n",
       " 'you\\tPRON\\n',\n",
       " 'are\\tVERB\\n',\n",
       " 'ready\\tVERB\\n',\n",
       " '.\\tPUNCT\\n',\n",
       " '\\n',\n",
       " 'As\\tSCONJ\\n',\n",
       " 'discussed\\tVERB\\n',\n",
       " ',\\tPUNCT\\n',\n",
       " 'attached\\tVERB\\n',\n",
       " 'is\\tVERB\\n',\n",
       " 'a\\tDET\\n',\n",
       " 'GISB\\tPROPN\\n',\n",
       " 'draft\\tNOUN\\n',\n",
       " 'for\\tADP\\n',\n",
       " 'Pioneer\\tPROPN\\n',\n",
       " '.\\tPUNCT\\n',\n",
       " '\\n',\n",
       " 'Do\\tAUX\\n',\n",
       " 'you\\tPRON\\n',\n",
       " 'have\\tVERB\\n',\n",
       " 'this\\tPRON\\n',\n",
       " 'information\\tNOUN\\n',\n",
       " '?\\tPUNCT\\n',\n",
       " '\\n',\n",
       " 'Rudwell\\tPROPN\\n',\n",
       " 'Johnson\\tPROPN\\n',\n",
       " '/\\tSYM\\n',\n",
       " 'ENRON@enronXgate\\tX\\n',\n",
       " '\\n']"
      ]
     },
     "execution_count": 112,
     "metadata": {},
     "output_type": "execute_result"
    }
   ],
   "source": [
    "out"
   ]
  },
  {
   "cell_type": "code",
   "execution_count": 113,
   "metadata": {},
   "outputs": [
    {
     "name": "stdout",
     "output_type": "stream",
     "text": [
      "Accuracy: 85.86%\n"
     ]
    }
   ],
   "source": [
    "import numpy as np\n",
    "\n",
    "def get_labels(l):\n",
    "    labels = [i.strip() for i in l]\n",
    "    while \"\" in labels:\n",
    "        labels.remove(\"\")\n",
    "    labels = [i.split(\"\\t\")[1] for i in labels]\n",
    "    return np.array(labels)\n",
    "\n",
    "test_labels = get_labels(test)\n",
    "pred_labels = get_labels(out)\n",
    "\n",
    "TRU = sum(test_labels == pred_labels)\n",
    "TOT = len(test_labels)\n",
    "ACC = TRU / TOT\n",
    "print(f\"Accuracy: {ACC * 100:.2f}%\")"
   ]
  },
  {
   "cell_type": "code",
   "execution_count": 114,
   "metadata": {},
   "outputs": [
    {
     "name": "stdout",
     "output_type": "stream",
     "text": [
      "Kappa score: 0.84\n"
     ]
    }
   ],
   "source": [
    "# i dont understand the kappa calculation yet and i just wanna get this done\n",
    "from sklearn.metrics import cohen_kappa_score\n",
    "\n",
    "k = cohen_kappa_score(test_labels, pred_labels)\n",
    "print(f\"Kappa score: {k:.2f}\") # basically the same as accuracy?"
   ]
  },
  {
   "cell_type": "code",
   "execution_count": 115,
   "metadata": {},
   "outputs": [
    {
     "name": "stdout",
     "output_type": "stream",
     "text": [
      "pred: GISB\tPROPN\n",
      "test: GISB\tNOUN\n",
      "pred: Were\tVERB\n",
      "test: Were\tAUX\n",
      "pred: attached\tADJ\n",
      "test: attached\tVERB\n",
      "pred: ENRON-CPS\tPROPN\n",
      "test: ENRON-CPS\tNOUN\n",
      "pred: (\tPUNCT\n",
      "test: (\tX\n",
      "pred: GISB\tPROPN\n",
      "test: GISB\tX\n",
      "pred: rev1\tNOUN\n",
      "test: rev1\tX\n",
      "pred: )\tPUNCT\n",
      "test: )\tX\n",
      "pred: trading\tVERB\n",
      "test: trading\tNOUN\n",
      "pred: of\tADP\n",
      "test: of\tSCONJ\n",
      "pred: all\tDET\n",
      "test: all\tNOUN\n",
      "pred: GISB\tPROPN\n",
      "test: GISB\tNOUN\n",
      "pred: was\tPROPN\n",
      "test: was\tAUX\n",
      "pred: to\tADP\n",
      "test: to\tPART\n",
      "pred: Aggregate\tNOUN\n",
      "test: Aggregate\tADJ\n",
      "pred: what\tDET\n",
      "test: what\tPRON\n",
      "pred: r\tVERB\n",
      "test: r\tAUX\n",
      "pred: revised\tADJ\n",
      "test: revised\tVERB\n",
      "pred: below\tADP\n",
      "test: below\tADV\n",
      "pred: ahead\tADP\n",
      "test: ahead\tADV\n",
      "pred: forward\tADP\n",
      "test: forward\tVERB\n",
      "pred: are\tVERB\n",
      "test: are\tAUX\n",
      "pred: ready\tVERB\n",
      "test: ready\tADJ\n",
      "pred: is\tVERB\n",
      "test: is\tAUX\n",
      "pred: GISB\tPROPN\n",
      "test: GISB\tNOUN\n",
      "pred: this\tPRON\n",
      "test: this\tDET\n",
      "pred: /\tSYM\n",
      "test: /\tPUNCT\n"
     ]
    }
   ],
   "source": [
    "for predl, testl in zip(out, test):\n",
    "    try:\n",
    "        p = predl.split(\"\\t\")[1]\n",
    "        t = testl.split(\"\\t\")[1]\n",
    "        if p != t:\n",
    "            print(\"pred:\", predl.strip())\n",
    "            print(\"test:\", testl.strip())\n",
    "    except:\n",
    "        pass\n",
    "# Most of the problems are me being wrong, but some things like ) being X instead of PUNCT and / being PUNCT instead of SYM is a difference in interpretation."
   ]
  },
  {
   "cell_type": "markdown",
   "metadata": {},
   "source": [
    "# Lecture 4: Generative and Discriminative Classification"
   ]
  },
  {
   "cell_type": "markdown",
   "metadata": {},
   "source": [
    "## 3. Words as Features\n",
    "In this assignment, we will convert a text to a matrix of features for the purpose of language identification. We will use data from star-wars fandom wikipedia:\n",
    "* English [Wookipedia](https://starwars.fandom.com/wiki/Main_Page)  \n",
    "* Danish [Kraftens Arkiver](https://starwars.fandom.com/da/wiki) \n",
    "* Dutch [Yodapedia](https://starwars.fandom.com/da/wiki)\n",
    "\n",
    "We have already tokenized the data for you. The data can be read like this:"
   ]
  },
  {
   "cell_type": "code",
   "execution_count": 116,
   "metadata": {},
   "outputs": [
    {
     "data": {
      "text/plain": [
       "(['Mess Hall IV was a mess hall on the Rebel Alliance space station Mako-Ta Space Docks .',\n",
       "  'Bibble , een bijzonder geleerd persoon , had een puntbaard en droeg zijn grijzend haar lang in de hals .',\n",
       "  'Een KYD-21 Blaster Pistol was het geliefkoosde wapen van Zam Wesell .',\n",
       "  \"Colonel Drefin appears on Quesh in the video game `` '' , released by BioWare in 2011 .\",\n",
       "  'Bane verliet zijn stad en zwoer om nooit terug te keren .'],\n",
       " ['en', 'nl', 'nl', 'en', 'nl'])"
      ]
     },
     "execution_count": 116,
     "metadata": {},
     "output_type": "execute_result"
    }
   ],
   "source": [
    "def load_langid(path):\n",
    "    text = []\n",
    "    labels = []\n",
    "    for line in open(path, encoding='utf-8'):\n",
    "        tok = line.strip().split('\\t')\n",
    "        labels.append(tok[0])\n",
    "        text.append(tok[1])\n",
    "    return text, labels\n",
    "\n",
    "wooki_train_text, wooki_train_labels = load_langid('langid-data/wookipedia_langid.train.tok.txt')\n",
    "wooki_dev_text, wooki_dev_labels = load_langid('langid-data/wookipedia_langid.dev.tok.txt')\n",
    "wooki_dev_text[:5], wooki_dev_labels[:5]"
   ]
  },
  {
   "cell_type": "markdown",
   "metadata": {},
   "source": [
    "a) Convert the train data to \"binary word features\". This means that every instance (sentence) is represented by a vector of binary values, each of which corresponds to a word. For example (features are on the columns, input on the rows):\n",
    "\n",
    "|             | hello | bye | there | here | ... |\n",
    "|-------------|-------|-----|-------|------|-----|\n",
    "| hello there | 1     | 0   | 1     | 0    |     |\n",
    "| bye bye     | 0     | 1   | 0     | 0    |     |\n",
    "\n",
    "\n",
    "Note that this means that you will end up with a matrix of size `(#data_instances, len(vocab))` where `vocab` contains your vocabulary (i.e. all the words in the train data), and the `#data_instances` is the number of input sentences (feel free to use numpy, torch or native python lists). This matrix will be filled with 0's and 1's, indicating which features are present in which instances.\n",
    "\n",
    "**Hint**: Start with two sentences, as it is much easier to debug (and with 1 sentence, you will have only 1s)\n",
    "\n",
    "b) Convert the dev data to the same features generated from the training data. Note that no new features can be introduced at this point, check whether the size of the matrix is `(#dev_instances, len(vocab))`.\n",
    "\n",
    "c) Write down what are the pros and cons of representing text as `BOW` (bag-of-words)"
   ]
  },
  {
   "cell_type": "code",
   "execution_count": 117,
   "metadata": {},
   "outputs": [
    {
     "name": "stdout",
     "output_type": "stream",
     "text": [
      "[ True]\n",
      "[ True]\n",
      "[ True]\n",
      "[ True]\n",
      "[ True]\n",
      "[ True]\n",
      "[ True]\n",
      "[ True]\n",
      "[ True]\n",
      "[ True]\n",
      "False\n"
     ]
    }
   ],
   "source": [
    "import numpy as np\n",
    "# a\n",
    "# gonna split words on spaces cause im lazy.\n",
    "vocab = np.unique(\" \".join(wooki_train_text).split(\" \"))\n",
    "train_matrix = np.zeros((len(wooki_train_labels), len(vocab)))\n",
    "for i, text in enumerate(wooki_train_text):\n",
    "    words = text.split(\" \")\n",
    "    for word in words:\n",
    "        idx, = np.where(vocab == word)\n",
    "        train_matrix[i, idx] = 1\n",
    "train_matrix = train_matrix.astype(bool)\n",
    "\n",
    "# Make sure it works\n",
    "words = wooki_train_text[0].split(\" \")[:10]\n",
    "for word in words:\n",
    "    idx, np.where(vocab == word)\n",
    "    print(train_matrix[0, idx])\n",
    "print(train_matrix[0, 1])"
   ]
  },
  {
   "cell_type": "code",
   "execution_count": 118,
   "metadata": {},
   "outputs": [
    {
     "name": "stdout",
     "output_type": "stream",
     "text": [
      "[ True]\n",
      "[ True]\n",
      "[ True]\n",
      "[ True]\n",
      "[ True]\n",
      "[ True]\n",
      "[ True]\n",
      "[ True]\n",
      "[ True]\n",
      "[ True]\n",
      "False\n"
     ]
    }
   ],
   "source": [
    "# b\n",
    "# do the exact same thing but for dev data\n",
    "dev_matrix = np.zeros((len(wooki_train_labels), len(vocab)))\n",
    "for i, text in enumerate(wooki_train_text):\n",
    "    words = text.split(\" \")\n",
    "    for word in words:\n",
    "        try: # idx could error if unknown word\n",
    "            idx, = np.where(vocab == word)\n",
    "            dev_matrix[i, idx] = 1\n",
    "        except: pass\n",
    "dev_matrix = dev_matrix.astype(bool)\n",
    "\n",
    "# Make sure it works\n",
    "words = wooki_train_text[0].split(\" \")[:10]\n",
    "for word in words:\n",
    "    idx, np.where(vocab == word)\n",
    "    print(dev_matrix[0, idx])\n",
    "print(dev_matrix[0, 1])"
   ]
  },
  {
   "cell_type": "code",
   "execution_count": 119,
   "metadata": {},
   "outputs": [
    {
     "data": {
      "text/plain": [
       "\"\\nFor language identification? Not that many problems. Maybe the words of\\n2 languages are very close and you need the context of grammar to properly\\ndistinguish them. For other tasks, context is a lot more important, and\\nBOW removes all context.  \\n\\nThen there's also the problem of unseen words, if a word hasn't been seen\\nduring training data, it won't contribute anything when testing.\\n\""
      ]
     },
     "execution_count": 119,
     "metadata": {},
     "output_type": "execute_result"
    }
   ],
   "source": [
    "# c\n",
    "\"\"\"\n",
    "For language identification? Not that many problems. Maybe the words of\n",
    "2 languages are very close and you need the context of grammar to properly\n",
    "distinguish them. For other tasks, context is a lot more important, and\n",
    "BOW removes all context.  \n",
    "\n",
    "Then there's also the problem of unseen words, if a word hasn't been seen\n",
    "during training data, it won't contribute anything when testing.\n",
    "\"\"\""
   ]
  },
  {
   "cell_type": "markdown",
   "metadata": {},
   "source": [
    "## 4. Character n-grams\n",
    "Character n-grams can have some advantages over word-level features, as there can be more overlap and less unknown features. It is common to use a range of n-gram sizes, for example 3-6 is a common choice. Convert the following text to character n-grams, use a range of 1-3 (so unigrams, bigrams and trigrams). You do not have to make use of special start characters:"
   ]
  },
  {
   "cell_type": "code",
   "execution_count": 120,
   "metadata": {},
   "outputs": [],
   "source": [
    "input_data = 'This is a fish'\n",
    "\n",
    "ngrams = []\n",
    "\n",
    "expected_output = ['T', 'h', 'i', 's', ' ', 'i', 's', ' ', 'a', ' ', 'f', 'i', 's', 'h', 'Th', 'hi', 'is', 's ', ' i', 'is', 's ', ' a', 'a ', ' f', 'fi', 'is', 'sh', 'Thi', 'his', 'is ', 's i', ' is', 'is ', 's a', ' a ', 'a f', ' fi', 'fis', 'ish']"
   ]
  },
  {
   "cell_type": "code",
   "execution_count": 121,
   "metadata": {},
   "outputs": [
    {
     "name": "stdout",
     "output_type": "stream",
     "text": [
      "[' ' ' a' ' a ' ' f' ' fi' ' i' ' is' 'T' 'Th' 'Thi' 'a' 'a ' 'a f' 'f'\n",
      " 'fi' 'fis' 'h' 'hi' 'his' 'i' 'is' 'is ' 'ish' 's' 's ' 's a' 's i' 'sh']\n"
     ]
    }
   ],
   "source": [
    "ngrams = []\n",
    "for n in range(1, 4):\n",
    "    for i in range(len(input_data)):\n",
    "        ngrams.append(input_data[i:i+n])\n",
    "\n",
    "ngrams = np.unique(ngrams)\n",
    "print(ngrams)"
   ]
  },
  {
   "cell_type": "markdown",
   "metadata": {},
   "source": [
    "## 5. Naive Bayes Classifier\n",
    "\n",
    "Solve the following exercises from [Chapter 4 of Speech and Language processing](https://web.stanford.edu/~jurafsky/slp3/4.pdf):\n",
    "\n",
    "a) Exercise 4.1 from J&M: (copied here for your convenience):\n",
    "\n",
    "Assume the following likelihoods for each word being part of a positive or\n",
    "negative movie review, and equal prior probabilities for each class.\n",
    "\n",
    "| feature         | pos | neg     |\n",
    "| :---        |    :----:   |          ---: |\n",
    "| I      |  0.09      |  0.16  |\n",
    "| always   | 0.07        | 0.06      |\n",
    "| like      | 0.29       | 0.06   |\n",
    "| foreign      | 0.04       | 0.15   |\n",
    "| films      |  0.08      | 0.11   |\n",
    "\n",
    "- What class will Naive Bayes assign to the sentence `“I always like foreign films.”`?\n",
    "\n",
    "b) Exercise 4.2 from J&M (copied here for your convenience):\n",
    "\n",
    "Given the following short movie reviews, each labeled with a genre, either comedy or action:\n",
    "\n",
    "1. fun, couple, love, love **comedy**\n",
    "\n",
    "2. fast, furious, shoot **action**\n",
    "\n",
    "3. couple, fly, fast, fun, fun **comedy**\n",
    "\n",
    "4. furious, shoot, shoot, fun **action**\n",
    "\n",
    "5. fly, fast, shoot, love **action**\n",
    "\n",
    "and a new document D:\n",
    "\n",
    "```\n",
    "fast, couple, shoot, fly\n",
    "```\n",
    "\n",
    "- Compute the most likely class for D. Assume a Naive Bayes classifier and use *add-1 smoothing* for the likelihoods."
   ]
  },
  {
   "cell_type": "code",
   "execution_count": 122,
   "metadata": {},
   "outputs": [
    {
     "name": "stdout",
     "output_type": "stream",
     "text": [
      "5.8464e-06 9.503999999999999e-06\n",
      "Negative\n"
     ]
    }
   ],
   "source": [
    "pos = {\n",
    "    'I': 0.09,\n",
    "    'always': 0.07,\n",
    "    'like': 0.29,\n",
    "    'foreign': 0.04,\n",
    "    'films': 0.08\n",
    "}\n",
    "neg = {\n",
    "    'I': 0.16,\n",
    "    'always': 0.06,\n",
    "    'like': 0.06,\n",
    "    'foreign': 0.15,\n",
    "    'films': 0.11\n",
    "}\n",
    "\n",
    "def pr(text: str):\n",
    "    words = text.split(\" \")\n",
    "    p = np.prod([pos[word] for word in words])\n",
    "    n = np.prod([neg[word] for word in words])\n",
    "    return(p, n)\n",
    "\n",
    "def pred(text: str):\n",
    "    p, n = pr(text)\n",
    "    print(p, n)\n",
    "    if p > n:\n",
    "        return \"Positive\"\n",
    "    else:\n",
    "        return \"Negative\"\n",
    "\n",
    "print(pred(\"I always like foreign films\")) # a"
   ]
  },
  {
   "cell_type": "code",
   "execution_count": 123,
   "metadata": {},
   "outputs": [
    {
     "data": {
      "text/plain": [
       "'action'"
      ]
     },
     "execution_count": 123,
     "metadata": {},
     "output_type": "execute_result"
    }
   ],
   "source": [
    "data = {\n",
    "    'comedy': [\"fun couple love love\", \"couple fly fast fun fun\"],\n",
    "    'action': [\"fast furious shoot\", \"furious shoot shoot fun\", \"fly fast shoot love\"]\n",
    "}\n",
    "\n",
    "def pr(word, cat):\n",
    "    d = \" \".join(data[cat]).split(\" \")\n",
    "                              # smoothing\n",
    "    wordcount = d.count(word) + 1\n",
    "    catcount  = len(d)        + len(np.unique(d))\n",
    "    return wordcount / catcount\n",
    "\n",
    "def pred(text):\n",
    "    cats = ['comedy', 'action']\n",
    "    words = text.split(\" \")\n",
    "    probs = []\n",
    "    for cat in cats:\n",
    "        probs.append(np.prod([pr(word, cat) for word in words]))\n",
    "    idx = np.argmax(probs)\n",
    "    return cats[idx]\n",
    "\n",
    "pred(\"fast couple shoot fly\")\n",
    "# Action"
   ]
  },
  {
   "cell_type": "markdown",
   "metadata": {},
   "source": [
    "## 6. Naive Bayes with BOW in sklearn \n",
    "\n",
    "In this assignment, we will focus on the task of language identification. You can use the data from assignment 3:"
   ]
  },
  {
   "cell_type": "code",
   "execution_count": 124,
   "metadata": {},
   "outputs": [],
   "source": [
    "def load_langid(path):\n",
    "    text = []\n",
    "    labels = []\n",
    "    for line in open(path, encoding='utf-8'):\n",
    "        tok = line.strip().split('\\t')\n",
    "        labels.append(tok[0])\n",
    "        text.append(tok[1])\n",
    "    return text, labels\n",
    "\n",
    "wooki_train_text, wooki_train_labels = load_langid('langid-data/wookipedia_langid.train.tok.txt')\n",
    "wooki_dev_text, wooki_dev_labels = load_langid('langid-data/wookipedia_langid.dev.tok.txt')"
   ]
  },
  {
   "cell_type": "markdown",
   "metadata": {},
   "source": [
    "a) Train a Naive Bayes classifier with character 3-6 grams, you can make use of the scikit-learn implementations for the n-grams ([CountVectorizer](https://scikit-learn.org/stable/modules/generated/sklearn.feature_extraction.text.CountVectorizer.html), you can use the range and analyser parameters) as well as Naive Bayes ([MultinomialNB](https://scikit-learn.org/stable/modules/generated/sklearn.naive_bayes.MultinomialNB.html#sklearn.naive_bayes.MultinomialNB)), note that there are multiple variations of Naive Bayes implementations in sklearn, the one discussed in the book/slides is the multinomial variant. \n",
    "\n",
    "**Note**: the input is a list of lists of features `x` and a list of corresponding gold labels `y`. Therefore, the following should hold `len(x) == len(y)` and their indices should match.\n",
    "Additionally, every instance in `x` should have the same length (the number of features).\n",
    "\n",
    "b) Run the classifier on the dev data. It is crucial that you ensure that the feature values have exactly the same order as during training. How well does it perform? (what is the accuracy?)\n",
    "\n",
    "**Note**: you cannot introduce new features here (!): you have to use the exact same features as the ones used during training.\n",
    "\n",
    "**Hint**: If the accuracy is lower than 50%, you are probably mixing up the feature order, either during training or during development or both."
   ]
  },
  {
   "cell_type": "code",
   "execution_count": 125,
   "metadata": {},
   "outputs": [
    {
     "name": "stdout",
     "output_type": "stream",
     "text": [
      "Train accuracy: 96.51\n",
      "Test accuracy: 95.17\n"
     ]
    }
   ],
   "source": [
    "from sklearn.feature_extraction.text import CountVectorizer\n",
    "from sklearn.naive_bayes import MultinomialNB\n",
    "from sklearn.metrics import accuracy_score\n",
    "\n",
    "vectorizer = CountVectorizer(analyzer='char', ngram_range=(3, 6))\n",
    "X_train = vectorizer.fit_transform(wooki_train_text)\n",
    "X_test = vectorizer.transform(wooki_dev_text)\n",
    "y_train = wooki_train_labels\n",
    "y_test = wooki_dev_labels\n",
    "\n",
    "nb = MultinomialNB()\n",
    "nb.fit(X_train, y_train)\n",
    "\n",
    "train_preds = nb.predict(X_train)\n",
    "train_acc = accuracy_score(y_train, train_preds)\n",
    "\n",
    "test_preds = nb.predict(X_test)\n",
    "test_acc = accuracy_score(y_test, test_preds)\n",
    "\n",
    "print(f\"Train accuracy: {train_acc*100:.2f}\")\n",
    "print(f\"Test accuracy: {test_acc*100:.2f}\")\n",
    "# not bad"
   ]
  },
  {
   "cell_type": "markdown",
   "metadata": {},
   "source": [
    "\n",
    "\n",
    "## 7. Discriminative Classifier with BOW\n",
    "\n",
    "a) Train a `logistic regression` classifier in a similar fashion. For more information, see: [LogisticRegression](https://scikit-learn.org/stable/modules/generated/sklearn.linear_model.LogisticRegression.html). Does it outperform the naive bayes classifier?\n",
    "\n",
    "b) Now evaluate both classifiers (`logistic regression` and `naive bayes`) on the out-of-domain Bulbapedia data:\n",
    "\n"
   ]
  },
  {
   "cell_type": "code",
   "execution_count": 126,
   "metadata": {},
   "outputs": [],
   "source": [
    "bulba_dev_text, bulba_dev_labels = load_langid('langid-data/bulbapedia_langid.dev.tok.txt')"
   ]
  },
  {
   "cell_type": "markdown",
   "metadata": {},
   "source": [
    "- Are the trends similar to the Wookipedia data? Is there a performance drop compared to the Wookipedia data?"
   ]
  },
  {
   "cell_type": "code",
   "execution_count": 127,
   "metadata": {},
   "outputs": [
    {
     "name": "stdout",
     "output_type": "stream",
     "text": [
      "Train accuracy: 99.90\n",
      "Test accuracy: 94.47\n"
     ]
    }
   ],
   "source": [
    "from sklearn.linear_model import LogisticRegression\n",
    "\n",
    "lr = LogisticRegression()\n",
    "lr.fit(X_train, y_train)\n",
    "\n",
    "train_preds = lr.predict(X_train)\n",
    "train_acc = accuracy_score(y_train, train_preds)\n",
    "\n",
    "test_preds = lr.predict(X_test)\n",
    "test_acc = accuracy_score(y_test, test_preds)\n",
    "\n",
    "print(f\"Train accuracy: {train_acc*100:.2f}\")\n",
    "print(f\"Test accuracy: {test_acc*100:.2f}\")\n",
    "# interesting, logistic regressino overfit more"
   ]
  },
  {
   "cell_type": "code",
   "execution_count": 128,
   "metadata": {},
   "outputs": [
    {
     "name": "stdout",
     "output_type": "stream",
     "text": [
      "Naive Bayes accuracy: 94.47\n",
      "Logistic Regression accuracy: 94.47\n"
     ]
    }
   ],
   "source": [
    "X_new = vectorizer.transform(bulba_dev_text)\n",
    "y_new = bulba_dev_labels\n",
    "\n",
    "for c, clf in zip([\"Naive Bayes\", \"Logistic Regression\"], [nb, lr]):\n",
    "    new_preds = clf.predict(X_new)\n",
    "    new_acc = accuracy_score(y_new, new_preds)\n",
    "\n",
    "    print(f\"{c} accuracy: {test_acc*100:.2f}\")\n",
    "# wow, same exact score."
   ]
  },
  {
   "cell_type": "markdown",
   "metadata": {},
   "source": [
    "## 8. Analysis\n",
    "There are two obvious ways to inspect the classifiers in more detail: by inspecting a confusion matrix and by\n",
    "examining the feature weights. Pick at least one of the following options:\n",
    "\n",
    "### Confusion matrix\n",
    "a) Plot a confusion matrix for the logistic regression BOW model trained in `7a)` when used on Bulbapedia data, and inspect the errors (it is not important how you visualize the results: a table, a figure, or even an ASCII table will suffice). \n",
    "Are there any interesting trends?\n",
    "\n",
    "### Feature weights\n",
    "In scikit-learn, you can inspect the internal weights given to each feature in the `.coef_` variable. \n",
    "\n",
    "a) Inspect the most important features for both the naive bayes and logistic regression classifiers. Are there any interesting differences?\n",
    "\n",
    "**Hint**: The weights are given per class, so you can either inspect three lists, or compute the average importance\n",
    "(make sure to use the absolute feature values for the average)."
   ]
  },
  {
   "cell_type": "code",
   "execution_count": 133,
   "metadata": {},
   "outputs": [
    {
     "data": {
      "image/png": "[encoded data removed]",
      "text/plain": [
       "<Figure size 640x480 with 2 Axes>"
      ]
     },
     "metadata": {},
     "output_type": "display_data"
    }
   ],
   "source": [
    "# Confusion Matrix\n",
    "from sklearn.metrics import ConfusionMatrixDisplay, confusion_matrix\n",
    "import matplotlib.pyplot as plt\n",
    "\n",
    "new_preds = lr.predict(X_new)\n",
    "\n",
    "cm = confusion_matrix(y_new, new_preds, labels=lr.classes_)\n",
    "disp = ConfusionMatrixDisplay(confusion_matrix=cm, display_labels=lr.classes_)\n",
    "disp.plot()\n",
    "plt.show()\n",
    "# It really likes to label dutch as danish. Makes sense."
   ]
  }
 ],
 "metadata": {
  "hide_input": false,
  "kernelspec": {
   "display_name": "Python 3 (ipykernel)",
   "language": "python",
   "name": "python3"
  },
  "language_info": {
   "codemirror_mode": {
    "name": "ipython",
    "version": 3
   },
   "file_extension": ".py",
   "mimetype": "text/x-python",
   "name": "python",
   "nbconvert_exporter": "python",
   "pygments_lexer": "ipython3",
   "version": "3.11.7"
  }
 },
 "nbformat": 4,
 "nbformat_minor": 4
}
