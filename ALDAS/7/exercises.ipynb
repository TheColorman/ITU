{
 "cells": [
  {
   "attachments": {},
   "cell_type": "markdown",
   "metadata": {},
   "source": [
    "# ADS 2023 spring Week 6 Exercises\n",
    "Exercises for Algorithms and Data Structures at ITU. The exercises are from Algorithms, 4th Edition by Robert Sedgewick and Kevin Wayne unless otherwise specified. Color-coding of difficulty level and alterations to the exercises (if any) are made by the teachers of the ADS course at ITU."
   ]
  },
  {
   "attachments": {},
   "cell_type": "markdown",
   "metadata": {},
   "source": [
    "**<span style=\"background: LimeGreen\">4.1.1 - Green</span>**  What is the maximum number of edges in an undirected graph with $V$ vertices and no parallel edges? What is the minimum number of edges in an undirected graph with $V$ vertices, none of which are isolated?"
   ]
  },
  {
   "attachments": {},
   "cell_type": "markdown",
   "metadata": {},
   "source": [
    "**<span style=\"background: LimeGreen\">4.2.1 - Green</span>**  What is the maximum number of edges in a digraph with $V$ vertices and no parallel edges? What is the minimum number of edges in a digraph with $V$ vertices, none of which are isolated?"
   ]
  },
  {
   "attachments": {},
   "cell_type": "markdown",
   "metadata": {},
   "source": [
    "**<span style=\"background: LimeGreen\">4.1.28 - Green</span>**  Two graphs are isomorphic if there is a way to rename the vertices of one to make it identical to the other. Draw all the nonisomorphic graphs with two, three and four vertices."
   ]
  },
  {
   "attachments": {},
   "cell_type": "markdown",
   "metadata": {},
   "source": [
    "**<span style=\"background: LimeGreen\">4.2.8 - Green</span>**  Draw all the nonisomorphic DAGs with two, three and four vertices."
   ]
  },
  {
   "attachments": {},
   "cell_type": "markdown",
   "metadata": {},
   "source": [
    "**<span style=\"background: Yellow\">4.1.12 - Yellow</span>**  What does the BFS tree tell us about the distance from $v$ to $w$ in an undirected graph when neither is at the root? "
   ]
  },
  {
   "attachments": {},
   "cell_type": "markdown",
   "metadata": {},
   "source": [
    "**<span style=\"background: Yellow\">4.1.14 - Yellow</span>**  Suppose you use a stack instead of a queue when running breadth-first search. Does it still compute shortest paths?"
   ]
  },
  {
   "attachments": {},
   "cell_type": "markdown",
   "metadata": {},
   "source": [
    "**<span style=\"background: Yellow\">4.1.16 - Yellow</span>**  Describe how to find:  \n",
    "a) The eccentricity of a vertex (the length of the shortest path from that vertex to the furthest\n",
    "vertex from it)  \n",
    "b) The diameter of a graph (the maximum eccentricity of any vertex in the graph)  \n",
    "c) The radius of a graph (the smallest eccentricity of any vertex in the graph)  \n",
    "d) A center of a graph (a vertex whose eccentricity is the radius of the graph)  "
   ]
  },
  {
   "attachments": {},
   "cell_type": "markdown",
   "metadata": {},
   "source": [
    "**<span style=\"background: Yellow\">4.1.16 - Yellow</span>**  Show a trace of the `Bipartite` traversal (p. 547) of the graph described by `tinyGex2.txt` (p. 558). (If you insist, you can do it as detailed as in the figures in the book, but that takes a lot of time.)  \n",
    "Then, describe an alternative implementation that uses BFS instead of DFS. Show a trace of that traversal as well. Are the resulting colourings the same? Are the running times the same? Are there other differences?"
   ]
  },
  {
   "attachments": {},
   "cell_type": "markdown",
   "metadata": {},
   "source": [
    "**<span style=\"background: Red\">4.1.32 - Red</span>**  Describe a linear-time algorithm to count the parallel edges in a graph."
   ]
  },
  {
   "attachments": {},
   "cell_type": "markdown",
   "metadata": {},
   "source": [
    "**<span style=\"background: Red\">4.1.32 - Red</span>**  A bridge in a graph is an edge that, if removed, would separate a connected graph into two disjoint subgraphs. A graph that has no bridges is said to be edge connected. Design and describe two algorithms for determining whether a given graph is edge connected, one using a DFS-based data type and one using a BFS-based data type. Both should run in $O(E\\cdot(V+E))$."
   ]
  }
 ],
 "metadata": {
  "kernelspec": {
   "display_name": "ALDAS",
   "language": "python",
   "name": "python3"
  },
  "language_info": {
   "codemirror_mode": {
    "name": "ipython",
    "version": 3
   },
   "file_extension": ".py",
   "mimetype": "text/x-python",
   "name": "python",
   "nbconvert_exporter": "python",
   "pygments_lexer": "ipython3",
   "version": "3.7.12"
  },
  "orig_nbformat": 4,
  "vscode": {
   "interpreter": {
    "hash": "d7cd0d8e7f0fcc05bc3f15f767c06c6639152606485d5ea553a073ce540f3d5d"
   }
  }
 },
 "nbformat": 4,
 "nbformat_minor": 2
}
