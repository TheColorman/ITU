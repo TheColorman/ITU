{
 "cells": [
  {
   "attachments": {},
   "cell_type": "markdown",
   "metadata": {},
   "source": [
    "# ADS 2023 spring Week 10 Exercises\n",
    "Exercises for Algorithms and Data Structures at ITU. The exercises are from *Algorithms, 4th Edition* by Robert Sedgewick and Kevin Wayne unless otherwise specified. Color-coding of difficulty level and alterations to the exercises (if any) are made by the teachers of the ADS course at ITU."
   ]
  },
  {
   "attachments": {},
   "cell_type": "markdown",
   "metadata": {},
   "source": [
    "**<span style=\"background: LimeGreen\">2.3.2 - Green</span>**  Show, in the style of the quicksort trace given in SW 2.3, how quicksort sorts the array E A S Y Q U E S T I O N (for the purposes of this exercise, ignore the initial shuffle)."
   ]
  },
  {
   "attachments": {},
   "cell_type": "markdown",
   "metadata": {},
   "source": [
    "*Solution*:  \n",
    "| `lo` | `j` | `hi` | 0 | 1 | 2 | 3 | 4 | 5 | 6 | 7 | 8 | 9 | 10 | 11 |\n",
    "| ---- | --- | ---- | - | - | - | - | - | - | - | - | - | - | -- | -- |\n",
    "|      |     |      | E | A | S | Y | Q | U | E | S | T | I | O  | N  |\n",
    "| 0    | 2   | 11   | A | E | E | S | Y | Q | U | S | T | I | O  | N  |\n",
    "| 0    | 0   | 1    | A | E | E | S | Y | Q | U | S | T | I | O  | N  |\n",
    "| 1    |     | 1    | A | E | E | S | Y | Q | U | S | T | I | O  | N  |\n",
    "| 3    | 8   | 11   | A | E | E | Q | S | I | O | N | S | Y | U  | T  |\n",
    "| 3    | 6   | 7    | A | E | E | I | O | N | Q | S | S | Y | U  | T  |\n",
    "| 3    | 3   | 5    | A | E | E | I | O | N | Q | S | S | Y | U  | T  |\n",
    "| 4    | 5   | 5    | A | E | E | I | N | O | Q | S | S | Y | U  | T  |\n",
    "| 4    |     | 4    | A | E | E | I | N | O | Q | S | S | Y | U  | T  |\n",
    "| 5    |     | 5    | A | E | E | I | N | O | Q | S | S | Y | U  | T  |\n",
    "| 7    |     | 7    | A | E | E | I | N | O | Q | S | S | Y | U  | T  |\n",
    "| 9    | 11  | 11   | A | E | E | I | N | O | Q | S | S | U | T  | Y  |\n",
    "| 9    | 10  | 10   | A | E | E | I | N | O | Q | S | S | T | U  | Y  |\n",
    "| 9    |     | 9    | A | E | E | I | N | O | Q | S | S | T | U  | Y  |\n"
   ]
  },
  {
   "attachments": {},
   "cell_type": "markdown",
   "metadata": {},
   "source": [
    "**<span style=\"background: LimeGreen\">2.3.3 - Green</span>**  What is the maximum number of times during the execution of Quick.sort() that the largest item can be exchanged, for an array of length $N$?"
   ]
  },
  {
   "attachments": {},
   "cell_type": "markdown",
   "metadata": {},
   "source": [
    "*Solution*:  \n",
    "Unsure"
   ]
  },
  {
   "attachments": {},
   "cell_type": "markdown",
   "metadata": {},
   "source": [
    "**<span style=\"background: LimeGreen\">2.3.8 - Green</span>**  About how many compares will Quick.sort() make when sorting an array of N items that are all equal?"
   ]
  },
  {
   "attachments": {},
   "cell_type": "markdown",
   "metadata": {},
   "source": [
    "*Solution*:  \n",
    "Imagine the following array: [ A, A, A, A, A, A, A ].  \n",
    "The first element will be chosen as the pivot (marked in <span style=\"color: red;\">red</span>): [ <span style=\"color: red;\">A</span>, A, A, A, A, A, A ]  \n",
    "The `lo` pointer here is <span style=\"color: blue;\">blue</span>, and the `hi` is <span style=\"color: orange;\">orange</span>: \n",
    "[ <span style=\"color: red;\">A</span>, <span style=\"color: blue\">A</span>, A, A, A, A, <span style=\"color: orange;\">A</span>].  \n",
    "Both <span style=\"color: blue\">lo</span> and <span style=\"color: orange;\">hi</span> will now compare themselves to the <span style=\"color: red;\">pivot</span>. That is two compares. Then they will swap elements, as quicksort also swaps when an element is equal to the pivot. After swapping, <span style=\"color: blue\">lo</span> moves to the right, and <span style=\"color: orange;\">hi</span> moves to the left. [ <span style=\"color: red;\">A</span>, A, <span style=\"color: blue\">A</span>, A, A, <span style=\"color: orange;\">A</span>, A].  \n",
    "This pattern continues, and all elements other than the  <span style=\"color: red;\">pivot</span> get compared to the  <span style=\"color: red;\">pivot</span>. That is, there are $N-1$ compares.  \n",
    "Now the  <span style=\"color: red;\">pivot</span> switches place with <span style=\"color: orange;\">hi</span>, now to the left of <span style=\"color: blue\">lo</span> \n",
    "[ A, A, A, <span style=\"color: red;\">A</span>, A, A, A ].  \n",
    "Now the same process happens, but for the elements left of the <span style=\"color: red;\">pivot</span>. A new element gets chosen as the pivot, and all the others are compared to it.  \n",
    "With an array with all equal elements, the two sub-arrays will have length $N/2-1$ (unless the original is uneven, but it is a neglible difference). That means, on the second step, we do $N/2-2$ compares, *twice* (once for each subarray). This continues, with $(N/2-1)/2-1$ comparisons in further subarrays. This continues until the final compare, where the subarray has two elements, one of them being the pivot. At this point, it is important to notice that an element that has been a pivot never gets compared again. At the point of the final compare, half of the elements in the array have been pivots, so there are $N/2$ compares left to do.  \n",
    "I think that sums to $N^2/2$."
   ]
  },
  {
   "attachments": {},
   "cell_type": "markdown",
   "metadata": {},
   "source": [
    "**<span style=\"background: LimeGreen\">5.1.2 - Green</span>**  Give a trace for LSD string sort for the following keys:  \n",
    "no is th ti fo al go pe to co to th ai of th pa\n"
   ]
  },
  {
   "attachments": {},
   "cell_type": "markdown",
   "metadata": {},
   "source": [
    "*Solution*:  \n",
    "| Initial | Sort last column | Sort first column |  \n",
    "| ------- | ---------------- | ----------------- |  \n",
    "| no      | pa               | ai                |  \n",
    "| is      | pe               | al                |  \n",
    "| th      | of               | co                |  \n",
    "| ti      | th               | fo                |  \n",
    "| fo      | th               | go                |  \n",
    "| al      | th               | no                |  \n",
    "| go      | ti               | of                |  \n",
    "| pe      | ai               | pa                |  \n",
    "| to      | al               | pe                |  \n",
    "| co      | no               | si                |  \n",
    "| to      | fo               | th                |  \n",
    "| th      | go               | th                |  \n",
    "| ai      | to               | th                |  \n",
    "| of      | co               | ti                |  \n",
    "| th      | to               | to                |  \n",
    "| pa      | si               | to                |  "
   ]
  },
  {
   "attachments": {},
   "cell_type": "markdown",
   "metadata": {},
   "source": [
    "**<span style=\"background: LimeGreen\">5.1.3 - Green</span>**  Give a trace for MSD string sort for the following keys:  \n",
    "no is th ti fo al go pe to co to th ai of th pa"
   ]
  },
  {
   "attachments": {},
   "cell_type": "markdown",
   "metadata": {},
   "source": [
    "*Solution*:  \n",
    "| Initial | First letter | A  | P  | T  |\n",
    "| ------- | ------------ | -- | -- | -- |\n",
    "| no      | al           | ai | ai | ai |\n",
    "| is      | ai           | al | al | al |\n",
    "| th      | co           | co | co | co |\n",
    "| ti      | fo           | fo | fo | fo |\n",
    "| fo      | go           | go | go | go |\n",
    "| al      | is           | is | is | is |\n",
    "| go      | no           | no | no | no |\n",
    "| pe      | of           | of | of | of |\n",
    "| to      | pe           | pe | pa | pa |\n",
    "| co      | pa           | pa | pe | pe |\n",
    "| to      | th           | th | th | th |\n",
    "| th      | ti           | ti | ti | to |\n",
    "| ai      | to           | to | to | th |\n",
    "| of      | to           | to | to | th |\n",
    "| th      | th           | th | th | ti |\n",
    "| pa      | th           | th | th | to |"
   ]
  },
  {
   "attachments": {},
   "cell_type": "markdown",
   "metadata": {},
   "source": [
    "**<span style=\"background: LimeGreen\">2.3.5 - Green</span>**  Describe how you would sort an array that is known to consist of items having just two distinct keys in linear time.\n"
   ]
  },
  {
   "attachments": {},
   "cell_type": "markdown",
   "metadata": {},
   "source": [
    "*Solution*:  \n",
    "1. Initialize three pointers - low, mid and high.\n",
    "2. Set low and mid pointers to the beginning of the array and the high pointer to the end of the array.\n",
    "3. Traverse the array from left to right using the mid pointer. If the value at the mid pointer is the first key, swap the values at the mid and low pointers and increment both low and mid pointers. If the value at the mid pointer is the second key, swap the values at the mid and high pointers and decrement the high pointer. If the value at the mid pointer is equal to neither of the keys, simply increment the mid pointer.\n",
    "4. Repeat step 3 until the mid pointer crosses the high pointer."
   ]
  },
  {
   "attachments": {},
   "cell_type": "markdown",
   "metadata": {},
   "source": [
    "**<span style=\"background: Yellow\">2.3.4 - Yellow</span>** Suppose that the initial random shuffle is omitted. Give six differently ordered arrays of ten elements for which Quick.sort() uses the worst-case number of compares."
   ]
  },
  {
   "attachments": {},
   "cell_type": "markdown",
   "metadata": {},
   "source": [
    "*Solution*:  \n",
    "The worst case happens every time the first element is the smallest element:  \n",
    "[A, B, C, D, E, F, G, H, I, J]  \n",
    "[A, J, B, I, C, H, D, G, E, F]  \n",
    "... you get the idea"
   ]
  },
  {
   "attachments": {},
   "cell_type": "markdown",
   "metadata": {},
   "source": [
    "**<span style=\"background: Yellow\">2.3.13 - Yellow</span>**  What is the recursive depth of quicksort, in the best, worst, and average cases?  "
   ]
  },
  {
   "attachments": {},
   "cell_type": "markdown",
   "metadata": {},
   "source": [
    "*Solution*:  \n",
    "In best case, the two subarrays are half length every time, which means the recursive depth is $\\log_2N$.\n",
    "Since the average length of the subarrays is random, it has equal probability to be greater than half, or less than half, which means on average it should also be $\\log_2N$ (right?)  \n",
    "Worst case the first element is the lowest one every time, which means it keeps recursing with an array 1 length shorter than last, until it reaches length one. That is, $N-1$ recursions.  "
   ]
  },
  {
   "attachments": {},
   "cell_type": "markdown",
   "metadata": {},
   "source": [
    "**<span style=\"background: Yellow\">2.3.17 - Yellow</span>**  Develop a version of key-indexed counting that uses only a constant amount of extra space. Prove (or argue) that your version is stable or provide a counterexample.  "
   ]
  },
  {
   "attachments": {},
   "cell_type": "markdown",
   "metadata": {},
   "source": [
    "*Solution*:  \n",
    "A very inefficient version, but one that only uses extra space proportional to the dictionary size $R$, is:\n",
    "Once we have the cumulative count of all the characters, instead of creating an auxillary array to place them into, simply create two pointers: `current` and `search`.  \n",
    "`current` starts at the original array, index 0. `search` starts at `current`. Then look at the counting array, index 0.  \n",
    "`search` will now search through the array of characters until it finds one that matches the current counting array index. Once it does find it:  \n",
    "1. Exchanges it with `current`.\n",
    "2. `current` increases by one.\n",
    "3. The count of that characters increases by one.\n",
    "4. `search` resets back to `current`.\n",
    "5. If the current `count` is equal to the next index, go to the next index.  \n",
    "  \n",
    "This sort is stable, because the `search` linaerly searches for the next item to insert at the top."
   ]
  },
  {
   "attachments": {},
   "cell_type": "markdown",
   "metadata": {},
   "source": [
    "**<span style=\"background: Yellow\">Old exam set 120531: 3(d-j) - Yellow</span>**  \n",
    "**Operation of common algorithms and data structures.**  \n",
    "In the following 7 questions, consider the sequence of integers,  \n",
    "`6425  5467  4857  5479  4794  2386  5678  9974`  \n",
    "as input to a sorting algorithm. Each question describes an intermediate stage of one and only one sorting algorithm: quicksort, (top-down) merge sort, insertion sort, selection sort, LSD string sort, MSD string sort, and heap sort. (Every algorithm corresponds to exactly one sequence.) Which is which?  \n",
    "(d) `5678  5467  4857  5479  4794  2386  6425  9974`  \n",
    "(e) `9974  6425  5678  5479  4794  2386  4857  5467`  \n",
    "(f) `4857  5467  5479  6425  2386  4794  5678  9974`  \n",
    "(g) `2386  4794  4857  5479  5467  6425  5678  9974`  \n",
    "(h) `4794  9974  6425  2386  5467  4857  5678  5479`  \n",
    "(i) `4857  5467  6425  5479  4794  2386  5678  9974`  \n",
    "(j) `2386  4857  4794  5467  5479  5678  6425  9974`  \n",
    "Answers:  \n",
    "A: quick  \n",
    "B: merge  \n",
    "C: insert  \n",
    "D: select  \n",
    "E: LSD  \n",
    "F: MSD  \n",
    "G: heap  "
   ]
  },
  {
   "attachments": {},
   "cell_type": "markdown",
   "metadata": {},
   "source": [
    "*Solution*:  \n",
    "(d): quick  \n",
    "(e): heap  \n",
    "(f): merge  \n",
    "(g): select  \n",
    "(h): LSD  \n",
    "(i): insert  \n",
    "(j): MSD  "
   ]
  },
  {
   "attachments": {},
   "cell_type": "markdown",
   "metadata": {},
   "source": [
    "**<span style=\"background: Red\">2.3.17 - Red</span>**  Sentinels. Modify the code in Algorithm 2.5 to remove both bounds checks in the inner while loops. The test against the left end of the subarray is redundant since the partitioning item acts as a sentinel (v is never less than a[lo]). To enable removal of the other test, put an item whose key is the largest in the whole array into a[length-1] just after the shuffle. This item will never move (except possibly to be swapped with an item having the same key) and will serve as a sentinel in all subarrays involving the end of the array. Note: When sorting interior subarrays, the leftmost entry in the subarray to the right serves as a sentinel for the right end of the subarray.  "
   ]
  },
  {
   "attachments": {},
   "cell_type": "markdown",
   "metadata": {},
   "source": [
    "*Solution*:  \n",
    "Later"
   ]
  },
  {
   "attachments": {},
   "cell_type": "markdown",
   "metadata": {},
   "source": [
    "**<span style=\"background: Red\">2.3.15 - Red</span>**  You have a mixed pile of $N$ nuts and $N$ bolts and need to quickly find the corresponding pairs of nuts and bolts. Each nut matches exactly one bolt, and each bolt matches exactly one nut. By fitting a nut and bolt together, you can see which is bigger, but it is not possible to directly compare two nuts or two bolts. Describe an efficient method for solving the problem.  "
   ]
  },
  {
   "attachments": {},
   "cell_type": "markdown",
   "metadata": {},
   "source": [
    "*Solution*:  \n",
    "For each bolt:\n",
    "  linearly scan the nuts for the matchine one.\n",
    "This takes $n^2/2$ time, so pretty bad but oh well."
   ]
  }
 ],
 "metadata": {
  "kernelspec": {
   "display_name": "ALDAS",
   "language": "python",
   "name": "python3"
  },
  "language_info": {
   "codemirror_mode": {
    "name": "ipython",
    "version": 3
   },
   "file_extension": ".py",
   "mimetype": "text/x-python",
   "name": "python",
   "nbconvert_exporter": "python",
   "pygments_lexer": "ipython3",
   "version": "3.7.12"
  },
  "orig_nbformat": 4
 },
 "nbformat": 4,
 "nbformat_minor": 2
}
