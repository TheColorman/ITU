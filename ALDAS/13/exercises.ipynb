{
 "cells": [
  {
   "attachments": {},
   "cell_type": "markdown",
   "metadata": {},
   "source": [
    "# ADS 2023 spring Week 13 Exercises  \n",
    "Exercises for Algorithms and Data Structures at ITU. The exercises are from *Algorithms, 4th Edition* by Robert Sedgewick and Kevin Wayne unless otherwise specified. Color-coding of difficulty level and alterations to the exercises (if any) are made by the teachers of the ADS course at ITU."
   ]
  },
  {
   "attachments": {},
   "cell_type": "markdown",
   "metadata": {},
   "source": [
    "Exam 190520 [1, 2, 3, 4]"
   ]
  },
  {
   "attachments": {},
   "cell_type": "markdown",
   "metadata": {},
   "source": [
    "Exam 190520 1  \n",
    "**Analysis of algorithms**  \n",
    "(a) Which pair of functions satisfy $f(N)\\sim g(N)$?  \n",
    "  \n",
    "A. $f(N)=2N$ and $g(N)=N+\\sqrt{N}$  \n",
    "B. $f(N)=\\sqrt{N}+\\log N$ and $g(N)=\\sqrt{N}+2\\log N$  \n",
    "C. $N\\log N+N$ and $g(N)=N\\log N+N^2$  \n",
    "D. $f(N)=2\\sqrt{N}+N$ and $g(N)=\\sqrt{N}+2N$  "
   ]
  },
  {
   "attachments": {},
   "cell_type": "markdown",
   "metadata": {},
   "source": [
    "*Solution*:  \n",
    "B. This is because in the expression\n",
    "$\\frac{\\sqrt{N}+\\log N}{\\sqrt{N}+2\\log N}$, $\\sqrt{N}$ dominates $\\log N$ and only the square roots are left.  "
   ]
  },
  {
   "attachments": {},
   "cell_type": "markdown",
   "metadata": {},
   "source": [
    "(b) Which pair of functions satisfy $f(N)=O(g(N))$?  \n",
    "A. $f(N)=N$ and $g(N)=N/\\log N$  \n",
    "B. $f(N)=\\sqrt{N}\\cdot(\\log N)$ and $g(N)=\\sqrt{N}$  \n",
    "C. $f(N)=(N+1)\\cdot(N-1)$ and $g(N)=N^2$  \n",
    "D. $f(N)=N^3$ and $g(N)=4N^2+5N$  "
   ]
  },
  {
   "attachments": {},
   "cell_type": "markdown",
   "metadata": {},
   "source": [
    "*Solution*:  \n",
    "C. $(N+1)\\cdot(N-1)$ simplifies to $N^2-1$ which is $O(N^2)$.  "
   ]
  },
  {
   "attachments": {},
   "cell_type": "markdown",
   "metadata": {},
   "source": [
    "(c) How many stars are printed?  \n",
    "```python\n",
    "i = 1\n",
    "while i < N:\n",
    "    stdio.write(\"*\")\n",
    "    i = i*2\n",
    "```\n",
    "A. $\\sim\\log_2N$  \n",
    "B. $\\sim N/2$  \n",
    "C. $\\sim N$  \n",
    "D. $\\sim\\frac{1}{2}N^2$"
   ]
  },
  {
   "attachments": {},
   "cell_type": "markdown",
   "metadata": {},
   "source": [
    "*Solution*:  \n",
    "A. Every iteration of the loop prints 1 star. `i` is doubled every loop, so the loop runs $\\log_2 N$ times. Since we only print one star, that is also the number of stars we print.  "
   ]
  },
  {
   "attachments": {},
   "cell_type": "markdown",
   "metadata": {},
   "source": [
    "(d) How many stars are printed? (Choose the smallest correct estimate.)  \n",
    "```python\n",
    "i = 0\n",
    "while i < N:\n",
    "    j = i\n",
    "    while j > 0:\n",
    "        j = j-2\n",
    "        stdio.write(\"*\")\n",
    "    i = i+1\n",
    "```\n",
    "A. $O(\\log N)$  \n",
    "B. $O(N)$  \n",
    "C. $O(N\\log N)$  \n",
    "D. $O(N^2)$  "
   ]
  },
  {
   "attachments": {},
   "cell_type": "markdown",
   "metadata": {},
   "source": [
    "*Solution*:  \n",
    "$O(N^2)$. The inner loop runs at most $N$ times. The outer loop runs exactly $N$ times. In total, this is $O(N^2)$ when you simplify away the inner loops dependent variable.  "
   ]
  },
  {
   "attachments": {},
   "cell_type": "markdown",
   "metadata": {},
   "source": [
    "(e) What is the asymptotic running time of the following picee of code? (Choose the smallest correct estimate.)  \n",
    "```python\n",
    "i = 0\n",
    "while i < N:\n",
    "    i = i+1\n",
    "    if i < 5:\n",
    "        j = 0\n",
    "        while j < N:\n",
    "            A[i] = A[i] + A[j] + i\n",
    "            j = j + 1\n",
    "```\n",
    "A. linear in $N$  \n",
    "B. linearithmic in $N$  \n",
    "C. quadratic in $N$  \n",
    "D. cubic in $N$  "
   ]
  },
  {
   "attachments": {},
   "cell_type": "markdown",
   "metadata": {},
   "source": [
    "*Solution*:  \n",
    "A.\n",
    "Inner loop runs $N\\cdot4$ times.  \n",
    "Outer loop runs $N$ times.  \n",
    "Inner loop has $1$ comparison, $2$ array accesses and $2$ assignments for a total of $5$ operations.  \n",
    "Outer loop has $2$ comparisons and $1$ assignments for a total of $3$ operations.  \n",
    "  \n",
    "That gives\n",
    "$N\\cdot3+N\\cdot4\\cdot5=3N+20N=23N=O(N)=linear$."
   ]
  },
  {
   "attachments": {},
   "cell_type": "markdown",
   "metadata": {},
   "source": [
    "(f) Find a recurrence relation for the number of arithmic operations (additions and subtractions) performed by the following recursive method. (Choose the smallest correct estimate. The base case is $T(0)=0$ in all cases.)  \n",
    "```python\n",
    "def r( N ):\n",
    "    if N > 0:\n",
    "        return r(N-1) + r(N-1) + N\n",
    "    else:\n",
    "        return 2\n",
    "```"
   ]
  },
  {
   "attachments": {},
   "cell_type": "markdown",
   "metadata": {},
   "source": [
    "*Solution*:  \n",
    "There are 2 operations per level, the two additions.  \n",
    "For $T(N)$ there are 2 operations. Additionally, thera are 2 recursive calls with $N-1$. Therefore, $T(N)=2T(N-1)+2$"
   ]
  },
  {
   "attachments": {},
   "cell_type": "markdown",
   "metadata": {},
   "source": [
    "(g) What is the asymptotic running time of the following piece of code? (Choose the smallest correct estimate.)  \n",
    "```python\n",
    "def f(x):\n",
    "    return x + x\n",
    "\n",
    "x = '*'\n",
    "for i in range(N):\n",
    "    x = f(x)\n",
    "print(x)\n",
    "```\n",
    "A. linear in $N$  \n",
    "B. linearithmic in $N$  \n",
    "C. quadratic in $N$  \n",
    "D. even slower"
   ]
  },
  {
   "attachments": {},
   "cell_type": "markdown",
   "metadata": {},
   "source": [
    "*Solution*:  \n",
    "A.  \n",
    "Each call to $f()$ has 1 addition. Each loop has 1 call to $f()$ and 1 assignment. That means each loop takes 2 operations. It loops $N$ times, so $2N$. Therefore, linear in $N$."
   ]
  },
  {
   "attachments": {},
   "cell_type": "markdown",
   "metadata": {},
   "source": [
    "Exam 190520 1  \n",
    "**Class M**. The next few questions all concert the class defined in Fig. 2 and 1.  \n",
    "  \n",
    "Fig. 1.:  \n",
    "```python\n",
    "class M:\n",
    "    def __init__(self):\n",
    "        self.L = [None]\n",
    "        self.N = 0\n",
    "        self.max = None\n",
    "\n",
    "def insert(self, item):\n",
    "    if len(self.L) == self.N:\n",
    "        self.resize(2 * self.N)\n",
    "    assert self.N < len(self.L)\n",
    "    self.L[self.N] = item\n",
    "    self.N += 1\n",
    "    if self.max == None or self.max < item:\n",
    "        self.max=item\n",
    "\n",
    "    def resize(self, newN):\n",
    "        print(\"resize\",newN)\n",
    "        tmp = [None] * newN\n",
    "        for i in range(self.N):\n",
    "            tmp[i] = self.L[i]\n",
    "        self.L = tmp\n",
    "\n",
    "    def contains(self, item):\n",
    "        for i in range(self.N):\n",
    "            if self.L[i] == item:\n",
    "                return True\n",
    "            return False\n",
    "\n",
    "    def reportmax(self):\n",
    "        return self.max"
   ]
  },
  {
   "attachments": {},
   "cell_type": "markdown",
   "metadata": {},
   "source": [
    "(a) "
   ]
  }
 ],
 "metadata": {
  "language_info": {
   "name": "python"
  },
  "orig_nbformat": 4
 },
 "nbformat": 4,
 "nbformat_minor": 2
}
