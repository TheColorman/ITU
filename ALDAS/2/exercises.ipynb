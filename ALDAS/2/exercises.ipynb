{
 "cells": [
  {
   "attachments": {},
   "cell_type": "markdown",
   "metadata": {},
   "source": [
    "# ADS 2023 spring Week 2 Exercises\n",
    "Exercises for Algorithms and Data Structures at ITU. The exercises are from Algorithms, 4th Edition by Robert Sedgewick and Kevin Wayne unless otherwise specified. Color-coding of difficulty level and alterations to the exercises (if any) are made by the teachers of the ADS course at ITU."
   ]
  },
  {
   "attachments": {},
   "cell_type": "markdown",
   "metadata": {},
   "source": [
    "**<span style=\"background: LimeGreen\">1.2.6 - Green</span>**  A string s is a circular rotation of a string t if it matches when the characters are circularly shifted by any number of positions; e.g., ACTGACG is a circular shift of TGACGAC, and vice versa. Detecting this condition is important in the study of genomic sequences. Design an algorithm that checks whether two given strings s and t are circular shifts of one another."
   ]
  },
  {
   "attachments": {},
   "cell_type": "markdown",
   "metadata": {},
   "source": [
    "*Solution*:"
   ]
  },
  {
   "cell_type": "code",
   "execution_count": 9,
   "metadata": {},
   "outputs": [
    {
     "name": "stdout",
     "output_type": "stream",
     "text": [
      "8.07 µs ± 104 ns per loop (mean ± std. dev. of 7 runs, 100000 loops each)\n"
     ]
    }
   ],
   "source": [
    "%%timeit\n",
    "s = \"ACTGACGACTGACGACTGACGACTGACGACTGACGACTGACG\"\n",
    "t = \"TGACGACTGACGACTGACGACTGACGACTGACGACTGACGAC\"\n",
    "def check_circular(s: str, t: str) -> bool:\n",
    "    for i in range(len(t)):\n",
    "        if t[i] == s[0]:\n",
    "            j = 1\n",
    "            success = False\n",
    "            while True:\n",
    "                if i+j == len(t): # We have gone through the entire string with 100% matches\n",
    "                    success = True\n",
    "                    break\n",
    "                if i+j >= len(t): # We have reached the end of the string, let's loop back around\n",
    "                    j = -i\n",
    "                \n",
    "                if t[i+j] != s[j]: # Character mismatch, continue search\n",
    "                    break\n",
    "\n",
    "                j += 1\n",
    "            if success: # We found a match\n",
    "                return True\n",
    "    return False # No match found after going through every element\n",
    "\n",
    "check_circular(s, t)"
   ]
  },
  {
   "attachments": {},
   "cell_type": "markdown",
   "metadata": {},
   "source": [
    "**<span style=\"background: LimeGreen\">1.3.7 - Green</span>**  Describe how you could create a method/function peek() to Stack that returns the most recently inserted item on the stack (without popping it)."
   ]
  },
  {
   "attachments": {},
   "cell_type": "markdown",
   "metadata": {},
   "source": [
    "*Soluton*:"
   ]
  },
  {
   "cell_type": "code",
   "execution_count": 13,
   "metadata": {},
   "outputs": [
    {
     "data": {
      "text/plain": [
       "'World'"
      ]
     },
     "execution_count": 13,
     "metadata": {},
     "output_type": "execute_result"
    }
   ],
   "source": [
    "from typing import Generic, Optional, TypeVar\n",
    "\n",
    "T = TypeVar(\"T\")\n",
    "class Node(Generic[T]):\n",
    "    def __init__(self) -> None:\n",
    "        self.item: T = None\n",
    "        self.next: Optional[Node] = None\n",
    "        \n",
    "class Stack(Generic[T]):\n",
    "    def __init__(self) -> None:\n",
    "        \"\"\"Initiates an empty stack.\"\"\"\n",
    "        self._first: Optional[Node[T]] = None\n",
    "        self._n: int = 0\n",
    "    \n",
    "    def is_empty(self) -> bool:\n",
    "        \"\"\"Returns True if this stack is empty.\n",
    "        \n",
    "        :returns: True if this stack is empty, False otherwise\n",
    "        \n",
    "        \"\"\"\n",
    "        return self._n == 0\n",
    "    \n",
    "    def size(self) -> int:\n",
    "        \"\"\"Returns number of items in this stack.\n",
    "        \n",
    "        :returns: the number of items in this stack\n",
    "        \n",
    "        \"\"\"\n",
    "        return self._n\n",
    "    \n",
    "    def __len__(self) -> int:\n",
    "        return self.size()\n",
    "    \n",
    "    def push(self, item: T) -> None:\n",
    "        \"\"\"Adds the item to this stack.\n",
    "        \n",
    "        :param item: the item to add\n",
    "        \n",
    "        \"\"\"\n",
    "        oldfirst = self._first\n",
    "        self._first = Node()\n",
    "        self._first.item = item\n",
    "        self._first.next = oldfirst\n",
    "        self._n += 1\n",
    "    \n",
    "    def pop(self) -> T:\n",
    "        \"\"\"Removed and return the item most recently added to this stack.\n",
    "        \n",
    "        :returns: the item most recently added\n",
    "        :raises ValueError: if this stack is empty\n",
    "        \n",
    "        \"\"\"\n",
    "        if self.is_empty():\n",
    "            raise ValueError(\"Stack underflow\")\n",
    "        assert self._first is not None\n",
    "        item = self._first.item\n",
    "        self._first = self._first.next\n",
    "        self._n -= 1\n",
    "        return item\n",
    "    \n",
    "    def peek(self) -> T:\n",
    "        \"\"\"Returns the item most recently added to this stack.\n",
    "        \n",
    "        :returns: the item most recently added\n",
    "        :raises ValueError: if this stack is empty\n",
    "        \n",
    "        \"\"\"\n",
    "        if self.is_empty():\n",
    "            raise ValueError(\"Stack underflow\")\n",
    "        assert self._first is not None\n",
    "        item = self._first.item\n",
    "        assert item is not None\n",
    "        return item\n",
    "\n",
    "# Use a linked list and peek by looking at the first element.\n",
    "stack = Stack()\n",
    "stack.push(\"Hello\")\n",
    "stack.push(\"World\")\n",
    "stack.peek()"
   ]
  },
  {
   "attachments": {},
   "cell_type": "markdown",
   "metadata": {},
   "source": [
    "**<span style=\"background: LimeGreen\">1.3.19 - Green</span>**  Explain how you would create a method/function removeLast(), that removes the last node in a linked list whose first node is stored in the variable first. Making a drawing of what is going on is encouraged."
   ]
  },
  {
   "attachments": {},
   "cell_type": "markdown",
   "metadata": {},
   "source": [
    "*Solution*:\n",
    "Make a loop going through each reference until the reference is `null`. Then change the reference for the previous element to `null`."
   ]
  },
  {
   "attachments": {},
   "cell_type": "markdown",
   "metadata": {},
   "source": [
    "**<span style=\"background: LimeGreen\">1.3.20 - Green</span>**  Explain and draw how one could design a method/function delete() that takes an int argument k and deletes the kth element in a linked list, if it exists."
   ]
  },
  {
   "attachments": {},
   "cell_type": "markdown",
   "metadata": {},
   "source": [
    "*Solution*:"
   ]
  },
  {
   "cell_type": "code",
   "execution_count": null,
   "metadata": {},
   "outputs": [],
   "source": [
    "n = 10\n",
    "el = stack._first\n",
    "\n",
    "def delete_n(n: int):\n",
    "    for i in range(n-1):\n",
    "        if el.next == None:\n",
    "            return\n",
    "        el = el.next\n",
    "\n",
    "    el.next = el.next.next"
   ]
  },
  {
   "attachments": {},
   "cell_type": "markdown",
   "metadata": {},
   "source": [
    "**<span style=\"background: LimeGreen\">1.3.21 - Green</span>**  Explain how one could desing a method find() that takes a linked list and a string key as arguments and returns true if some node in the list has key as its item field, false otherwise."
   ]
  },
  {
   "attachments": {},
   "cell_type": "markdown",
   "metadata": {},
   "source": [
    "*Solution*:\n",
    "Loop through every elemen in the list and return True if a match is found"
   ]
  },
  {
   "attachments": {},
   "cell_type": "markdown",
   "metadata": {},
   "source": [
    "**<span style=\"background: LimeGreen\">1.3.22 - Green</span>**  Suppose that x is a linked list Node. What does the following code fragment do? (This question is also in the quiz, but necessary for the question below).\n",
    "```python\n",
    "t.next = x.next\n",
    "x.next = t\n",
    "```"
   ]
  },
  {
   "attachments": {},
   "cell_type": "markdown",
   "metadata": {},
   "source": [
    "*Solution*:  \n",
    "Inserts x at the position before t, and points t to the element x used to point to.  \n",
    "But breaks the structure of the linked list in case t already has an element pointing to it."
   ]
  },
  {
   "attachments": {},
   "cell_type": "markdown",
   "metadata": {},
   "source": [
    "**<span style=\"background: LimeGreen\">1.3.23 - Green</span>**  Why does the following code fragment not do the same thing as in the previous question?\n",
    "```python\n",
    "x.next = t\n",
    "t.next = x.next\n",
    "```"
   ]
  },
  {
   "attachments": {},
   "cell_type": "markdown",
   "metadata": {},
   "source": [
    "*Solution*:  \n",
    "Makes x point to t, and t point to itself."
   ]
  },
  {
   "attachments": {},
   "cell_type": "markdown",
   "metadata": {},
   "source": [
    "**<span style=\"background: LimeGreen\">1.3.27 - Green</span>**  Suppose that you get a reference for the first node in a linked list. Describe how you can find and output the maximum key in the list. Assume that all keys are positive integers, and return 0 if the list is empty."
   ]
  },
  {
   "attachments": {},
   "cell_type": "markdown",
   "metadata": {},
   "source": [
    "*Solution*:  \n",
    "Loop through the list while keeping track of the index. Return the index when final element is reached."
   ]
  },
  {
   "attachments": {},
   "cell_type": "markdown",
   "metadata": {},
   "source": [
    "**<span style=\"background: Yellow\">1.3.24 - Yellow</span>**  Explain how you would design a method/function removeAfter() that takes a linked-list Node as argument and removes the node following the given one (and does nothing if the argument or the next field in the argument node is null)."
   ]
  },
  {
   "attachments": {},
   "cell_type": "markdown",
   "metadata": {},
   "source": [
    "*Solution*:  \n",
    "Iterate through the list until the given element is reached. Then set the element to reference null."
   ]
  },
  {
   "attachments": {},
   "cell_type": "markdown",
   "metadata": {},
   "source": [
    "**<span style=\"background: Yellow\">1.3.25 - Yellow</span>**  Explain how you would design a method/function insertAfter() that takes two linked-list nodes (n1 and n2) as arguments. Assume that n1 is in a list, and insert n2 immediately after n1. Do nothing if either argument is null."
   ]
  },
  {
   "attachments": {},
   "cell_type": "markdown",
   "metadata": {},
   "source": [
    "*Solution*:  \n",
    "```py\n",
    "n2.next = n1.next\n",
    "n1.next = n2\n",
    "```"
   ]
  },
  {
   "attachments": {},
   "cell_type": "markdown",
   "metadata": {},
   "source": [
    "**<span style=\"background: Yellow\">1.3.28 - Yellow</span>**  Develop a recursive solution to the previous question (1.3.27)"
   ]
  },
  {
   "attachments": {},
   "cell_type": "markdown",
   "metadata": {},
   "source": [
    "*Solution*:  \n",
    "```py\n",
    "def search(node, i=0):\n",
    "    if node == None:\n",
    "        return i\n",
    "    search(node.next, i+1)\n",
    "\n",
    "search(LinkedList._first)\n",
    "```"
   ]
  },
  {
   "attachments": {},
   "cell_type": "markdown",
   "metadata": {},
   "source": [
    "**<span style=\"background: Red\">1.3.31 - Green</span>**  A doubly-linked list is a linked list, where each node contains a reference to the previous node in the list in addition to the reference to the next node. We define the nodes of this list to be of the class DoubleNode. Explain how the class DoubleNode differs from a regular Node class in a linked list, and make a drawing of a doubly-linked list data structure.  \n",
    "Next, describe how the following methods/functions work in a doubly-linked list: Insert at the beginning, insert at the end, remove from the beginning, remove from the end, insert before a given node, insert after a given node, and remove a given node."
   ]
  },
  {
   "attachments": {},
   "cell_type": "markdown",
   "metadata": {},
   "source": [
    "*Solution*:  \n",
    "List structure:  \n",
    "```\n",
    ".next +-+ -> +-+ -> +-+\n",
    ".item |A|    |B|    |C|\n",
    ".last +-+ <- +-+ <- +-+\n",
    "```"
   ]
  },
  {
   "cell_type": "code",
   "execution_count": null,
   "metadata": {},
   "outputs": [],
   "source": [
    "class DoubleNode:\n",
    "    def __init__(self) -> None:\n",
    "        self.next = None\n",
    "        self.last = None\n",
    "        self.item = None\n",
    "\n",
    "class DoublyLinkedList:\n",
    "    def __init__(self) -> None:\n",
    "        self._first = DoubleNode\n",
    "        self._last = DoubleNode\n",
    "    \n",
    "    def push_end(self, item):\n",
    "        oldlast = self._last\n",
    "        self._last = DoubleNode()\n",
    "        self._last.item = item\n",
    "        self._last.last = oldlast\n",
    "        oldlast.next = self._last\n",
    "    \n",
    "    def push_beginning(self, item):\n",
    "        oldfirst = self._first\n",
    "        self._first = DoubleNode()\n",
    "        self._first.item = item\n",
    "        self._first.next = oldfirst\n",
    "        oldfirst.last = self._first\n",
    "    \n",
    "    def pop_end(self):\n",
    "        oldLast = self._last\n",
    "        self._last = self._last.last\n",
    "        self._last.next = None\n",
    "        return oldLast\n",
    "    \n",
    "    def pop_beginnig(self):\n",
    "        oldfirst = self._first\n",
    "        self._first = self._first.next\n",
    "        self._first.last = None\n",
    "        return oldfirst\n",
    "    \n",
    "    def insert_before(self, existing: DoubleNode, to_insert: DoubleNode):\n",
    "        to_insert.last = existing.last\n",
    "        to_insert.next = existing\n",
    "        existing.last.next = to_insert\n",
    "        existing.last = to_insert\n",
    "    \n",
    "    def insert_after(self, existing: DoubleNode, to_insert: DoubleNode):\n",
    "        to_insert.last = existing\n",
    "        to_insert.next = existing.next\n",
    "        existing.next.last = to_insert\n",
    "        existing.next = to_insert\n",
    "    \n",
    "    def remove(self, node: DoubleNode):\n",
    "        node.last.next = node.next\n",
    "        node.next.last = node.last\n"
   ]
  },
  {
   "attachments": {},
   "cell_type": "markdown",
   "metadata": {},
   "source": [
    "**<span style=\"background: Red\">1.3.48 - Green</span>**  A double-ended queue or deque (pronounced “deck”) is like a stack or a queue but supports adding and removing items at both ends, so where a regular stack has a push() function, a deque has both pushLeft() and pushRight() functions and similarly a deque has popLeft() and popRight() functions instead of just a pop() function.  \n",
    "How can two stacks be implemented using a single deque so that each operation takes a constant number of deque operations?"
   ]
  },
  {
   "attachments": {},
   "cell_type": "markdown",
   "metadata": {},
   "source": [
    "*Solution*:  \n",
    "Have a \"Wall element\" in the list. When trying to pop the wall element, instead return an error or null, as the bottom of the stack has been reached."
   ]
  }
 ],
 "metadata": {
  "kernelspec": {
   "display_name": "ALDAS",
   "language": "python",
   "name": "python3"
  },
  "language_info": {
   "codemirror_mode": {
    "name": "ipython",
    "version": 3
   },
   "file_extension": ".py",
   "mimetype": "text/x-python",
   "name": "python",
   "nbconvert_exporter": "python",
   "pygments_lexer": "ipython3",
   "version": "3.7.12"
  },
  "orig_nbformat": 4,
  "vscode": {
   "interpreter": {
    "hash": "48ca78890206568d2b71363fdb2554af7b2d8b6b9898fd7fcb21dcda8e605fc3"
   }
  }
 },
 "nbformat": 4,
 "nbformat_minor": 2
}
