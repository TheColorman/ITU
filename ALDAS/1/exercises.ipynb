{
 "cells": [
  {
   "attachments": {},
   "cell_type": "markdown",
   "metadata": {},
   "source": [
    "# ADS 2023 spring Week 1 Exercises\n",
    "Exercises for Algorithms and Data Structures at ITU. The exercises are from *Algorithms, 4th Edition* by Roberty Sedgewick and Kevin Wayne unless otherwise specified. Color-coding of difficulty level and alterations to exercises (if any) are made by the teachers of the ADS course at ITU."
   ]
  },
  {
   "attachments": {},
   "cell_type": "markdown",
   "metadata": {},
   "source": [
    "**<span style=\"background: LimeGreen\">1.1.14 - Green</span>**  Design an algorithm that takes an integer value $N$ as argument and returns the largest integer not larger than the base-2 logarithm of $N$. Do not use a math library."
   ]
  },
  {
   "attachments": {},
   "cell_type": "markdown",
   "metadata": {},
   "source": [
    "*Solution*  \n",
    "The algorithm uses the funciton $2^x=N$ and should return the largest integer $r$ where $r<x$"
   ]
  },
  {
   "cell_type": "code",
   "execution_count": 6,
   "metadata": {},
   "outputs": [
    {
     "data": {
      "text/plain": [
       "5"
      ]
     },
     "execution_count": 6,
     "metadata": {},
     "output_type": "execute_result"
    }
   ],
   "source": [
    "def algo(N: int):\n",
    "    x = 0\n",
    "    while 2**(x + 1) <= N:\n",
    "        x += 1\n",
    "    return x\n",
    "\n",
    "algo(32)"
   ]
  },
  {
   "attachments": {},
   "cell_type": "markdown",
   "metadata": {},
   "source": [
    "**<span style=\"background: LimeGreen\">1.5.1 - Green</span>**  Show the contents od the `id[]` array and the number of times the array is accessed for each input pair when you use quick-find for the sequence `9-0 3-4 5-8 7-2 2-1 5-7 0-3 4-2`."
   ]
  },
  {
   "attachments": {},
   "cell_type": "markdown",
   "metadata": {},
   "source": [
    "*Solution*"
   ]
  },
  {
   "cell_type": "code",
   "execution_count": 7,
   "metadata": {},
   "outputs": [
    {
     "name": "stdout",
     "output_type": "stream",
     "text": [
      "id array: [1, 1, 1, 1, 1, 1, 6, 1, 1, 1]\n",
      "The list was accessed 96 times\n"
     ]
    }
   ],
   "source": [
    "# Modified from itu.ags4.uf to count times _id is accessed\n",
    "class QuickFindUF:\n",
    "    \"\"\"\n",
    "    This is an implementation of the union-find data structure - see module documentation for\n",
    "    more info.\n",
    "\n",
    "    This implementation uses quick find. Initializing a data structure with n sites takes linear time.\n",
    "    Afterwards, the find, connected, and count operations take constant time but the union operation\n",
    "    takes linear time.\n",
    "\n",
    "    For additional documentation, see Section 1.5 of Algorithms, 4th Edition by Robert Sedgewick and Kevin Wayne.\n",
    "    \"\"\"\n",
    "\n",
    "    def __init__(self, n: int) -> None:\n",
    "        \"\"\"\n",
    "        Initializes an empty union-find data structure with n sites,\n",
    "        0 through n-1. Each site is initially in its own component.\n",
    "\n",
    "        :param n: the number of sites\n",
    "        \"\"\"\n",
    "        self._count = n\n",
    "        self._id = list(range(n))\n",
    "        self._times_accessed = 0\n",
    "\n",
    "    def _validate(self, p: int) -> None:\n",
    "        # validate that p is a valid index\n",
    "        n = len(self._id)\n",
    "        if p < 0 or p >= n:\n",
    "            raise ValueError('index {} is not between 0 and {}'.format(p, n - 1))\n",
    "\n",
    "    def union(self, p: int, q: int) -> None:\n",
    "        \"\"\"\n",
    "        Merges the component containing site p with the\n",
    "        component containing site q.\n",
    "\n",
    "        :param p: the integer representing one site\n",
    "        :param q: the integer representing the other site\n",
    "        \"\"\"\n",
    "        self._validate(p)\n",
    "        self._validate(q)\n",
    "\n",
    "        p_id = self._id[p] # needed for correctness\n",
    "        q_id = self._id[q] # to reduce the number of array accesses\n",
    "        self._times_accessed += 2\n",
    "\n",
    "        # p and q are already in the same component\n",
    "        if p_id == q_id:\n",
    "            return\n",
    "\n",
    "        for i in range(len(self._id)):\n",
    "            if self._id[i] == p_id:\n",
    "                self._id[i] = q_id\n",
    "            self._times_accessed += 1\n",
    "        self._count -= 1\n",
    "\n",
    "    def find(self, p: int) -> int:\n",
    "        \"\"\"\n",
    "        Returns the component identifier for the component containing site p.\n",
    "\n",
    "        :param p: the integer representing one site\n",
    "        :return: the component identifier for the component containing site p\n",
    "        \"\"\"\n",
    "        self._validate(p)\n",
    "        self._times_accessed += 1\n",
    "        return self._id[p]\n",
    "\n",
    "    def connected(self, p: int, q: int) -> bool:\n",
    "        \"\"\"\n",
    "        Returns true if the two sites are in the same component.\n",
    "\n",
    "        :param p: the integer representing one site\n",
    "        :param q: the integer representing the other site\n",
    "        :return: true if the two sites p and q are in the same component; false otherwise\n",
    "        \"\"\"\n",
    "        self._validate(p)\n",
    "        self._validate(q)\n",
    "        self._times_accessed += 2\n",
    "        return self._id[p] == self._id[q]\n",
    "\n",
    "    def count(self):\n",
    "        return self._count\n",
    "sequence = [(9, 0), (3, 4), (5, 8), (7, 2), (2, 1), (5, 7), (0, 3), (4, 2),]\n",
    "\n",
    "uf = QuickFindUF(10)\n",
    "[uf.union(p, q) for p, q in sequence]\n",
    "    \n",
    "print(f\"id array: {uf._id}\")\n",
    "print(f\"The list was accessed {uf._times_accessed} times\")"
   ]
  },
  {
   "attachments": {},
   "cell_type": "markdown",
   "metadata": {},
   "source": [
    "**<span style=\"background: LimeGreen\">1.5.2 - Green</span>**  Do Exercise 1.5.1, but use quick-union (page 224). In addition, draw the forest\n",
    "of trees represented by the id[] array after each input pair is processed."
   ]
  },
  {
   "attachments": {},
   "cell_type": "markdown",
   "metadata": {},
   "source": [
    "*Solution*"
   ]
  },
  {
   "cell_type": "code",
   "execution_count": 8,
   "metadata": {},
   "outputs": [],
   "source": [
    "class QU:\n",
    "    \"\"\"QuickUnion from page 224 of the textbook\"\"\"\n",
    "    def __init__(self, n: int) -> None:\n",
    "        self._id = [i for i in range(n)]\n",
    "        self._times_accessed = 0\n",
    "    \n",
    "    def find(self, p: int) -> int:\n",
    "        self._times_accessed += 1\n",
    "        while p != self._id[p]:\n",
    "            self._times_accessed += 1\n",
    "            p = self._id[p]\n",
    "        return p\n",
    "    \n",
    "    def union(self, p: int, q: int) -> None:\n",
    "        p_root = self.find(p)\n",
    "        q_root = self.find(q)\n",
    "        if (p_root == q_root):\n",
    "            return\n",
    "        \n",
    "        self._id[p_root] = q_root\n",
    "\n",
    "uf = QU(10)\n",
    "for p, q in sequence:\n",
    "    uf.union(p, q)\n"
   ]
  },
  {
   "attachments": {},
   "cell_type": "markdown",
   "metadata": {},
   "source": [
    "**<span style=\"background: LimeGreen\">1.5.3 - Green</span>**  Do Exercise 1.5.1, but use weighted quick-union (page 228)."
   ]
  },
  {
   "attachments": {},
   "cell_type": "markdown",
   "metadata": {},
   "source": [
    "*Solution*"
   ]
  },
  {
   "cell_type": "code",
   "execution_count": 9,
   "metadata": {},
   "outputs": [
    {
     "name": "stdout",
     "output_type": "stream",
     "text": [
      "[9, 7, 7, 9, 3, 9, 6, 5, 5, 9]\n"
     ]
    }
   ],
   "source": [
    "class WeightedQuickUnionUF:\n",
    "    def __init__(self, N: int) -> None:\n",
    "        self._count = N\n",
    "        self._id = [i for i in range(N)]\n",
    "        self._sz = [i for i in range(N)]\n",
    "    \n",
    "    def count(self) -> int:\n",
    "        return self._count\n",
    "    \n",
    "    def connected(self, p: int, q: int) -> bool:\n",
    "        return self.find(p) == self.find(q)\n",
    "    \n",
    "    def find(self, p: int) -> int:\n",
    "        while (p != self._id[p]):\n",
    "            p = self._id[p]\n",
    "        return p\n",
    "    \n",
    "    def union(self, p: int, q: int) -> None:\n",
    "        i = self.find(p)\n",
    "        j = self.find(q)\n",
    "        if (i == j):\n",
    "            return\n",
    "        \n",
    "        # Make smaller root point to larger one.\n",
    "        if (self._sz[i] < self._sz[i]):\n",
    "            self._id[i] = j\n",
    "            self._sz[j] += self._sz[i]\n",
    "        else:\n",
    "            self._id[j] = i\n",
    "            self._sz[i] += self._sz[j]\n",
    "        self._count -= 1\n",
    "\n",
    "uf = WeightedQuickUnionUF(10)\n",
    "for p, q in sequence:\n",
    "    uf.union(p, q)\n",
    "\n",
    "print(uf._id)"
   ]
  },
  {
   "attachments": {},
   "cell_type": "markdown",
   "metadata": {},
   "source": [
    "**<span style=\"background: Yellow\">1.5.8 - Yellow</span>**  Give a counterexample that shows why this intuitive implementation of\n",
    "union() for quick-find is not correct:  \n",
    "```py\n",
    "# Python\n",
    "def union (self, p: int, q: int) -> None :\n",
    "    if self.connected (p, q):\n",
    "        return\n",
    "\n",
    "    # Rename p’s component to q’s name .\n",
    "    for i in range(0, len(id)):\n",
    "        if id[i] == id[p]:\n",
    "            id[i] = id[q]\n",
    "    self._count -= 1\n",
    "```"
   ]
  },
  {
   "attachments": {},
   "cell_type": "markdown",
   "metadata": {},
   "source": [
    "#1: `id` is the identity function in python, and cannot be accessed as a list.  \n",
    "#2: Instead of making a union between the sets of `p` and `q`, it instead points all elements that previously pointed to `p`'s parent to `q`'s parent, instead of changing the roots."
   ]
  },
  {
   "cell_type": "code",
   "execution_count": 19,
   "metadata": {},
   "outputs": [
    {
     "name": "stdout",
     "output_type": "stream",
     "text": [
      "[0, 1, 2, 3, 4, 5, 6, 7, 8, 9]\n",
      "[0, 3, 3, 3, 6, 6, 6, 7, 8, 9]\n",
      "[0, 6, 3, 3, 6, 6, 6, 7, 8, 9]\n"
     ]
    }
   ],
   "source": [
    "_id = [i for i in range(10)]\n",
    "def union (p: int, q: int) -> None :\n",
    "    # Rename p’s component to q’s name .\n",
    "    for i in range(0, len(_id)):\n",
    "        if _id[i] == _id[p]:\n",
    "            _id[i] = _id[q]\n",
    "print(_id)\n",
    "union(1, 2)\n",
    "union(2, 3)\n",
    "union(4, 5)\n",
    "union(5, 6)\n",
    "print(_id)\n",
    "union(1, 4)\n",
    "print(_id)"
   ]
  },
  {
   "attachments": {},
   "cell_type": "markdown",
   "metadata": {},
   "source": [
    "**<span style=\"background: Red\">1.5.9 - Yellow</span>**  Draw the tree corresponding to the id[] array depicted below. Can this be the\n",
    "result of running weighted quick-union? Explain why this is impossible or give a sequence of\n",
    "operations that results in this array.\n",
    "```rust\n",
    "i      0  1  2  3  4  5  6  7  8  9  \n",
    "id[i]  1  1  3  1  5  6  1  3  4  5  \n",
    "```"
   ]
  },
  {
   "attachments": {
    "image.png": {
     "image/png": "[encoded data removed]"
    }
   },
   "cell_type": "markdown",
   "metadata": {},
   "source": [
    "*Solution*  \n",
    "It is impossible. The tree contains links of length 3, which would not happen when using weighted quick-union. A union between a 2-link chain with a 1-link chain will cause the 1-link chain to point to the root of the 2-link chain, thus not adding a longer link.  \n",
    "(A union between 8 and 4 will always cause 8 to point to 5)  \n",
    "![image.png](attachment:image.png)"
   ]
  }
 ],
 "metadata": {
  "kernelspec": {
   "display_name": "ALDAS",
   "language": "python",
   "name": "python3"
  },
  "language_info": {
   "codemirror_mode": {
    "name": "ipython",
    "version": 3
   },
   "file_extension": ".py",
   "mimetype": "text/x-python",
   "name": "python",
   "nbconvert_exporter": "python",
   "pygments_lexer": "ipython3",
   "version": "3.7.16 (default, Jan 17 2023, 22:20:44) \n[GCC 11.2.0]"
  },
  "orig_nbformat": 4,
  "vscode": {
   "interpreter": {
    "hash": "d7cd0d8e7f0fcc05bc3f15f767c06c6639152606485d5ea553a073ce540f3d5d"
   }
  }
 },
 "nbformat": 4,
 "nbformat_minor": 2
}
