{
 "cells": [
  {
   "attachments": {},
   "cell_type": "markdown",
   "metadata": {},
   "source": [
    "# ADS 2023 spring Week 1 Exercises\n",
    "Exercises for Algorithms and Data Structures at ITU. The exercises are from *Algorithms, 4th Edition* by Roberty Sedgewick and Kevin Wayne unless otherwise specified. Color-coding of difficulty level and alterations to exercises (if any) are made by the teachers of the ADS course at ITU."
   ]
  },
  {
   "attachments": {},
   "cell_type": "markdown",
   "metadata": {},
   "source": [
    "**<span style=\"background: green\">1.1.14 - Green</span>**  Design an algorithm that takes an integer value $N$ as argument and returns the largest integer not larger than the base-2 logarithm of $N$. Do not use a math library."
   ]
  },
  {
   "attachments": {},
   "cell_type": "markdown",
   "metadata": {},
   "source": [
    "*Solution*  \n",
    "The algorithm uses the funciton $2^x=N$ and should return the largest integer $r$ where $r<x$"
   ]
  },
  {
   "cell_type": "code",
   "execution_count": 17,
   "metadata": {},
   "outputs": [
    {
     "data": {
      "text/plain": [
       "5"
      ]
     },
     "execution_count": 17,
     "metadata": {},
     "output_type": "execute_result"
    }
   ],
   "source": [
    "def algo(N: int):\n",
    "    x = 0\n",
    "    while 2**(x + 1) <= N:\n",
    "        x += 1\n",
    "    return x\n",
    "\n",
    "algo(32)"
   ]
  },
  {
   "attachments": {},
   "cell_type": "markdown",
   "metadata": {},
   "source": [
    "**<span style=\"background: green\">1.5.1 - Green</span>**  Show the contents od the `id[]` array and the number of times the array is accessed for each input pair when you use quick-find for the sequence `9-0 3-4 5-8 7-2 2-1 5-7 0-3 4-2`."
   ]
  },
  {
   "attachments": {},
   "cell_type": "markdown",
   "metadata": {},
   "source": [
    "*Solution*"
   ]
  },
  {
   "cell_type": "code",
   "execution_count": 20,
   "metadata": {},
   "outputs": [
    {
     "name": "stdout",
     "output_type": "stream",
     "text": [
      "id array: [1, 1, 1, 1, 1, 1, 6, 1, 1, 1]\n",
      "The list was accessed 96 times\n"
     ]
    }
   ],
   "source": [
    "# Modified from itu.ags4.uf to count times _id is accessed\n",
    "class QuickFindUF:\n",
    "    \"\"\"\n",
    "    This is an implementation of the union-find data structure - see module documentation for\n",
    "    more info.\n",
    "\n",
    "    This implementation uses quick find. Initializing a data structure with n sites takes linear time.\n",
    "    Afterwards, the find, connected, and count operations take constant time but the union operation\n",
    "    takes linear time.\n",
    "\n",
    "    For additional documentation, see Section 1.5 of Algorithms, 4th Edition by Robert Sedgewick and Kevin Wayne.\n",
    "    \"\"\"\n",
    "\n",
    "    def __init__(self, n: int) -> None:\n",
    "        \"\"\"\n",
    "        Initializes an empty union-find data structure with n sites,\n",
    "        0 through n-1. Each site is initially in its own component.\n",
    "\n",
    "        :param n: the number of sites\n",
    "        \"\"\"\n",
    "        self._count = n\n",
    "        self._id = list(range(n))\n",
    "        self._times_accessed = 0\n",
    "\n",
    "    def _validate(self, p: int) -> None:\n",
    "        # validate that p is a valid index\n",
    "        n = len(self._id)\n",
    "        if p < 0 or p >= n:\n",
    "            raise ValueError('index {} is not between 0 and {}'.format(p, n - 1))\n",
    "\n",
    "    def union(self, p: int, q: int) -> None:\n",
    "        \"\"\"\n",
    "        Merges the component containing site p with the\n",
    "        component containing site q.\n",
    "\n",
    "        :param p: the integer representing one site\n",
    "        :param q: the integer representing the other site\n",
    "        \"\"\"\n",
    "        self._validate(p)\n",
    "        self._validate(q)\n",
    "\n",
    "        p_id = self._id[p] # needed for correctness\n",
    "        q_id = self._id[q] # to reduce the number of array accesses\n",
    "        self._times_accessed += 2\n",
    "\n",
    "        # p and q are already in the same component\n",
    "        if p_id == q_id:\n",
    "            return\n",
    "\n",
    "        for i in range(len(self._id)):\n",
    "            if self._id[i] == p_id:\n",
    "                self._id[i] = q_id\n",
    "            self._times_accessed += 1\n",
    "        self._count -= 1\n",
    "\n",
    "    def find(self, p: int) -> int:\n",
    "        \"\"\"\n",
    "        Returns the component identifier for the component containing site p.\n",
    "\n",
    "        :param p: the integer representing one site\n",
    "        :return: the component identifier for the component containing site p\n",
    "        \"\"\"\n",
    "        self._validate(p)\n",
    "        self._times_accessed += 1\n",
    "        return self._id[p]\n",
    "\n",
    "    def connected(self, p: int, q: int) -> bool:\n",
    "        \"\"\"\n",
    "        Returns true if the two sites are in the same component.\n",
    "\n",
    "        :param p: the integer representing one site\n",
    "        :param q: the integer representing the other site\n",
    "        :return: true if the two sites p and q are in the same component; false otherwise\n",
    "        \"\"\"\n",
    "        self._validate(p)\n",
    "        self._validate(q)\n",
    "        self._times_accessed += 2\n",
    "        return self._id[p] == self._id[q]\n",
    "\n",
    "    def count(self):\n",
    "        return self._count\n",
    "sequence = [(9, 0), (3, 4), (5, 8), (7, 2), (2, 1), (5, 7), (0, 3), (4, 2),]\n",
    "\n",
    "uf = QuickFindUF(10)\n",
    "[uf.union(p, q) for p, q in sequence]\n",
    "    \n",
    "print(f\"id array: {uf._id}\")\n",
    "print(f\"The list was accessed {uf._times_accessed} times\")"
   ]
  },
  {
   "attachments": {},
   "cell_type": "markdown",
   "metadata": {},
   "source": [
    "**<span style=\"background: green\">1.5.2 - Green</span>**  Do Exercise 1.5.1, but use quick-union (page 224). In addition, draw the forest\n",
    "of trees represented by the id[] array after each input pair is processed."
   ]
  },
  {
   "attachments": {},
   "cell_type": "markdown",
   "metadata": {},
   "source": [
    "*Solution*"
   ]
  },
  {
   "cell_type": "code",
   "execution_count": null,
   "metadata": {},
   "outputs": [],
   "source": [
    "from itu.algs4.graphs import \n",
    "\n",
    "class QU:\n",
    "    \"\"\"QuickUnion from page 224 of the textbook\"\"\"\n",
    "    def __init__(self, n: int) -> None:\n",
    "        self._id = [i for i in range(n)]\n",
    "        self._times_accessed = 0\n",
    "    \n",
    "    def find(self, p: int) -> int:\n",
    "        self._times_accessed += 1\n",
    "        while p != self._id[p]:\n",
    "            self._times_accessed += 1\n",
    "            p = id[p]\n",
    "        return p\n",
    "    \n",
    "    def union(self, p: int, q: int) -> None:\n",
    "        p_root = self.find(p)\n",
    "        q_root = self.find(q)\n",
    "        if (p_root == q_root):\n",
    "            return\n",
    "        \n",
    "        self._id[p_root] = q_root\n",
    "\n",
    "uf = QU(10)\n",
    "for p, q in sequence:\n",
    "    uf.union(p, q)\n"
   ]
  }
 ],
 "metadata": {
  "kernelspec": {
   "display_name": "ALDAS",
   "language": "python",
   "name": "python3"
  },
  "language_info": {
   "codemirror_mode": {
    "name": "ipython",
    "version": 3
   },
   "file_extension": ".py",
   "mimetype": "text/x-python",
   "name": "python",
   "nbconvert_exporter": "python",
   "pygments_lexer": "ipython3",
   "version": "3.7.16"
  },
  "orig_nbformat": 4,
  "vscode": {
   "interpreter": {
    "hash": "d7cd0d8e7f0fcc05bc3f15f767c06c6639152606485d5ea553a073ce540f3d5d"
   }
  }
 },
 "nbformat": 4,
 "nbformat_minor": 2
}
