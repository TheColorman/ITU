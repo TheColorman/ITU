{
 "cells": [
  {
   "attachments": {},
   "cell_type": "markdown",
   "metadata": {},
   "source": [
    "# ADS 2023 spring Week 3 Exercises\n",
    "Exercises for Algorithms and Data Structures at ITU. The exercises are from Algorithms, 4th Edition by Robert Sedgewick and Kevin Wayne unless otherwise specified. Color-coding of difficulty level and alterations to the exercises (if any) are made by the teachers of the ADS course at ITU."
   ]
  },
  {
   "attachments": {},
   "cell_type": "markdown",
   "metadata": {},
   "source": [
    "**<span style=\"background: LimeGreen\">1.4.5, abcd - Green</span>**  Give tilde approximations for the following quantities:  \n",
    "a. $N+1$  \n",
    "b. $1+1/N$  \n",
    "c. $(1+1/N)\\cdot(1+2/N)$  \n",
    "d. $2N^3-15N^2+N$  "
   ]
  },
  {
   "attachments": {},
   "cell_type": "markdown",
   "metadata": {},
   "source": [
    "*Solution*:  \n",
    "a. $~N$  \n",
    "b. $1$  \n",
    "c. $1$  \n",
    "d. $2N^3$  "
   ]
  },
  {
   "attachments": {},
   "cell_type": "markdown",
   "metadata": {},
   "source": [
    "**<span style=\"background: LimeGreen\">1.4.6 - Green</span>**  Give the order of growth (as a function of N) of the running times of each of the following code fragments:  \n",
    "a)  \n",
    "```python\n",
    "# Python\n",
    "sum = 0\n",
    "n = N\n",
    "while n > 0:\n",
    "    for i in range (0, n):\n",
    "        sum += 1\n",
    "    n //= 2\n",
    "```  \n",
    "b)  \n",
    "```python\n",
    "# Python\n",
    "sum = 0\n",
    "i = 1\n",
    "while i < N:\n",
    "    for j in range (0 , i):\n",
    "        sum += 1\n",
    "    i *= 2\n",
    "```  \n",
    "c)  \n",
    "```python\n",
    "# Python\n",
    "sum = 0\n",
    "i = 1\n",
    "while i < N:\n",
    "    for j in range (0 , N):\n",
    "        sum += \n",
    "    i *= 2\n",
    "```"
   ]
  },
  {
   "attachments": {},
   "cell_type": "markdown",
   "metadata": {},
   "source": [
    "*Soluton*:  \n",
    "a) Geometric sum: $2n-1$ or $O(n)$.  \n",
    "b) Geometric sum: $2n-1$ or $O(n)$.  \n",
    "c) Outer loop runs $O(\\log_2\\ n)$. Inner runs $O(n)$. Together they run $O(\\log_2\\ n)\\cdot O(n)=O(n\\log_2\\ n)$\n"
   ]
  },
  {
   "attachments": {},
   "cell_type": "markdown",
   "metadata": {},
   "source": [
    "**<span style=\"background: LimeGreen\">1.4.10 - Green</span>**  Modify binary search so that it always returns the element with the smallest index that matches the search element (and still guarantees logarithmic running time)."
   ]
  },
  {
   "attachments": {},
   "cell_type": "markdown",
   "metadata": {},
   "source": [
    "*Solution*:\n",
    "Normal binary search. When middle reaches target value, always set it to higher.  "
   ]
  },
  {
   "cell_type": "code",
   "execution_count": 14,
   "metadata": {},
   "outputs": [
    {
     "name": "stdout",
     "output_type": "stream",
     "text": [
      "5\n",
      "3\n",
      "0\n"
     ]
    }
   ],
   "source": [
    "def binary_search(a: list, t: int):\n",
    "    lo, hi = 0, len(a) - 1\n",
    "    if a[0] == t:\n",
    "        return 0\n",
    "    while lo + 1 < hi:\n",
    "        mid = lo + ((hi - lo) // 2)\n",
    "        if a[mid] >= t:\n",
    "            hi = mid\n",
    "        if a[mid] < t:\n",
    "            lo = mid\n",
    "    if a[hi] != t:\n",
    "        return -1\n",
    "    return hi\n",
    "\n",
    "a = [0, 1, 2, 3, 4, 5, 6, 7, 8, 9]\n",
    "b = [0, 0, 0, 1, 1, 1, 2, 2, 2, 3]\n",
    "c = [0, 0, 0, 0, 0, 0, 0, 0, 0, 0]\n",
    "\n",
    "print(binary_search(a, 5))\n",
    "print(binary_search(b, 1))\n",
    "print(binary_search(c, 0))"
   ]
  },
  {
   "attachments": {},
   "cell_type": "markdown",
   "metadata": {},
   "source": [
    "**<span style=\"background: LimeGreen\">1.4.12 - Green</span>**  Design a program that, given two sorted arrays of N int values, prints all elements that appear in both arrays, in sorted order. The running time of your program should be proportional to N in the worst case.  "
   ]
  },
  {
   "attachments": {},
   "cell_type": "markdown",
   "metadata": {},
   "source": [
    "*Solution*:"
   ]
  },
  {
   "cell_type": "code",
   "execution_count": 8,
   "metadata": {},
   "outputs": [
    {
     "name": "stdout",
     "output_type": "stream",
     "text": [
      "0\n",
      "1\n",
      "2\n",
      "4\n",
      "5\n"
     ]
    }
   ],
   "source": [
    "def find_intersect(a, b):\n",
    "    ai = 0\n",
    "    bi = 0\n",
    "    while ai < len(a) and bi < len(b):\n",
    "        if a[ai] == b[bi]:\n",
    "            print(a[ai])\n",
    "            ai += 1\n",
    "            bi += 1\n",
    "        elif a[ai] > b[bi]:\n",
    "            bi += 1\n",
    "        elif b[bi] > a[ai]:\n",
    "            ai += 1\n",
    "\n",
    "a = [0, 1, 2, 3, 4, 5]\n",
    "b = [0, 1, 2,    4, 5, 6]\n",
    "find_intersect(a, b)"
   ]
  },
  {
   "attachments": {},
   "cell_type": "markdown",
   "metadata": {},
   "source": [
    "**<span style=\"background: Yellow\">1.4.5, ef - Yellow</span>**  Give tilde approximations for the following quantities:  \n",
    "e. $\\lg(2N)/\\lg N$  \n",
    "f. $\\lg(N^2+1)/\\lg N$"
   ]
  },
  {
   "attachments": {},
   "cell_type": "markdown",
   "metadata": {},
   "source": [
    "*Solution*:  \n",
    "e. $~1$. Remove the $2$ and simplify.  \n",
    "f. $~\\lg(N^2)/\\lg N$"
   ]
  },
  {
   "attachments": {},
   "cell_type": "markdown",
   "metadata": {},
   "source": [
    "**<span style=\"background: Yellow\">1.4.1 - Yellow</span>**  Show that the number of different triples that can be chosen from $N$ items is precisely $N(N − 1)(N − 2)/6$. Hint: Use mathematical induction"
   ]
  },
  {
   "attachments": {},
   "cell_type": "markdown",
   "metadata": {},
   "source": [
    "*Solution*:  \n",
    "An ordered triple contains $3$ items. A triple can be ordered in $3!$ different ways. For a triple in $N$ items, it is first possible to choose from any of the $N$ items. For the second item, only $N-1$ items are left, and finally $N-2$ are left. Therefore, the total number of ordered triples in $N$ items is $N(N-1)(N-2)$, and to get the number of unordered triples, you need to divide by $3!$, or $N(N-1)(N-2)/3!$.  \n",
    "I don't know how to do induction :)"
   ]
  },
  {
   "attachments": {},
   "cell_type": "markdown",
   "metadata": {},
   "source": [
    "**<span style=\"background: Yellow\">1.4.24 - Yellow</span>**  Suppose that you have an $N$-story building and plenty of eggs. Suppose also that an egg is broken if it is thrown off floor $F$ or higher, and unhurt otherwise. First, devise a strategy to determine the value of $F$ such that the number of broken eggs is $∼\\lg N$ when using $∼\\lg N$ throws, then find a way to reduce the cost to $∼2 \\lg F$."
   ]
  },
  {
   "attachments": {},
   "cell_type": "markdown",
   "metadata": {},
   "source": [
    "*Solution*:  \n",
    "We can use binary search to find $F$. If there are $N$ floors, we start on floor $N/2$ (rounding up). We throw an egg, if it breaks we go down, if it survives we go up. Binary search takes $~\\lg N$.  \n",
    "No idea how to reduce it to $~2\\lg F$."
   ]
  },
  {
   "attachments": {},
   "cell_type": "markdown",
   "metadata": {},
   "source": [
    "**<span style=\"background: Red\">1.4.25 - Red</span>**  Consider question 1.4.24, but now suppose you only have two eggs, and your cost model is the number of throws. Devise a strategy to determine $F$ such that the number of throws is at most $2\\sqrt{N}$, then find a way to reduce the cost to $∼c\\sqrt{F}$. This is analogous to a situation where search hits (egg intact) are much cheaper than misses (egg broken)."
   ]
  },
  {
   "attachments": {},
   "cell_type": "markdown",
   "metadata": {},
   "source": [
    "*Solution*:  \n"
   ]
  },
  {
   "attachments": {},
   "cell_type": "markdown",
   "metadata": {},
   "source": [
    "**<span style=\"background: Red\">1.4.18 - Red</span>**  Design a program that, given an array `a[]` of $N$ distinct integers, finds a local minimum: an index `i` such that `a[i-1]` $>$ `a[i]` $<$ `a[i+1]`. Note that for the edge case `i = 0` it is only necessary that `a[0]` be smaller than `a[1]`, and for `a[n-1]` it only needs to be smaller than `a[n-2]`.  \n",
    "Your program should use $∼2\\lg N$ compares in the worst case."
   ]
  },
  {
   "attachments": {},
   "cell_type": "markdown",
   "metadata": {},
   "source": [
    "*Solution*:  \n"
   ]
  },
  {
   "cell_type": "code",
   "execution_count": 23,
   "metadata": {},
   "outputs": [
    {
     "name": "stdout",
     "output_type": "stream",
     "text": [
      "Local min found at i=6 with value 5\n"
     ]
    }
   ],
   "source": [
    "def local_min(a):\n",
    "    mid = len(a)//2\n",
    "    def local_min(a, i):\n",
    "        if i == 0:\n",
    "            return a[i+1] > a[i]\n",
    "        if i == len(a):\n",
    "            return a[i-1] > a[i]\n",
    "        return a[i-1] >= a[i] and a[i+1] >= a[i]\n",
    "\n",
    "    while not local_min(a, mid):\n",
    "        velocity = a[mid-1] - a[mid]\n",
    "        mid += velocity\n",
    "    \n",
    "    print(f\"Local min found at i={mid} with value {a[mid]}\")\n",
    "    \n",
    "\n",
    "local_min([9, 8, 2, 5, 5, 5, 5, 6, 6, 6, 6, 6, 6, 6])"
   ]
  },
  {
   "attachments": {},
   "cell_type": "markdown",
   "metadata": {},
   "source": [
    "**<span style=\"background: Red\">1.4.29 - Red</span>**  Steque with two stacks. Design a steque (a stack-ended queue or steque is a data type that supports `push`, `pop`, and `enqueue`) with two stacks so that each steque operation takes a constant amortized number of stack operations."
   ]
  },
  {
   "cell_type": "markdown",
   "metadata": {},
   "source": [
    "*Solution*:  \n"
   ]
  },
  {
   "cell_type": "code",
   "execution_count": 29,
   "metadata": {},
   "outputs": [
    {
     "name": "stdout",
     "output_type": "stream",
     "text": [
      "3\n",
      "2\n",
      "1\n",
      "6\n",
      "3\n",
      "2\n",
      "1\n",
      "4\n",
      "5\n"
     ]
    }
   ],
   "source": [
    "from itu.algs4.fundamentals.stack import Stack\n",
    "class Stequeue:\n",
    "    def __init__(self) -> None:\n",
    "        self.main = Stack()\n",
    "        self.secondary = Stack()\n",
    "        self.size = 0\n",
    "    \n",
    "    def push(self, item):\n",
    "        self.main.push(item)\n",
    "        self.size += 1\n",
    "    \n",
    "    def enqueue(self, item):\n",
    "        self.secondary.push(item)\n",
    "        self.size += 1\n",
    "    \n",
    "    def pop(self):\n",
    "        if self.main.is_empty():\n",
    "            if self.secondary.is_empty():\n",
    "                return None\n",
    "\n",
    "            for _ in range(self.secondary.size()):\n",
    "                self.main.push(self.secondary.pop())\n",
    "        \n",
    "        self.size -= 1\n",
    "        return self.main.pop()\n",
    "    \n",
    "    def size(self):\n",
    "        return self.size\n",
    "\n",
    "stequeue = Stequeue()\n",
    "stequeue.push(1) # [ 1 ]\n",
    "stequeue.push(2) # [ 1, 2 ]\n",
    "stequeue.push(3) # [ 1, 2, 3 ]\n",
    "print(stequeue.pop()) # [ 1, 2 ]\n",
    "print(stequeue.pop()) # [ 1 ]\n",
    "print(stequeue.pop()) # [ ]\n",
    "stequeue.push(1) # [ 1 ]\n",
    "stequeue.push(2) # [ 1, 2 ]\n",
    "stequeue.push(3) # [ 1, 2, 3 ]\n",
    "stequeue.enqueue(4) # [ 4, 1, 2, 3 ]\n",
    "stequeue.enqueue(5) # [5, 4, 1, 2, 3 ]\n",
    "stequeue.push(6) # [ 5, 4, 1, 2, 3, 6]\n",
    "print(stequeue.pop()) # [ 5, 4, 1, 2, 3 ]\n",
    "print(stequeue.pop()) # [ 5, 4, 1, 2 ]\n",
    "print(stequeue.pop()) # [ 5, 4, 1 ]\n",
    "print(stequeue.pop()) # [ 5, 4 ]\n",
    "print(stequeue.pop()) # [ 5 ]\n",
    "print(stequeue.pop()) # [ ]"
   ]
  },
  {
   "attachments": {},
   "cell_type": "markdown",
   "metadata": {},
   "source": [
    "**<span style=\"background: Red\">1.4.30 - Red</span>**  Deque with a stack and a steque. Design a deque (a double-ended queue that supports pushLeft, pushRight, popLeft and popRight) with a stack and a steque so that each deque operation takes a constant amortized number of stack and steque operations."
   ]
  },
  {
   "cell_type": "markdown",
   "metadata": {},
   "source": [
    "*Solution*:  \n"
   ]
  },
  {
   "cell_type": "code",
   "execution_count": null,
   "metadata": {},
   "outputs": [],
   "source": [
    "class Deque:\n",
    "    def __init__(self) -> None:\n",
    "        self.right = Stequeue()\n",
    "        self.left = Stack()\n",
    "    \n",
    "    def pushLeft(self, item):\n",
    "        self.left.push(item)\n",
    "    \n",
    "    def pushRight(self, item):\n",
    "        self.right.push(item)\n",
    "\n",
    "    def popLeft(self):\n",
    "        if self.left.is_empty():\n",
    "            for _ in range(self.right.size()):\n",
    "                self.left.push(self.right.pop())          \n",
    "\n",
    "        return self.left.pop()      \n",
    "\n",
    "    def popRight(self):\n",
    "        if self.right.is_empty():\n",
    "            for _ in range(self.left.size()):\n",
    "                self.right.push(self.left.pop())\n",
    "        \n",
    "        return self.right.pop()"
   ]
  },
  {
   "attachments": {},
   "cell_type": "markdown",
   "metadata": {},
   "source": [
    "**<span style=\"background: Red\">1.4.31 - Red</span>**  Deque with three stacks. Design a deque (a double-ended queue that supports pushLeft, pushRight, popLeft and popRight) with three stacks so that each deque operation takes a constant amortized number of stack operations"
   ]
  },
  {
   "cell_type": "markdown",
   "metadata": {},
   "source": [
    "*Solution*:  \n"
   ]
  }
 ],
 "metadata": {
  "kernelspec": {
   "display_name": "ALDAS",
   "language": "python",
   "name": "python3"
  },
  "language_info": {
   "codemirror_mode": {
    "name": "ipython",
    "version": 3
   },
   "file_extension": ".py",
   "mimetype": "text/x-python",
   "name": "python",
   "nbconvert_exporter": "python",
   "pygments_lexer": "ipython3",
   "version": "3.7.16"
  },
  "orig_nbformat": 4,
  "vscode": {
   "interpreter": {
    "hash": "d7cd0d8e7f0fcc05bc3f15f767c06c6639152606485d5ea553a073ce540f3d5d"
   }
  }
 },
 "nbformat": 4,
 "nbformat_minor": 2
}
