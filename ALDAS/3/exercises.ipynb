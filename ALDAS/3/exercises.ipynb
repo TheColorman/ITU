{
 "cells": [
  {
   "attachments": {},
   "cell_type": "markdown",
   "metadata": {},
   "source": [
    "# ADS 2023 spring Week 2 Exercises\n",
    "Exercises for Algorithms and Data Structures at ITU. The exercises are from Algorithms, 4th Edition by Robert Sedgewick and Kevin Wayne unless otherwise specified. Color-coding of difficulty level and alterations to the exercises (if any) are made by the teachers of the ADS course at ITU."
   ]
  },
  {
   "attachments": {},
   "cell_type": "markdown",
   "metadata": {},
   "source": [
    "**<span style=\"background: LimeGreen\">1.4.5, abcd - Green</span>**  Give tilde approximations for the following quantities:  \n",
    "a. $N+1$  \n",
    "b. $1+1/N$  \n",
    "c. $(1+1/N)\\cdot(1+2/N)$  \n",
    "d. $2N^3-15N^2+N$  "
   ]
  },
  {
   "attachments": {},
   "cell_type": "markdown",
   "metadata": {},
   "source": [
    "*Solution*:  \n",
    "a. $~N$  \n",
    "b. $1$  \n",
    "c. $1$  \n",
    "d. $2N^3$  "
   ]
  },
  {
   "attachments": {},
   "cell_type": "markdown",
   "metadata": {},
   "source": [
    "**<span style=\"background: LimeGreen\">1.4.6 - Green</span>**  Give the order of growth (as a function of N) of the running times of each of the following code fragments:  \n",
    "a)  \n",
    "```python\n",
    "# Python\n",
    "sum = 0\n",
    "n = N\n",
    "while n > 0:\n",
    "    for i in range (0, n):\n",
    "        sum += 1\n",
    "    n //= 2\n",
    "```  \n",
    "b)  \n",
    "```python\n",
    "# Python\n",
    "sum = 0\n",
    "i = 1\n",
    "while i < N:\n",
    "    for j in range (0 , i):\n",
    "        sum += 1\n",
    "    i *= 2\n",
    "```  \n",
    "c)  \n",
    "```python\n",
    "# Python\n",
    "sum = 0\n",
    "i = 1\n",
    "while i < N:\n",
    "    for j in range (0 , N):\n",
    "        sum += \n",
    "    i *= 2\n",
    "```"
   ]
  },
  {
   "attachments": {},
   "cell_type": "markdown",
   "metadata": {},
   "source": [
    "*Soluton*:  \n",
    "a) Geometric sum: $2n-1$ or $O(n)$.  \n",
    "b) Geometric sum: $2n-1$ or $O(n)$.  \n",
    "c) Outer loop runs $O(\\log_2\\ n)$. Inner runs $O(n)$. Together they run $O(\\log_2\\ n)\\cdot O(n)=O(n\\log_2\\ n)$\n"
   ]
  },
  {
   "attachments": {},
   "cell_type": "markdown",
   "metadata": {},
   "source": [
    "**<span style=\"background: LimeGreen\">1.4.10 - Green</span>**  Modify binary search so that it always returns the element with the smallest index that matches the search element (and still guarantees logarithmic running time)."
   ]
  },
  {
   "attachments": {},
   "cell_type": "markdown",
   "metadata": {},
   "source": [
    "*Solution*:\n",
    "Normal binary search. When middle reaches target value, always set it to higher.  "
   ]
  },
  {
   "cell_type": "code",
   "execution_count": 14,
   "metadata": {},
   "outputs": [
    {
     "name": "stdout",
     "output_type": "stream",
     "text": [
      "5\n",
      "3\n",
      "0\n"
     ]
    }
   ],
   "source": [
    "def binary_search(a: list, t: int):\n",
    "    lo, hi = 0, len(a) - 1\n",
    "    if a[0] == t:\n",
    "        return 0\n",
    "    while lo + 1 < hi:\n",
    "        mid = lo + ((hi - lo) // 2)\n",
    "        if a[mid] >= t:\n",
    "            hi = mid\n",
    "        if a[mid] < t:\n",
    "            lo = mid\n",
    "    if a[hi] != t:\n",
    "        return -1\n",
    "    return hi\n",
    "\n",
    "a = [0, 1, 2, 3, 4, 5, 6, 7, 8, 9]\n",
    "b = [0, 0, 0, 1, 1, 1, 2, 2, 2, 3]\n",
    "c = [0, 0, 0, 0, 0, 0, 0, 0, 0, 0]\n",
    "\n",
    "print(binary_search(a, 5))\n",
    "print(binary_search(b, 1))\n",
    "print(binary_search(c, 0))"
   ]
  },
  {
   "attachments": {},
   "cell_type": "markdown",
   "metadata": {},
   "source": [
    "**<span style=\"background: LimeGreen\">1.4.12 - Green</span>**  Design a program that, given two sorted arrays of N int values, prints all elements that appear in both arrays, in sorted order. The running time of your program should be proportional to N in the worst case.  "
   ]
  },
  {
   "attachments": {},
   "cell_type": "markdown",
   "metadata": {},
   "source": [
    "*Solution*:"
   ]
  },
  {
   "cell_type": "code",
   "execution_count": 8,
   "metadata": {},
   "outputs": [
    {
     "name": "stdout",
     "output_type": "stream",
     "text": [
      "0\n",
      "1\n",
      "2\n",
      "4\n",
      "5\n"
     ]
    }
   ],
   "source": [
    "def find_intersect(a, b):\n",
    "    ai = 0\n",
    "    bi = 0\n",
    "    while ai < len(a) and bi < len(b):\n",
    "        if a[ai] == b[bi]:\n",
    "            print(a[ai])\n",
    "            ai += 1\n",
    "            bi += 1\n",
    "        elif a[ai] > b[bi]:\n",
    "            bi += 1\n",
    "        elif b[bi] > a[ai]:\n",
    "            ai += 1\n",
    "\n",
    "a = [0, 1, 2, 3, 4, 5]\n",
    "b = [0, 1, 2,    4, 5, 6]\n",
    "find_intersect(a, b)"
   ]
  },
  {
   "attachments": {},
   "cell_type": "markdown",
   "metadata": {},
   "source": [
    "**<span style=\"background: Yellow\">1.4.5, ef - Yellow</span>**  Give tilde approximations for the following quantities:  \n",
    "e. $\\lg(2N)/\\lg N$  \n",
    "f. $\\lg(N^2+1)/\\lg N$"
   ]
  },
  {
   "attachments": {},
   "cell_type": "markdown",
   "metadata": {},
   "source": [
    "*Solution*:  \n",
    "e. \n",
    "$$\n",
    "    \\begin{align}\n",
    "    \\frac{\\lg(2N)}{\\lg N}=\\frac{\\lg(2)+\\lg(N)}{\\lg N}=\\frac{\\lg 2}{\\lg N}+\\frac{\\lg N}{\\lg N}=\\frac{\\lg 2}{\\lg N}+1 \\mathrel{\\mathop{=}\\limits_{N\\to\\infty}} 1&&\n",
    "    \\end{align}\n",
    "$$  \n",
    "f.\n",
    "$$\n",
    "    \\frac{\\lg(N^2+1)}{\\lg N}\\mathrel{\\mathop{=}\\limits_{N\\to\\infty}}\\frac{\\lg(N^2)}{\\lg N}\n",
    "$$"
   ]
  },
  {
   "attachments": {},
   "cell_type": "markdown",
   "metadata": {},
   "source": [
    "**<span style=\"background: Yellow\">1.4.1 - Yellow</span>**  Show that the number of different triples that can be chosen from $N$ items is precisely $N(N − 1)(N − 2)/6$. Hint: Use mathematical induction"
   ]
  },
  {
   "attachments": {},
   "cell_type": "markdown",
   "metadata": {},
   "source": [
    "*Solution*:  \n",
    "An ordered triple contains $3$ items. A triple can be ordered in $3!$ different ways. For a triple in $N$ items, it is first possible to choose from any of the $N$ items. For the second item, only $N-1$ items are left, and finally $N-2$ are left. Therefore, the total number of ordered triples in $N$ items is $N(N-1)(N-2)$, and to get the number of unordered triples, you need to divide by $3!$, or $N(N-1)(N-2)/3!$.  \n",
    "  \n",
    "*Induction proof*:\n",
    "$$\n",
    "    f(N)=\\frac{N(N-1)(N-2)}{6}=\\frac{N^3-3N^2+3N}{6}\n",
    "$$\n",
    "Base case:\n",
    "$$\n",
    "    f(3)=\\frac{3(3-1)(3-2)}{6}=\\frac{6}{6}=1\n",
    "$$\n",
    "Induction:\n",
    "$$\n",
    "    \\begin{align}\n",
    "    f(N+1)&=\\frac{(N+1)N(N-1)}{6} \\\\\n",
    "    &=\\frac{N^3-N}{6} \\\\\n",
    "    &=\\frac{N^3-N}{6}+\\frac{-3N^2}{6}+\\frac{3N^2}{6} \\\\\n",
    "    &=\\frac{N^3-3N^2-N}{6}+\\frac{3N^2}{6} \\\\\n",
    "    &=\\frac{N^3-3N^2-N}{6}+\\frac{3N^2}{6}+\\frac{4N}{6}+\\frac{-4N}{6} \\\\\n",
    "    &=\\frac{N^3-3N^2+3N}{6}+\\frac{3N^2}{6}+\\frac{-4N}{6} \\\\\n",
    "    &=\\frac{N^3-3N^2+3N}{6}+\\frac{3N^2-4N}{6} \\\\\n",
    "    \\end{align}\n",
    "$$\n",
    "somehow prove the other thing counts as the +1."
   ]
  },
  {
   "attachments": {},
   "cell_type": "markdown",
   "metadata": {},
   "source": [
    "**<span style=\"background: Yellow\">1.4.24 - Yellow</span>**  Suppose that you have an $N$-story building and plenty of eggs. Suppose also that an egg is broken if it is thrown off floor $F$ or higher, and unhurt otherwise. First, devise a strategy to determine the value of $F$ such that the number of broken eggs is $∼\\lg N$ when using $∼\\lg N$ throws, then find a way to reduce the cost to $∼2 \\lg F$."
   ]
  },
  {
   "attachments": {},
   "cell_type": "markdown",
   "metadata": {},
   "source": [
    "*Solution*:  \n",
    "We can use binary search to find $F$. If there are $N$ floors, we start on floor $N/2$ (rounding up). We throw an egg, if it breaks we go down, if it survives we go up. Binary search takes $\\sim\\lg N$.  \n",
    "$\\sim2\\lg F$ means we are allowed to do 2 operations that take $\\lg F$ time.  \n",
    "Start at $i=1$ and double it every time the egg survives. This will at most cost $\\lg F$.  \n",
    "When the egg no longer survives, we know $F$ lies within $[i/2,i[$. Here we can do binary search and this also costs $\\lg F$, as we know the interval can never be greater than $F$."
   ]
  },
  {
   "attachments": {},
   "cell_type": "markdown",
   "metadata": {},
   "source": [
    "**<span style=\"background: Red\">1.4.25 - Red</span>**  Consider question 1.4.24, but now suppose you only have two eggs, and your cost model is the number of throws. Devise a strategy to determine $F$ such that the number of throws is at most $2\\sqrt{N}$, then find a way to reduce the cost to $\\sim c\\sqrt{F}$. This is analogous to a situation where search hits (egg intact) are much cheaper than misses (egg broken)."
   ]
  },
  {
   "attachments": {},
   "cell_type": "markdown",
   "metadata": {},
   "source": [
    "*Solution*:  \n",
    "We are only allowed to break 1 egg, and we're allowed to do 2 operations that take $\\sqrt{N}$ time.  \n",
    "If we start at $1$ and then incrase by $i$ every time, where $i$ is the number of throws we've made, then we have the following pattern: 1, 3, 6, 10, 15...  \n",
    "This is the function $T(i)=T(i-1)+i$, $T(0)=1$ where $T(i)$ is the floor we are on and $i$ is the number of throws we've made. This is known as a triangular sum, and it equals approximately $\\frac{n^2}{2}$. Therefore  \n",
    "$$\n",
    "    T(i)\\approx\\frac{n^2}{2}\n",
    "$$\n",
    "rearranging a bit to isolate $i$, the number of throws:\n",
    "$$\n",
    "    i\\approx\\sqrt{T(i)\\cdot2}\n",
    "$$\n",
    "That means that the search increases with the square root of $T(i)$, which can never be more than $F+i$.  \n",
    "If the egg breaks at 15, we know $F$ is between 10 and 15. We've spent our first sqrt operation finding this interval.  \n",
    "Now we have to search the interval for $F$. This can be done with a linear search because the interval size is equal to $i$, and $i$ is again defined in reference to the square root of $F$."
   ]
  },
  {
   "attachments": {},
   "cell_type": "markdown",
   "metadata": {},
   "source": [
    "**<span style=\"background: Red\">1.4.18 - Red</span>**  Design a program that, given an array `a[]` of $N$ distinct integers, finds a local minimum: an index `i` such that `a[i-1]` $>$ `a[i]` $<$ `a[i+1]`. Note that for the edge case `i = 0` it is only necessary that `a[0]` be smaller than `a[1]`, and for `a[n-1]` it only needs to be smaller than `a[n-2]`.  \n",
    "Your program should use $∼2\\lg N$ compares in the worst case."
   ]
  },
  {
   "attachments": {},
   "cell_type": "markdown",
   "metadata": {},
   "source": [
    "*Solution*:  \n"
   ]
  },
  {
   "cell_type": "code",
   "execution_count": 21,
   "metadata": {},
   "outputs": [
    {
     "name": "stdout",
     "output_type": "stream",
     "text": [
      "Found middle with a[i]=[0]\n",
      "Found middle with a[i]=[2]\n",
      "Found middle with a[i]=[2]\n"
     ]
    }
   ],
   "source": [
    "def local_min(a):\n",
    "    mi = len(a) // 2\n",
    "    while mi != 0:\n",
    "\n",
    "        mi = len(a) // 2\n",
    "        le = mi-1 if mi > 0 else mi\n",
    "        ri = mi+1 if mi < len(a)-1 else mi\n",
    "\n",
    "        if a[le] < a[mi]:\n",
    "            a = a[:mi]\n",
    "            continue\n",
    "        if a[mi] > a[ri]:\n",
    "            a = a[mi+1:]\n",
    "            continue\n",
    "    print(f\"Found middle with a[i]={a}\")\n",
    "\n",
    "local_min([0, 1, 2, 3, 4, 5])\n",
    "local_min([4, 3, 2, 5, 6, 7, 1])\n",
    "local_min([1, 7, 6, 5, 2, 3, 4])"
   ]
  },
  {
   "attachments": {},
   "cell_type": "markdown",
   "metadata": {},
   "source": [
    "**<span style=\"background: Red\">1.4.29 - Red</span>**  Steque with two stacks. Design a steque (a stack-ended queue or steque is a data type that supports `push`, `pop`, and `enqueue`) with two stacks so that each steque operation takes a constant amortized number of stack operations."
   ]
  },
  {
   "attachments": {},
   "cell_type": "markdown",
   "metadata": {},
   "source": [
    "*Solution*:  \n",
    "Do all push and pop operations on stack A. When enqueue is run, push to stack B. When popping from stack A, and it is empty, pop all elements from stack B over to stack A."
   ]
  },
  {
   "attachments": {},
   "cell_type": "markdown",
   "metadata": {},
   "source": [
    "**<span style=\"background: Red\">1.4.30 - Red</span>**  Deque with a stack and a steque. Design a deque (a double-ended queue that supports pushLeft, pushRight, popLeft and popRight) with a stack and a steque so that each deque operation takes a constant amortized number of stack and steque operations."
   ]
  },
  {
   "attachments": {},
   "cell_type": "markdown",
   "metadata": {},
   "source": [
    "*Solution*:  \n",
    "PushLeft/PopLeft for the Stack. PushRight/PopRight for the deque. When the Stack is empty, pop half the elements in dequeue and enqueue them again. Then pop the other half over to Stack."
   ]
  },
  {
   "attachments": {},
   "cell_type": "markdown",
   "metadata": {},
   "source": [
    "**<span style=\"background: Red\">1.4.31 - Red</span>**  Deque with three stacks. Design a deque (a double-ended queue that supports pushLeft, pushRight, popLeft and popRight) with three stacks so that each deque operation takes a constant amortized number of stack operations"
   ]
  },
  {
   "attachments": {},
   "cell_type": "markdown",
   "metadata": {},
   "source": [
    "*Solution*:  \n",
    "Use 2 stacks to create a Steque. Then use the third stack and the steque to create the same deque as in 1.4.30.  \n",
    "OR:  \n",
    "Push/Pop-Right in stack A, Push/Pop-Left in stack B. If attempting to pop in stack B but it is empty, pop half of A into C, then the rest of A into B, then C into A. Do the opposite of A is empty and being popped."
   ]
  }
 ],
 "metadata": {
  "kernelspec": {
   "display_name": "ALDAS",
   "language": "python",
   "name": "python3"
  },
  "language_info": {
   "codemirror_mode": {
    "name": "ipython",
    "version": 3
   },
   "file_extension": ".py",
   "mimetype": "text/x-python",
   "name": "python",
   "nbconvert_exporter": "python",
   "pygments_lexer": "ipython3",
   "version": "3.7.16"
  },
  "orig_nbformat": 4,
  "vscode": {
   "interpreter": {
    "hash": "d7cd0d8e7f0fcc05bc3f15f767c06c6639152606485d5ea553a073ce540f3d5d"
   }
  }
 },
 "nbformat": 4,
 "nbformat_minor": 2
}
