{
 "cells": [
  {
   "attachments": {},
   "cell_type": "markdown",
   "metadata": {},
   "source": [
    "# ADS 2023 spring Week 2 Exercises\n",
    "Exercises for Algorithms and Data Structures at ITU. The exercises are from Algorithms, 4th Edition by Robert Sedgewick and Kevin Wayne unless otherwise specified. Color-coding of difficulty level and alterations to the exercises (if any) are made by the teachers of the ADS course at ITU."
   ]
  },
  {
   "attachments": {},
   "cell_type": "markdown",
   "metadata": {},
   "source": [
    "**<span style=\"background: LimeGreen\">1.4.5, abcd - Green</span>**  Give tilde approximations for the following quantities:  \n",
    "a. $N+1$  \n",
    "b. $1+1/N$  \n",
    "c. $(1+1/N)\\cdot(1+2/N)$  \n",
    "d. $2N^3-15N^2+N$  "
   ]
  },
  {
   "attachments": {},
   "cell_type": "markdown",
   "metadata": {},
   "source": [
    "*Solution*:  \n",
    "a. $~N$  \n",
    "b. $1$  \n",
    "c. $1$  \n",
    "d. $2N^3$  "
   ]
  },
  {
   "attachments": {},
   "cell_type": "markdown",
   "metadata": {},
   "source": [
    "**<span style=\"background: LimeGreen\">1.4.6 - Green</span>**  Give the order of growth (as a function of N) of the running times of each of the following code fragments:  \n",
    "a)  \n",
    "```python\n",
    "# Python\n",
    "sum = 0\n",
    "n = N\n",
    "while n > 0:\n",
    "    for i in range (0, n):\n",
    "        sum += 1\n",
    "    n //= 2\n",
    "```  \n",
    "b)  \n",
    "```python\n",
    "# Python\n",
    "sum = 0\n",
    "i = 1\n",
    "while i < N:\n",
    "    for j in range (0 , i):\n",
    "        sum += 1\n",
    "    i *= 2\n",
    "```  \n",
    "c)  \n",
    "```python\n",
    "# Python\n",
    "sum = 0\n",
    "i = 1\n",
    "while i < N:\n",
    "    for j in range (0 , N):\n",
    "        sum += \n",
    "    i *= 2\n",
    "```"
   ]
  },
  {
   "attachments": {},
   "cell_type": "markdown",
   "metadata": {},
   "source": [
    "*Soluton*:  \n",
    "a) Geometric sum: $2n-1$ or $O(n)$.  \n",
    "b) Geometric sum: $2n-1$ or $O(n)$.  \n",
    "c) Outer loop runs $O(\\log_2\\ n)$. Inner runs $O(n)$. Together they run $O(\\log_2\\ n)\\cdot O(n)=O(n\\log_2\\ n)$\n"
   ]
  },
  {
   "attachments": {},
   "cell_type": "markdown",
   "metadata": {},
   "source": [
    "**<span style=\"background: LimeGreen\">1.4.10 - Green</span>**  Modify binary search so that it always returns the element with the smallest index that matches the search element (and still guarantees logarithmic running time)."
   ]
  },
  {
   "attachments": {},
   "cell_type": "markdown",
   "metadata": {},
   "source": [
    "*Solution*:\n",
    "Normal binary search. When middle reaches target value, always set it to higher.  "
   ]
  },
  {
   "cell_type": "code",
   "execution_count": 14,
   "metadata": {},
   "outputs": [
    {
     "name": "stdout",
     "output_type": "stream",
     "text": [
      "5\n",
      "3\n",
      "0\n"
     ]
    }
   ],
   "source": [
    "def binary_search(a: list, t: int):\n",
    "    lo, hi = 0, len(a) - 1\n",
    "    if a[0] == t:\n",
    "        return 0\n",
    "    while lo + 1 < hi:\n",
    "        mid = lo + ((hi - lo) // 2)\n",
    "        if a[mid] >= t:\n",
    "            hi = mid\n",
    "        if a[mid] < t:\n",
    "            lo = mid\n",
    "    if a[hi] != t:\n",
    "        return -1\n",
    "    return hi\n",
    "\n",
    "a = [0, 1, 2, 3, 4, 5, 6, 7, 8, 9]\n",
    "b = [0, 0, 0, 1, 1, 1, 2, 2, 2, 3]\n",
    "c = [0, 0, 0, 0, 0, 0, 0, 0, 0, 0]\n",
    "\n",
    "print(binary_search(a, 5))\n",
    "print(binary_search(b, 1))\n",
    "print(binary_search(c, 0))"
   ]
  },
  {
   "attachments": {},
   "cell_type": "markdown",
   "metadata": {},
   "source": [
    "**<span style=\"background: LimeGreen\">1.4.12 - Green</span>**  Design a program that, given two sorted arrays of N int values, prints all elements that appear in both arrays, in sorted order. The running time of your program should be proportional to N in the worst case.  "
   ]
  },
  {
   "attachments": {},
   "cell_type": "markdown",
   "metadata": {},
   "source": [
    "*Solution*:"
   ]
  },
  {
   "cell_type": "code",
   "execution_count": null,
   "metadata": {},
   "outputs": [],
   "source": []
  },
  {
   "attachments": {},
   "cell_type": "markdown",
   "metadata": {},
   "source": [
    "**<span style=\"background: LimeGreen\">1.3.21 - Green</span>**  Explain how one could desing a method find() that takes a linked list and a string key as arguments and returns true if some node in the list has key as its item field, false otherwise."
   ]
  },
  {
   "attachments": {},
   "cell_type": "markdown",
   "metadata": {},
   "source": [
    "*Solution*:\n",
    "Loop through every elemen in the list and return True if a match is found"
   ]
  },
  {
   "attachments": {},
   "cell_type": "markdown",
   "metadata": {},
   "source": [
    "**<span style=\"background: LimeGreen\">1.3.22 - Green</span>**  Suppose that x is a linked list Node. What does the following code fragment do? (This question is also in the quiz, but necessary for the question below).\n",
    "```python\n",
    "t.next = x.next\n",
    "x.next = t\n",
    "```"
   ]
  },
  {
   "attachments": {},
   "cell_type": "markdown",
   "metadata": {},
   "source": [
    "*Solution*:  \n",
    "Inserts x at the position before t, and points t to the element x used to point to.  \n",
    "But breaks the structure of the linked list in case t already has an element pointing to it."
   ]
  },
  {
   "attachments": {},
   "cell_type": "markdown",
   "metadata": {},
   "source": [
    "**<span style=\"background: LimeGreen\">1.3.23 - Green</span>**  Why does the following code fragment not do the same thing as in the previous question?\n",
    "```python\n",
    "x.next = t\n",
    "t.next = x.next\n",
    "```"
   ]
  },
  {
   "attachments": {},
   "cell_type": "markdown",
   "metadata": {},
   "source": [
    "*Solution*:  \n",
    "Makes x point to t, and t point to itself."
   ]
  },
  {
   "attachments": {},
   "cell_type": "markdown",
   "metadata": {},
   "source": [
    "**<span style=\"background: LimeGreen\">1.3.27 - Green</span>**  Suppose that you get a reference for the first node in a linked list. Describe how you can find and output the maximum key in the list. Assume that all keys are positive integers, and return 0 if the list is empty."
   ]
  },
  {
   "attachments": {},
   "cell_type": "markdown",
   "metadata": {},
   "source": [
    "*Solution*:  \n",
    "Loop through the list while keeping track of the index. Return the index when final element is reached."
   ]
  },
  {
   "attachments": {},
   "cell_type": "markdown",
   "metadata": {},
   "source": [
    "**<span style=\"background: Yellow\">1.3.24 - Yellow</span>**  Explain how you would design a method/function removeAfter() that takes a linked-list Node as argument and removes the node following the given one (and does nothing if the argument or the next field in the argument node is null)."
   ]
  },
  {
   "attachments": {},
   "cell_type": "markdown",
   "metadata": {},
   "source": [
    "*Solution*:  \n",
    "Iterate through the list until the given element is reached. Then set the element to reference null."
   ]
  },
  {
   "attachments": {},
   "cell_type": "markdown",
   "metadata": {},
   "source": [
    "**<span style=\"background: Yellow\">1.3.25 - Yellow</span>**  Explain how you would design a method/function insertAfter() that takes two linked-list nodes (n1 and n2) as arguments. Assume that n1 is in a list, and insert n2 immediately after n1. Do nothing if either argument is null."
   ]
  },
  {
   "attachments": {},
   "cell_type": "markdown",
   "metadata": {},
   "source": [
    "*Solution*:  \n",
    "```py\n",
    "n2.next = n1.next\n",
    "n1.next = n2\n",
    "```"
   ]
  },
  {
   "attachments": {},
   "cell_type": "markdown",
   "metadata": {},
   "source": [
    "**<span style=\"background: Yellow\">1.3.28 - Yellow</span>**  Develop a recursive solution to the previous question (1.3.27)"
   ]
  },
  {
   "attachments": {},
   "cell_type": "markdown",
   "metadata": {},
   "source": [
    "*Solution*:  \n",
    "```py\n",
    "def search(node, i=0):\n",
    "    if node == None:\n",
    "        return i\n",
    "    search(node.next, i+1)\n",
    "\n",
    "search(LinkedList._first)\n",
    "```"
   ]
  },
  {
   "attachments": {},
   "cell_type": "markdown",
   "metadata": {},
   "source": [
    "**<span style=\"background: Red\">1.3.31 - Green</span>**  A doubly-linked list is a linked list, where each node contains a reference to the previous node in the list in addition to the reference to the next node. We define the nodes of this list to be of the class DoubleNode. Explain how the class DoubleNode differs from a regular Node class in a linked list, and make a drawing of a doubly-linked list data structure.  \n",
    "Next, describe how the following methods/functions work in a doubly-linked list: Insert at the beginning, insert at the end, remove from the beginning, remove from the end, insert before a given node, insert after a given node, and remove a given node."
   ]
  },
  {
   "attachments": {},
   "cell_type": "markdown",
   "metadata": {},
   "source": [
    "*Solution*:  \n",
    "List structure:  \n",
    "```\n",
    ".next +-+ -> +-+ -> +-+\n",
    ".item |A|    |B|    |C|\n",
    ".last +-+ <- +-+ <- +-+\n",
    "```"
   ]
  },
  {
   "cell_type": "code",
   "execution_count": null,
   "metadata": {},
   "outputs": [],
   "source": [
    "class DoubleNode:\n",
    "    def __init__(self) -> None:\n",
    "        self.next = None\n",
    "        self.last = None\n",
    "        self.item = None\n",
    "\n",
    "class DoublyLinkedList:\n",
    "    def __init__(self) -> None:\n",
    "        self._first = DoubleNode\n",
    "        self._last = DoubleNode\n",
    "    \n",
    "    def push_end(self, item):\n",
    "        oldlast = self._last\n",
    "        self._last = DoubleNode()\n",
    "        self._last.item = item\n",
    "        self._last.last = oldlast\n",
    "        oldlast.next = self._last\n",
    "    \n",
    "    def push_beginning(self, item):\n",
    "        oldfirst = self._first\n",
    "        self._first = DoubleNode()\n",
    "        self._first.item = item\n",
    "        self._first.next = oldfirst\n",
    "        oldfirst.last = self._first\n",
    "    \n",
    "    def pop_end(self):\n",
    "        oldLast = self._last\n",
    "        self._last = self._last.last\n",
    "        self._last.next = None\n",
    "        return oldLast\n",
    "    \n",
    "    def pop_beginnig(self):\n",
    "        oldfirst = self._first\n",
    "        self._first = self._first.next\n",
    "        self._first.last = None\n",
    "        return oldfirst\n",
    "    \n",
    "    def insert_before(self, existing: DoubleNode, to_insert: DoubleNode):\n",
    "        to_insert.last = existing.last\n",
    "        to_insert.next = existing\n",
    "        existing.last.next = to_insert\n",
    "        existing.last = to_insert\n",
    "    \n",
    "    def insert_after(self, existing: DoubleNode, to_insert: DoubleNode):\n",
    "        to_insert.last = existing\n",
    "        to_insert.next = existing.next\n",
    "        existing.next.last = to_insert\n",
    "        existing.next = to_insert\n",
    "    \n",
    "    def remove(self, node: DoubleNode):\n",
    "        node.last.next = node.next\n",
    "        node.next.last = node.last\n"
   ]
  },
  {
   "attachments": {},
   "cell_type": "markdown",
   "metadata": {},
   "source": [
    "**<span style=\"background: Red\">1.3.48 - Green</span>**  A double-ended queue or deque (pronounced “deck”) is like a stack or a queue but supports adding and removing items at both ends, so where a regular stack has a push() function, a deque has both pushLeft() and pushRight() functions and similarly a deque has popLeft() and popRight() functions instead of just a pop() function.  \n",
    "How can two stacks be implemented using a single deque so that each operation takes a constant number of deque operations?"
   ]
  },
  {
   "attachments": {},
   "cell_type": "markdown",
   "metadata": {},
   "source": [
    "*Solution*:  \n",
    "Have a \"Wall element\" in the list. When trying to pop the wall element, instead return an error or null, as the bottom of the stack has been reached."
   ]
  }
 ],
 "metadata": {
  "kernelspec": {
   "display_name": "ALDAS",
   "language": "python",
   "name": "python3"
  },
  "language_info": {
   "codemirror_mode": {
    "name": "ipython",
    "version": 3
   },
   "file_extension": ".py",
   "mimetype": "text/x-python",
   "name": "python",
   "nbconvert_exporter": "python",
   "pygments_lexer": "ipython3",
   "version": "3.7.12"
  },
  "orig_nbformat": 4,
  "vscode": {
   "interpreter": {
    "hash": "48ca78890206568d2b71363fdb2554af7b2d8b6b9898fd7fcb21dcda8e605fc3"
   }
  }
 },
 "nbformat": 4,
 "nbformat_minor": 2
}
