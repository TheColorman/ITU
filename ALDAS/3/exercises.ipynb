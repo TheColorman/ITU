{
 "cells": [
  {
   "attachments": {},
   "cell_type": "markdown",
   "metadata": {},
   "source": [
    "# ADS 2023 spring Week 2 Exercises\n",
    "Exercises for Algorithms and Data Structures at ITU. The exercises are from Algorithms, 4th Edition by Robert Sedgewick and Kevin Wayne unless otherwise specified. Color-coding of difficulty level and alterations to the exercises (if any) are made by the teachers of the ADS course at ITU."
   ]
  },
  {
   "attachments": {},
   "cell_type": "markdown",
   "metadata": {},
   "source": [
    "**<span style=\"background: LimeGreen\">2.1.1 Selection Sort - Green</span>**  Show in the style of the example trace with Algorithm 2.1\n",
    "from the book [SW 2.1], how selection sort sorts the array `E A S Y Q U E S T I O N`."
   ]
  },
  {
   "cell_type": "markdown",
   "metadata": {},
   "source": [
    "*Solution*:  "
   ]
  },
  {
   "attachments": {},
   "cell_type": "markdown",
   "metadata": {},
   "source": [
    "**<span style=\"background: LimeGreen\">2.1.4 Insertion Sort - Green</span>**  Show in the style of the example trace with Algorithm 2.2\n",
    "from the book [SW 2.1], how insertion sort sorts the array `E A S Y Q U E S T I O N`."
   ]
  },
  {
   "cell_type": "markdown",
   "metadata": {},
   "source": [
    "*Solution*:  "
   ]
  },
  {
   "attachments": {},
   "cell_type": "markdown",
   "metadata": {},
   "source": [
    "**<span style=\"background: LimeGreen\">2.2.2 Merge Sort - Green</span>**  Show in the style of the example trace with Algorithm 2.4 from\n",
    "the book [SW 2.2], how top-down mergesort sorts the keys `E A S Y Q U E S T I O N`."
   ]
  },
  {
   "cell_type": "markdown",
   "metadata": {},
   "source": [
    "*Solution*:  "
   ]
  },
  {
   "attachments": {},
   "cell_type": "markdown",
   "metadata": {},
   "source": [
    "**<span style=\"background: LimeGreen\">2.1.6 Identical Keys - Green</span>**  Which method runs faster for an array with all keys identical, selection sort or insertion sort?"
   ]
  },
  {
   "cell_type": "markdown",
   "metadata": {},
   "source": [
    "*Solution*:  "
   ]
  },
  {
   "attachments": {},
   "cell_type": "markdown",
   "metadata": {},
   "source": [
    "**<span style=\"background: LimeGreen\">2.1.7 Reverse Order - Green</span>**  Which method runs faster for an array in reverse order, selection sort or insertion sort?"
   ]
  },
  {
   "attachments": {},
   "cell_type": "markdown",
   "metadata": {},
   "source": [
    "*Solution*:  \n",
    "Both of their worst-case scenarios take $\\frac{1}{2}n^2$ comaprisons."
   ]
  },
  {
   "attachments": {},
   "cell_type": "markdown",
   "metadata": {},
   "source": [
    "**<span style=\"background: Yellow\">2.1.8 Random Order - Yellow</span>**  Suppose we use insertion sort on a randomly ordered array where items have only one of three values. Is the running time linear, quadratic or something in between?\n"
   ]
  },
  {
   "attachments": {},
   "cell_type": "markdown",
   "metadata": {},
   "source": [
    "*Solution*:  \n",
    "There are only 3 types of elemenets, e.g. 1, 2 and 3.  \n",
    "Therefore, inserting 3 will always take constant time, inserting 1 will take $n-1$ time in worst case. Inserting 2 will take time based on how many 3s there are. Therefore, it is impossible to have an $n$ time insertion with $n$ elements, as it requires $n-1$ of the elements to have constant time insertion. Therefore it is linear.  "
   ]
  },
  {
   "attachments": {},
   "cell_type": "markdown",
   "metadata": {},
   "source": [
    "**<span style=\"background: Yellow\">2.2.15 Bottom-up Queue Mergesort - Yellow</span>**  Explain how to take two queues of sorted items and merge them into a single queue which is in sorted order.  "
   ]
  },
  {
   "attachments": {},
   "cell_type": "markdown",
   "metadata": {},
   "source": [
    "*Solution*:  \n",
    "Dequeuing is basically the same as a reverse sorted stack, so we can just do mergesort but take the largest element instead of the smallest one."
   ]
  },
  {
   "attachments": {},
   "cell_type": "markdown",
   "metadata": {},
   "source": [
    "**<span style=\"background: Yellow\">2.1.13 Deck Sort - Yellow</span>**  Explain how you would put a deck of cards in order by suit (in the order spades, hearts, clubs, diamonds) and by rank within each suit, with the restriction that cards must be laid out face down in a row, and the only allowed operations are to check the values of two cards and to exchange two cards (keeping them face down)."
   ]
  },
  {
   "attachments": {},
   "cell_type": "markdown",
   "metadata": {},
   "source": [
    "*Solution*:  \n",
    "Any sorting algorithm would work with a good `compareTo` method."
   ]
  },
  {
   "attachments": {},
   "cell_type": "markdown",
   "metadata": {},
   "source": [
    "**<span style=\"background: Yellow\">2.2.17 Linked-list Sort - Yellow</span>**  Implement a natural mergesort for linked lists. Use only constant amount of extra space and linearithmic time."
   ]
  },
  {
   "attachments": {},
   "cell_type": "markdown",
   "metadata": {},
   "source": [
    "*Solution*:  \n",
    "Split the linked list on the middle and keep elements to the two new first elements. Recursively split those until we're left with 2-length lists, where we then connect them based on the merge.  \n",
    "The following code should be taken more as pseudocode, as it may not actually work without a few tweaks."
   ]
  },
  {
   "cell_type": "code",
   "execution_count": 1,
   "metadata": {},
   "outputs": [],
   "source": [
    "def mergeSort(first, size):\n",
    "    if first.next == None:\n",
    "        return first\n",
    "    \n",
    "    el = first\n",
    "    for i in range(size // 2):\n",
    "        el = el.next\n",
    "    second = el.next\n",
    "    el.next = None\n",
    "\n",
    "    first = mergeSort(first, size // 2)\n",
    "    second = mergeSort(second, size // 2)\n",
    "    return merge(first, second)\n",
    "\n",
    "def merge(first, second):\n",
    "    newFirst = first if first.val <= second.val else second\n",
    "    newFirst.next = None\n",
    "    previous = None\n",
    "\n",
    "    while first.next and second.next:\n",
    "        if first.val <= second.val:\n",
    "            smallest = first\n",
    "            first = first.next\n",
    "        else:\n",
    "            smallest = second\n",
    "            second = second.next\n",
    "\n",
    "        if newFirst.next == None:\n",
    "            newFirst.next = smallest\n",
    "        \n",
    "        previous.next = smallest\n",
    "        previous = smallest\n",
    "\n",
    "    return newFirst"
   ]
  },
  {
   "attachments": {},
   "cell_type": "markdown",
   "metadata": {},
   "source": [
    "**<span style=\"background: Red\">2.1.14 Dequeue Sort - Red</span>**  Explain how you would sort a deck of cards, with the restriction that the only allowed operations are to look at the values of the top two cards, to exchange the top two cards, and to move the top card to the bottom of the deck."
   ]
  },
  {
   "attachments": {},
   "cell_type": "markdown",
   "metadata": {},
   "source": [
    "*Solution*:  \n",
    "Look at the first two cards and move the biggest to the back of the deck. Repeat until sorted.  "
   ]
  },
  {
   "attachments": {},
   "cell_type": "markdown",
   "metadata": {},
   "source": [
    "**<span style=\"background: Red\">2.2.16 Natural merge sort - Red</span>**  Write a version of bottom-up mergesort that takes advantage of order in the input array by using the following idea: Use one additional array of the same length as the input. Work in rounds, in each round repeatedly identify two sorted subarrays in one array by scanning (incrementing a pointer as long as the pointed at cell and its neighbor are sorted), then merge these into the other array. Analyze the running time in terms of the array length and the number of maximal increasing sequences in the array."
   ]
  },
  {
   "cell_type": "markdown",
   "metadata": {},
   "source": [
    "*Solution*:  \n"
   ]
  },
  {
   "attachments": {},
   "cell_type": "markdown",
   "metadata": {},
   "source": [
    "**<span style=\"background: Red\">2.2.21 (variant) Triplicates - Red</span>**  Given three lexicographically sorted lists of $n$ strings with a total of $m$ characters. Devise an algorithm that finds the lexicographically smallest string that is contained in all lists. How many string comparisons does your algorithm perform? How many character comparisons does your algorithm perform?"
   ]
  },
  {
   "attachments": {},
   "cell_type": "markdown",
   "metadata": {},
   "source": [
    "*Solution*:  \n"
   ]
  }
 ],
 "metadata": {
  "kernelspec": {
   "display_name": "ALDAS",
   "language": "python",
   "name": "python3"
  },
  "language_info": {
   "codemirror_mode": {
    "name": "ipython",
    "version": 3
   },
   "file_extension": ".py",
   "mimetype": "text/x-python",
   "name": "python",
   "nbconvert_exporter": "python",
   "pygments_lexer": "ipython3",
   "version": "3.7.12"
  },
  "orig_nbformat": 4,
  "vscode": {
   "interpreter": {
    "hash": "48ca78890206568d2b71363fdb2554af7b2d8b6b9898fd7fcb21dcda8e605fc3"
   }
  }
 },
 "nbformat": 4,
 "nbformat_minor": 2
}
