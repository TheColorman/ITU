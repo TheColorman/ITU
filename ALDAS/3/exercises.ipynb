{
 "cells": [
  {
   "attachments": {},
   "cell_type": "markdown",
   "metadata": {},
   "source": [
    "# ADS 2023 spring Week 2 Exercises\n",
    "Exercises for Algorithms and Data Structures at ITU. The exercises are from Algorithms, 4th Edition by Robert Sedgewick and Kevin Wayne unless otherwise specified. Color-coding of difficulty level and alterations to the exercises (if any) are made by the teachers of the ADS course at ITU."
   ]
  },
  {
   "attachments": {},
   "cell_type": "markdown",
   "metadata": {},
   "source": [
    "**<span style=\"background: LimeGreen\">1.4.5, abcd - Green</span>**  Give tilde approximations for the following quantities:  \n",
    "a. $N+1$  \n",
    "b. $1+1/N$  \n",
    "c. $(1+1/N)\\cdot(1+2/N)$  \n",
    "d. $2N^3-15N^2+N$  "
   ]
  },
  {
   "attachments": {},
   "cell_type": "markdown",
   "metadata": {},
   "source": [
    "*Solution*:  \n",
    "a. $~N$  \n",
    "b. $1$  \n",
    "c. $1$  \n",
    "d. $2N^3$  "
   ]
  },
  {
   "attachments": {},
   "cell_type": "markdown",
   "metadata": {},
   "source": [
    "**<span style=\"background: LimeGreen\">1.4.6 - Green</span>**  Give the order of growth (as a function of N) of the running times of each of the following code fragments:  \n",
    "a)  \n",
    "```python\n",
    "# Python\n",
    "sum = 0\n",
    "n = N\n",
    "while n > 0:\n",
    "    for i in range (0, n):\n",
    "        sum += 1\n",
    "    n //= 2\n",
    "```  \n",
    "b)  \n",
    "```python\n",
    "# Python\n",
    "sum = 0\n",
    "i = 1\n",
    "while i < N:\n",
    "    for j in range (0 , i):\n",
    "        sum += 1\n",
    "    i *= 2\n",
    "```  \n",
    "c)  \n",
    "```python\n",
    "# Python\n",
    "sum = 0\n",
    "i = 1\n",
    "while i < N:\n",
    "    for j in range (0 , N):\n",
    "        sum += \n",
    "    i *= 2\n",
    "```"
   ]
  },
  {
   "attachments": {},
   "cell_type": "markdown",
   "metadata": {},
   "source": [
    "*Soluton*:  \n",
    "a) Geometric sum: $2n-1$ or $O(n)$.  \n",
    "b) Geometric sum: $2n-1$ or $O(n)$.  \n",
    "c) Outer loop runs $O(\\log_2\\ n)$. Inner runs $O(n)$. Together they run $O(\\log_2\\ n)\\cdot O(n)=O(n\\log_2\\ n)$\n"
   ]
  },
  {
   "attachments": {},
   "cell_type": "markdown",
   "metadata": {},
   "source": [
    "**<span style=\"background: LimeGreen\">1.4.10 - Green</span>**  Modify binary search so that it always returns the element with the smallest index that matches the search element (and still guarantees logarithmic running time)."
   ]
  },
  {
   "attachments": {},
   "cell_type": "markdown",
   "metadata": {},
   "source": [
    "*Solution*:\n",
    "Normal binary search. When middle reaches target value, always set it to higher.  "
   ]
  },
  {
   "cell_type": "code",
   "execution_count": 14,
   "metadata": {},
   "outputs": [
    {
     "name": "stdout",
     "output_type": "stream",
     "text": [
      "5\n",
      "3\n",
      "0\n"
     ]
    }
   ],
   "source": [
    "def binary_search(a: list, t: int):\n",
    "    lo, hi = 0, len(a) - 1\n",
    "    if a[0] == t:\n",
    "        return 0\n",
    "    while lo + 1 < hi:\n",
    "        mid = lo + ((hi - lo) // 2)\n",
    "        if a[mid] >= t:\n",
    "            hi = mid\n",
    "        if a[mid] < t:\n",
    "            lo = mid\n",
    "    if a[hi] != t:\n",
    "        return -1\n",
    "    return hi\n",
    "\n",
    "a = [0, 1, 2, 3, 4, 5, 6, 7, 8, 9]\n",
    "b = [0, 0, 0, 1, 1, 1, 2, 2, 2, 3]\n",
    "c = [0, 0, 0, 0, 0, 0, 0, 0, 0, 0]\n",
    "\n",
    "print(binary_search(a, 5))\n",
    "print(binary_search(b, 1))\n",
    "print(binary_search(c, 0))"
   ]
  },
  {
   "attachments": {},
   "cell_type": "markdown",
   "metadata": {},
   "source": [
    "**<span style=\"background: LimeGreen\">1.4.12 - Green</span>**  Design a program that, given two sorted arrays of N int values, prints all elements that appear in both arrays, in sorted order. The running time of your program should be proportional to N in the worst case.  "
   ]
  },
  {
   "attachments": {},
   "cell_type": "markdown",
   "metadata": {},
   "source": [
    "*Solution*:"
   ]
  },
  {
   "cell_type": "code",
   "execution_count": 8,
   "metadata": {},
   "outputs": [
    {
     "name": "stdout",
     "output_type": "stream",
     "text": [
      "0\n",
      "1\n",
      "2\n",
      "4\n",
      "5\n"
     ]
    }
   ],
   "source": [
    "def find_intersect(a, b):\n",
    "    ai = 0\n",
    "    bi = 0\n",
    "    while ai < len(a) and bi < len(b):\n",
    "        if a[ai] == b[bi]:\n",
    "            print(a[ai])\n",
    "            ai += 1\n",
    "            bi += 1\n",
    "        elif a[ai] > b[bi]:\n",
    "            bi += 1\n",
    "        elif b[bi] > a[ai]:\n",
    "            ai += 1\n",
    "\n",
    "a = [0, 1, 2, 3, 4, 5]\n",
    "b = [0, 1, 2,    4, 5, 6]\n",
    "find_intersect(a, b)"
   ]
  },
  {
   "attachments": {},
   "cell_type": "markdown",
   "metadata": {},
   "source": [
    "**<span style=\"background: Yellow\">1.4.5, ef - Yellow</span>**  Give tilde approximations for the following quantities:  \n",
    "e. $\\lg(2N)/\\lg N$  \n",
    "f. $\\lg(N^2+1)/\\lg N$"
   ]
  },
  {
   "attachments": {},
   "cell_type": "markdown",
   "metadata": {},
   "source": [
    "*Solution*:  \n",
    "e. $~1$. Remove the $2$ and simplify.  \n",
    "f. $~\\lg(N^2)/\\lg N$"
   ]
  },
  {
   "attachments": {},
   "cell_type": "markdown",
   "metadata": {},
   "source": [
    "**<span style=\"background: Yellow\">1.4.1 - Yellow</span>**  Show that the number of different triples that can be chosen from $N$ items is precisely $N(N − 1)(N − 2)/6$. Hint: Use mathematical induction"
   ]
  },
  {
   "attachments": {},
   "cell_type": "markdown",
   "metadata": {},
   "source": [
    "*Solution*:  \n",
    "An ordered triple contains $3$ items. A triple can be ordered in $3!$ different ways. For a triple in $N$ items, it is first possible to choose from any of the $N$ items. For the second item, only $N-1$ items are left, and finally $N-2$ are left. Therefore, the total number of ordered triples in $N$ items is $N(N-1)(N-2)$, and to get the number of unordered triples, you need to divide by $3!$, or $N(N-1)(N-2)/3!$.  \n",
    "I don't know how to do induction :)"
   ]
  },
  {
   "attachments": {},
   "cell_type": "markdown",
   "metadata": {},
   "source": [
    "**<span style=\"background: Yellow\">1.4.24 - Yellow</span>**  Suppose that you have an $N$-story building and plenty of eggs. Suppose also that an egg is broken if it is thrown off floor $F$ or higher, and unhurt otherwise. First, devise a strategy to determine the value of $F$ such that the number of broken eggs is $∼\\lg N$ when using $∼\\lg N$ throws, then find a way to reduce the cost to $∼2 \\lg F$."
   ]
  },
  {
   "attachments": {},
   "cell_type": "markdown",
   "metadata": {},
   "source": [
    "*Solution*:  \n",
    "We can use binary search to find $F$. If there are $N$ floors, we start on floor $N/2$ (rounding up). We throw an egg, if it breaks we go down, if it survives we go up. Binary search takes $~\\lg N$.  \n",
    "No idea how to reduce it to $~2\\lg F$."
   ]
  },
  {
   "attachments": {},
   "cell_type": "markdown",
   "metadata": {},
   "source": [
    "**<span style=\"background: Red\">1.4.25 - Red</span>**  Consider question 1.4.24, but now suppose you only have two eggs, and your cost model is the number of throws. Devise a strategy to determine $F$ such that the number of throws is at most $2\\sqrt{N}$, then find a way to reduce the cost to $∼c\\sqrt{F}$. This is analogous to a situation where search hits (egg intact) are much cheaper than misses (egg broken)."
   ]
  },
  {
   "attachments": {},
   "cell_type": "markdown",
   "metadata": {},
   "source": [
    "*Solution*:  \n"
   ]
  },
  {
   "attachments": {},
   "cell_type": "markdown",
   "metadata": {},
   "source": [
    "**<span style=\"background: Red\">1.4.18 - Red</span>**  Design a program that, given an array `a[]` of $N$ distinct integers, finds a local minimum: an index `i` such that `a[i-1]` $>$ `a[i]` $<$ `a[i+1]`. Note that for the edge case `i = 0` it is only necessary that `a[0]` be smaller than `a[1]`, and for `a[n-1]` it only needs to be smaller than `a[n-2]`.  \n",
    "Your program should use $∼2\\lg N$ compares in the worst case."
   ]
  },
  {
   "attachments": {},
   "cell_type": "markdown",
   "metadata": {},
   "source": [
    "*Solution*:  \n"
   ]
  },
  {
   "cell_type": "code",
   "execution_count": 16,
   "metadata": {},
   "outputs": [
    {
     "ename": "KeyboardInterrupt",
     "evalue": "",
     "output_type": "error",
     "traceback": [
      "\u001b[0;31m---------------------------------------------------------------------------\u001b[0m",
      "\u001b[0;31mKeyboardInterrupt\u001b[0m                         Traceback (most recent call last)",
      "\u001b[0;32m<ipython-input-16-1f10b977f12f>\u001b[0m in \u001b[0;36m<module>\u001b[0;34m\u001b[0m\n\u001b[1;32m     15\u001b[0m \u001b[0;34m\u001b[0m\u001b[0m\n\u001b[1;32m     16\u001b[0m \u001b[0;34m\u001b[0m\u001b[0m\n\u001b[0;32m---> 17\u001b[0;31m \u001b[0mlocal_min\u001b[0m\u001b[0;34m(\u001b[0m\u001b[0;34m[\u001b[0m\u001b[0;36m9\u001b[0m\u001b[0;34m,\u001b[0m \u001b[0;36m8\u001b[0m\u001b[0;34m,\u001b[0m \u001b[0;36m7\u001b[0m\u001b[0;34m,\u001b[0m \u001b[0;36m6\u001b[0m\u001b[0;34m,\u001b[0m \u001b[0;36m7\u001b[0m\u001b[0;34m,\u001b[0m \u001b[0;36m8\u001b[0m\u001b[0;34m,\u001b[0m \u001b[0;36m7\u001b[0m\u001b[0;34m,\u001b[0m \u001b[0;36m6\u001b[0m\u001b[0;34m,\u001b[0m \u001b[0;36m5\u001b[0m\u001b[0;34m,\u001b[0m \u001b[0;36m4\u001b[0m\u001b[0;34m,\u001b[0m \u001b[0;36m4\u001b[0m\u001b[0;34m,\u001b[0m \u001b[0;36m4\u001b[0m\u001b[0;34m,\u001b[0m \u001b[0;36m5\u001b[0m\u001b[0;34m,\u001b[0m \u001b[0;36m6\u001b[0m\u001b[0;34m]\u001b[0m\u001b[0;34m)\u001b[0m\u001b[0;34m\u001b[0m\u001b[0;34m\u001b[0m\u001b[0m\n\u001b[0m",
      "\u001b[0;32m<ipython-input-16-1f10b977f12f>\u001b[0m in \u001b[0;36mlocal_min\u001b[0;34m(a)\u001b[0m\n\u001b[1;32m      8\u001b[0m         \u001b[0;32mreturn\u001b[0m \u001b[0ma\u001b[0m\u001b[0;34m[\u001b[0m\u001b[0mi\u001b[0m\u001b[0;34m-\u001b[0m\u001b[0;36m1\u001b[0m\u001b[0;34m]\u001b[0m \u001b[0;34m>\u001b[0m \u001b[0ma\u001b[0m\u001b[0;34m[\u001b[0m\u001b[0mi\u001b[0m\u001b[0;34m]\u001b[0m \u001b[0;32mand\u001b[0m \u001b[0ma\u001b[0m\u001b[0;34m[\u001b[0m\u001b[0mi\u001b[0m\u001b[0;34m+\u001b[0m\u001b[0;36m1\u001b[0m\u001b[0;34m]\u001b[0m \u001b[0;34m>\u001b[0m \u001b[0ma\u001b[0m\u001b[0;34m[\u001b[0m\u001b[0mi\u001b[0m\u001b[0;34m]\u001b[0m\u001b[0;34m\u001b[0m\u001b[0;34m\u001b[0m\u001b[0m\n\u001b[1;32m      9\u001b[0m \u001b[0;34m\u001b[0m\u001b[0m\n\u001b[0;32m---> 10\u001b[0;31m     \u001b[0;32mwhile\u001b[0m \u001b[0;32mnot\u001b[0m \u001b[0mlocal_min\u001b[0m\u001b[0;34m(\u001b[0m\u001b[0ma\u001b[0m\u001b[0;34m,\u001b[0m \u001b[0mmid\u001b[0m\u001b[0;34m)\u001b[0m\u001b[0;34m:\u001b[0m\u001b[0;34m\u001b[0m\u001b[0;34m\u001b[0m\u001b[0m\n\u001b[0m\u001b[1;32m     11\u001b[0m         \u001b[0mvelocity\u001b[0m \u001b[0;34m=\u001b[0m \u001b[0ma\u001b[0m\u001b[0;34m[\u001b[0m\u001b[0mmid\u001b[0m\u001b[0;34m-\u001b[0m\u001b[0;36m1\u001b[0m\u001b[0;34m]\u001b[0m \u001b[0;34m-\u001b[0m \u001b[0ma\u001b[0m\u001b[0;34m[\u001b[0m\u001b[0mmid\u001b[0m\u001b[0;34m]\u001b[0m\u001b[0;34m\u001b[0m\u001b[0;34m\u001b[0m\u001b[0m\n\u001b[1;32m     12\u001b[0m         \u001b[0mmid\u001b[0m \u001b[0;34m+=\u001b[0m \u001b[0mvelocity\u001b[0m\u001b[0;34m\u001b[0m\u001b[0;34m\u001b[0m\u001b[0m\n",
      "\u001b[0;32m<ipython-input-16-1f10b977f12f>\u001b[0m in \u001b[0;36mlocal_min\u001b[0;34m(a, i)\u001b[0m\n\u001b[1;32m      2\u001b[0m     \u001b[0mmid\u001b[0m \u001b[0;34m=\u001b[0m \u001b[0mlen\u001b[0m\u001b[0;34m(\u001b[0m\u001b[0ma\u001b[0m\u001b[0;34m)\u001b[0m\u001b[0;34m//\u001b[0m\u001b[0;36m2\u001b[0m\u001b[0;34m\u001b[0m\u001b[0;34m\u001b[0m\u001b[0m\n\u001b[1;32m      3\u001b[0m     \u001b[0;32mdef\u001b[0m \u001b[0mlocal_min\u001b[0m\u001b[0;34m(\u001b[0m\u001b[0ma\u001b[0m\u001b[0;34m,\u001b[0m \u001b[0mi\u001b[0m\u001b[0;34m)\u001b[0m\u001b[0;34m:\u001b[0m\u001b[0;34m\u001b[0m\u001b[0;34m\u001b[0m\u001b[0m\n\u001b[0;32m----> 4\u001b[0;31m         \u001b[0;32mif\u001b[0m \u001b[0mi\u001b[0m \u001b[0;34m==\u001b[0m \u001b[0;36m0\u001b[0m\u001b[0;34m:\u001b[0m\u001b[0;34m\u001b[0m\u001b[0;34m\u001b[0m\u001b[0m\n\u001b[0m\u001b[1;32m      5\u001b[0m             \u001b[0;32mreturn\u001b[0m \u001b[0ma\u001b[0m\u001b[0;34m[\u001b[0m\u001b[0mi\u001b[0m\u001b[0;34m+\u001b[0m\u001b[0;36m1\u001b[0m\u001b[0;34m]\u001b[0m \u001b[0;34m>\u001b[0m \u001b[0ma\u001b[0m\u001b[0;34m[\u001b[0m\u001b[0mi\u001b[0m\u001b[0;34m]\u001b[0m\u001b[0;34m\u001b[0m\u001b[0;34m\u001b[0m\u001b[0m\n\u001b[1;32m      6\u001b[0m         \u001b[0;32mif\u001b[0m \u001b[0mi\u001b[0m \u001b[0;34m==\u001b[0m \u001b[0mlen\u001b[0m\u001b[0;34m(\u001b[0m\u001b[0ma\u001b[0m\u001b[0;34m)\u001b[0m\u001b[0;34m:\u001b[0m\u001b[0;34m\u001b[0m\u001b[0;34m\u001b[0m\u001b[0m\n",
      "\u001b[0;31mKeyboardInterrupt\u001b[0m: "
     ]
    }
   ],
   "source": [
    "def local_min(a):\n",
    "    mid = len(a)//2\n",
    "    def local_min(a, i):\n",
    "        if i == 0:\n",
    "            return a[i+1] > a[i]\n",
    "        if i == len(a):\n",
    "            return a[i-1] > a[i]\n",
    "        return a[i-1] > a[i] and a[i+1] > a[i]\n",
    "\n",
    "    while not local_min(a, mid):\n",
    "        velocity = a[mid-1] - a[mid]\n",
    "        mid += velocity\n",
    "    \n",
    "    print(f\"Local min found at i={mid} with value {a[mid]}\")\n",
    "    \n",
    "\n",
    "local_min([9, 8, 7, 6, 7, 8, 7, 6, 5, 4, 4, 4, 5, 6])"
   ]
  },
  {
   "attachments": {},
   "cell_type": "markdown",
   "metadata": {},
   "source": [
    "**<span style=\"background: Red\">1.4.29 - Red</span>**  Steque with two stacks. Design a steque (a stack-ended queue or steque is a data type that supports `push`, `pop`, and `enqueue`) with two stacks so that each steque operation takes a constant amortized number of stack operations."
   ]
  },
  {
   "cell_type": "markdown",
   "metadata": {},
   "source": [
    "*Solution*:  \n"
   ]
  },
  {
   "attachments": {},
   "cell_type": "markdown",
   "metadata": {},
   "source": [
    "**<span style=\"background: Red\">1.4.30 - Red</span>**  Deque with a stack and a steque. Design a deque (a double-ended queue that supports pushLeft, pushRight, popLeft and popRight) with a stack and a steque so that each deque operation takes a constant amortized number of stack and steque operations."
   ]
  },
  {
   "cell_type": "markdown",
   "metadata": {},
   "source": [
    "*Solution*:  \n"
   ]
  },
  {
   "attachments": {},
   "cell_type": "markdown",
   "metadata": {},
   "source": [
    "**<span style=\"background: Red\">1.4.31 - Red</span>**  Deque with three stacks. Design a deque (a double-ended queue that supports pushLeft, pushRight, popLeft and popRight) with three stacks so that each deque operation takes a constant amortized number of stack operations"
   ]
  },
  {
   "cell_type": "markdown",
   "metadata": {},
   "source": [
    "*Solution*:  \n"
   ]
  }
 ],
 "metadata": {
  "kernelspec": {
   "display_name": "ALDAS",
   "language": "python",
   "name": "python3"
  },
  "language_info": {
   "codemirror_mode": {
    "name": "ipython",
    "version": 3
   },
   "file_extension": ".py",
   "mimetype": "text/x-python",
   "name": "python",
   "nbconvert_exporter": "python",
   "pygments_lexer": "ipython3",
   "version": "3.7.12"
  },
  "orig_nbformat": 4,
  "vscode": {
   "interpreter": {
    "hash": "48ca78890206568d2b71363fdb2554af7b2d8b6b9898fd7fcb21dcda8e605fc3"
   }
  }
 },
 "nbformat": 4,
 "nbformat_minor": 2
}
