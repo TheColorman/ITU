{
 "cells": [
  {
   "attachments": {},
   "cell_type": "markdown",
   "metadata": {},
   "source": [
    "# ADS 2023 spring Week 6 Exercises\n",
    "Exercises for Algorithms and Data Structures at ITU. The exercises are from Algorithms, 4th Edition by Robert Sedgewick and Kevin Wayne unless otherwise specified. Color-coding of difficulty level and alterations to the exercises (if any) are made by the teachers of the ADS course at ITU."
   ]
  },
  {
   "attachments": {},
   "cell_type": "markdown",
   "metadata": {},
   "source": [
    "**<span style=\"background: LimeGreen\">3.1.10 - Green</span>**  Give a trace of the process of inserting the keys E A S Y Q U E S T I O N into an initially empty table using SequentialSearchST. How many compares are involved?  "
   ]
  },
  {
   "attachments": {},
   "cell_type": "markdown",
   "metadata": {},
   "source": [
    "*Solution*:  \n",
    "E: 0 compares  \n",
    "A: 1 compare  \n",
    "S: 2 compares  \n",
    "Y: 3 compares  \n",
    "Q: 4 compares  \n",
    "U: 5 compares  \n",
    "E: 1 compare  \n",
    "S: 3 compares  \n",
    "T: 6 compares  \n",
    "I: 7 compares  \n",
    "O: 8 compares  \n",
    "N: 9 compares  \n",
    "  \n",
    "In total, 49 compares."
   ]
  },
  {
   "attachments": {},
   "cell_type": "markdown",
   "metadata": {},
   "source": [
    "**<span style=\"background: LimeGreen\">3.1.11 - Green</span>**  Give a trace of the process of inserting the keys E A S Y Q U E S T I O N into an initially empty table using BinarySearchST. How many compares are involved?"
   ]
  },
  {
   "attachments": {},
   "cell_type": "markdown",
   "metadata": {},
   "source": [
    "*Solution*:  \n",
    "E: 0 compares  \n",
    "A: 1 compare  \n",
    "S: 1 compare  \n",
    "Y: 2 compares  \n",
    "Q: 2 compares  \n",
    "U: 3 compares  \n",
    "E: 2 compares  \n",
    "S: 1 compare  \n",
    "T: 3 compares  \n",
    "I: 3 compares  \n",
    "O: 3 compares  \n",
    "N: 3 compares  \n",
    "  \n",
    "In total, 24 compares."
   ]
  },
  {
   "attachments": {},
   "cell_type": "markdown",
   "metadata": {},
   "source": [
    "**<span style=\"background: LimeGreen\">3.4.1 - Green</span>**  Insert the keys E A S Y Q U T I O N in that order into an initially empty table of M = 5 lists, using separate chaining. Use the  hash function $11k \\% M$ to transform the *k*th letter of the alphabet into a table index. "
   ]
  },
  {
   "attachments": {},
   "cell_type": "markdown",
   "metadata": {},
   "source": [
    "*Solution*:  "
   ]
  },
  {
   "cell_type": "code",
   "execution_count": 43,
   "metadata": {},
   "outputs": [],
   "source": [
    "class Node:\n",
    "    def __init__(self, key, value) -> None:\n",
    "        self.next = None\n",
    "        self.key = key\n",
    "        self.value = value\n",
    "\n",
    "        self.__repr__ = self.__str__\n",
    "    \n",
    "    def __str__(self) -> str:\n",
    "        return f\"<{self.key}:{self.value}> → {self.next}\"\n",
    "\n",
    "class sepchan:\n",
    "    def __init__(self, M: int, hash) -> None:\n",
    "        self.bin = [None] * 10\n",
    "        self.hash = hash\n",
    "    \n",
    "    def insert(self, key, value):\n",
    "        index = self.hash(key)\n",
    "        item = self.bin[index]\n",
    "\n",
    "        if item == None:\n",
    "            self.bin[index] = Node(key, value)\n",
    "            return\n",
    "\n",
    "        while item.next and not item.next.key == key:\n",
    "            item = item.next\n",
    "        \n",
    "        next_item = item.next\n",
    "        item.next = Node(key, value)\n",
    "        if not next_item == None:\n",
    "            item.next.next = next_item.next\n",
    "    \n",
    "    def get(self, key):\n",
    "        index = self.hash(key)\n",
    "        item = self.bin[index]\n",
    "        while item.next and not item.next.key == key:\n",
    "            item = item.next\n",
    "        \n",
    "        return item.next.value if item.next else None\n",
    "    \n",
    "    def __str__(self) -> str:\n",
    "        return \"{\\n\" + \"\\n\".join([f\"  Bin {i}: \" + x.__str__() for i, x in enumerate(self.bin)]) + \"\\n}\""
   ]
  },
  {
   "cell_type": "code",
   "execution_count": 44,
   "metadata": {},
   "outputs": [
    {
     "name": "stdout",
     "output_type": "stream",
     "text": [
      "{\n",
      "  Bin 0: <E:E> → <Y:Y> → <T:T> → <O:O> → None\n",
      "  Bin 1: <A:A> → <U:U> → None\n",
      "  Bin 2: <Q:Q> → None\n",
      "  Bin 3: None\n",
      "  Bin 4: <S:S> → <I:I> → <N:N> → None\n",
      "  Bin 5: None\n",
      "  Bin 6: None\n",
      "  Bin 7: None\n",
      "  Bin 8: None\n",
      "  Bin 9: None\n",
      "}\n"
     ]
    }
   ],
   "source": [
    "chan = sepchan(5, lambda x: 11*(ord(x)-64) % 5)\n",
    "chan.insert(\"E\", \"E\")\n",
    "chan.insert(\"A\", \"A\")\n",
    "chan.insert(\"S\", \"S\")\n",
    "chan.insert(\"Y\", \"Y\")\n",
    "chan.insert(\"Q\", \"Q\")\n",
    "chan.insert(\"U\", \"U\")\n",
    "chan.insert(\"T\", \"T\")\n",
    "chan.insert(\"I\", \"I\")\n",
    "chan.insert(\"O\", \"O\")\n",
    "chan.insert(\"N\", \"N\")\n",
    "print(chan)"
   ]
  },
  {
   "attachments": {},
   "cell_type": "markdown",
   "metadata": {},
   "source": [
    "**<span style=\"background: LimeGreen\">3.4.10 - Green</span>**  Insert the keys E A S Y Q U T I O N in that order into an initially empty table of size M = 16 using linear probing. Use the hash  unction 11k % M to transform the kth letter of the alphabet into a table index. Then redo this exercise for M = 10 "
   ]
  },
  {
   "attachments": {},
   "cell_type": "markdown",
   "metadata": {},
   "source": [
    "*Solution*:  "
   ]
  },
  {
   "cell_type": "code",
   "execution_count": 67,
   "metadata": {},
   "outputs": [],
   "source": [
    "import math\n",
    "\n",
    "class linprobe:\n",
    "    def __init__(self, hash) -> None:\n",
    "        self.bin = [None]\n",
    "        self.hash = hash\n",
    "    \n",
    "    def insert(self, key, value):\n",
    "        index = self.hash(key)\n",
    "\n",
    "        while len(self.bin) < index + 1:\n",
    "            self.double()\n",
    "\n",
    "        while not (self.bin[index] == None or self.bin[index][0] == key):\n",
    "            index += 1\n",
    "        \n",
    "        self.bin[index] = (key, value)\n",
    "    \n",
    "    def get(self, key):\n",
    "        index = self.hash(key)\n",
    "\n",
    "        while len(self.bin) < index + 1:\n",
    "            self.double()\n",
    "\n",
    "        while not self.bin[index][0] == key:\n",
    "            index += 1\n",
    "        \n",
    "        return self.bin[index][1]\n",
    "\n",
    "    def double(self):\n",
    "        added = [None] * math.ceil(len(self.bin)/2)\n",
    "        self.bin = self.bin + added\n",
    "\n",
    "    def __str__(self) -> str:\n",
    "        return self.bin.__str__()"
   ]
  },
  {
   "cell_type": "code",
   "execution_count": 76,
   "metadata": {},
   "outputs": [
    {
     "name": "stdout",
     "output_type": "stream",
     "text": [
      "[('T', 0), ('A', 1), ('U', 1), None, ('N', 4), ('E', 5), ('Y', 5), ('Q', 7), ('O', 5), ('S', 9), ('I', 9), None]\n"
     ]
    }
   ],
   "source": [
    "lin = linprobe(lambda x: 11*(ord(x)-64) % 10)\n",
    "def hsh(x):\n",
    "    return 11*(ord(x)-64) % 10\n",
    "lin.insert(\"E\", hsh(\"E\"))\n",
    "lin.insert(\"A\", hsh(\"A\"))\n",
    "lin.insert(\"S\", hsh(\"S\"))\n",
    "lin.insert(\"Y\", hsh(\"Y\"))\n",
    "lin.insert(\"Q\", hsh(\"Q\"))\n",
    "lin.insert(\"U\", hsh(\"U\"))\n",
    "lin.insert(\"T\", hsh(\"T\"))\n",
    "lin.insert(\"I\", hsh(\"I\"))\n",
    "lin.insert(\"O\", hsh(\"O\"))\n",
    "lin.insert(\"N\", hsh(\"N\"))\n",
    "print(lin)"
   ]
  },
  {
   "attachments": {},
   "cell_type": "markdown",
   "metadata": {},
   "source": [
    "**<span style=\"background: LimeGreen\">3.1.13 - Green</span>**  Would you use a sequential search ST or a binary search ST for an application that does 103 put() operations and 106 get()  perations, randomly intermixed? Justify your answer.  "
   ]
  },
  {
   "attachments": {},
   "cell_type": "markdown",
   "metadata": {},
   "source": [
    "*Solution*:  \n",
    "Sequential search takes $n$ operations for both search and insert, while binary takes $\\log_2n$ operations for search and $n$ for insert, so binary will be better in every case.  "
   ]
  },
  {
   "attachments": {},
   "cell_type": "markdown",
   "metadata": {},
   "source": [
    "**<span style=\"background: LimeGreen\">3.1.14 - Green</span>**  Would you use a sequential search ST or a binary search ST for an application that does 106 put() operations and 103 get()  perations, randomly intermixed? Justify your answer.  "
   ]
  },
  {
   "cell_type": "markdown",
   "metadata": {},
   "source": [
    "*Solution*:  \n",
    "Binary, for same reason as above"
   ]
  },
  {
   "attachments": {},
   "cell_type": "markdown",
   "metadata": {},
   "source": [
    "**<span style=\"background: Yellow\">3.4.3 - Yellow</span>**  Design an algorithm to find values of a and M, with M as small as possible, such that the hash function (a * k) % M for transforming  he kth letter of the alphabet into a table index produces distinct values (no collisions) for the keys S E A R C H X M P L. The result is known as a perfect hash function. "
   ]
  },
  {
   "cell_type": "markdown",
   "metadata": {},
   "source": [
    "*Solution*:  "
   ]
  },
  {
   "cell_type": "code",
   "execution_count": 107,
   "metadata": {},
   "outputs": [
    {
     "name": "stdout",
     "output_type": "stream",
     "text": [
      "[0, 0, 0, 0, 0, 0, 0, 0, 0, 0] 1\n",
      "[1, 1, 1, 0, 1, 0, 0, 1, 0, 0] 2\n",
      "[0, 0, 0, 0, 0, 0, 0, 0, 0, 0] 1\n"
     ]
    },
    {
     "data": {
      "text/plain": [
       "1"
      ]
     },
     "execution_count": 107,
     "metadata": {},
     "output_type": "execute_result"
    }
   ],
   "source": [
    "def findM(keys, hash):\n",
    "    # Binary serach.\n",
    "    # Start from 1 and double until M is too large, then binary search the interval.\n",
    "    M = 1\n",
    "    def has_duplicates(M):\n",
    "        test = [hash(key, M) for key in keys]\n",
    "        print(test, M)\n",
    "        return len(test) != len(set(test))\n",
    "\n",
    "    while not has_duplicates(M):\n",
    "        M *= 2\n",
    "    # We know the optimal value is between M//2 and M\n",
    "    # BinSearch the interval and find the first value with no duplicates\n",
    "    lo = max(M//2, 1)\n",
    "    hi = max(M, lo+1)\n",
    "    mi = max((hi-lo)//2, 1)\n",
    "\n",
    "    while has_duplicates(mi+1) and not has_duplicates(mi):\n",
    "        if not has_duplicates(mi):\n",
    "            lo = mi\n",
    "            mi = (hi-lo)//2\n",
    "        else:\n",
    "            hi = mi\n",
    "            mi = (hi-lo)//2\n",
    "    return mi\n",
    "\n",
    "keys = [\"S\", \"E\", \"A\", \"R\", \"C\", \"H\", \"X\", \"M\", \"P\", \"L\"]\n",
    "findM(keys, lambda x, M: 11*(ord(x)-64) % M)"
   ]
  },
  {
   "attachments": {},
   "cell_type": "markdown",
   "metadata": {},
   "source": [
    "**<span style=\"background: Yellow\">3.4.5 - Yellow</span>**  Is the following implementation of getting the hash code of an object legal? If so, describe the effect of using it. If not, explain why.\n",
    "```python\n",
    "# Python\n",
    "\n",
    "def __hash__(self):\n",
    "    return 17\n",
    "```"
   ]
  },
  {
   "attachments": {},
   "cell_type": "markdown",
   "metadata": {},
   "source": [
    "*Solution*:  \n",
    "yes"
   ]
  },
  {
   "attachments": {},
   "cell_type": "markdown",
   "metadata": {},
   "source": [
    "**<span style=\"background: Yellow\">3.4.13 - Yellow</span>**  Which of the following scenarios leads to expected linear running time for a random search hit in a linear-probing hash table?  \n",
    "a) All keys hash to the same index.  \n",
    "b) All keys hash to different indices.  \n",
    "c) All keys hash to an even-numbered index.  \n",
    "d) All keys hash to different even-numbered indices.  "
   ]
  },
  {
   "attachments": {},
   "cell_type": "markdown",
   "metadata": {},
   "source": [
    "*Solution*:  \n",
    "d)"
   ]
  },
  {
   "attachments": {},
   "cell_type": "markdown",
   "metadata": {},
   "source": [
    "**<span style=\"background: Yellow\">3.4.15 - Yellow</span>**  How many compares could it take, in the worst case, to insert N keys into an initially empty table of size N, using linear probing with array resizing?"
   ]
  },
  {
   "attachments": {},
   "cell_type": "markdown",
   "metadata": {},
   "source": [
    "*Solution*:  \n",
    "$0+1+2+...+n=\\frac{1}{2}n^2$"
   ]
  },
  {
   "attachments": {},
   "cell_type": "markdown",
   "metadata": {},
   "source": [
    "**<span style=\"background: Yellow\">3.4.26 - Yellow</span>**  Lazy delete for linear probing. Add to LinearProbingHashST a delete() method that deletes a key-value pair by setting the value to  null (but not removing the key) and later removing the pair from the table in resize() . Your primary challenge is to decide when to call resize() . Note : You should overwrite the null value if   subsequent put() operation associates a new value with the key. Make sure that your program takes into account the number of such tombstone items, as well as the number of empty positions,  n making the decision whether to expand or contract the table. "
   ]
  },
  {
   "attachments": {},
   "cell_type": "markdown",
   "metadata": {},
   "source": [
    "**<span style=\"background: Red\">3.4.6 - Red</span>**  Suppose that keys are binary integers. For a modular hash function with prime m > 2, prove that any two binary integers that differ in  exactly one bit have different hash values. "
   ]
  },
  {
   "attachments": {},
   "cell_type": "markdown",
   "metadata": {},
   "source": [
    "**<span style=\"background: Red\">3.4.32 - Red</span>**  Hash attack. Find 2^N strings, each of length 2^N , that have the same hashCode() value, supposing that the hashCode() implementation for String is the following:  \n",
    "```python\n",
    "# Python\n",
    "def has_code(str):\n",
    "    hash = 0\n",
    "    for i in range(len(str)):\n",
    "        hash = (hash * 37) + ord(str[i])\n",
    "    return hash\n",
    "```  \n",
    "Strong hint: ef and fA have the same value."
   ]
  },
  {
   "attachments": {},
   "cell_type": "markdown",
   "metadata": {},
   "source": [
    "**<span style=\"background: Red\">3.4.33 - Red</span>**  Bad hash function. Consider the following hashCode() implementation for String, which was used in early versions of Java:  \n",
    "```python\n",
    "def hash_code(str):\n",
    "    hash = 0\n",
    "    skip = max(1, len(str) // 8)\n",
    "    for i in range(0, len(str), skip):\n",
    "        hash = (hash * 31) + ord(str[i])\n",
    "    return hash\n",
    "```\n",
    "Explain why you think the designers chose this implementation and then why you think it was abandoned in favor of the one in the previous exercise.  "
   ]
  }
 ],
 "metadata": {
  "kernelspec": {
   "display_name": "ALDAS",
   "language": "python",
   "name": "python3"
  },
  "language_info": {
   "codemirror_mode": {
    "name": "ipython",
    "version": 3
   },
   "file_extension": ".py",
   "mimetype": "text/x-python",
   "name": "python",
   "nbconvert_exporter": "python",
   "pygments_lexer": "ipython3",
   "version": "3.7.16"
  },
  "orig_nbformat": 4,
  "vscode": {
   "interpreter": {
    "hash": "d7cd0d8e7f0fcc05bc3f15f767c06c6639152606485d5ea553a073ce540f3d5d"
   }
  }
 },
 "nbformat": 4,
 "nbformat_minor": 2
}
