{
 "cells": [
  {
   "attachments": {},
   "cell_type": "markdown",
   "metadata": {},
   "source": [
    "# ADS 2023 spring Week 6 Exercises\n",
    "Exercises for Algorithms and Data Structures at ITU. The exercises are from Algorithms, 4th Edition by Robert Sedgewick and Kevin Wayne unless otherwise specified. Color-coding of difficulty level and alterations to the exercises (if any) are made by the teachers of the ADS course at ITU."
   ]
  },
  {
   "attachments": {},
   "cell_type": "markdown",
   "metadata": {},
   "source": [
    "**<span style=\"background: LimeGreen\">3.1.10 - Green</span>**  Give a trace of the process of inserting the keys E A S Y Q U E S T I O N into an initially empty table using SequentialSearchST. How many compares are involved?  "
   ]
  },
  {
   "attachments": {},
   "cell_type": "markdown",
   "metadata": {},
   "source": [
    "*Solution*:  \n",
    "E: 0 compares  \n",
    "A: 1 compare  \n",
    "S: 2 compares  \n",
    "Y: 3 compares  \n",
    "Q: 4 compares  \n",
    "U: 5 compares  \n",
    "E: 1 compare  \n",
    "S: 3 compares  \n",
    "T: 6 compares  \n",
    "I: 7 compares  \n",
    "O: 8 compares  \n",
    "N: 9 compares  \n",
    "  \n",
    "In total, 49 compares."
   ]
  },
  {
   "attachments": {},
   "cell_type": "markdown",
   "metadata": {},
   "source": [
    "**<span style=\"background: LimeGreen\">3.1.11 - Green</span>**  Give a trace of the process of inserting the keys E A S Y Q U E S T I O N into an initially empty table using BinarySearchST. How many compares are involved?"
   ]
  },
  {
   "attachments": {},
   "cell_type": "markdown",
   "metadata": {},
   "source": [
    "*Solution*:  \n",
    "E: 0 compares  \n",
    "A: 1 compare  \n",
    "S: 1 compare  \n",
    "Y: 2 compares  \n",
    "Q: 2 compares  \n",
    "U: 3 compares  \n",
    "E: 2 compares  \n",
    "S: 1 compare  \n",
    "T: 3 compares  \n",
    "I: 3 compares  \n",
    "O: 3 compares  \n",
    "N: 3 compares  \n",
    "  \n",
    "In total, 24 compares."
   ]
  },
  {
   "attachments": {},
   "cell_type": "markdown",
   "metadata": {},
   "source": [
    "**<span style=\"background: LimeGreen\">3.4.1 - Green</span>**  Insert the keys E A S Y Q U T I O N in that order into an initially empty table of M = 5 lists, using separate chaining. Use the  hash function $11k \\% M$ to transform the *k*th letter of the alphabet into a table index. "
   ]
  },
  {
   "attachments": {},
   "cell_type": "markdown",
   "metadata": {},
   "source": [
    "*Solution*:  "
   ]
  },
  {
   "cell_type": "code",
   "execution_count": 43,
   "metadata": {},
   "outputs": [],
   "source": [
    "class Node:\n",
    "    def __init__(self, key, value) -> None:\n",
    "        self.next = None\n",
    "        self.key = key\n",
    "        self.value = value\n",
    "\n",
    "        self.__repr__ = self.__str__\n",
    "    \n",
    "    def __str__(self) -> str:\n",
    "        return f\"<{self.key}:{self.value}> → {self.next}\"\n",
    "\n",
    "class sepchan:\n",
    "    def __init__(self, M: int, hash) -> None:\n",
    "        self.bin = [None] * 10\n",
    "        self.hash = hash\n",
    "    \n",
    "    def insert(self, key, value):\n",
    "        index = self.hash(key)\n",
    "        item = self.bin[index]\n",
    "\n",
    "        if item == None:\n",
    "            self.bin[index] = Node(key, value)\n",
    "            return\n",
    "\n",
    "        while item.next and not item.next.key == key:\n",
    "            item = item.next\n",
    "        \n",
    "        next_item = item.next\n",
    "        item.next = Node(key, value)\n",
    "        if not next_item == None:\n",
    "            item.next.next = next_item.next\n",
    "    \n",
    "    def get(self, key):\n",
    "        index = self.hash(key)\n",
    "        item = self.bin[index]\n",
    "        while item.next and not item.next.key == key:\n",
    "            item = item.next\n",
    "        \n",
    "        return item.next.value if item.next else None\n",
    "    \n",
    "    def __str__(self) -> str:\n",
    "        return \"{\\n\" + \"\\n\".join([f\"  Bin {i}: \" + x.__str__() for i, x in enumerate(self.bin)]) + \"\\n}\""
   ]
  },
  {
   "cell_type": "code",
   "execution_count": 44,
   "metadata": {},
   "outputs": [
    {
     "name": "stdout",
     "output_type": "stream",
     "text": [
      "{\n",
      "  Bin 0: <E:E> → <Y:Y> → <T:T> → <O:O> → None\n",
      "  Bin 1: <A:A> → <U:U> → None\n",
      "  Bin 2: <Q:Q> → None\n",
      "  Bin 3: None\n",
      "  Bin 4: <S:S> → <I:I> → <N:N> → None\n",
      "  Bin 5: None\n",
      "  Bin 6: None\n",
      "  Bin 7: None\n",
      "  Bin 8: None\n",
      "  Bin 9: None\n",
      "}\n"
     ]
    }
   ],
   "source": [
    "chan = sepchan(5, lambda x: 11*(ord(x)-64) % 5)\n",
    "chan.insert(\"E\", \"E\")\n",
    "chan.insert(\"A\", \"A\")\n",
    "chan.insert(\"S\", \"S\")\n",
    "chan.insert(\"Y\", \"Y\")\n",
    "chan.insert(\"Q\", \"Q\")\n",
    "chan.insert(\"U\", \"U\")\n",
    "chan.insert(\"T\", \"T\")\n",
    "chan.insert(\"I\", \"I\")\n",
    "chan.insert(\"O\", \"O\")\n",
    "chan.insert(\"N\", \"N\")\n",
    "print(chan)"
   ]
  },
  {
   "attachments": {},
   "cell_type": "markdown",
   "metadata": {},
   "source": [
    "**<span style=\"background: LimeGreen\">3.4.10 - Green</span>**  Insert the keys E A S Y Q U T I O N in that order into an initially empty table of size M = 16 using linear probing. Use the hash  unction 11k % M to transform the kth letter of the alphabet into a table index. Then redo this exercise for M = 10 "
   ]
  },
  {
   "attachments": {},
   "cell_type": "markdown",
   "metadata": {},
   "source": [
    "*Solution*:  "
   ]
  },
  {
   "cell_type": "code",
   "execution_count": 67,
   "metadata": {},
   "outputs": [],
   "source": [
    "import math\n",
    "\n",
    "class linprobe:\n",
    "    def __init__(self, hash) -> None:\n",
    "        self.bin = [None]\n",
    "        self.hash = hash\n",
    "    \n",
    "    def insert(self, key, value):\n",
    "        index = self.hash(key)\n",
    "\n",
    "        while len(self.bin) < index + 1:\n",
    "            self.double()\n",
    "\n",
    "        while not (self.bin[index] == None or self.bin[index][0] == key):\n",
    "            index += 1\n",
    "        \n",
    "        self.bin[index] = (key, value)\n",
    "    \n",
    "    def get(self, key):\n",
    "        index = self.hash(key)\n",
    "\n",
    "        while len(self.bin) < index + 1:\n",
    "            self.double()\n",
    "\n",
    "        while not self.bin[index][0] == key:\n",
    "            index += 1\n",
    "        \n",
    "        return self.bin[index][1]\n",
    "\n",
    "    def double(self):\n",
    "        added = [None] * math.ceil(len(self.bin)/2)\n",
    "        self.bin = self.bin + added\n",
    "\n",
    "    def __str__(self) -> str:\n",
    "        return self.bin.__str__()"
   ]
  },
  {
   "cell_type": "code",
   "execution_count": 76,
   "metadata": {},
   "outputs": [
    {
     "name": "stdout",
     "output_type": "stream",
     "text": [
      "[('T', 0), ('A', 1), ('U', 1), None, ('N', 4), ('E', 5), ('Y', 5), ('Q', 7), ('O', 5), ('S', 9), ('I', 9), None]\n"
     ]
    }
   ],
   "source": [
    "lin = linprobe(lambda x: 11*(ord(x)-64) % 10)\n",
    "def hsh(x):\n",
    "    return 11*(ord(x)-64) % 10\n",
    "lin.insert(\"E\", hsh(\"E\"))\n",
    "lin.insert(\"A\", hsh(\"A\"))\n",
    "lin.insert(\"S\", hsh(\"S\"))\n",
    "lin.insert(\"Y\", hsh(\"Y\"))\n",
    "lin.insert(\"Q\", hsh(\"Q\"))\n",
    "lin.insert(\"U\", hsh(\"U\"))\n",
    "lin.insert(\"T\", hsh(\"T\"))\n",
    "lin.insert(\"I\", hsh(\"I\"))\n",
    "lin.insert(\"O\", hsh(\"O\"))\n",
    "lin.insert(\"N\", hsh(\"N\"))\n",
    "print(lin)"
   ]
  },
  {
   "attachments": {},
   "cell_type": "markdown",
   "metadata": {},
   "source": [
    "**<span style=\"background: LimeGreen\">3.1.13 - Green</span>**  Would you use a sequential search ST or a binary search ST for an application that does $10^3$ put() operations and $10^6$ get()  perations, randomly intermixed? Justify your answer.  "
   ]
  },
  {
   "attachments": {},
   "cell_type": "markdown",
   "metadata": {},
   "source": [
    "*Solution*:  \n",
    "Sequential search takes $n$ operations for both search and insert, while binary takes $\\log_2n$ operations for search and $n$ for insert, so binary will be better in every case.  "
   ]
  },
  {
   "attachments": {},
   "cell_type": "markdown",
   "metadata": {},
   "source": [
    "**<span style=\"background: LimeGreen\">3.1.14 - Green</span>**  Would you use a sequential search ST or a binary search ST for an application that does $10^6$ put() operations and $10^3$ get()  perations, randomly intermixed? Justify your answer.  "
   ]
  },
  {
   "cell_type": "markdown",
   "metadata": {},
   "source": [
    "*Solution*:  \n",
    "Binary, for same reason as above"
   ]
  },
  {
   "attachments": {},
   "cell_type": "markdown",
   "metadata": {},
   "source": [
    "**<span style=\"background: Yellow\">3.4.3 - Yellow</span>**  Design an algorithm to find values of a and M, with M as small as possible, such that the hash function (a * k) % M for transforming  he kth letter of the alphabet into a table index produces distinct values (no collisions) for the keys S E A R C H X M P L. The result is known as a perfect hash function. "
   ]
  },
  {
   "cell_type": "markdown",
   "metadata": {},
   "source": [
    "*Solution*:  "
   ]
  },
  {
   "cell_type": "code",
   "execution_count": 107,
   "metadata": {},
   "outputs": [
    {
     "name": "stdout",
     "output_type": "stream",
     "text": [
      "[0, 0, 0, 0, 0, 0, 0, 0, 0, 0] 1\n",
      "[1, 1, 1, 0, 1, 0, 0, 1, 0, 0] 2\n",
      "[0, 0, 0, 0, 0, 0, 0, 0, 0, 0] 1\n"
     ]
    },
    {
     "data": {
      "text/plain": [
       "1"
      ]
     },
     "execution_count": 107,
     "metadata": {},
     "output_type": "execute_result"
    }
   ],
   "source": [
    "def findM(keys, hash):\n",
    "    M = len(keys)\n",
    "    prime = 31\n",
    "    a = prime\n",
    "    for i in range (a < M):\n",
    "        pass\n",
    "    # add a number to a lower than M, or loop over to adding M.\n",
    "    # 11*a % 10 = 10*a % 10 + a\n",
    "    #a=1 go to a=M, then increase M\n",
    "    # We know there's a solution for 1*x % 24 (24 is the largest value, \"X\")\n",
    "\n",
    "    #a*M*x % M + y % M\n",
    "\n",
    "keys = [\"S\", \"E\", \"A\", \"R\", \"C\", \"H\", \"X\", \"M\", \"P\", \"L\"]\n",
    "findM(keys, lambda x, M: 11*(ord(x)-64) % M)"
   ]
  },
  {
   "attachments": {},
   "cell_type": "markdown",
   "metadata": {},
   "source": [
    "**<span style=\"background: Yellow\">3.4.5 - Yellow</span>**  Is the following implementation of getting the hash code of an object legal? If so, describe the effect of using it. If not, explain why.\n",
    "```python\n",
    "# Python\n",
    "\n",
    "def __hash__(self):\n",
    "    return 17\n",
    "```"
   ]
  },
  {
   "attachments": {},
   "cell_type": "markdown",
   "metadata": {},
   "source": [
    "*Solution*:  \n",
    "yes"
   ]
  },
  {
   "attachments": {},
   "cell_type": "markdown",
   "metadata": {},
   "source": [
    "**<span style=\"background: Yellow\">3.4.13 - Yellow</span>**  Which of the following scenarios leads to expected linear running time for a random search hit in a linear-probing hash table?  \n",
    "a) All keys hash to the same index.  \n",
    "b) All keys hash to different indices.  \n",
    "c) All keys hash to an even-numbered index.  \n",
    "d) All keys hash to different even-numbered indices.  "
   ]
  },
  {
   "attachments": {},
   "cell_type": "markdown",
   "metadata": {},
   "source": [
    "*Solution*:  \n",
    "a)"
   ]
  },
  {
   "attachments": {},
   "cell_type": "markdown",
   "metadata": {},
   "source": [
    "**<span style=\"background: Yellow\">3.4.15 - Yellow</span>**  How many compares could it take, in the worst case, to insert N keys into an initially empty table of size N, using linear probing with array resizing?"
   ]
  },
  {
   "attachments": {},
   "cell_type": "markdown",
   "metadata": {},
   "source": [
    "*Solution*:  \n",
    "$1+2+...+n=\\frac{1}{2}n(n+1)$  \n",
    "When we also account fo resizing, it is $\\frac{1}{2}n(n+1)+\\frac{1}{4}n\\cdot(\\frac{1}{2}n+1)$  \n",
    "  \n",
    "Resizing:  \n",
    "We resize when the array is half full, so when we have M/2 items we create a 2M array.  \n",
    "At every resize, we re-hash every element as the array size influences the hashing function.  \n",
    "This takes m operations (we also look at the m/2 empty spaces).  \n",
    "We resize once or twice (depending on implementation).  "
   ]
  },
  {
   "attachments": {},
   "cell_type": "markdown",
   "metadata": {},
   "source": [
    "**<span style=\"background: Yellow\">3.4.26 - Yellow</span>**  Lazy delete for linear probing. Add to LinearProbingHashST a delete() method that deletes a key-value pair by setting the value to  null (but not removing the key) and later removing the pair from the table in resize() . Your primary challenge is to decide when to call resize() . Note : You should overwrite the null value if   subsequent put() operation associates a new value with the key. Make sure that your program takes into account the number of such tombstone items, as well as the number of empty positions,  n making the decision whether to expand or contract the table. "
   ]
  },
  {
   "attachments": {},
   "cell_type": "markdown",
   "metadata": {},
   "source": [
    "*Solution*:  \n",
    "Delete finds the element and changes it to null  \n",
    "Get walks over tombstones as bridges, only stops when finding an empty spot (not a tombstone/null)  \n",
    "Put: go until we see a tombstone. Save the first tombstone and keep going. When we find an empty cell, put in the first tombstone, if we find our key, replace the value.  \n",
    "  \n",
    "Reisizing:  \n",
    "Double size when $n+tombstones=m/2$. (n=empty cells)  \n",
    "When resizing, we rehash all non-tombstone elements.  \n",
    "Decrease size when $n-tombstones = 1/8M$"
   ]
  },
  {
   "attachments": {},
   "cell_type": "markdown",
   "metadata": {},
   "source": [
    "**<span style=\"background: Red\">3.4.6 - Red</span>**  Suppose that keys are binary integers. For a modular hash function with prime m > 2, prove that any two binary integers that differ in  exactly one bit have different hash values. "
   ]
  },
  {
   "attachments": {},
   "cell_type": "markdown",
   "metadata": {},
   "source": [
    "*Solution*:  \n",
    "Changing a bit is adding or subtracting a power of 2.  \n",
    "If m > 2, and the difference in number is a power of <= 2 (aka. 2), so % m will always give a different number aka. $2^2+2^1 \\% 3 = 2$ and $2^2 \\% 3 = 1$.  "
   ]
  },
  {
   "attachments": {},
   "cell_type": "markdown",
   "metadata": {},
   "source": [
    "**<span style=\"background: Red\">3.4.32 - Red</span>**  Hash attack. Find 2^N strings, each of length 2^N , that have the same hashCode() value, supposing that the hashCode() implementation for String is the following:  \n",
    "```python\n",
    "# Python\n",
    "def hash_code(str):\n",
    "    hash = 0\n",
    "    for i in range(len(str)):\n",
    "        hash = (hash * 37) + ord(str[i])\n",
    "    return hash\n",
    "```  \n",
    "Strong hint: ef and fA have the same value."
   ]
  },
  {
   "attachments": {},
   "cell_type": "markdown",
   "metadata": {},
   "source": [
    "*Solution*:  \n",
    "Lowecase f is exactly 37 spots after A.  \n",
    "e is 1 lower than f.  \n",
    "Then, any identical strings, with appended ef for one and fA for the other will have the same hashcode.  \n",
    "e.g. aaef and aafA will have the same value, because \"aa\" and \"aa\" have the same hashcode. Therefore, efef == fAfA, or effA == fAef etc.\n",
    "So, for every string of an even size, we can use any combination of the pairs ef and fA.  \n",
    "So, with 6 letters (3 pairs) we can create $2^3=8$ strings:  \n",
    "efefef, efeffA, effAef, effAfA, fAefef, fAeffA, fAfAef, fAfAfA.  \n",
    "So, for strings of length $2^3$, we can create $2^4$ strings.  "
   ]
  },
  {
   "attachments": {},
   "cell_type": "markdown",
   "metadata": {},
   "source": [
    "**<span style=\"background: Red\">3.4.33 - Red</span>**  Bad hash function. Consider the following hashCode() implementation for String, which was used in early versions of Java:  \n",
    "```python\n",
    "def hash_code(str):\n",
    "    hash = 0\n",
    "    skip = max(1, len(str) // 8)\n",
    "    for i in range(0, len(str), skip):\n",
    "        hash = (hash * 31) + ord(str[i])\n",
    "    return hash\n",
    "```\n",
    "Explain why you think the designers chose this implementation and then why you think it was abandoned in favor of the one in the previous exercise.  "
   ]
  },
  {
   "attachments": {},
   "cell_type": "markdown",
   "metadata": {},
   "source": [
    "*Solution*:  \n",
    "The function hashes it, but only looks at every 8th position. Saves on computation, but isn't as granular.  \n",
    "So any strings of length $8 \\leq x \\leq 15$ that share the first letter will have the same hash.  \n",
    "Similar string also have a higher likelihood to share hashes. ($\\leftarrow$ ok this isn't entirely true, but it definitely doesn't look at every letter when hashing, which is problematic)  "
   ]
  }
 ],
 "metadata": {
  "kernelspec": {
   "display_name": "ALDAS",
   "language": "python",
   "name": "python3"
  },
  "language_info": {
   "codemirror_mode": {
    "name": "ipython",
    "version": 3
   },
   "file_extension": ".py",
   "mimetype": "text/x-python",
   "name": "python",
   "nbconvert_exporter": "python",
   "pygments_lexer": "ipython3",
   "version": "3.7.16"
  },
  "orig_nbformat": 4,
  "vscode": {
   "interpreter": {
    "hash": "d7cd0d8e7f0fcc05bc3f15f767c06c6639152606485d5ea553a073ce540f3d5d"
   }
  }
 },
 "nbformat": 4,
 "nbformat_minor": 2
}
